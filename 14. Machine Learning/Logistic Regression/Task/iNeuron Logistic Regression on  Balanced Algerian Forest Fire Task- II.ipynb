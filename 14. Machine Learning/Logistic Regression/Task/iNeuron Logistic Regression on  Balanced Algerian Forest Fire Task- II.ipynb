{
 "cells": [
  {
   "cell_type": "markdown",
   "id": "21748bb9",
   "metadata": {},
   "source": [
    "# iNeuron Logistic Regression on Algerian Forest Fire Task - II\n",
    "\n",
    "## Submitted by Mohammad Wasiq\n",
    "### E-mail : `gl0427@myamu.ac.in`"
   ]
  },
  {
   "cell_type": "markdown",
   "id": "df0d97fa",
   "metadata": {},
   "source": [
    "## About the Dataset\n",
    "[**Dataset Link :**](https://archive.ics.uci.edu/ml/datasets/Algerian+Forest+Fires+Dataset++)\n",
    "\n",
    "The dataset includes 244 instances that regroup a data of two regions of Algeria, namely the Bejaia region located in the northeast of Algeria and the Sidi Bel-abbes region located in the northwest of Algeria. 122 instances for each region.\n",
    "\n",
    "The period from June 2012 to September 2012.\n",
    "\n",
    "The dataset includes 11 attribues and 1 output attribue (class)\n",
    "\n",
    "The 244 instances have been classified into â€˜fireâ€™ (138 classes) and â€˜not fireâ€™ (106 classes) classes.\n",
    "\n",
    "**Attribute Information :**\n",
    "1. **Date :** (DD/MM/YYYY) Day, month ('june' to 'september'), year (2012) Weather data observations\n",
    "2. **Temp :** temperature noon (temperature max) in Celsius degrees: 22 to 42\n",
    "3. **RH :** Relative Humidity in %: 21 to 90\n",
    "4. **Ws :** Wind speed in km/h: 6 to 29\n",
    "5. **Rain :** total day in mm: 0 to 16.8 FWI Components\n",
    "6. Fine Fuel Moisture Code **(FFMC)** index from the FWI system: 28.6 to 92.5\n",
    "7. Duff Moisture Code **(DMC)** index from the FWI system: 1.1 to 65.9\n",
    "8. Drought Code **(DC)** index from the FWI system: 7 to 220.4\n",
    "9. Initial Spread Index **(ISI)** index from the FWI system: 0 to 18.5\n",
    "10. Buildup Index **(BUI)** index from the FWI system: 1.1 to 68\n",
    "11. Fire Weather Index **(FWI)** Index: 0 to 31.1\n",
    "12. **Classes :** two classes, namely `fire` and `not fire`"
   ]
  },
  {
   "cell_type": "markdown",
   "id": "c9c92887",
   "metadata": {},
   "source": [
    "![title](https://www.middleeastmonitor.com/wp-content/uploads/2020/11/fire-algeria-1200x800.jpg)"
   ]
  },
  {
   "cell_type": "code",
   "execution_count": 1,
   "id": "56fb7508",
   "metadata": {
    "ExecuteTime": {
     "end_time": "2022-10-30T08:00:33.936178Z",
     "start_time": "2022-10-30T08:00:30.447876Z"
    }
   },
   "outputs": [],
   "source": [
    "import pandas as pd\n",
    "import numpy as np\n",
    "import seaborn as sns\n",
    "import matplotlib.pyplot as plt\n",
    "import warnings\n",
    "warnings.filterwarnings('ignore')\n",
    "%matplotlib inline"
   ]
  },
  {
   "cell_type": "code",
   "execution_count": 2,
   "id": "b0b27af7",
   "metadata": {
    "ExecuteTime": {
     "end_time": "2022-10-30T08:00:48.923444Z",
     "start_time": "2022-10-30T08:00:48.875879Z"
    }
   },
   "outputs": [
    {
     "data": {
      "text/html": [
       "<div>\n",
       "<style scoped>\n",
       "    .dataframe tbody tr th:only-of-type {\n",
       "        vertical-align: middle;\n",
       "    }\n",
       "\n",
       "    .dataframe tbody tr th {\n",
       "        vertical-align: top;\n",
       "    }\n",
       "\n",
       "    .dataframe thead th {\n",
       "        text-align: right;\n",
       "    }\n",
       "</style>\n",
       "<table border=\"1\" class=\"dataframe\">\n",
       "  <thead>\n",
       "    <tr style=\"text-align: right;\">\n",
       "      <th></th>\n",
       "      <th>day</th>\n",
       "      <th>month</th>\n",
       "      <th>year</th>\n",
       "      <th>Temperature</th>\n",
       "      <th>RH</th>\n",
       "      <th>Ws</th>\n",
       "      <th>Rain</th>\n",
       "      <th>FFMC</th>\n",
       "      <th>DMC</th>\n",
       "      <th>DC</th>\n",
       "      <th>ISI</th>\n",
       "      <th>BUI</th>\n",
       "      <th>FWI</th>\n",
       "      <th>Classes</th>\n",
       "    </tr>\n",
       "  </thead>\n",
       "  <tbody>\n",
       "    <tr>\n",
       "      <th>0</th>\n",
       "      <td>1</td>\n",
       "      <td>6</td>\n",
       "      <td>2012</td>\n",
       "      <td>29</td>\n",
       "      <td>57</td>\n",
       "      <td>18</td>\n",
       "      <td>0.0</td>\n",
       "      <td>65.7</td>\n",
       "      <td>3.4</td>\n",
       "      <td>7.6</td>\n",
       "      <td>1.3</td>\n",
       "      <td>3.4</td>\n",
       "      <td>0.5</td>\n",
       "      <td>not fire</td>\n",
       "    </tr>\n",
       "    <tr>\n",
       "      <th>1</th>\n",
       "      <td>2</td>\n",
       "      <td>6</td>\n",
       "      <td>2012</td>\n",
       "      <td>29</td>\n",
       "      <td>61</td>\n",
       "      <td>13</td>\n",
       "      <td>1.3</td>\n",
       "      <td>64.4</td>\n",
       "      <td>4.1</td>\n",
       "      <td>7.6</td>\n",
       "      <td>1.0</td>\n",
       "      <td>3.9</td>\n",
       "      <td>0.4</td>\n",
       "      <td>not fire</td>\n",
       "    </tr>\n",
       "    <tr>\n",
       "      <th>2</th>\n",
       "      <td>3</td>\n",
       "      <td>6</td>\n",
       "      <td>2012</td>\n",
       "      <td>26</td>\n",
       "      <td>82</td>\n",
       "      <td>22</td>\n",
       "      <td>13.1</td>\n",
       "      <td>47.1</td>\n",
       "      <td>2.5</td>\n",
       "      <td>7.1</td>\n",
       "      <td>0.3</td>\n",
       "      <td>2.7</td>\n",
       "      <td>0.1</td>\n",
       "      <td>not fire</td>\n",
       "    </tr>\n",
       "    <tr>\n",
       "      <th>3</th>\n",
       "      <td>4</td>\n",
       "      <td>6</td>\n",
       "      <td>2012</td>\n",
       "      <td>25</td>\n",
       "      <td>89</td>\n",
       "      <td>13</td>\n",
       "      <td>2.5</td>\n",
       "      <td>28.6</td>\n",
       "      <td>1.3</td>\n",
       "      <td>6.9</td>\n",
       "      <td>0.0</td>\n",
       "      <td>1.7</td>\n",
       "      <td>0.0</td>\n",
       "      <td>not fire</td>\n",
       "    </tr>\n",
       "    <tr>\n",
       "      <th>4</th>\n",
       "      <td>5</td>\n",
       "      <td>6</td>\n",
       "      <td>2012</td>\n",
       "      <td>27</td>\n",
       "      <td>77</td>\n",
       "      <td>16</td>\n",
       "      <td>0.0</td>\n",
       "      <td>64.8</td>\n",
       "      <td>3.0</td>\n",
       "      <td>14.2</td>\n",
       "      <td>1.2</td>\n",
       "      <td>3.9</td>\n",
       "      <td>0.5</td>\n",
       "      <td>not fire</td>\n",
       "    </tr>\n",
       "    <tr>\n",
       "      <th>...</th>\n",
       "      <td>...</td>\n",
       "      <td>...</td>\n",
       "      <td>...</td>\n",
       "      <td>...</td>\n",
       "      <td>...</td>\n",
       "      <td>...</td>\n",
       "      <td>...</td>\n",
       "      <td>...</td>\n",
       "      <td>...</td>\n",
       "      <td>...</td>\n",
       "      <td>...</td>\n",
       "      <td>...</td>\n",
       "      <td>...</td>\n",
       "      <td>...</td>\n",
       "    </tr>\n",
       "    <tr>\n",
       "      <th>239</th>\n",
       "      <td>26</td>\n",
       "      <td>9</td>\n",
       "      <td>2012</td>\n",
       "      <td>30</td>\n",
       "      <td>65</td>\n",
       "      <td>14</td>\n",
       "      <td>0.0</td>\n",
       "      <td>85.4</td>\n",
       "      <td>16.0</td>\n",
       "      <td>44.5</td>\n",
       "      <td>4.5</td>\n",
       "      <td>16.9</td>\n",
       "      <td>6.5</td>\n",
       "      <td>fire</td>\n",
       "    </tr>\n",
       "    <tr>\n",
       "      <th>240</th>\n",
       "      <td>27</td>\n",
       "      <td>9</td>\n",
       "      <td>2012</td>\n",
       "      <td>28</td>\n",
       "      <td>87</td>\n",
       "      <td>15</td>\n",
       "      <td>4.4</td>\n",
       "      <td>41.1</td>\n",
       "      <td>6.5</td>\n",
       "      <td>8.0</td>\n",
       "      <td>0.1</td>\n",
       "      <td>6.2</td>\n",
       "      <td>0.0</td>\n",
       "      <td>not fire</td>\n",
       "    </tr>\n",
       "    <tr>\n",
       "      <th>241</th>\n",
       "      <td>28</td>\n",
       "      <td>9</td>\n",
       "      <td>2012</td>\n",
       "      <td>27</td>\n",
       "      <td>87</td>\n",
       "      <td>29</td>\n",
       "      <td>0.5</td>\n",
       "      <td>45.9</td>\n",
       "      <td>3.5</td>\n",
       "      <td>7.9</td>\n",
       "      <td>0.4</td>\n",
       "      <td>3.4</td>\n",
       "      <td>0.2</td>\n",
       "      <td>not fire</td>\n",
       "    </tr>\n",
       "    <tr>\n",
       "      <th>242</th>\n",
       "      <td>29</td>\n",
       "      <td>9</td>\n",
       "      <td>2012</td>\n",
       "      <td>24</td>\n",
       "      <td>54</td>\n",
       "      <td>18</td>\n",
       "      <td>0.1</td>\n",
       "      <td>79.7</td>\n",
       "      <td>4.3</td>\n",
       "      <td>15.2</td>\n",
       "      <td>1.7</td>\n",
       "      <td>5.1</td>\n",
       "      <td>0.7</td>\n",
       "      <td>not fire</td>\n",
       "    </tr>\n",
       "    <tr>\n",
       "      <th>243</th>\n",
       "      <td>30</td>\n",
       "      <td>9</td>\n",
       "      <td>2012</td>\n",
       "      <td>24</td>\n",
       "      <td>64</td>\n",
       "      <td>15</td>\n",
       "      <td>0.2</td>\n",
       "      <td>67.3</td>\n",
       "      <td>3.8</td>\n",
       "      <td>16.5</td>\n",
       "      <td>1.2</td>\n",
       "      <td>4.8</td>\n",
       "      <td>0.5</td>\n",
       "      <td>not fire</td>\n",
       "    </tr>\n",
       "  </tbody>\n",
       "</table>\n",
       "<p>244 rows × 14 columns</p>\n",
       "</div>"
      ],
      "text/plain": [
       "     day  month  year  Temperature   RH   Ws  Rain   FFMC   DMC    DC  ISI  \\\n",
       "0      1      6  2012           29   57   18    0.0  65.7   3.4   7.6  1.3   \n",
       "1      2      6  2012           29   61   13    1.3  64.4   4.1   7.6  1.0   \n",
       "2      3      6  2012           26   82   22   13.1  47.1   2.5   7.1  0.3   \n",
       "3      4      6  2012           25   89   13    2.5  28.6   1.3   6.9  0.0   \n",
       "4      5      6  2012           27   77   16    0.0  64.8   3.0  14.2  1.2   \n",
       "..   ...    ...   ...          ...  ...  ...    ...   ...   ...   ...  ...   \n",
       "239   26      9  2012           30   65   14    0.0  85.4  16.0  44.5  4.5   \n",
       "240   27      9  2012           28   87   15    4.4  41.1   6.5   8.0  0.1   \n",
       "241   28      9  2012           27   87   29    0.5  45.9   3.5   7.9  0.4   \n",
       "242   29      9  2012           24   54   18    0.1  79.7   4.3  15.2  1.7   \n",
       "243   30      9  2012           24   64   15    0.2  67.3   3.8  16.5  1.2   \n",
       "\n",
       "      BUI  FWI     Classes    \n",
       "0     3.4  0.5   not fire     \n",
       "1     3.9  0.4   not fire     \n",
       "2     2.7  0.1   not fire     \n",
       "3     1.7  0.0   not fire     \n",
       "4     3.9  0.5   not fire     \n",
       "..    ...  ...           ...  \n",
       "239  16.9  6.5       fire     \n",
       "240   6.2  0.0   not fire     \n",
       "241   3.4  0.2   not fire     \n",
       "242   5.1  0.7   not fire     \n",
       "243   4.8  0.5  not fire      \n",
       "\n",
       "[244 rows x 14 columns]"
      ]
     },
     "execution_count": 2,
     "metadata": {},
     "output_type": "execute_result"
    }
   ],
   "source": [
    "df= pd.read_csv(r\"E:\\datasets\\Algerian_forest_fires_update.csv\", header= 1, skiprows= [124,125,126])\n",
    "df"
   ]
  },
  {
   "cell_type": "code",
   "execution_count": 3,
   "id": "dd26ae34",
   "metadata": {
    "ExecuteTime": {
     "end_time": "2022-10-30T08:00:53.880279Z",
     "start_time": "2022-10-30T08:00:53.862741Z"
    }
   },
   "outputs": [
    {
     "data": {
      "text/plain": [
       "(244, 14)"
      ]
     },
     "execution_count": 3,
     "metadata": {},
     "output_type": "execute_result"
    }
   ],
   "source": [
    "df.shape"
   ]
  },
  {
   "cell_type": "code",
   "execution_count": 4,
   "id": "d58fd19a",
   "metadata": {
    "ExecuteTime": {
     "end_time": "2022-10-30T08:01:00.099295Z",
     "start_time": "2022-10-30T08:01:00.081275Z"
    }
   },
   "outputs": [],
   "source": [
    "df.drop([122,123],inplace=True)\n",
    "df.reset_index(inplace=True)\n",
    "df.drop('index',axis=1,inplace=True)"
   ]
  },
  {
   "cell_type": "code",
   "execution_count": 5,
   "id": "937c2511",
   "metadata": {
    "ExecuteTime": {
     "end_time": "2022-10-30T08:33:12.661656Z",
     "start_time": "2022-10-30T08:33:12.643463Z"
    }
   },
   "outputs": [
    {
     "name": "stdout",
     "output_type": "stream",
     "text": [
      "<class 'pandas.core.frame.DataFrame'>\n",
      "RangeIndex: 242 entries, 0 to 241\n",
      "Data columns (total 14 columns):\n",
      " #   Column       Non-Null Count  Dtype  \n",
      "---  ------       --------------  -----  \n",
      " 0   day          242 non-null    int64  \n",
      " 1   month        242 non-null    int64  \n",
      " 2   year         242 non-null    int64  \n",
      " 3   Temperature  242 non-null    int64  \n",
      " 4    RH          242 non-null    int64  \n",
      " 5    Ws          242 non-null    int64  \n",
      " 6   Rain         242 non-null    float64\n",
      " 7   FFMC         242 non-null    float64\n",
      " 8   DMC          242 non-null    float64\n",
      " 9   DC           242 non-null    float64\n",
      " 10  ISI          242 non-null    float64\n",
      " 11  BUI          242 non-null    float64\n",
      " 12  FWI          242 non-null    float64\n",
      " 13  Classes      242 non-null    object \n",
      "dtypes: float64(7), int64(6), object(1)\n",
      "memory usage: 26.6+ KB\n"
     ]
    }
   ],
   "source": [
    "df.info()"
   ]
  },
  {
   "cell_type": "code",
   "execution_count": 6,
   "id": "c95fe904",
   "metadata": {
    "ExecuteTime": {
     "end_time": "2022-10-30T08:35:26.902925Z",
     "start_time": "2022-10-30T08:35:26.884980Z"
    }
   },
   "outputs": [],
   "source": [
    "### Creating imbalance\n",
    "### 1. splitting data in 90:10 percent ratio using train test split\n",
    "X1 = pd.DataFrame(df, columns = ['day', 'month','year','Temperature','RH','Ws','Rain','FFMC','DMC','DC','ISI','BUI','FWI','region'])\n",
    "y1=pd.DataFrame(df,columns = ['Classes'])"
   ]
  },
  {
   "cell_type": "code",
   "execution_count": 7,
   "id": "3167c6a6",
   "metadata": {
    "ExecuteTime": {
     "end_time": "2022-10-30T08:36:46.926639Z",
     "start_time": "2022-10-30T08:36:46.825912Z"
    }
   },
   "outputs": [],
   "source": [
    "# Machine Learning Libraries\n",
    "from sklearn.model_selection import train_test_split\n",
    "from sklearn.preprocessing import StandardScaler\n",
    "from sklearn.linear_model import LogisticRegression\n",
    "from sklearn.metrics import accuracy_score,confusion_matrix,f1_score,classification_report\n",
    "from sklearn.metrics import accuracy_score, classification_report"
   ]
  },
  {
   "cell_type": "code",
   "execution_count": 8,
   "id": "99e81308",
   "metadata": {
    "ExecuteTime": {
     "end_time": "2022-10-30T08:37:01.667049Z",
     "start_time": "2022-10-30T08:37:01.645107Z"
    }
   },
   "outputs": [],
   "source": [
    "X_train_imb, X_test_imb, y_train_imb, y_test_imb= train_test_split(X1, \n",
    "                                                                   y1,\n",
    "                                                                   test_size= 0.10,\n",
    "                                                                   random_state= 17)"
   ]
  },
  {
   "cell_type": "code",
   "execution_count": 9,
   "id": "9cf3f915",
   "metadata": {
    "ExecuteTime": {
     "end_time": "2022-10-30T08:37:21.648524Z",
     "start_time": "2022-10-30T08:37:21.635559Z"
    }
   },
   "outputs": [
    {
     "data": {
      "text/plain": [
       "((217, 14), (217, 1))"
      ]
     },
     "execution_count": 9,
     "metadata": {},
     "output_type": "execute_result"
    }
   ],
   "source": [
    "# Both will have same shape\n",
    "X_train_imb.shape, y_train_imb.shape"
   ]
  },
  {
   "cell_type": "code",
   "execution_count": 10,
   "id": "e8499f4b",
   "metadata": {
    "ExecuteTime": {
     "end_time": "2022-10-30T08:37:22.670852Z",
     "start_time": "2022-10-30T08:37:22.660879Z"
    }
   },
   "outputs": [
    {
     "data": {
      "text/plain": [
       "((25, 14), (25, 1))"
      ]
     },
     "execution_count": 10,
     "metadata": {},
     "output_type": "execute_result"
    }
   ],
   "source": [
    "## Both will have same shape\n",
    "X_test_imb.shape, y_test_imb.shape"
   ]
  },
  {
   "cell_type": "markdown",
   "id": "94d928fc",
   "metadata": {},
   "source": [
    "**Replacing all values as 1 in y_train and all values as zero in y_test to create imbalance**"
   ]
  },
  {
   "cell_type": "code",
   "execution_count": 11,
   "id": "a3cbb12b",
   "metadata": {
    "ExecuteTime": {
     "end_time": "2022-10-30T08:37:36.155946Z",
     "start_time": "2022-10-30T08:37:36.134005Z"
    }
   },
   "outputs": [
    {
     "data": {
      "text/html": [
       "<div>\n",
       "<style scoped>\n",
       "    .dataframe tbody tr th:only-of-type {\n",
       "        vertical-align: middle;\n",
       "    }\n",
       "\n",
       "    .dataframe tbody tr th {\n",
       "        vertical-align: top;\n",
       "    }\n",
       "\n",
       "    .dataframe thead th {\n",
       "        text-align: right;\n",
       "    }\n",
       "</style>\n",
       "<table border=\"1\" class=\"dataframe\">\n",
       "  <thead>\n",
       "    <tr style=\"text-align: right;\">\n",
       "      <th></th>\n",
       "      <th>Classes</th>\n",
       "    </tr>\n",
       "  </thead>\n",
       "  <tbody>\n",
       "    <tr>\n",
       "      <th>156</th>\n",
       "      <td>NaN</td>\n",
       "    </tr>\n",
       "    <tr>\n",
       "      <th>183</th>\n",
       "      <td>NaN</td>\n",
       "    </tr>\n",
       "    <tr>\n",
       "      <th>11</th>\n",
       "      <td>NaN</td>\n",
       "    </tr>\n",
       "    <tr>\n",
       "      <th>75</th>\n",
       "      <td>NaN</td>\n",
       "    </tr>\n",
       "    <tr>\n",
       "      <th>130</th>\n",
       "      <td>NaN</td>\n",
       "    </tr>\n",
       "  </tbody>\n",
       "</table>\n",
       "</div>"
      ],
      "text/plain": [
       "     Classes\n",
       "156      NaN\n",
       "183      NaN\n",
       "11       NaN\n",
       "75       NaN\n",
       "130      NaN"
      ]
     },
     "execution_count": 11,
     "metadata": {},
     "output_type": "execute_result"
    }
   ],
   "source": [
    "y_train_imb= y_train_imb.replace(0,1)\n",
    "y_train_imb.head()"
   ]
  },
  {
   "cell_type": "code",
   "execution_count": 77,
   "id": "1b2530e6",
   "metadata": {},
   "outputs": [
    {
     "data": {
      "text/html": [
       "<div>\n",
       "<style scoped>\n",
       "    .dataframe tbody tr th:only-of-type {\n",
       "        vertical-align: middle;\n",
       "    }\n",
       "\n",
       "    .dataframe tbody tr th {\n",
       "        vertical-align: top;\n",
       "    }\n",
       "\n",
       "    .dataframe thead th {\n",
       "        text-align: right;\n",
       "    }\n",
       "</style>\n",
       "<table border=\"1\" class=\"dataframe\">\n",
       "  <thead>\n",
       "    <tr style=\"text-align: right;\">\n",
       "      <th></th>\n",
       "      <th>Classes</th>\n",
       "    </tr>\n",
       "  </thead>\n",
       "  <tbody>\n",
       "    <tr>\n",
       "      <th>48</th>\n",
       "      <td>0</td>\n",
       "    </tr>\n",
       "    <tr>\n",
       "      <th>216</th>\n",
       "      <td>0</td>\n",
       "    </tr>\n",
       "    <tr>\n",
       "      <th>101</th>\n",
       "      <td>0</td>\n",
       "    </tr>\n",
       "    <tr>\n",
       "      <th>38</th>\n",
       "      <td>0</td>\n",
       "    </tr>\n",
       "    <tr>\n",
       "      <th>86</th>\n",
       "      <td>0</td>\n",
       "    </tr>\n",
       "  </tbody>\n",
       "</table>\n",
       "</div>"
      ],
      "text/plain": [
       "     Classes\n",
       "48         0\n",
       "216        0\n",
       "101        0\n",
       "38         0\n",
       "86         0"
      ]
     },
     "execution_count": 77,
     "metadata": {},
     "output_type": "execute_result"
    }
   ],
   "source": [
    "y_test_imb=y_test_imb.replace(1,0)\n",
    "y_test_imb.head()\n"
   ]
  },
  {
   "cell_type": "code",
   "execution_count": 78,
   "id": "7f95fa53",
   "metadata": {},
   "outputs": [
    {
     "data": {
      "text/html": [
       "<div>\n",
       "<style scoped>\n",
       "    .dataframe tbody tr th:only-of-type {\n",
       "        vertical-align: middle;\n",
       "    }\n",
       "\n",
       "    .dataframe tbody tr th {\n",
       "        vertical-align: top;\n",
       "    }\n",
       "\n",
       "    .dataframe thead th {\n",
       "        text-align: right;\n",
       "    }\n",
       "</style>\n",
       "<table border=\"1\" class=\"dataframe\">\n",
       "  <thead>\n",
       "    <tr style=\"text-align: right;\">\n",
       "      <th></th>\n",
       "      <th>day</th>\n",
       "      <th>month</th>\n",
       "      <th>year</th>\n",
       "      <th>Temperature</th>\n",
       "      <th>RH</th>\n",
       "      <th>Ws</th>\n",
       "      <th>Rain</th>\n",
       "      <th>FFMC</th>\n",
       "      <th>DMC</th>\n",
       "      <th>DC</th>\n",
       "      <th>ISI</th>\n",
       "      <th>BUI</th>\n",
       "      <th>FWI</th>\n",
       "      <th>region</th>\n",
       "    </tr>\n",
       "  </thead>\n",
       "  <tbody>\n",
       "    <tr>\n",
       "      <th>156</th>\n",
       "      <td>5</td>\n",
       "      <td>7</td>\n",
       "      <td>2012</td>\n",
       "      <td>34</td>\n",
       "      <td>45</td>\n",
       "      <td>18</td>\n",
       "      <td>0.0</td>\n",
       "      <td>90.5</td>\n",
       "      <td>18.7</td>\n",
       "      <td>46.4</td>\n",
       "      <td>11.3</td>\n",
       "      <td>18.7</td>\n",
       "      <td>15.0</td>\n",
       "      <td>1</td>\n",
       "    </tr>\n",
       "    <tr>\n",
       "      <th>183</th>\n",
       "      <td>1</td>\n",
       "      <td>8</td>\n",
       "      <td>2012</td>\n",
       "      <td>38</td>\n",
       "      <td>52</td>\n",
       "      <td>14</td>\n",
       "      <td>0.0</td>\n",
       "      <td>78.3</td>\n",
       "      <td>4.4</td>\n",
       "      <td>10.5</td>\n",
       "      <td>2.0</td>\n",
       "      <td>4.4</td>\n",
       "      <td>0.8</td>\n",
       "      <td>1</td>\n",
       "    </tr>\n",
       "    <tr>\n",
       "      <th>11</th>\n",
       "      <td>12</td>\n",
       "      <td>6</td>\n",
       "      <td>2012</td>\n",
       "      <td>26</td>\n",
       "      <td>81</td>\n",
       "      <td>19</td>\n",
       "      <td>0.0</td>\n",
       "      <td>84.0</td>\n",
       "      <td>13.8</td>\n",
       "      <td>61.4</td>\n",
       "      <td>4.8</td>\n",
       "      <td>17.7</td>\n",
       "      <td>7.1</td>\n",
       "      <td>0</td>\n",
       "    </tr>\n",
       "    <tr>\n",
       "      <th>75</th>\n",
       "      <td>15</td>\n",
       "      <td>8</td>\n",
       "      <td>2012</td>\n",
       "      <td>36</td>\n",
       "      <td>55</td>\n",
       "      <td>13</td>\n",
       "      <td>0.3</td>\n",
       "      <td>82.4</td>\n",
       "      <td>15.6</td>\n",
       "      <td>92.5</td>\n",
       "      <td>3.7</td>\n",
       "      <td>22.0</td>\n",
       "      <td>6.3</td>\n",
       "      <td>0</td>\n",
       "    </tr>\n",
       "    <tr>\n",
       "      <th>130</th>\n",
       "      <td>9</td>\n",
       "      <td>6</td>\n",
       "      <td>2012</td>\n",
       "      <td>27</td>\n",
       "      <td>59</td>\n",
       "      <td>18</td>\n",
       "      <td>0.1</td>\n",
       "      <td>78.1</td>\n",
       "      <td>8.5</td>\n",
       "      <td>14.7</td>\n",
       "      <td>2.4</td>\n",
       "      <td>8.3</td>\n",
       "      <td>1.9</td>\n",
       "      <td>1</td>\n",
       "    </tr>\n",
       "  </tbody>\n",
       "</table>\n",
       "</div>"
      ],
      "text/plain": [
       "     day  month  year  Temperature  RH  Ws  Rain  FFMC   DMC    DC   ISI  \\\n",
       "156    5      7  2012           34  45  18   0.0  90.5  18.7  46.4  11.3   \n",
       "183    1      8  2012           38  52  14   0.0  78.3   4.4  10.5   2.0   \n",
       "11    12      6  2012           26  81  19   0.0  84.0  13.8  61.4   4.8   \n",
       "75    15      8  2012           36  55  13   0.3  82.4  15.6  92.5   3.7   \n",
       "130    9      6  2012           27  59  18   0.1  78.1   8.5  14.7   2.4   \n",
       "\n",
       "      BUI   FWI  region  \n",
       "156  18.7  15.0       1  \n",
       "183   4.4   0.8       1  \n",
       "11   17.7   7.1       0  \n",
       "75   22.0   6.3       0  \n",
       "130   8.3   1.9       1  "
      ]
     },
     "execution_count": 78,
     "metadata": {},
     "output_type": "execute_result"
    }
   ],
   "source": [
    "X_train_imb.head()"
   ]
  },
  {
   "cell_type": "code",
   "execution_count": 79,
   "id": "60d6f802",
   "metadata": {},
   "outputs": [
    {
     "data": {
      "text/html": [
       "<div>\n",
       "<style scoped>\n",
       "    .dataframe tbody tr th:only-of-type {\n",
       "        vertical-align: middle;\n",
       "    }\n",
       "\n",
       "    .dataframe tbody tr th {\n",
       "        vertical-align: top;\n",
       "    }\n",
       "\n",
       "    .dataframe thead th {\n",
       "        text-align: right;\n",
       "    }\n",
       "</style>\n",
       "<table border=\"1\" class=\"dataframe\">\n",
       "  <thead>\n",
       "    <tr style=\"text-align: right;\">\n",
       "      <th></th>\n",
       "      <th>day</th>\n",
       "      <th>month</th>\n",
       "      <th>year</th>\n",
       "      <th>Temperature</th>\n",
       "      <th>RH</th>\n",
       "      <th>Ws</th>\n",
       "      <th>Rain</th>\n",
       "      <th>FFMC</th>\n",
       "      <th>DMC</th>\n",
       "      <th>DC</th>\n",
       "      <th>ISI</th>\n",
       "      <th>BUI</th>\n",
       "      <th>FWI</th>\n",
       "      <th>region</th>\n",
       "      <th>Classes</th>\n",
       "    </tr>\n",
       "  </thead>\n",
       "  <tbody>\n",
       "    <tr>\n",
       "      <th>156</th>\n",
       "      <td>5</td>\n",
       "      <td>7</td>\n",
       "      <td>2012</td>\n",
       "      <td>34</td>\n",
       "      <td>45</td>\n",
       "      <td>18</td>\n",
       "      <td>0.0</td>\n",
       "      <td>90.5</td>\n",
       "      <td>18.7</td>\n",
       "      <td>46.4</td>\n",
       "      <td>11.3</td>\n",
       "      <td>18.7</td>\n",
       "      <td>15.0</td>\n",
       "      <td>1</td>\n",
       "      <td>1</td>\n",
       "    </tr>\n",
       "    <tr>\n",
       "      <th>183</th>\n",
       "      <td>1</td>\n",
       "      <td>8</td>\n",
       "      <td>2012</td>\n",
       "      <td>38</td>\n",
       "      <td>52</td>\n",
       "      <td>14</td>\n",
       "      <td>0.0</td>\n",
       "      <td>78.3</td>\n",
       "      <td>4.4</td>\n",
       "      <td>10.5</td>\n",
       "      <td>2.0</td>\n",
       "      <td>4.4</td>\n",
       "      <td>0.8</td>\n",
       "      <td>1</td>\n",
       "      <td>1</td>\n",
       "    </tr>\n",
       "    <tr>\n",
       "      <th>11</th>\n",
       "      <td>12</td>\n",
       "      <td>6</td>\n",
       "      <td>2012</td>\n",
       "      <td>26</td>\n",
       "      <td>81</td>\n",
       "      <td>19</td>\n",
       "      <td>0.0</td>\n",
       "      <td>84.0</td>\n",
       "      <td>13.8</td>\n",
       "      <td>61.4</td>\n",
       "      <td>4.8</td>\n",
       "      <td>17.7</td>\n",
       "      <td>7.1</td>\n",
       "      <td>0</td>\n",
       "      <td>1</td>\n",
       "    </tr>\n",
       "    <tr>\n",
       "      <th>75</th>\n",
       "      <td>15</td>\n",
       "      <td>8</td>\n",
       "      <td>2012</td>\n",
       "      <td>36</td>\n",
       "      <td>55</td>\n",
       "      <td>13</td>\n",
       "      <td>0.3</td>\n",
       "      <td>82.4</td>\n",
       "      <td>15.6</td>\n",
       "      <td>92.5</td>\n",
       "      <td>3.7</td>\n",
       "      <td>22.0</td>\n",
       "      <td>6.3</td>\n",
       "      <td>0</td>\n",
       "      <td>1</td>\n",
       "    </tr>\n",
       "    <tr>\n",
       "      <th>130</th>\n",
       "      <td>9</td>\n",
       "      <td>6</td>\n",
       "      <td>2012</td>\n",
       "      <td>27</td>\n",
       "      <td>59</td>\n",
       "      <td>18</td>\n",
       "      <td>0.1</td>\n",
       "      <td>78.1</td>\n",
       "      <td>8.5</td>\n",
       "      <td>14.7</td>\n",
       "      <td>2.4</td>\n",
       "      <td>8.3</td>\n",
       "      <td>1.9</td>\n",
       "      <td>1</td>\n",
       "      <td>1</td>\n",
       "    </tr>\n",
       "  </tbody>\n",
       "</table>\n",
       "</div>"
      ],
      "text/plain": [
       "     day  month  year  Temperature  RH  Ws  Rain  FFMC   DMC    DC   ISI  \\\n",
       "156    5      7  2012           34  45  18   0.0  90.5  18.7  46.4  11.3   \n",
       "183    1      8  2012           38  52  14   0.0  78.3   4.4  10.5   2.0   \n",
       "11    12      6  2012           26  81  19   0.0  84.0  13.8  61.4   4.8   \n",
       "75    15      8  2012           36  55  13   0.3  82.4  15.6  92.5   3.7   \n",
       "130    9      6  2012           27  59  18   0.1  78.1   8.5  14.7   2.4   \n",
       "\n",
       "      BUI   FWI  region  Classes  \n",
       "156  18.7  15.0       1        1  \n",
       "183   4.4   0.8       1        1  \n",
       "11   17.7   7.1       0        1  \n",
       "75   22.0   6.3       0        1  \n",
       "130   8.3   1.9       1        1  "
      ]
     },
     "execution_count": 79,
     "metadata": {},
     "output_type": "execute_result"
    }
   ],
   "source": [
    "### Combining X_train_imb and y_train_imb\n",
    "train_imb=X_train_imb.join(pd.DataFrame(y_train_imb))\n",
    "train_imb.head()\n"
   ]
  },
  {
   "cell_type": "code",
   "execution_count": 80,
   "id": "674efc66",
   "metadata": {},
   "outputs": [
    {
     "data": {
      "text/html": [
       "<div>\n",
       "<style scoped>\n",
       "    .dataframe tbody tr th:only-of-type {\n",
       "        vertical-align: middle;\n",
       "    }\n",
       "\n",
       "    .dataframe tbody tr th {\n",
       "        vertical-align: top;\n",
       "    }\n",
       "\n",
       "    .dataframe thead th {\n",
       "        text-align: right;\n",
       "    }\n",
       "</style>\n",
       "<table border=\"1\" class=\"dataframe\">\n",
       "  <thead>\n",
       "    <tr style=\"text-align: right;\">\n",
       "      <th></th>\n",
       "      <th>day</th>\n",
       "      <th>month</th>\n",
       "      <th>year</th>\n",
       "      <th>Temperature</th>\n",
       "      <th>RH</th>\n",
       "      <th>Ws</th>\n",
       "      <th>Rain</th>\n",
       "      <th>FFMC</th>\n",
       "      <th>DMC</th>\n",
       "      <th>DC</th>\n",
       "      <th>ISI</th>\n",
       "      <th>BUI</th>\n",
       "      <th>FWI</th>\n",
       "      <th>region</th>\n",
       "      <th>Classes</th>\n",
       "    </tr>\n",
       "  </thead>\n",
       "  <tbody>\n",
       "    <tr>\n",
       "      <th>48</th>\n",
       "      <td>19</td>\n",
       "      <td>7</td>\n",
       "      <td>2012</td>\n",
       "      <td>35</td>\n",
       "      <td>59</td>\n",
       "      <td>17</td>\n",
       "      <td>0.0</td>\n",
       "      <td>88.1</td>\n",
       "      <td>12.0</td>\n",
       "      <td>52.8</td>\n",
       "      <td>7.7</td>\n",
       "      <td>18.2</td>\n",
       "      <td>10.9</td>\n",
       "      <td>0</td>\n",
       "      <td>0</td>\n",
       "    </tr>\n",
       "    <tr>\n",
       "      <th>216</th>\n",
       "      <td>3</td>\n",
       "      <td>9</td>\n",
       "      <td>2012</td>\n",
       "      <td>28</td>\n",
       "      <td>75</td>\n",
       "      <td>16</td>\n",
       "      <td>0.0</td>\n",
       "      <td>82.2</td>\n",
       "      <td>4.4</td>\n",
       "      <td>24.3</td>\n",
       "      <td>3.3</td>\n",
       "      <td>6.0</td>\n",
       "      <td>2.5</td>\n",
       "      <td>1</td>\n",
       "      <td>0</td>\n",
       "    </tr>\n",
       "    <tr>\n",
       "      <th>101</th>\n",
       "      <td>10</td>\n",
       "      <td>9</td>\n",
       "      <td>2012</td>\n",
       "      <td>33</td>\n",
       "      <td>73</td>\n",
       "      <td>12</td>\n",
       "      <td>1.8</td>\n",
       "      <td>59.9</td>\n",
       "      <td>2.2</td>\n",
       "      <td>8.9</td>\n",
       "      <td>0.7</td>\n",
       "      <td>2.7</td>\n",
       "      <td>0.3</td>\n",
       "      <td>0</td>\n",
       "      <td>0</td>\n",
       "    </tr>\n",
       "    <tr>\n",
       "      <th>38</th>\n",
       "      <td>9</td>\n",
       "      <td>7</td>\n",
       "      <td>2012</td>\n",
       "      <td>32</td>\n",
       "      <td>68</td>\n",
       "      <td>14</td>\n",
       "      <td>1.4</td>\n",
       "      <td>66.6</td>\n",
       "      <td>7.7</td>\n",
       "      <td>9.2</td>\n",
       "      <td>1.1</td>\n",
       "      <td>7.4</td>\n",
       "      <td>0.6</td>\n",
       "      <td>0</td>\n",
       "      <td>0</td>\n",
       "    </tr>\n",
       "    <tr>\n",
       "      <th>86</th>\n",
       "      <td>26</td>\n",
       "      <td>8</td>\n",
       "      <td>2012</td>\n",
       "      <td>31</td>\n",
       "      <td>78</td>\n",
       "      <td>18</td>\n",
       "      <td>0.0</td>\n",
       "      <td>85.8</td>\n",
       "      <td>45.6</td>\n",
       "      <td>190.6</td>\n",
       "      <td>4.7</td>\n",
       "      <td>57.1</td>\n",
       "      <td>13.7</td>\n",
       "      <td>0</td>\n",
       "      <td>0</td>\n",
       "    </tr>\n",
       "  </tbody>\n",
       "</table>\n",
       "</div>"
      ],
      "text/plain": [
       "     day  month  year  Temperature  RH  Ws  Rain  FFMC   DMC     DC  ISI  \\\n",
       "48    19      7  2012           35  59  17   0.0  88.1  12.0   52.8  7.7   \n",
       "216    3      9  2012           28  75  16   0.0  82.2   4.4   24.3  3.3   \n",
       "101   10      9  2012           33  73  12   1.8  59.9   2.2    8.9  0.7   \n",
       "38     9      7  2012           32  68  14   1.4  66.6   7.7    9.2  1.1   \n",
       "86    26      8  2012           31  78  18   0.0  85.8  45.6  190.6  4.7   \n",
       "\n",
       "      BUI   FWI  region  Classes  \n",
       "48   18.2  10.9       0        0  \n",
       "216   6.0   2.5       1        0  \n",
       "101   2.7   0.3       0        0  \n",
       "38    7.4   0.6       0        0  \n",
       "86   57.1  13.7       0        0  "
      ]
     },
     "execution_count": 80,
     "metadata": {},
     "output_type": "execute_result"
    }
   ],
   "source": [
    "### Combining X_test_imb and y_test_imb\n",
    "test_imb=X_test_imb.join(pd.DataFrame(y_test_imb))\n",
    "test_imb.head()"
   ]
  },
  {
   "cell_type": "code",
   "execution_count": 81,
   "id": "262c1b63",
   "metadata": {},
   "outputs": [
    {
     "data": {
      "text/plain": [
       "((219, 15), (25, 15))"
      ]
     },
     "execution_count": 81,
     "metadata": {},
     "output_type": "execute_result"
    }
   ],
   "source": [
    "### Checking the shape of imbalanced Data\n",
    "train_imb.shape, test_imb.shape"
   ]
  },
  {
   "cell_type": "code",
   "execution_count": 82,
   "id": "75f289b7",
   "metadata": {},
   "outputs": [
    {
     "data": {
      "text/html": [
       "<div>\n",
       "<style scoped>\n",
       "    .dataframe tbody tr th:only-of-type {\n",
       "        vertical-align: middle;\n",
       "    }\n",
       "\n",
       "    .dataframe tbody tr th {\n",
       "        vertical-align: top;\n",
       "    }\n",
       "\n",
       "    .dataframe thead th {\n",
       "        text-align: right;\n",
       "    }\n",
       "</style>\n",
       "<table border=\"1\" class=\"dataframe\">\n",
       "  <thead>\n",
       "    <tr style=\"text-align: right;\">\n",
       "      <th></th>\n",
       "      <th>day</th>\n",
       "      <th>month</th>\n",
       "      <th>year</th>\n",
       "      <th>Temperature</th>\n",
       "      <th>RH</th>\n",
       "      <th>Ws</th>\n",
       "      <th>Rain</th>\n",
       "      <th>FFMC</th>\n",
       "      <th>DMC</th>\n",
       "      <th>DC</th>\n",
       "      <th>ISI</th>\n",
       "      <th>BUI</th>\n",
       "      <th>FWI</th>\n",
       "      <th>region</th>\n",
       "      <th>Classes</th>\n",
       "    </tr>\n",
       "  </thead>\n",
       "  <tbody>\n",
       "    <tr>\n",
       "      <th>0</th>\n",
       "      <td>5</td>\n",
       "      <td>7</td>\n",
       "      <td>2012</td>\n",
       "      <td>34</td>\n",
       "      <td>45</td>\n",
       "      <td>18</td>\n",
       "      <td>0.0</td>\n",
       "      <td>90.5</td>\n",
       "      <td>18.7</td>\n",
       "      <td>46.4</td>\n",
       "      <td>11.3</td>\n",
       "      <td>18.7</td>\n",
       "      <td>15.0</td>\n",
       "      <td>1</td>\n",
       "      <td>1</td>\n",
       "    </tr>\n",
       "    <tr>\n",
       "      <th>1</th>\n",
       "      <td>1</td>\n",
       "      <td>8</td>\n",
       "      <td>2012</td>\n",
       "      <td>38</td>\n",
       "      <td>52</td>\n",
       "      <td>14</td>\n",
       "      <td>0.0</td>\n",
       "      <td>78.3</td>\n",
       "      <td>4.4</td>\n",
       "      <td>10.5</td>\n",
       "      <td>2.0</td>\n",
       "      <td>4.4</td>\n",
       "      <td>0.8</td>\n",
       "      <td>1</td>\n",
       "      <td>1</td>\n",
       "    </tr>\n",
       "    <tr>\n",
       "      <th>2</th>\n",
       "      <td>12</td>\n",
       "      <td>6</td>\n",
       "      <td>2012</td>\n",
       "      <td>26</td>\n",
       "      <td>81</td>\n",
       "      <td>19</td>\n",
       "      <td>0.0</td>\n",
       "      <td>84.0</td>\n",
       "      <td>13.8</td>\n",
       "      <td>61.4</td>\n",
       "      <td>4.8</td>\n",
       "      <td>17.7</td>\n",
       "      <td>7.1</td>\n",
       "      <td>0</td>\n",
       "      <td>1</td>\n",
       "    </tr>\n",
       "    <tr>\n",
       "      <th>3</th>\n",
       "      <td>15</td>\n",
       "      <td>8</td>\n",
       "      <td>2012</td>\n",
       "      <td>36</td>\n",
       "      <td>55</td>\n",
       "      <td>13</td>\n",
       "      <td>0.3</td>\n",
       "      <td>82.4</td>\n",
       "      <td>15.6</td>\n",
       "      <td>92.5</td>\n",
       "      <td>3.7</td>\n",
       "      <td>22.0</td>\n",
       "      <td>6.3</td>\n",
       "      <td>0</td>\n",
       "      <td>1</td>\n",
       "    </tr>\n",
       "    <tr>\n",
       "      <th>4</th>\n",
       "      <td>9</td>\n",
       "      <td>6</td>\n",
       "      <td>2012</td>\n",
       "      <td>27</td>\n",
       "      <td>59</td>\n",
       "      <td>18</td>\n",
       "      <td>0.1</td>\n",
       "      <td>78.1</td>\n",
       "      <td>8.5</td>\n",
       "      <td>14.7</td>\n",
       "      <td>2.4</td>\n",
       "      <td>8.3</td>\n",
       "      <td>1.9</td>\n",
       "      <td>1</td>\n",
       "      <td>1</td>\n",
       "    </tr>\n",
       "  </tbody>\n",
       "</table>\n",
       "</div>"
      ],
      "text/plain": [
       "   day  month  year  Temperature  RH  Ws  Rain  FFMC   DMC    DC   ISI   BUI  \\\n",
       "0    5      7  2012           34  45  18   0.0  90.5  18.7  46.4  11.3  18.7   \n",
       "1    1      8  2012           38  52  14   0.0  78.3   4.4  10.5   2.0   4.4   \n",
       "2   12      6  2012           26  81  19   0.0  84.0  13.8  61.4   4.8  17.7   \n",
       "3   15      8  2012           36  55  13   0.3  82.4  15.6  92.5   3.7  22.0   \n",
       "4    9      6  2012           27  59  18   0.1  78.1   8.5  14.7   2.4   8.3   \n",
       "\n",
       "    FWI  region  Classes  \n",
       "0  15.0       1        1  \n",
       "1   0.8       1        1  \n",
       "2   7.1       0        1  \n",
       "3   6.3       0        1  \n",
       "4   1.9       1        1  "
      ]
     },
     "execution_count": 82,
     "metadata": {},
     "output_type": "execute_result"
    }
   ],
   "source": [
    "### Combining train_imb dataset and test_imb dataset into data_imb dataset \n",
    "df_imb=pd.concat([train_imb, test_imb], ignore_index=True, sort=False)\n",
    "df_imb.head()"
   ]
  },
  {
   "cell_type": "code",
   "execution_count": 83,
   "id": "f370cae6",
   "metadata": {},
   "outputs": [
    {
     "data": {
      "text/plain": [
       "(244, 15)"
      ]
     },
     "execution_count": 83,
     "metadata": {},
     "output_type": "execute_result"
    }
   ],
   "source": [
    "df_imb.shape"
   ]
  },
  {
   "cell_type": "markdown",
   "id": "f1e577a3",
   "metadata": {},
   "source": [
    "### Checking the imbalancing  "
   ]
  },
  {
   "cell_type": "code",
   "execution_count": 84,
   "id": "0c9a6c52",
   "metadata": {},
   "outputs": [
    {
     "data": {
      "text/plain": [
       "1    219\n",
       "0     25\n",
       "Name: Classes, dtype: int64"
      ]
     },
     "execution_count": 84,
     "metadata": {},
     "output_type": "execute_result"
    }
   ],
   "source": [
    "df_imb.Classes.value_counts()"
   ]
  },
  {
   "cell_type": "code",
   "execution_count": 85,
   "id": "4f5615e4",
   "metadata": {},
   "outputs": [
    {
     "data": {
      "text/plain": [
       "<AxesSubplot:xlabel='Classes', ylabel='count'>"
      ]
     },
     "execution_count": 85,
     "metadata": {},
     "output_type": "execute_result"
    },
    {
     "data": {
      "image/png": "[encoded data removed]",
      "text/plain": [
       "<Figure size 504x360 with 1 Axes>"
      ]
     },
     "metadata": {},
     "output_type": "display_data"
    }
   ],
   "source": [
    "## 0 is 'Bejaia' and 1 is 'Sidi Bel-abbes region'\n",
    "plt.figure(figsize=(7,5))\n",
    "sns.countplot(data=df_imb,x='Classes',hue='region')"
   ]
  },
  {
   "cell_type": "markdown",
   "id": "77e45d6a",
   "metadata": {},
   "source": [
    "## Logistic Regression on imbalanced Dataset "
   ]
  },
  {
   "cell_type": "code",
   "execution_count": 86,
   "id": "cc93439a",
   "metadata": {},
   "outputs": [
    {
     "data": {
      "text/html": [
       "<div>\n",
       "<style scoped>\n",
       "    .dataframe tbody tr th:only-of-type {\n",
       "        vertical-align: middle;\n",
       "    }\n",
       "\n",
       "    .dataframe tbody tr th {\n",
       "        vertical-align: top;\n",
       "    }\n",
       "\n",
       "    .dataframe thead th {\n",
       "        text-align: right;\n",
       "    }\n",
       "</style>\n",
       "<table border=\"1\" class=\"dataframe\">\n",
       "  <thead>\n",
       "    <tr style=\"text-align: right;\">\n",
       "      <th></th>\n",
       "      <th>day</th>\n",
       "      <th>month</th>\n",
       "      <th>year</th>\n",
       "      <th>Temperature</th>\n",
       "      <th>RH</th>\n",
       "      <th>Ws</th>\n",
       "      <th>Rain</th>\n",
       "      <th>FFMC</th>\n",
       "      <th>DMC</th>\n",
       "      <th>DC</th>\n",
       "      <th>ISI</th>\n",
       "      <th>BUI</th>\n",
       "      <th>FWI</th>\n",
       "      <th>region</th>\n",
       "      <th>Classes</th>\n",
       "    </tr>\n",
       "  </thead>\n",
       "  <tbody>\n",
       "    <tr>\n",
       "      <th>0</th>\n",
       "      <td>5</td>\n",
       "      <td>7</td>\n",
       "      <td>2012</td>\n",
       "      <td>34</td>\n",
       "      <td>45</td>\n",
       "      <td>18</td>\n",
       "      <td>0.0</td>\n",
       "      <td>90.5</td>\n",
       "      <td>18.7</td>\n",
       "      <td>46.4</td>\n",
       "      <td>11.3</td>\n",
       "      <td>18.7</td>\n",
       "      <td>15.0</td>\n",
       "      <td>1</td>\n",
       "      <td>1</td>\n",
       "    </tr>\n",
       "    <tr>\n",
       "      <th>1</th>\n",
       "      <td>1</td>\n",
       "      <td>8</td>\n",
       "      <td>2012</td>\n",
       "      <td>38</td>\n",
       "      <td>52</td>\n",
       "      <td>14</td>\n",
       "      <td>0.0</td>\n",
       "      <td>78.3</td>\n",
       "      <td>4.4</td>\n",
       "      <td>10.5</td>\n",
       "      <td>2.0</td>\n",
       "      <td>4.4</td>\n",
       "      <td>0.8</td>\n",
       "      <td>1</td>\n",
       "      <td>1</td>\n",
       "    </tr>\n",
       "    <tr>\n",
       "      <th>2</th>\n",
       "      <td>12</td>\n",
       "      <td>6</td>\n",
       "      <td>2012</td>\n",
       "      <td>26</td>\n",
       "      <td>81</td>\n",
       "      <td>19</td>\n",
       "      <td>0.0</td>\n",
       "      <td>84.0</td>\n",
       "      <td>13.8</td>\n",
       "      <td>61.4</td>\n",
       "      <td>4.8</td>\n",
       "      <td>17.7</td>\n",
       "      <td>7.1</td>\n",
       "      <td>0</td>\n",
       "      <td>1</td>\n",
       "    </tr>\n",
       "    <tr>\n",
       "      <th>3</th>\n",
       "      <td>15</td>\n",
       "      <td>8</td>\n",
       "      <td>2012</td>\n",
       "      <td>36</td>\n",
       "      <td>55</td>\n",
       "      <td>13</td>\n",
       "      <td>0.3</td>\n",
       "      <td>82.4</td>\n",
       "      <td>15.6</td>\n",
       "      <td>92.5</td>\n",
       "      <td>3.7</td>\n",
       "      <td>22.0</td>\n",
       "      <td>6.3</td>\n",
       "      <td>0</td>\n",
       "      <td>1</td>\n",
       "    </tr>\n",
       "    <tr>\n",
       "      <th>4</th>\n",
       "      <td>9</td>\n",
       "      <td>6</td>\n",
       "      <td>2012</td>\n",
       "      <td>27</td>\n",
       "      <td>59</td>\n",
       "      <td>18</td>\n",
       "      <td>0.1</td>\n",
       "      <td>78.1</td>\n",
       "      <td>8.5</td>\n",
       "      <td>14.7</td>\n",
       "      <td>2.4</td>\n",
       "      <td>8.3</td>\n",
       "      <td>1.9</td>\n",
       "      <td>1</td>\n",
       "      <td>1</td>\n",
       "    </tr>\n",
       "  </tbody>\n",
       "</table>\n",
       "</div>"
      ],
      "text/plain": [
       "   day  month  year  Temperature  RH  Ws  Rain  FFMC   DMC    DC   ISI   BUI  \\\n",
       "0    5      7  2012           34  45  18   0.0  90.5  18.7  46.4  11.3  18.7   \n",
       "1    1      8  2012           38  52  14   0.0  78.3   4.4  10.5   2.0   4.4   \n",
       "2   12      6  2012           26  81  19   0.0  84.0  13.8  61.4   4.8  17.7   \n",
       "3   15      8  2012           36  55  13   0.3  82.4  15.6  92.5   3.7  22.0   \n",
       "4    9      6  2012           27  59  18   0.1  78.1   8.5  14.7   2.4   8.3   \n",
       "\n",
       "    FWI  region  Classes  \n",
       "0  15.0       1        1  \n",
       "1   0.8       1        1  \n",
       "2   7.1       0        1  \n",
       "3   6.3       0        1  \n",
       "4   1.9       1        1  "
      ]
     },
     "execution_count": 86,
     "metadata": {},
     "output_type": "execute_result"
    }
   ],
   "source": [
    "df_imb.head()"
   ]
  },
  {
   "cell_type": "markdown",
   "id": "ef99e606",
   "metadata": {},
   "source": [
    "## Separating Independent and Dependent feature "
   ]
  },
  {
   "cell_type": "code",
   "execution_count": 87,
   "id": "7c659527",
   "metadata": {},
   "outputs": [],
   "source": [
    "X1 = df_imb.drop(columns = ['Classes'])\n",
    "y1 = df_imb['Classes']"
   ]
  },
  {
   "cell_type": "code",
   "execution_count": 88,
   "id": "1638f9e7",
   "metadata": {},
   "outputs": [
    {
     "data": {
      "text/html": [
       "<div>\n",
       "<style scoped>\n",
       "    .dataframe tbody tr th:only-of-type {\n",
       "        vertical-align: middle;\n",
       "    }\n",
       "\n",
       "    .dataframe tbody tr th {\n",
       "        vertical-align: top;\n",
       "    }\n",
       "\n",
       "    .dataframe thead th {\n",
       "        text-align: right;\n",
       "    }\n",
       "</style>\n",
       "<table border=\"1\" class=\"dataframe\">\n",
       "  <thead>\n",
       "    <tr style=\"text-align: right;\">\n",
       "      <th></th>\n",
       "      <th>day</th>\n",
       "      <th>month</th>\n",
       "      <th>year</th>\n",
       "      <th>Temperature</th>\n",
       "      <th>RH</th>\n",
       "      <th>Ws</th>\n",
       "      <th>Rain</th>\n",
       "      <th>FFMC</th>\n",
       "      <th>DMC</th>\n",
       "      <th>DC</th>\n",
       "      <th>ISI</th>\n",
       "      <th>BUI</th>\n",
       "      <th>FWI</th>\n",
       "      <th>region</th>\n",
       "    </tr>\n",
       "  </thead>\n",
       "  <tbody>\n",
       "    <tr>\n",
       "      <th>0</th>\n",
       "      <td>5</td>\n",
       "      <td>7</td>\n",
       "      <td>2012</td>\n",
       "      <td>34</td>\n",
       "      <td>45</td>\n",
       "      <td>18</td>\n",
       "      <td>0.0</td>\n",
       "      <td>90.5</td>\n",
       "      <td>18.7</td>\n",
       "      <td>46.4</td>\n",
       "      <td>11.3</td>\n",
       "      <td>18.7</td>\n",
       "      <td>15.0</td>\n",
       "      <td>1</td>\n",
       "    </tr>\n",
       "    <tr>\n",
       "      <th>1</th>\n",
       "      <td>1</td>\n",
       "      <td>8</td>\n",
       "      <td>2012</td>\n",
       "      <td>38</td>\n",
       "      <td>52</td>\n",
       "      <td>14</td>\n",
       "      <td>0.0</td>\n",
       "      <td>78.3</td>\n",
       "      <td>4.4</td>\n",
       "      <td>10.5</td>\n",
       "      <td>2.0</td>\n",
       "      <td>4.4</td>\n",
       "      <td>0.8</td>\n",
       "      <td>1</td>\n",
       "    </tr>\n",
       "    <tr>\n",
       "      <th>2</th>\n",
       "      <td>12</td>\n",
       "      <td>6</td>\n",
       "      <td>2012</td>\n",
       "      <td>26</td>\n",
       "      <td>81</td>\n",
       "      <td>19</td>\n",
       "      <td>0.0</td>\n",
       "      <td>84.0</td>\n",
       "      <td>13.8</td>\n",
       "      <td>61.4</td>\n",
       "      <td>4.8</td>\n",
       "      <td>17.7</td>\n",
       "      <td>7.1</td>\n",
       "      <td>0</td>\n",
       "    </tr>\n",
       "    <tr>\n",
       "      <th>3</th>\n",
       "      <td>15</td>\n",
       "      <td>8</td>\n",
       "      <td>2012</td>\n",
       "      <td>36</td>\n",
       "      <td>55</td>\n",
       "      <td>13</td>\n",
       "      <td>0.3</td>\n",
       "      <td>82.4</td>\n",
       "      <td>15.6</td>\n",
       "      <td>92.5</td>\n",
       "      <td>3.7</td>\n",
       "      <td>22.0</td>\n",
       "      <td>6.3</td>\n",
       "      <td>0</td>\n",
       "    </tr>\n",
       "    <tr>\n",
       "      <th>4</th>\n",
       "      <td>9</td>\n",
       "      <td>6</td>\n",
       "      <td>2012</td>\n",
       "      <td>27</td>\n",
       "      <td>59</td>\n",
       "      <td>18</td>\n",
       "      <td>0.1</td>\n",
       "      <td>78.1</td>\n",
       "      <td>8.5</td>\n",
       "      <td>14.7</td>\n",
       "      <td>2.4</td>\n",
       "      <td>8.3</td>\n",
       "      <td>1.9</td>\n",
       "      <td>1</td>\n",
       "    </tr>\n",
       "    <tr>\n",
       "      <th>...</th>\n",
       "      <td>...</td>\n",
       "      <td>...</td>\n",
       "      <td>...</td>\n",
       "      <td>...</td>\n",
       "      <td>...</td>\n",
       "      <td>...</td>\n",
       "      <td>...</td>\n",
       "      <td>...</td>\n",
       "      <td>...</td>\n",
       "      <td>...</td>\n",
       "      <td>...</td>\n",
       "      <td>...</td>\n",
       "      <td>...</td>\n",
       "      <td>...</td>\n",
       "    </tr>\n",
       "    <tr>\n",
       "      <th>239</th>\n",
       "      <td>26</td>\n",
       "      <td>8</td>\n",
       "      <td>2012</td>\n",
       "      <td>33</td>\n",
       "      <td>37</td>\n",
       "      <td>16</td>\n",
       "      <td>0.0</td>\n",
       "      <td>92.2</td>\n",
       "      <td>61.3</td>\n",
       "      <td>167.2</td>\n",
       "      <td>13.1</td>\n",
       "      <td>64.0</td>\n",
       "      <td>30.3</td>\n",
       "      <td>1</td>\n",
       "    </tr>\n",
       "    <tr>\n",
       "      <th>240</th>\n",
       "      <td>1</td>\n",
       "      <td>6</td>\n",
       "      <td>2012</td>\n",
       "      <td>29</td>\n",
       "      <td>57</td>\n",
       "      <td>18</td>\n",
       "      <td>0.0</td>\n",
       "      <td>65.7</td>\n",
       "      <td>3.4</td>\n",
       "      <td>7.6</td>\n",
       "      <td>1.3</td>\n",
       "      <td>3.4</td>\n",
       "      <td>0.5</td>\n",
       "      <td>0</td>\n",
       "    </tr>\n",
       "    <tr>\n",
       "      <th>241</th>\n",
       "      <td>2</td>\n",
       "      <td>9</td>\n",
       "      <td>2012</td>\n",
       "      <td>28</td>\n",
       "      <td>67</td>\n",
       "      <td>19</td>\n",
       "      <td>0.0</td>\n",
       "      <td>75.4</td>\n",
       "      <td>2.9</td>\n",
       "      <td>16.3</td>\n",
       "      <td>2.0</td>\n",
       "      <td>4.0</td>\n",
       "      <td>0.8</td>\n",
       "      <td>1</td>\n",
       "    </tr>\n",
       "    <tr>\n",
       "      <th>242</th>\n",
       "      <td>11</td>\n",
       "      <td>8</td>\n",
       "      <td>2012</td>\n",
       "      <td>35</td>\n",
       "      <td>63</td>\n",
       "      <td>13</td>\n",
       "      <td>0.0</td>\n",
       "      <td>88.9</td>\n",
       "      <td>21.7</td>\n",
       "      <td>77.0</td>\n",
       "      <td>7.1</td>\n",
       "      <td>25.5</td>\n",
       "      <td>12.1</td>\n",
       "      <td>0</td>\n",
       "    </tr>\n",
       "    <tr>\n",
       "      <th>243</th>\n",
       "      <td>9</td>\n",
       "      <td>8</td>\n",
       "      <td>2012</td>\n",
       "      <td>39</td>\n",
       "      <td>43</td>\n",
       "      <td>12</td>\n",
       "      <td>0.0</td>\n",
       "      <td>91.7</td>\n",
       "      <td>16.5</td>\n",
       "      <td>30.9</td>\n",
       "      <td>9.6</td>\n",
       "      <td>16.4</td>\n",
       "      <td>12.7</td>\n",
       "      <td>1</td>\n",
       "    </tr>\n",
       "  </tbody>\n",
       "</table>\n",
       "<p>244 rows × 14 columns</p>\n",
       "</div>"
      ],
      "text/plain": [
       "     day  month  year  Temperature  RH  Ws  Rain  FFMC   DMC     DC   ISI  \\\n",
       "0      5      7  2012           34  45  18   0.0  90.5  18.7   46.4  11.3   \n",
       "1      1      8  2012           38  52  14   0.0  78.3   4.4   10.5   2.0   \n",
       "2     12      6  2012           26  81  19   0.0  84.0  13.8   61.4   4.8   \n",
       "3     15      8  2012           36  55  13   0.3  82.4  15.6   92.5   3.7   \n",
       "4      9      6  2012           27  59  18   0.1  78.1   8.5   14.7   2.4   \n",
       "..   ...    ...   ...          ...  ..  ..   ...   ...   ...    ...   ...   \n",
       "239   26      8  2012           33  37  16   0.0  92.2  61.3  167.2  13.1   \n",
       "240    1      6  2012           29  57  18   0.0  65.7   3.4    7.6   1.3   \n",
       "241    2      9  2012           28  67  19   0.0  75.4   2.9   16.3   2.0   \n",
       "242   11      8  2012           35  63  13   0.0  88.9  21.7   77.0   7.1   \n",
       "243    9      8  2012           39  43  12   0.0  91.7  16.5   30.9   9.6   \n",
       "\n",
       "      BUI   FWI  region  \n",
       "0    18.7  15.0       1  \n",
       "1     4.4   0.8       1  \n",
       "2    17.7   7.1       0  \n",
       "3    22.0   6.3       0  \n",
       "4     8.3   1.9       1  \n",
       "..    ...   ...     ...  \n",
       "239  64.0  30.3       1  \n",
       "240   3.4   0.5       0  \n",
       "241   4.0   0.8       1  \n",
       "242  25.5  12.1       0  \n",
       "243  16.4  12.7       1  \n",
       "\n",
       "[244 rows x 14 columns]"
      ]
     },
     "execution_count": 88,
     "metadata": {},
     "output_type": "execute_result"
    }
   ],
   "source": [
    "X1"
   ]
  },
  {
   "cell_type": "code",
   "execution_count": 89,
   "id": "029979d1",
   "metadata": {},
   "outputs": [
    {
     "data": {
      "text/plain": [
       "0      1\n",
       "1      1\n",
       "2      1\n",
       "3      1\n",
       "4      1\n",
       "      ..\n",
       "239    0\n",
       "240    0\n",
       "241    0\n",
       "242    0\n",
       "243    0\n",
       "Name: Classes, Length: 244, dtype: int32"
      ]
     },
     "execution_count": 89,
     "metadata": {},
     "output_type": "execute_result"
    }
   ],
   "source": [
    "y1"
   ]
  },
  {
   "cell_type": "markdown",
   "id": "d9931ed2",
   "metadata": {},
   "source": [
    "### Handling Imbalanced Dataset "
   ]
  },
  {
   "cell_type": "markdown",
   "id": "c3d824ea",
   "metadata": {},
   "source": [
    "### Upsampling "
   ]
  },
  {
   "cell_type": "code",
   "execution_count": 90,
   "id": "9bcfee83",
   "metadata": {},
   "outputs": [
    {
     "name": "stdout",
     "output_type": "stream",
     "text": [
      "Defaulting to user installation because normal site-packages is not writeable\n",
      "Requirement already satisfied: imbalanced-learn in c:\\users\\sonali thakur.desktop-t4fpvtd.000\\appdata\\roaming\\python\\python39\\site-packages (0.9.1)\n",
      "Requirement already satisfied: threadpoolctl>=2.0.0 in c:\\programdata\\anaconda3\\lib\\site-packages (from imbalanced-learn) (2.2.0)\n",
      "Requirement already satisfied: scipy>=1.3.2 in c:\\programdata\\anaconda3\\lib\\site-packages (from imbalanced-learn) (1.7.3)\n",
      "Requirement already satisfied: scikit-learn>=1.1.0 in c:\\users\\sonali thakur.desktop-t4fpvtd.000\\appdata\\roaming\\python\\python39\\site-packages (from imbalanced-learn) (1.1.2)\n",
      "Requirement already satisfied: numpy>=1.17.3 in c:\\programdata\\anaconda3\\lib\\site-packages (from imbalanced-learn) (1.21.5)\n",
      "Requirement already satisfied: joblib>=1.0.0 in c:\\programdata\\anaconda3\\lib\\site-packages (from imbalanced-learn) (1.1.0)\n"
     ]
    }
   ],
   "source": [
    "!pip install imbalanced-learn\n"
   ]
  },
  {
   "cell_type": "code",
   "execution_count": 91,
   "id": "69b33ad9",
   "metadata": {},
   "outputs": [],
   "source": [
    "\n",
    "from imblearn.combine import SMOTETomek"
   ]
  },
  {
   "cell_type": "code",
   "execution_count": 92,
   "id": "8513aa82",
   "metadata": {},
   "outputs": [
    {
     "data": {
      "text/html": [
       "<style>#sk-container-id-2 {color: black;background-color: white;}#sk-container-id-2 pre{padding: 0;}#sk-container-id-2 div.sk-toggleable {background-color: white;}#sk-container-id-2 label.sk-toggleable__label {cursor: pointer;display: block;width: 100%;margin-bottom: 0;padding: 0.3em;box-sizing: border-box;text-align: center;}#sk-container-id-2 label.sk-toggleable__label-arrow:before {content: \"▸\";float: left;margin-right: 0.25em;color: #696969;}#sk-container-id-2 label.sk-toggleable__label-arrow:hover:before {color: black;}#sk-container-id-2 div.sk-estimator:hover label.sk-toggleable__label-arrow:before {color: black;}#sk-container-id-2 div.sk-toggleable__content {max-height: 0;max-width: 0;overflow: hidden;text-align: left;background-color: #f0f8ff;}#sk-container-id-2 div.sk-toggleable__content pre {margin: 0.2em;color: black;border-radius: 0.25em;background-color: #f0f8ff;}#sk-container-id-2 input.sk-toggleable__control:checked~div.sk-toggleable__content {max-height: 200px;max-width: 100%;overflow: auto;}#sk-container-id-2 input.sk-toggleable__control:checked~label.sk-toggleable__label-arrow:before {content: \"▾\";}#sk-container-id-2 div.sk-estimator input.sk-toggleable__control:checked~label.sk-toggleable__label {background-color: #d4ebff;}#sk-container-id-2 div.sk-label input.sk-toggleable__control:checked~label.sk-toggleable__label {background-color: #d4ebff;}#sk-container-id-2 input.sk-hidden--visually {border: 0;clip: rect(1px 1px 1px 1px);clip: rect(1px, 1px, 1px, 1px);height: 1px;margin: -1px;overflow: hidden;padding: 0;position: absolute;width: 1px;}#sk-container-id-2 div.sk-estimator {font-family: monospace;background-color: #f0f8ff;border: 1px dotted black;border-radius: 0.25em;box-sizing: border-box;margin-bottom: 0.5em;}#sk-container-id-2 div.sk-estimator:hover {background-color: #d4ebff;}#sk-container-id-2 div.sk-parallel-item::after {content: \"\";width: 100%;border-bottom: 1px solid gray;flex-grow: 1;}#sk-container-id-2 div.sk-label:hover label.sk-toggleable__label {background-color: #d4ebff;}#sk-container-id-2 div.sk-serial::before {content: \"\";position: absolute;border-left: 1px solid gray;box-sizing: border-box;top: 0;bottom: 0;left: 50%;z-index: 0;}#sk-container-id-2 div.sk-serial {display: flex;flex-direction: column;align-items: center;background-color: white;padding-right: 0.2em;padding-left: 0.2em;position: relative;}#sk-container-id-2 div.sk-item {position: relative;z-index: 1;}#sk-container-id-2 div.sk-parallel {display: flex;align-items: stretch;justify-content: center;background-color: white;position: relative;}#sk-container-id-2 div.sk-item::before, #sk-container-id-2 div.sk-parallel-item::before {content: \"\";position: absolute;border-left: 1px solid gray;box-sizing: border-box;top: 0;bottom: 0;left: 50%;z-index: -1;}#sk-container-id-2 div.sk-parallel-item {display: flex;flex-direction: column;z-index: 1;position: relative;background-color: white;}#sk-container-id-2 div.sk-parallel-item:first-child::after {align-self: flex-end;width: 50%;}#sk-container-id-2 div.sk-parallel-item:last-child::after {align-self: flex-start;width: 50%;}#sk-container-id-2 div.sk-parallel-item:only-child::after {width: 0;}#sk-container-id-2 div.sk-dashed-wrapped {border: 1px dashed gray;margin: 0 0.4em 0.5em 0.4em;box-sizing: border-box;padding-bottom: 0.4em;background-color: white;}#sk-container-id-2 div.sk-label label {font-family: monospace;font-weight: bold;display: inline-block;line-height: 1.2em;}#sk-container-id-2 div.sk-label-container {text-align: center;}#sk-container-id-2 div.sk-container {/* jupyter's `normalize.less` sets `[hidden] { display: none; }` but bootstrap.min.css set `[hidden] { display: none !important; }` so we also need the `!important` here to be able to override the default hidden behavior on the sphinx rendered scikit-learn.org. See: https://github.com/scikit-learn/scikit-learn/issues/21755 */display: inline-block !important;position: relative;}#sk-container-id-2 div.sk-text-repr-fallback {display: none;}</style><div id=\"sk-container-id-2\" class=\"sk-top-container\"><div class=\"sk-text-repr-fallback\"><pre>SMOTETomek()</pre><b>In a Jupyter environment, please rerun this cell to show the HTML representation or trust the notebook. <br />On GitHub, the HTML representation is unable to render, please try loading this page with nbviewer.org.</b></div><div class=\"sk-container\" hidden><div class=\"sk-item\"><div class=\"sk-estimator sk-toggleable\"><input class=\"sk-toggleable__control sk-hidden--visually\" id=\"sk-estimator-id-4\" type=\"checkbox\" checked><label for=\"sk-estimator-id-4\" class=\"sk-toggleable__label sk-toggleable__label-arrow\">SMOTETomek</label><div class=\"sk-toggleable__content\"><pre>SMOTETomek()</pre></div></div></div></div></div>"
      ],
      "text/plain": [
       "SMOTETomek()"
      ]
     },
     "execution_count": 92,
     "metadata": {},
     "output_type": "execute_result"
    }
   ],
   "source": [
    "smk=SMOTETomek()\n",
    "smk"
   ]
  },
  {
   "cell_type": "code",
   "execution_count": 93,
   "id": "b51ab07c",
   "metadata": {},
   "outputs": [],
   "source": [
    "X_bal,y_bal=smk.fit_resample(X1,y1)"
   ]
  },
  {
   "cell_type": "code",
   "execution_count": 94,
   "id": "11d7d9b1",
   "metadata": {},
   "outputs": [
    {
     "data": {
      "text/html": [
       "<div>\n",
       "<style scoped>\n",
       "    .dataframe tbody tr th:only-of-type {\n",
       "        vertical-align: middle;\n",
       "    }\n",
       "\n",
       "    .dataframe tbody tr th {\n",
       "        vertical-align: top;\n",
       "    }\n",
       "\n",
       "    .dataframe thead th {\n",
       "        text-align: right;\n",
       "    }\n",
       "</style>\n",
       "<table border=\"1\" class=\"dataframe\">\n",
       "  <thead>\n",
       "    <tr style=\"text-align: right;\">\n",
       "      <th></th>\n",
       "      <th>day</th>\n",
       "      <th>month</th>\n",
       "      <th>year</th>\n",
       "      <th>Temperature</th>\n",
       "      <th>RH</th>\n",
       "      <th>Ws</th>\n",
       "      <th>Rain</th>\n",
       "      <th>FFMC</th>\n",
       "      <th>DMC</th>\n",
       "      <th>DC</th>\n",
       "      <th>ISI</th>\n",
       "      <th>BUI</th>\n",
       "      <th>FWI</th>\n",
       "      <th>region</th>\n",
       "    </tr>\n",
       "  </thead>\n",
       "  <tbody>\n",
       "    <tr>\n",
       "      <th>0</th>\n",
       "      <td>5</td>\n",
       "      <td>7</td>\n",
       "      <td>2012</td>\n",
       "      <td>34</td>\n",
       "      <td>45</td>\n",
       "      <td>18</td>\n",
       "      <td>0.0</td>\n",
       "      <td>90.5</td>\n",
       "      <td>18.7</td>\n",
       "      <td>46.4</td>\n",
       "      <td>11.3</td>\n",
       "      <td>18.7</td>\n",
       "      <td>15.0</td>\n",
       "      <td>1</td>\n",
       "    </tr>\n",
       "    <tr>\n",
       "      <th>1</th>\n",
       "      <td>1</td>\n",
       "      <td>8</td>\n",
       "      <td>2012</td>\n",
       "      <td>38</td>\n",
       "      <td>52</td>\n",
       "      <td>14</td>\n",
       "      <td>0.0</td>\n",
       "      <td>78.3</td>\n",
       "      <td>4.4</td>\n",
       "      <td>10.5</td>\n",
       "      <td>2.0</td>\n",
       "      <td>4.4</td>\n",
       "      <td>0.8</td>\n",
       "      <td>1</td>\n",
       "    </tr>\n",
       "    <tr>\n",
       "      <th>2</th>\n",
       "      <td>12</td>\n",
       "      <td>6</td>\n",
       "      <td>2012</td>\n",
       "      <td>26</td>\n",
       "      <td>81</td>\n",
       "      <td>19</td>\n",
       "      <td>0.0</td>\n",
       "      <td>84.0</td>\n",
       "      <td>13.8</td>\n",
       "      <td>61.4</td>\n",
       "      <td>4.8</td>\n",
       "      <td>17.7</td>\n",
       "      <td>7.1</td>\n",
       "      <td>0</td>\n",
       "    </tr>\n",
       "    <tr>\n",
       "      <th>3</th>\n",
       "      <td>15</td>\n",
       "      <td>8</td>\n",
       "      <td>2012</td>\n",
       "      <td>36</td>\n",
       "      <td>55</td>\n",
       "      <td>13</td>\n",
       "      <td>0.3</td>\n",
       "      <td>82.4</td>\n",
       "      <td>15.6</td>\n",
       "      <td>92.5</td>\n",
       "      <td>3.7</td>\n",
       "      <td>22.0</td>\n",
       "      <td>6.3</td>\n",
       "      <td>0</td>\n",
       "    </tr>\n",
       "    <tr>\n",
       "      <th>4</th>\n",
       "      <td>9</td>\n",
       "      <td>6</td>\n",
       "      <td>2012</td>\n",
       "      <td>27</td>\n",
       "      <td>59</td>\n",
       "      <td>18</td>\n",
       "      <td>0.1</td>\n",
       "      <td>78.1</td>\n",
       "      <td>8.5</td>\n",
       "      <td>14.7</td>\n",
       "      <td>2.4</td>\n",
       "      <td>8.3</td>\n",
       "      <td>1.9</td>\n",
       "      <td>1</td>\n",
       "    </tr>\n",
       "  </tbody>\n",
       "</table>\n",
       "</div>"
      ],
      "text/plain": [
       "   day  month  year  Temperature  RH  Ws  Rain  FFMC   DMC    DC   ISI   BUI  \\\n",
       "0    5      7  2012           34  45  18   0.0  90.5  18.7  46.4  11.3  18.7   \n",
       "1    1      8  2012           38  52  14   0.0  78.3   4.4  10.5   2.0   4.4   \n",
       "2   12      6  2012           26  81  19   0.0  84.0  13.8  61.4   4.8  17.7   \n",
       "3   15      8  2012           36  55  13   0.3  82.4  15.6  92.5   3.7  22.0   \n",
       "4    9      6  2012           27  59  18   0.1  78.1   8.5  14.7   2.4   8.3   \n",
       "\n",
       "    FWI  region  \n",
       "0  15.0       1  \n",
       "1   0.8       1  \n",
       "2   7.1       0  \n",
       "3   6.3       0  \n",
       "4   1.9       1  "
      ]
     },
     "execution_count": 94,
     "metadata": {},
     "output_type": "execute_result"
    }
   ],
   "source": [
    "X_bal.head()"
   ]
  },
  {
   "cell_type": "code",
   "execution_count": 95,
   "id": "e87da9b2",
   "metadata": {},
   "outputs": [
    {
     "data": {
      "text/plain": [
       "0    1\n",
       "1    1\n",
       "2    1\n",
       "3    1\n",
       "4    1\n",
       "Name: Classes, dtype: int32"
      ]
     },
     "execution_count": 95,
     "metadata": {},
     "output_type": "execute_result"
    }
   ],
   "source": [
    "y_bal.head()"
   ]
  },
  {
   "cell_type": "code",
   "execution_count": 96,
   "id": "9f19df52",
   "metadata": {},
   "outputs": [
    {
     "data": {
      "text/plain": [
       "((416, 14), (416,))"
      ]
     },
     "execution_count": 96,
     "metadata": {},
     "output_type": "execute_result"
    }
   ],
   "source": [
    "X_bal.shape,y_bal.shape"
   ]
  },
  {
   "cell_type": "code",
   "execution_count": 97,
   "id": "378dade2",
   "metadata": {},
   "outputs": [
    {
     "data": {
      "text/html": [
       "<div>\n",
       "<style scoped>\n",
       "    .dataframe tbody tr th:only-of-type {\n",
       "        vertical-align: middle;\n",
       "    }\n",
       "\n",
       "    .dataframe tbody tr th {\n",
       "        vertical-align: top;\n",
       "    }\n",
       "\n",
       "    .dataframe thead th {\n",
       "        text-align: right;\n",
       "    }\n",
       "</style>\n",
       "<table border=\"1\" class=\"dataframe\">\n",
       "  <thead>\n",
       "    <tr style=\"text-align: right;\">\n",
       "      <th></th>\n",
       "      <th>day</th>\n",
       "      <th>month</th>\n",
       "      <th>year</th>\n",
       "      <th>Temperature</th>\n",
       "      <th>RH</th>\n",
       "      <th>Ws</th>\n",
       "      <th>Rain</th>\n",
       "      <th>FFMC</th>\n",
       "      <th>DMC</th>\n",
       "      <th>DC</th>\n",
       "      <th>ISI</th>\n",
       "      <th>BUI</th>\n",
       "      <th>FWI</th>\n",
       "      <th>region</th>\n",
       "      <th>Classes</th>\n",
       "    </tr>\n",
       "  </thead>\n",
       "  <tbody>\n",
       "    <tr>\n",
       "      <th>0</th>\n",
       "      <td>5</td>\n",
       "      <td>7</td>\n",
       "      <td>2012</td>\n",
       "      <td>34</td>\n",
       "      <td>45</td>\n",
       "      <td>18</td>\n",
       "      <td>0.0</td>\n",
       "      <td>90.5</td>\n",
       "      <td>18.7</td>\n",
       "      <td>46.4</td>\n",
       "      <td>11.3</td>\n",
       "      <td>18.7</td>\n",
       "      <td>15.0</td>\n",
       "      <td>1</td>\n",
       "      <td>1</td>\n",
       "    </tr>\n",
       "    <tr>\n",
       "      <th>1</th>\n",
       "      <td>1</td>\n",
       "      <td>8</td>\n",
       "      <td>2012</td>\n",
       "      <td>38</td>\n",
       "      <td>52</td>\n",
       "      <td>14</td>\n",
       "      <td>0.0</td>\n",
       "      <td>78.3</td>\n",
       "      <td>4.4</td>\n",
       "      <td>10.5</td>\n",
       "      <td>2.0</td>\n",
       "      <td>4.4</td>\n",
       "      <td>0.8</td>\n",
       "      <td>1</td>\n",
       "      <td>1</td>\n",
       "    </tr>\n",
       "    <tr>\n",
       "      <th>2</th>\n",
       "      <td>12</td>\n",
       "      <td>6</td>\n",
       "      <td>2012</td>\n",
       "      <td>26</td>\n",
       "      <td>81</td>\n",
       "      <td>19</td>\n",
       "      <td>0.0</td>\n",
       "      <td>84.0</td>\n",
       "      <td>13.8</td>\n",
       "      <td>61.4</td>\n",
       "      <td>4.8</td>\n",
       "      <td>17.7</td>\n",
       "      <td>7.1</td>\n",
       "      <td>0</td>\n",
       "      <td>1</td>\n",
       "    </tr>\n",
       "    <tr>\n",
       "      <th>3</th>\n",
       "      <td>15</td>\n",
       "      <td>8</td>\n",
       "      <td>2012</td>\n",
       "      <td>36</td>\n",
       "      <td>55</td>\n",
       "      <td>13</td>\n",
       "      <td>0.3</td>\n",
       "      <td>82.4</td>\n",
       "      <td>15.6</td>\n",
       "      <td>92.5</td>\n",
       "      <td>3.7</td>\n",
       "      <td>22.0</td>\n",
       "      <td>6.3</td>\n",
       "      <td>0</td>\n",
       "      <td>1</td>\n",
       "    </tr>\n",
       "    <tr>\n",
       "      <th>4</th>\n",
       "      <td>9</td>\n",
       "      <td>6</td>\n",
       "      <td>2012</td>\n",
       "      <td>27</td>\n",
       "      <td>59</td>\n",
       "      <td>18</td>\n",
       "      <td>0.1</td>\n",
       "      <td>78.1</td>\n",
       "      <td>8.5</td>\n",
       "      <td>14.7</td>\n",
       "      <td>2.4</td>\n",
       "      <td>8.3</td>\n",
       "      <td>1.9</td>\n",
       "      <td>1</td>\n",
       "      <td>1</td>\n",
       "    </tr>\n",
       "  </tbody>\n",
       "</table>\n",
       "</div>"
      ],
      "text/plain": [
       "   day  month  year  Temperature  RH  Ws  Rain  FFMC   DMC    DC   ISI   BUI  \\\n",
       "0    5      7  2012           34  45  18   0.0  90.5  18.7  46.4  11.3  18.7   \n",
       "1    1      8  2012           38  52  14   0.0  78.3   4.4  10.5   2.0   4.4   \n",
       "2   12      6  2012           26  81  19   0.0  84.0  13.8  61.4   4.8  17.7   \n",
       "3   15      8  2012           36  55  13   0.3  82.4  15.6  92.5   3.7  22.0   \n",
       "4    9      6  2012           27  59  18   0.1  78.1   8.5  14.7   2.4   8.3   \n",
       "\n",
       "    FWI  region  Classes  \n",
       "0  15.0       1        1  \n",
       "1   0.8       1        1  \n",
       "2   7.1       0        1  \n",
       "3   6.3       0        1  \n",
       "4   1.9       1        1  "
      ]
     },
     "execution_count": 97,
     "metadata": {},
     "output_type": "execute_result"
    }
   ],
   "source": [
    "## Creating Balanced data from imbalanced data\n",
    "data_bal=X_bal.join(pd.DataFrame(y_bal))\n",
    "data_bal.head()"
   ]
  },
  {
   "cell_type": "markdown",
   "id": "b2ecafbc",
   "metadata": {},
   "source": [
    "## EDA on balanced Dataset "
   ]
  },
  {
   "cell_type": "code",
   "execution_count": 98,
   "id": "30abba56",
   "metadata": {},
   "outputs": [
    {
     "name": "stdout",
     "output_type": "stream",
     "text": [
      "<class 'pandas.core.frame.DataFrame'>\n",
      "RangeIndex: 416 entries, 0 to 415\n",
      "Data columns (total 15 columns):\n",
      " #   Column       Non-Null Count  Dtype  \n",
      "---  ------       --------------  -----  \n",
      " 0   day          416 non-null    int32  \n",
      " 1   month        416 non-null    int32  \n",
      " 2   year         416 non-null    int32  \n",
      " 3   Temperature  416 non-null    int32  \n",
      " 4   RH           416 non-null    int32  \n",
      " 5   Ws           416 non-null    int32  \n",
      " 6   Rain         416 non-null    float64\n",
      " 7   FFMC         416 non-null    float64\n",
      " 8   DMC          416 non-null    float64\n",
      " 9   DC           416 non-null    float64\n",
      " 10  ISI          416 non-null    float64\n",
      " 11  BUI          416 non-null    float64\n",
      " 12  FWI          416 non-null    float64\n",
      " 13  region       416 non-null    int32  \n",
      " 14  Classes      416 non-null    int32  \n",
      "dtypes: float64(7), int32(8)\n",
      "memory usage: 35.9 KB\n"
     ]
    }
   ],
   "source": [
    "data_bal.info()"
   ]
  },
  {
   "cell_type": "markdown",
   "id": "be1dd5ef",
   "metadata": {},
   "source": [
    "## Statistical analysis on Balanced Dataset"
   ]
  },
  {
   "cell_type": "code",
   "execution_count": 99,
   "id": "aaa5d2be",
   "metadata": {},
   "outputs": [
    {
     "data": {
      "text/html": [
       "<div>\n",
       "<style scoped>\n",
       "    .dataframe tbody tr th:only-of-type {\n",
       "        vertical-align: middle;\n",
       "    }\n",
       "\n",
       "    .dataframe tbody tr th {\n",
       "        vertical-align: top;\n",
       "    }\n",
       "\n",
       "    .dataframe thead th {\n",
       "        text-align: right;\n",
       "    }\n",
       "</style>\n",
       "<table border=\"1\" class=\"dataframe\">\n",
       "  <thead>\n",
       "    <tr style=\"text-align: right;\">\n",
       "      <th></th>\n",
       "      <th>day</th>\n",
       "      <th>month</th>\n",
       "      <th>year</th>\n",
       "      <th>Temperature</th>\n",
       "      <th>RH</th>\n",
       "      <th>Ws</th>\n",
       "      <th>Rain</th>\n",
       "      <th>FFMC</th>\n",
       "      <th>DMC</th>\n",
       "      <th>DC</th>\n",
       "      <th>ISI</th>\n",
       "      <th>BUI</th>\n",
       "      <th>FWI</th>\n",
       "      <th>region</th>\n",
       "      <th>Classes</th>\n",
       "    </tr>\n",
       "  </thead>\n",
       "  <tbody>\n",
       "    <tr>\n",
       "      <th>count</th>\n",
       "      <td>416.000000</td>\n",
       "      <td>416.000000</td>\n",
       "      <td>416.0</td>\n",
       "      <td>416.000000</td>\n",
       "      <td>416.000000</td>\n",
       "      <td>416.000000</td>\n",
       "      <td>416.000000</td>\n",
       "      <td>416.000000</td>\n",
       "      <td>416.000000</td>\n",
       "      <td>416.000000</td>\n",
       "      <td>416.000000</td>\n",
       "      <td>416.000000</td>\n",
       "      <td>416.000000</td>\n",
       "      <td>416.000000</td>\n",
       "      <td>416.000000</td>\n",
       "    </tr>\n",
       "    <tr>\n",
       "      <th>mean</th>\n",
       "      <td>14.591346</td>\n",
       "      <td>7.459135</td>\n",
       "      <td>2012.0</td>\n",
       "      <td>32.197115</td>\n",
       "      <td>62.447115</td>\n",
       "      <td>15.461538</td>\n",
       "      <td>0.562578</td>\n",
       "      <td>78.786539</td>\n",
       "      <td>14.975214</td>\n",
       "      <td>53.173970</td>\n",
       "      <td>4.714192</td>\n",
       "      <td>17.435347</td>\n",
       "      <td>7.079591</td>\n",
       "      <td>0.310096</td>\n",
       "      <td>0.500000</td>\n",
       "    </tr>\n",
       "    <tr>\n",
       "      <th>std</th>\n",
       "      <td>8.723950</td>\n",
       "      <td>0.988251</td>\n",
       "      <td>0.0</td>\n",
       "      <td>3.211364</td>\n",
       "      <td>13.232020</td>\n",
       "      <td>2.638631</td>\n",
       "      <td>1.570633</td>\n",
       "      <td>12.391006</td>\n",
       "      <td>12.658186</td>\n",
       "      <td>49.658347</td>\n",
       "      <td>3.750749</td>\n",
       "      <td>14.794149</td>\n",
       "      <td>7.062710</td>\n",
       "      <td>0.463090</td>\n",
       "      <td>0.500602</td>\n",
       "    </tr>\n",
       "    <tr>\n",
       "      <th>min</th>\n",
       "      <td>1.000000</td>\n",
       "      <td>6.000000</td>\n",
       "      <td>2012.0</td>\n",
       "      <td>22.000000</td>\n",
       "      <td>21.000000</td>\n",
       "      <td>6.000000</td>\n",
       "      <td>0.000000</td>\n",
       "      <td>28.600000</td>\n",
       "      <td>0.700000</td>\n",
       "      <td>6.900000</td>\n",
       "      <td>0.000000</td>\n",
       "      <td>1.100000</td>\n",
       "      <td>0.000000</td>\n",
       "      <td>0.000000</td>\n",
       "      <td>0.000000</td>\n",
       "    </tr>\n",
       "    <tr>\n",
       "      <th>25%</th>\n",
       "      <td>7.000000</td>\n",
       "      <td>7.000000</td>\n",
       "      <td>2012.0</td>\n",
       "      <td>30.000000</td>\n",
       "      <td>54.000000</td>\n",
       "      <td>14.000000</td>\n",
       "      <td>0.000000</td>\n",
       "      <td>72.622743</td>\n",
       "      <td>5.684506</td>\n",
       "      <td>15.024894</td>\n",
       "      <td>1.518279</td>\n",
       "      <td>6.026095</td>\n",
       "      <td>0.753243</td>\n",
       "      <td>0.000000</td>\n",
       "      <td>0.000000</td>\n",
       "    </tr>\n",
       "    <tr>\n",
       "      <th>50%</th>\n",
       "      <td>14.000000</td>\n",
       "      <td>7.000000</td>\n",
       "      <td>2012.0</td>\n",
       "      <td>32.000000</td>\n",
       "      <td>64.000000</td>\n",
       "      <td>15.000000</td>\n",
       "      <td>0.000000</td>\n",
       "      <td>83.180680</td>\n",
       "      <td>12.062326</td>\n",
       "      <td>36.900000</td>\n",
       "      <td>3.750000</td>\n",
       "      <td>14.200000</td>\n",
       "      <td>4.900000</td>\n",
       "      <td>0.000000</td>\n",
       "      <td>0.500000</td>\n",
       "    </tr>\n",
       "    <tr>\n",
       "      <th>75%</th>\n",
       "      <td>23.000000</td>\n",
       "      <td>8.000000</td>\n",
       "      <td>2012.0</td>\n",
       "      <td>34.000000</td>\n",
       "      <td>71.000000</td>\n",
       "      <td>17.000000</td>\n",
       "      <td>0.433524</td>\n",
       "      <td>87.982705</td>\n",
       "      <td>20.817084</td>\n",
       "      <td>76.606373</td>\n",
       "      <td>7.164006</td>\n",
       "      <td>23.512994</td>\n",
       "      <td>11.907136</td>\n",
       "      <td>1.000000</td>\n",
       "      <td>1.000000</td>\n",
       "    </tr>\n",
       "    <tr>\n",
       "      <th>max</th>\n",
       "      <td>31.000000</td>\n",
       "      <td>9.000000</td>\n",
       "      <td>2012.0</td>\n",
       "      <td>42.000000</td>\n",
       "      <td>90.000000</td>\n",
       "      <td>29.000000</td>\n",
       "      <td>16.800000</td>\n",
       "      <td>96.000000</td>\n",
       "      <td>65.900000</td>\n",
       "      <td>220.400000</td>\n",
       "      <td>19.000000</td>\n",
       "      <td>68.000000</td>\n",
       "      <td>31.100000</td>\n",
       "      <td>1.000000</td>\n",
       "      <td>1.000000</td>\n",
       "    </tr>\n",
       "  </tbody>\n",
       "</table>\n",
       "</div>"
      ],
      "text/plain": [
       "              day       month    year  Temperature          RH          Ws  \\\n",
       "count  416.000000  416.000000   416.0   416.000000  416.000000  416.000000   \n",
       "mean    14.591346    7.459135  2012.0    32.197115   62.447115   15.461538   \n",
       "std      8.723950    0.988251     0.0     3.211364   13.232020    2.638631   \n",
       "min      1.000000    6.000000  2012.0    22.000000   21.000000    6.000000   \n",
       "25%      7.000000    7.000000  2012.0    30.000000   54.000000   14.000000   \n",
       "50%     14.000000    7.000000  2012.0    32.000000   64.000000   15.000000   \n",
       "75%     23.000000    8.000000  2012.0    34.000000   71.000000   17.000000   \n",
       "max     31.000000    9.000000  2012.0    42.000000   90.000000   29.000000   \n",
       "\n",
       "             Rain        FFMC         DMC          DC         ISI         BUI  \\\n",
       "count  416.000000  416.000000  416.000000  416.000000  416.000000  416.000000   \n",
       "mean     0.562578   78.786539   14.975214   53.173970    4.714192   17.435347   \n",
       "std      1.570633   12.391006   12.658186   49.658347    3.750749   14.794149   \n",
       "min      0.000000   28.600000    0.700000    6.900000    0.000000    1.100000   \n",
       "25%      0.000000   72.622743    5.684506   15.024894    1.518279    6.026095   \n",
       "50%      0.000000   83.180680   12.062326   36.900000    3.750000   14.200000   \n",
       "75%      0.433524   87.982705   20.817084   76.606373    7.164006   23.512994   \n",
       "max     16.800000   96.000000   65.900000  220.400000   19.000000   68.000000   \n",
       "\n",
       "              FWI      region     Classes  \n",
       "count  416.000000  416.000000  416.000000  \n",
       "mean     7.079591    0.310096    0.500000  \n",
       "std      7.062710    0.463090    0.500602  \n",
       "min      0.000000    0.000000    0.000000  \n",
       "25%      0.753243    0.000000    0.000000  \n",
       "50%      4.900000    0.000000    0.500000  \n",
       "75%     11.907136    1.000000    1.000000  \n",
       "max     31.100000    1.000000    1.000000  "
      ]
     },
     "execution_count": 99,
     "metadata": {},
     "output_type": "execute_result"
    }
   ],
   "source": [
    "data_bal.describe()"
   ]
  },
  {
   "cell_type": "code",
   "execution_count": 100,
   "id": "77f0b9ef",
   "metadata": {},
   "outputs": [
    {
     "data": {
      "text/html": [
       "<div>\n",
       "<style scoped>\n",
       "    .dataframe tbody tr th:only-of-type {\n",
       "        vertical-align: middle;\n",
       "    }\n",
       "\n",
       "    .dataframe tbody tr th {\n",
       "        vertical-align: top;\n",
       "    }\n",
       "\n",
       "    .dataframe thead th {\n",
       "        text-align: right;\n",
       "    }\n",
       "</style>\n",
       "<table border=\"1\" class=\"dataframe\">\n",
       "  <thead>\n",
       "    <tr style=\"text-align: right;\">\n",
       "      <th></th>\n",
       "      <th>day</th>\n",
       "      <th>month</th>\n",
       "      <th>year</th>\n",
       "      <th>Temperature</th>\n",
       "      <th>RH</th>\n",
       "      <th>Ws</th>\n",
       "      <th>Rain</th>\n",
       "      <th>FFMC</th>\n",
       "      <th>DMC</th>\n",
       "      <th>DC</th>\n",
       "      <th>ISI</th>\n",
       "      <th>BUI</th>\n",
       "      <th>FWI</th>\n",
       "      <th>region</th>\n",
       "      <th>Classes</th>\n",
       "    </tr>\n",
       "  </thead>\n",
       "  <tbody>\n",
       "    <tr>\n",
       "      <th>day</th>\n",
       "      <td>1.000000</td>\n",
       "      <td>-0.066225</td>\n",
       "      <td>NaN</td>\n",
       "      <td>0.167505</td>\n",
       "      <td>-0.133637</td>\n",
       "      <td>0.148065</td>\n",
       "      <td>-0.084515</td>\n",
       "      <td>0.284472</td>\n",
       "      <td>0.582174</td>\n",
       "      <td>0.623921</td>\n",
       "      <td>0.282523</td>\n",
       "      <td>0.611107</td>\n",
       "      <td>0.455532</td>\n",
       "      <td>0.049933</td>\n",
       "      <td>0.150077</td>\n",
       "    </tr>\n",
       "    <tr>\n",
       "      <th>month</th>\n",
       "      <td>-0.066225</td>\n",
       "      <td>1.000000</td>\n",
       "      <td>NaN</td>\n",
       "      <td>-0.084772</td>\n",
       "      <td>0.078426</td>\n",
       "      <td>-0.009383</td>\n",
       "      <td>0.022501</td>\n",
       "      <td>0.023551</td>\n",
       "      <td>0.031176</td>\n",
       "      <td>0.091210</td>\n",
       "      <td>0.066407</td>\n",
       "      <td>0.046636</td>\n",
       "      <td>0.075252</td>\n",
       "      <td>0.004063</td>\n",
       "      <td>0.002435</td>\n",
       "    </tr>\n",
       "    <tr>\n",
       "      <th>year</th>\n",
       "      <td>NaN</td>\n",
       "      <td>NaN</td>\n",
       "      <td>NaN</td>\n",
       "      <td>NaN</td>\n",
       "      <td>NaN</td>\n",
       "      <td>NaN</td>\n",
       "      <td>NaN</td>\n",
       "      <td>NaN</td>\n",
       "      <td>NaN</td>\n",
       "      <td>NaN</td>\n",
       "      <td>NaN</td>\n",
       "      <td>NaN</td>\n",
       "      <td>NaN</td>\n",
       "      <td>NaN</td>\n",
       "      <td>NaN</td>\n",
       "    </tr>\n",
       "    <tr>\n",
       "      <th>Temperature</th>\n",
       "      <td>0.167505</td>\n",
       "      <td>-0.084772</td>\n",
       "      <td>NaN</td>\n",
       "      <td>1.000000</td>\n",
       "      <td>-0.648538</td>\n",
       "      <td>-0.272098</td>\n",
       "      <td>-0.283493</td>\n",
       "      <td>0.665275</td>\n",
       "      <td>0.430808</td>\n",
       "      <td>0.339503</td>\n",
       "      <td>0.635420</td>\n",
       "      <td>0.410812</td>\n",
       "      <td>0.565477</td>\n",
       "      <td>0.222909</td>\n",
       "      <td>-0.037472</td>\n",
       "    </tr>\n",
       "    <tr>\n",
       "      <th>RH</th>\n",
       "      <td>-0.133637</td>\n",
       "      <td>0.078426</td>\n",
       "      <td>NaN</td>\n",
       "      <td>-0.648538</td>\n",
       "      <td>1.000000</td>\n",
       "      <td>0.218445</td>\n",
       "      <td>0.191642</td>\n",
       "      <td>-0.595837</td>\n",
       "      <td>-0.339929</td>\n",
       "      <td>-0.189220</td>\n",
       "      <td>-0.656715</td>\n",
       "      <td>-0.290872</td>\n",
       "      <td>-0.529086</td>\n",
       "      <td>-0.381319</td>\n",
       "      <td>-0.053475</td>\n",
       "    </tr>\n",
       "    <tr>\n",
       "      <th>Ws</th>\n",
       "      <td>0.148065</td>\n",
       "      <td>-0.009383</td>\n",
       "      <td>NaN</td>\n",
       "      <td>-0.272098</td>\n",
       "      <td>0.218445</td>\n",
       "      <td>1.000000</td>\n",
       "      <td>0.090406</td>\n",
       "      <td>-0.053194</td>\n",
       "      <td>0.150747</td>\n",
       "      <td>0.254008</td>\n",
       "      <td>0.076639</td>\n",
       "      <td>0.197349</td>\n",
       "      <td>0.134114</td>\n",
       "      <td>-0.133186</td>\n",
       "      <td>0.009121</td>\n",
       "    </tr>\n",
       "    <tr>\n",
       "      <th>Rain</th>\n",
       "      <td>-0.084515</td>\n",
       "      <td>0.022501</td>\n",
       "      <td>NaN</td>\n",
       "      <td>-0.283493</td>\n",
       "      <td>0.191642</td>\n",
       "      <td>0.090406</td>\n",
       "      <td>1.000000</td>\n",
       "      <td>-0.533911</td>\n",
       "      <td>-0.251949</td>\n",
       "      <td>-0.277874</td>\n",
       "      <td>-0.337909</td>\n",
       "      <td>-0.267525</td>\n",
       "      <td>-0.309109</td>\n",
       "      <td>0.036448</td>\n",
       "      <td>0.177089</td>\n",
       "    </tr>\n",
       "    <tr>\n",
       "      <th>FFMC</th>\n",
       "      <td>0.284472</td>\n",
       "      <td>0.023551</td>\n",
       "      <td>NaN</td>\n",
       "      <td>0.665275</td>\n",
       "      <td>-0.595837</td>\n",
       "      <td>-0.053194</td>\n",
       "      <td>-0.533911</td>\n",
       "      <td>1.000000</td>\n",
       "      <td>0.589623</td>\n",
       "      <td>0.537794</td>\n",
       "      <td>0.772250</td>\n",
       "      <td>0.590636</td>\n",
       "      <td>0.716276</td>\n",
       "      <td>0.149906</td>\n",
       "      <td>-0.093970</td>\n",
       "    </tr>\n",
       "    <tr>\n",
       "      <th>DMC</th>\n",
       "      <td>0.582174</td>\n",
       "      <td>0.031176</td>\n",
       "      <td>NaN</td>\n",
       "      <td>0.430808</td>\n",
       "      <td>-0.339929</td>\n",
       "      <td>0.150747</td>\n",
       "      <td>-0.251949</td>\n",
       "      <td>0.589623</td>\n",
       "      <td>1.000000</td>\n",
       "      <td>0.897287</td>\n",
       "      <td>0.658820</td>\n",
       "      <td>0.984361</td>\n",
       "      <td>0.867633</td>\n",
       "      <td>0.105301</td>\n",
       "      <td>-0.069720</td>\n",
       "    </tr>\n",
       "    <tr>\n",
       "      <th>DC</th>\n",
       "      <td>0.623921</td>\n",
       "      <td>0.091210</td>\n",
       "      <td>NaN</td>\n",
       "      <td>0.339503</td>\n",
       "      <td>-0.189220</td>\n",
       "      <td>0.254008</td>\n",
       "      <td>-0.277874</td>\n",
       "      <td>0.537794</td>\n",
       "      <td>0.897287</td>\n",
       "      <td>1.000000</td>\n",
       "      <td>0.543064</td>\n",
       "      <td>0.954695</td>\n",
       "      <td>0.777686</td>\n",
       "      <td>-0.108816</td>\n",
       "      <td>-0.134493</td>\n",
       "    </tr>\n",
       "    <tr>\n",
       "      <th>ISI</th>\n",
       "      <td>0.282523</td>\n",
       "      <td>0.066407</td>\n",
       "      <td>NaN</td>\n",
       "      <td>0.635420</td>\n",
       "      <td>-0.656715</td>\n",
       "      <td>0.076639</td>\n",
       "      <td>-0.337909</td>\n",
       "      <td>0.772250</td>\n",
       "      <td>0.658820</td>\n",
       "      <td>0.543064</td>\n",
       "      <td>1.000000</td>\n",
       "      <td>0.637799</td>\n",
       "      <td>0.914423</td>\n",
       "      <td>0.228654</td>\n",
       "      <td>0.000447</td>\n",
       "    </tr>\n",
       "    <tr>\n",
       "      <th>BUI</th>\n",
       "      <td>0.611107</td>\n",
       "      <td>0.046636</td>\n",
       "      <td>NaN</td>\n",
       "      <td>0.410812</td>\n",
       "      <td>-0.290872</td>\n",
       "      <td>0.197349</td>\n",
       "      <td>-0.267525</td>\n",
       "      <td>0.590636</td>\n",
       "      <td>0.984361</td>\n",
       "      <td>0.954695</td>\n",
       "      <td>0.637799</td>\n",
       "      <td>1.000000</td>\n",
       "      <td>0.860486</td>\n",
       "      <td>0.016607</td>\n",
       "      <td>-0.104882</td>\n",
       "    </tr>\n",
       "    <tr>\n",
       "      <th>FWI</th>\n",
       "      <td>0.455532</td>\n",
       "      <td>0.075252</td>\n",
       "      <td>NaN</td>\n",
       "      <td>0.565477</td>\n",
       "      <td>-0.529086</td>\n",
       "      <td>0.134114</td>\n",
       "      <td>-0.309109</td>\n",
       "      <td>0.716276</td>\n",
       "      <td>0.867633</td>\n",
       "      <td>0.777686</td>\n",
       "      <td>0.914423</td>\n",
       "      <td>0.860486</td>\n",
       "      <td>1.000000</td>\n",
       "      <td>0.139820</td>\n",
       "      <td>-0.049040</td>\n",
       "    </tr>\n",
       "    <tr>\n",
       "      <th>region</th>\n",
       "      <td>0.049933</td>\n",
       "      <td>0.004063</td>\n",
       "      <td>NaN</td>\n",
       "      <td>0.222909</td>\n",
       "      <td>-0.381319</td>\n",
       "      <td>-0.133186</td>\n",
       "      <td>0.036448</td>\n",
       "      <td>0.149906</td>\n",
       "      <td>0.105301</td>\n",
       "      <td>-0.108816</td>\n",
       "      <td>0.228654</td>\n",
       "      <td>0.016607</td>\n",
       "      <td>0.139820</td>\n",
       "      <td>1.000000</td>\n",
       "      <td>0.441757</td>\n",
       "    </tr>\n",
       "    <tr>\n",
       "      <th>Classes</th>\n",
       "      <td>0.150077</td>\n",
       "      <td>0.002435</td>\n",
       "      <td>NaN</td>\n",
       "      <td>-0.037472</td>\n",
       "      <td>-0.053475</td>\n",
       "      <td>0.009121</td>\n",
       "      <td>0.177089</td>\n",
       "      <td>-0.093970</td>\n",
       "      <td>-0.069720</td>\n",
       "      <td>-0.134493</td>\n",
       "      <td>0.000447</td>\n",
       "      <td>-0.104882</td>\n",
       "      <td>-0.049040</td>\n",
       "      <td>0.441757</td>\n",
       "      <td>1.000000</td>\n",
       "    </tr>\n",
       "  </tbody>\n",
       "</table>\n",
       "</div>"
      ],
      "text/plain": [
       "                  day     month  year  Temperature        RH        Ws  \\\n",
       "day          1.000000 -0.066225   NaN     0.167505 -0.133637  0.148065   \n",
       "month       -0.066225  1.000000   NaN    -0.084772  0.078426 -0.009383   \n",
       "year              NaN       NaN   NaN          NaN       NaN       NaN   \n",
       "Temperature  0.167505 -0.084772   NaN     1.000000 -0.648538 -0.272098   \n",
       "RH          -0.133637  0.078426   NaN    -0.648538  1.000000  0.218445   \n",
       "Ws           0.148065 -0.009383   NaN    -0.272098  0.218445  1.000000   \n",
       "Rain        -0.084515  0.022501   NaN    -0.283493  0.191642  0.090406   \n",
       "FFMC         0.284472  0.023551   NaN     0.665275 -0.595837 -0.053194   \n",
       "DMC          0.582174  0.031176   NaN     0.430808 -0.339929  0.150747   \n",
       "DC           0.623921  0.091210   NaN     0.339503 -0.189220  0.254008   \n",
       "ISI          0.282523  0.066407   NaN     0.635420 -0.656715  0.076639   \n",
       "BUI          0.611107  0.046636   NaN     0.410812 -0.290872  0.197349   \n",
       "FWI          0.455532  0.075252   NaN     0.565477 -0.529086  0.134114   \n",
       "region       0.049933  0.004063   NaN     0.222909 -0.381319 -0.133186   \n",
       "Classes      0.150077  0.002435   NaN    -0.037472 -0.053475  0.009121   \n",
       "\n",
       "                 Rain      FFMC       DMC        DC       ISI       BUI  \\\n",
       "day         -0.084515  0.284472  0.582174  0.623921  0.282523  0.611107   \n",
       "month        0.022501  0.023551  0.031176  0.091210  0.066407  0.046636   \n",
       "year              NaN       NaN       NaN       NaN       NaN       NaN   \n",
       "Temperature -0.283493  0.665275  0.430808  0.339503  0.635420  0.410812   \n",
       "RH           0.191642 -0.595837 -0.339929 -0.189220 -0.656715 -0.290872   \n",
       "Ws           0.090406 -0.053194  0.150747  0.254008  0.076639  0.197349   \n",
       "Rain         1.000000 -0.533911 -0.251949 -0.277874 -0.337909 -0.267525   \n",
       "FFMC        -0.533911  1.000000  0.589623  0.537794  0.772250  0.590636   \n",
       "DMC         -0.251949  0.589623  1.000000  0.897287  0.658820  0.984361   \n",
       "DC          -0.277874  0.537794  0.897287  1.000000  0.543064  0.954695   \n",
       "ISI         -0.337909  0.772250  0.658820  0.543064  1.000000  0.637799   \n",
       "BUI         -0.267525  0.590636  0.984361  0.954695  0.637799  1.000000   \n",
       "FWI         -0.309109  0.716276  0.867633  0.777686  0.914423  0.860486   \n",
       "region       0.036448  0.149906  0.105301 -0.108816  0.228654  0.016607   \n",
       "Classes      0.177089 -0.093970 -0.069720 -0.134493  0.000447 -0.104882   \n",
       "\n",
       "                  FWI    region   Classes  \n",
       "day          0.455532  0.049933  0.150077  \n",
       "month        0.075252  0.004063  0.002435  \n",
       "year              NaN       NaN       NaN  \n",
       "Temperature  0.565477  0.222909 -0.037472  \n",
       "RH          -0.529086 -0.381319 -0.053475  \n",
       "Ws           0.134114 -0.133186  0.009121  \n",
       "Rain        -0.309109  0.036448  0.177089  \n",
       "FFMC         0.716276  0.149906 -0.093970  \n",
       "DMC          0.867633  0.105301 -0.069720  \n",
       "DC           0.777686 -0.108816 -0.134493  \n",
       "ISI          0.914423  0.228654  0.000447  \n",
       "BUI          0.860486  0.016607 -0.104882  \n",
       "FWI          1.000000  0.139820 -0.049040  \n",
       "region       0.139820  1.000000  0.441757  \n",
       "Classes     -0.049040  0.441757  1.000000  "
      ]
     },
     "execution_count": 100,
     "metadata": {},
     "output_type": "execute_result"
    }
   ],
   "source": [
    "data_bal.corr()"
   ]
  },
  {
   "cell_type": "code",
   "execution_count": 101,
   "id": "5b8b42a8",
   "metadata": {},
   "outputs": [
    {
     "data": {
      "text/html": [
       "<div>\n",
       "<style scoped>\n",
       "    .dataframe tbody tr th:only-of-type {\n",
       "        vertical-align: middle;\n",
       "    }\n",
       "\n",
       "    .dataframe tbody tr th {\n",
       "        vertical-align: top;\n",
       "    }\n",
       "\n",
       "    .dataframe thead th {\n",
       "        text-align: right;\n",
       "    }\n",
       "</style>\n",
       "<table border=\"1\" class=\"dataframe\">\n",
       "  <thead>\n",
       "    <tr style=\"text-align: right;\">\n",
       "      <th></th>\n",
       "      <th>day</th>\n",
       "      <th>month</th>\n",
       "      <th>year</th>\n",
       "      <th>Temperature</th>\n",
       "      <th>RH</th>\n",
       "      <th>Ws</th>\n",
       "      <th>Rain</th>\n",
       "      <th>FFMC</th>\n",
       "      <th>DMC</th>\n",
       "      <th>DC</th>\n",
       "      <th>ISI</th>\n",
       "      <th>BUI</th>\n",
       "      <th>FWI</th>\n",
       "      <th>region</th>\n",
       "      <th>Classes</th>\n",
       "    </tr>\n",
       "  </thead>\n",
       "  <tbody>\n",
       "    <tr>\n",
       "      <th>day</th>\n",
       "      <td>76.107298</td>\n",
       "      <td>-0.570957</td>\n",
       "      <td>0.0</td>\n",
       "      <td>4.692794</td>\n",
       "      <td>-15.426483</td>\n",
       "      <td>3.408341</td>\n",
       "      <td>-1.158034</td>\n",
       "      <td>30.750996</td>\n",
       "      <td>64.289162</td>\n",
       "      <td>270.293322</td>\n",
       "      <td>9.244525</td>\n",
       "      <td>78.871596</td>\n",
       "      <td>28.067480</td>\n",
       "      <td>0.201726</td>\n",
       "      <td>0.655422</td>\n",
       "    </tr>\n",
       "    <tr>\n",
       "      <th>month</th>\n",
       "      <td>-0.570957</td>\n",
       "      <td>0.976639</td>\n",
       "      <td>0.0</td>\n",
       "      <td>-0.269034</td>\n",
       "      <td>1.025544</td>\n",
       "      <td>-0.024467</td>\n",
       "      <td>0.034926</td>\n",
       "      <td>0.288395</td>\n",
       "      <td>0.389989</td>\n",
       "      <td>4.476116</td>\n",
       "      <td>0.246149</td>\n",
       "      <td>0.681838</td>\n",
       "      <td>0.525238</td>\n",
       "      <td>0.001859</td>\n",
       "      <td>0.001205</td>\n",
       "    </tr>\n",
       "    <tr>\n",
       "      <th>year</th>\n",
       "      <td>0.000000</td>\n",
       "      <td>0.000000</td>\n",
       "      <td>0.0</td>\n",
       "      <td>0.000000</td>\n",
       "      <td>0.000000</td>\n",
       "      <td>0.000000</td>\n",
       "      <td>0.000000</td>\n",
       "      <td>0.000000</td>\n",
       "      <td>0.000000</td>\n",
       "      <td>0.000000</td>\n",
       "      <td>0.000000</td>\n",
       "      <td>0.000000</td>\n",
       "      <td>0.000000</td>\n",
       "      <td>0.000000</td>\n",
       "      <td>0.000000</td>\n",
       "    </tr>\n",
       "    <tr>\n",
       "      <th>Temperature</th>\n",
       "      <td>4.692794</td>\n",
       "      <td>-0.269034</td>\n",
       "      <td>0.0</td>\n",
       "      <td>10.312859</td>\n",
       "      <td>-27.558225</td>\n",
       "      <td>-2.305653</td>\n",
       "      <td>-1.429904</td>\n",
       "      <td>26.472631</td>\n",
       "      <td>17.512360</td>\n",
       "      <td>54.140829</td>\n",
       "      <td>7.653651</td>\n",
       "      <td>19.517448</td>\n",
       "      <td>12.825555</td>\n",
       "      <td>0.331499</td>\n",
       "      <td>-0.060241</td>\n",
       "    </tr>\n",
       "    <tr>\n",
       "      <th>RH</th>\n",
       "      <td>-15.426483</td>\n",
       "      <td>1.025544</td>\n",
       "      <td>0.0</td>\n",
       "      <td>-27.558225</td>\n",
       "      <td>175.086353</td>\n",
       "      <td>7.626877</td>\n",
       "      <td>3.982819</td>\n",
       "      <td>-97.692245</td>\n",
       "      <td>-56.935920</td>\n",
       "      <td>-124.332778</td>\n",
       "      <td>-32.592782</td>\n",
       "      <td>-56.940170</td>\n",
       "      <td>-49.445157</td>\n",
       "      <td>-2.336573</td>\n",
       "      <td>-0.354217</td>\n",
       "    </tr>\n",
       "    <tr>\n",
       "      <th>Ws</th>\n",
       "      <td>3.408341</td>\n",
       "      <td>-0.024467</td>\n",
       "      <td>0.0</td>\n",
       "      <td>-2.305653</td>\n",
       "      <td>7.626877</td>\n",
       "      <td>6.962373</td>\n",
       "      <td>0.374673</td>\n",
       "      <td>-1.739208</td>\n",
       "      <td>5.034986</td>\n",
       "      <td>33.282702</td>\n",
       "      <td>0.758485</td>\n",
       "      <td>7.703760</td>\n",
       "      <td>2.499329</td>\n",
       "      <td>-0.162743</td>\n",
       "      <td>0.012048</td>\n",
       "    </tr>\n",
       "    <tr>\n",
       "      <th>Rain</th>\n",
       "      <td>-1.158034</td>\n",
       "      <td>0.034926</td>\n",
       "      <td>0.0</td>\n",
       "      <td>-1.429904</td>\n",
       "      <td>3.982819</td>\n",
       "      <td>0.374673</td>\n",
       "      <td>2.466889</td>\n",
       "      <td>-10.390838</td>\n",
       "      <td>-5.009101</td>\n",
       "      <td>-21.672823</td>\n",
       "      <td>-1.990638</td>\n",
       "      <td>-6.216249</td>\n",
       "      <td>-3.428919</td>\n",
       "      <td>0.026510</td>\n",
       "      <td>0.139238</td>\n",
       "    </tr>\n",
       "    <tr>\n",
       "      <th>FFMC</th>\n",
       "      <td>30.750996</td>\n",
       "      <td>0.288395</td>\n",
       "      <td>0.0</td>\n",
       "      <td>26.472631</td>\n",
       "      <td>-97.692245</td>\n",
       "      <td>-1.739208</td>\n",
       "      <td>-10.390838</td>\n",
       "      <td>153.537019</td>\n",
       "      <td>92.480958</td>\n",
       "      <td>330.913724</td>\n",
       "      <td>35.890764</td>\n",
       "      <td>108.272039</td>\n",
       "      <td>62.684266</td>\n",
       "      <td>0.860183</td>\n",
       "      <td>-0.582892</td>\n",
       "    </tr>\n",
       "    <tr>\n",
       "      <th>DMC</th>\n",
       "      <td>64.289162</td>\n",
       "      <td>0.389989</td>\n",
       "      <td>0.0</td>\n",
       "      <td>17.512360</td>\n",
       "      <td>-56.935920</td>\n",
       "      <td>5.034986</td>\n",
       "      <td>-5.009101</td>\n",
       "      <td>92.480958</td>\n",
       "      <td>160.229675</td>\n",
       "      <td>564.020922</td>\n",
       "      <td>31.279238</td>\n",
       "      <td>184.338360</td>\n",
       "      <td>77.567301</td>\n",
       "      <td>0.617258</td>\n",
       "      <td>-0.441794</td>\n",
       "    </tr>\n",
       "    <tr>\n",
       "      <th>DC</th>\n",
       "      <td>270.293322</td>\n",
       "      <td>4.476116</td>\n",
       "      <td>0.0</td>\n",
       "      <td>54.140829</td>\n",
       "      <td>-124.332778</td>\n",
       "      <td>33.282702</td>\n",
       "      <td>-21.672823</td>\n",
       "      <td>330.913724</td>\n",
       "      <td>564.020922</td>\n",
       "      <td>2465.951471</td>\n",
       "      <td>101.149026</td>\n",
       "      <td>701.369621</td>\n",
       "      <td>272.752086</td>\n",
       "      <td>-2.502360</td>\n",
       "      <td>-3.343363</td>\n",
       "    </tr>\n",
       "    <tr>\n",
       "      <th>ISI</th>\n",
       "      <td>9.244525</td>\n",
       "      <td>0.246149</td>\n",
       "      <td>0.0</td>\n",
       "      <td>7.653651</td>\n",
       "      <td>-32.592782</td>\n",
       "      <td>0.758485</td>\n",
       "      <td>-1.990638</td>\n",
       "      <td>35.890764</td>\n",
       "      <td>31.279238</td>\n",
       "      <td>101.149026</td>\n",
       "      <td>14.068120</td>\n",
       "      <td>35.390947</td>\n",
       "      <td>24.223475</td>\n",
       "      <td>0.397157</td>\n",
       "      <td>0.000838</td>\n",
       "    </tr>\n",
       "    <tr>\n",
       "      <th>BUI</th>\n",
       "      <td>78.871596</td>\n",
       "      <td>0.681838</td>\n",
       "      <td>0.0</td>\n",
       "      <td>19.517448</td>\n",
       "      <td>-56.940170</td>\n",
       "      <td>7.703760</td>\n",
       "      <td>-6.216249</td>\n",
       "      <td>108.272039</td>\n",
       "      <td>184.338360</td>\n",
       "      <td>701.369621</td>\n",
       "      <td>35.390947</td>\n",
       "      <td>218.866842</td>\n",
       "      <td>89.909450</td>\n",
       "      <td>0.113778</td>\n",
       "      <td>-0.776752</td>\n",
       "    </tr>\n",
       "    <tr>\n",
       "      <th>FWI</th>\n",
       "      <td>28.067480</td>\n",
       "      <td>0.525238</td>\n",
       "      <td>0.0</td>\n",
       "      <td>12.825555</td>\n",
       "      <td>-49.445157</td>\n",
       "      <td>2.499329</td>\n",
       "      <td>-3.428919</td>\n",
       "      <td>62.684266</td>\n",
       "      <td>77.567301</td>\n",
       "      <td>272.752086</td>\n",
       "      <td>24.223475</td>\n",
       "      <td>89.909450</td>\n",
       "      <td>49.881869</td>\n",
       "      <td>0.457304</td>\n",
       "      <td>-0.173385</td>\n",
       "    </tr>\n",
       "    <tr>\n",
       "      <th>region</th>\n",
       "      <td>0.201726</td>\n",
       "      <td>0.001859</td>\n",
       "      <td>0.0</td>\n",
       "      <td>0.331499</td>\n",
       "      <td>-2.336573</td>\n",
       "      <td>-0.162743</td>\n",
       "      <td>0.026510</td>\n",
       "      <td>0.860183</td>\n",
       "      <td>0.617258</td>\n",
       "      <td>-2.502360</td>\n",
       "      <td>0.397157</td>\n",
       "      <td>0.113778</td>\n",
       "      <td>0.457304</td>\n",
       "      <td>0.214452</td>\n",
       "      <td>0.102410</td>\n",
       "    </tr>\n",
       "    <tr>\n",
       "      <th>Classes</th>\n",
       "      <td>0.655422</td>\n",
       "      <td>0.001205</td>\n",
       "      <td>0.0</td>\n",
       "      <td>-0.060241</td>\n",
       "      <td>-0.354217</td>\n",
       "      <td>0.012048</td>\n",
       "      <td>0.139238</td>\n",
       "      <td>-0.582892</td>\n",
       "      <td>-0.441794</td>\n",
       "      <td>-3.343363</td>\n",
       "      <td>0.000838</td>\n",
       "      <td>-0.776752</td>\n",
       "      <td>-0.173385</td>\n",
       "      <td>0.102410</td>\n",
       "      <td>0.250602</td>\n",
       "    </tr>\n",
       "  </tbody>\n",
       "</table>\n",
       "</div>"
      ],
      "text/plain": [
       "                    day     month  year  Temperature          RH         Ws  \\\n",
       "day           76.107298 -0.570957   0.0     4.692794  -15.426483   3.408341   \n",
       "month         -0.570957  0.976639   0.0    -0.269034    1.025544  -0.024467   \n",
       "year           0.000000  0.000000   0.0     0.000000    0.000000   0.000000   \n",
       "Temperature    4.692794 -0.269034   0.0    10.312859  -27.558225  -2.305653   \n",
       "RH           -15.426483  1.025544   0.0   -27.558225  175.086353   7.626877   \n",
       "Ws             3.408341 -0.024467   0.0    -2.305653    7.626877   6.962373   \n",
       "Rain          -1.158034  0.034926   0.0    -1.429904    3.982819   0.374673   \n",
       "FFMC          30.750996  0.288395   0.0    26.472631  -97.692245  -1.739208   \n",
       "DMC           64.289162  0.389989   0.0    17.512360  -56.935920   5.034986   \n",
       "DC           270.293322  4.476116   0.0    54.140829 -124.332778  33.282702   \n",
       "ISI            9.244525  0.246149   0.0     7.653651  -32.592782   0.758485   \n",
       "BUI           78.871596  0.681838   0.0    19.517448  -56.940170   7.703760   \n",
       "FWI           28.067480  0.525238   0.0    12.825555  -49.445157   2.499329   \n",
       "region         0.201726  0.001859   0.0     0.331499   -2.336573  -0.162743   \n",
       "Classes        0.655422  0.001205   0.0    -0.060241   -0.354217   0.012048   \n",
       "\n",
       "                  Rain        FFMC         DMC           DC         ISI  \\\n",
       "day          -1.158034   30.750996   64.289162   270.293322    9.244525   \n",
       "month         0.034926    0.288395    0.389989     4.476116    0.246149   \n",
       "year          0.000000    0.000000    0.000000     0.000000    0.000000   \n",
       "Temperature  -1.429904   26.472631   17.512360    54.140829    7.653651   \n",
       "RH            3.982819  -97.692245  -56.935920  -124.332778  -32.592782   \n",
       "Ws            0.374673   -1.739208    5.034986    33.282702    0.758485   \n",
       "Rain          2.466889  -10.390838   -5.009101   -21.672823   -1.990638   \n",
       "FFMC        -10.390838  153.537019   92.480958   330.913724   35.890764   \n",
       "DMC          -5.009101   92.480958  160.229675   564.020922   31.279238   \n",
       "DC          -21.672823  330.913724  564.020922  2465.951471  101.149026   \n",
       "ISI          -1.990638   35.890764   31.279238   101.149026   14.068120   \n",
       "BUI          -6.216249  108.272039  184.338360   701.369621   35.390947   \n",
       "FWI          -3.428919   62.684266   77.567301   272.752086   24.223475   \n",
       "region        0.026510    0.860183    0.617258    -2.502360    0.397157   \n",
       "Classes       0.139238   -0.582892   -0.441794    -3.343363    0.000838   \n",
       "\n",
       "                    BUI         FWI    region   Classes  \n",
       "day           78.871596   28.067480  0.201726  0.655422  \n",
       "month          0.681838    0.525238  0.001859  0.001205  \n",
       "year           0.000000    0.000000  0.000000  0.000000  \n",
       "Temperature   19.517448   12.825555  0.331499 -0.060241  \n",
       "RH           -56.940170  -49.445157 -2.336573 -0.354217  \n",
       "Ws             7.703760    2.499329 -0.162743  0.012048  \n",
       "Rain          -6.216249   -3.428919  0.026510  0.139238  \n",
       "FFMC         108.272039   62.684266  0.860183 -0.582892  \n",
       "DMC          184.338360   77.567301  0.617258 -0.441794  \n",
       "DC           701.369621  272.752086 -2.502360 -3.343363  \n",
       "ISI           35.390947   24.223475  0.397157  0.000838  \n",
       "BUI          218.866842   89.909450  0.113778 -0.776752  \n",
       "FWI           89.909450   49.881869  0.457304 -0.173385  \n",
       "region         0.113778    0.457304  0.214452  0.102410  \n",
       "Classes       -0.776752   -0.173385  0.102410  0.250602  "
      ]
     },
     "execution_count": 101,
     "metadata": {},
     "output_type": "execute_result"
    }
   ],
   "source": [
    "data_bal.cov()"
   ]
  },
  {
   "cell_type": "code",
   "execution_count": 102,
   "id": "9fc6e0c1",
   "metadata": {},
   "outputs": [
    {
     "data": {
      "text/plain": [
       "['day',\n",
       " 'month',\n",
       " 'year',\n",
       " 'Temperature',\n",
       " 'RH',\n",
       " 'Ws',\n",
       " 'Rain',\n",
       " 'FFMC',\n",
       " 'DMC',\n",
       " 'DC',\n",
       " 'ISI',\n",
       " 'BUI',\n",
       " 'FWI',\n",
       " 'region',\n",
       " 'Classes']"
      ]
     },
     "execution_count": 102,
     "metadata": {},
     "output_type": "execute_result"
    }
   ],
   "source": [
    "num_bal_col=[feature for feature in data_bal.columns if data_bal[feature].dtype != 'O']\n",
    "num_bal_col"
   ]
  },
  {
   "cell_type": "markdown",
   "id": "05e4bb84",
   "metadata": {},
   "source": [
    "## Compairing the feature for Original and Balanced Dataset "
   ]
  },
  {
   "cell_type": "code",
   "execution_count": 103,
   "id": "0ec74e3a",
   "metadata": {},
   "outputs": [
    {
     "data": {
      "image/png": "[encoded data removed]",
      "text/plain": [
       "<Figure size 504x288 with 2 Axes>"
      ]
     },
     "metadata": {},
     "output_type": "display_data"
    },
    {
     "data": {
      "image/png": "[encoded data removed]",
      "text/plain": [
       "<Figure size 504x288 with 2 Axes>"
      ]
     },
     "metadata": {},
     "output_type": "display_data"
    },
    {
     "data": {
      "image/png": "[encoded data removed]",
      "text/plain": [
       "<Figure size 504x288 with 2 Axes>"
      ]
     },
     "metadata": {},
     "output_type": "display_data"
    },
    {
     "data": {
      "image/png": "[encoded data removed]",
      "text/plain": [
       "<Figure size 504x288 with 2 Axes>"
      ]
     },
     "metadata": {},
     "output_type": "display_data"
    },
    {
     "data": {
      "image/png": "[encoded data removed]",
      "text/plain": [
       "<Figure size 504x288 with 2 Axes>"
      ]
     },
     "metadata": {},
     "output_type": "display_data"
    },
    {
     "data": {
      "image/png": "[encoded data removed]",
      "text/plain": [
       "<Figure size 504x288 with 2 Axes>"
      ]
     },
     "metadata": {},
     "output_type": "display_data"
    },
    {
     "data": {
      "image/png": "[encoded data removed]",
      "text/plain": [
       "<Figure size 504x288 with 2 Axes>"
      ]
     },
     "metadata": {},
     "output_type": "display_data"
    },
    {
     "data": {
      "image/png": "[encoded data removed]",
      "text/plain": [
       "<Figure size 504x288 with 2 Axes>"
      ]
     },
     "metadata": {},
     "output_type": "display_data"
    },
    {
     "data": {
      "image/png": "[encoded data removed]",
      "text/plain": [
       "<Figure size 504x288 with 2 Axes>"
      ]
     },
     "metadata": {},
     "output_type": "display_data"
    },
    {
     "data": {
      "image/png": "[encoded data removed]",
      "text/plain": [
       "<Figure size 504x288 with 2 Axes>"
      ]
     },
     "metadata": {},
     "output_type": "display_data"
    },
    {
     "data": {
      "image/png": "[encoded data removed]",
      "text/plain": [
       "<Figure size 504x288 with 2 Axes>"
      ]
     },
     "metadata": {},
     "output_type": "display_data"
    },
    {
     "data": {
      "image/png": "[encoded data removed]",
      "text/plain": [
       "<Figure size 504x288 with 2 Axes>"
      ]
     },
     "metadata": {},
     "output_type": "display_data"
    },
    {
     "data": {
      "image/png": "[encoded data removed]",
      "text/plain": [
       "<Figure size 504x288 with 2 Axes>"
      ]
     },
     "metadata": {},
     "output_type": "display_data"
    },
    {
     "data": {
      "image/png": "[encoded data removed]",
      "text/plain": [
       "<Figure size 504x288 with 2 Axes>"
      ]
     },
     "metadata": {},
     "output_type": "display_data"
    },
    {
     "data": {
      "image/png": "[encoded data removed]",
      "text/plain": [
       "<Figure size 504x288 with 2 Axes>"
      ]
     },
     "metadata": {},
     "output_type": "display_data"
    }
   ],
   "source": [
    "for i in num_col:\n",
    "    plt.figure(figsize=(7,4))\n",
    "    plt.subplot(121)\n",
    "    sns.histplot(data=data,x=i,kde=True,bins=30)\n",
    "    \n",
    "    \n",
    "    plt.subplot(122)\n",
    "    sns.histplot(data=data_bal,x=i,kde=True,bins=30)\n",
    "    "
   ]
  },
  {
   "cell_type": "markdown",
   "id": "939c143e",
   "metadata": {},
   "source": [
    "# Checking the Outliers for Original and Balanced Dataset "
   ]
  },
  {
   "cell_type": "code",
   "execution_count": 104,
   "id": "6e1cafc2",
   "metadata": {},
   "outputs": [
    {
     "data": {
      "image/png": "[encoded data removed]",
      "text/plain": [
       "<Figure size 504x288 with 2 Axes>"
      ]
     },
     "metadata": {},
     "output_type": "display_data"
    },
    {
     "data": {
      "image/png": "[encoded data removed]",
      "text/plain": [
       "<Figure size 504x288 with 2 Axes>"
      ]
     },
     "metadata": {},
     "output_type": "display_data"
    },
    {
     "data": {
      "image/png": "[encoded data removed]",
      "text/plain": [
       "<Figure size 504x288 with 2 Axes>"
      ]
     },
     "metadata": {},
     "output_type": "display_data"
    },
    {
     "data": {
      "image/png": "[encoded data removed]",
      "text/plain": [
       "<Figure size 504x288 with 2 Axes>"
      ]
     },
     "metadata": {},
     "output_type": "display_data"
    },
    {
     "data": {
      "image/png": "[encoded data removed]",
      "text/plain": [
       "<Figure size 504x288 with 2 Axes>"
      ]
     },
     "metadata": {},
     "output_type": "display_data"
    },
    {
     "data": {
      "image/png": "[encoded data removed]",
      "text/plain": [
       "<Figure size 504x288 with 2 Axes>"
      ]
     },
     "metadata": {},
     "output_type": "display_data"
    },
    {
     "data": {
      "image/png": "[encoded data removed]",
      "text/plain": [
       "<Figure size 504x288 with 2 Axes>"
      ]
     },
     "metadata": {},
     "output_type": "display_data"
    },
    {
     "data": {
      "image/png": "[encoded data removed]",
      "text/plain": [
       "<Figure size 504x288 with 2 Axes>"
      ]
     },
     "metadata": {},
     "output_type": "display_data"
    },
    {
     "data": {
      "image/png": "[encoded data removed]",
      "text/plain": [
       "<Figure size 504x288 with 2 Axes>"
      ]
     },
     "metadata": {},
     "output_type": "display_data"
    },
    {
     "data": {
      "image/png": "[encoded data removed]",
      "text/plain": [
       "<Figure size 504x288 with 2 Axes>"
      ]
     },
     "metadata": {},
     "output_type": "display_data"
    },
    {
     "data": {
      "image/png": "[encoded data removed]",
      "text/plain": [
       "<Figure size 504x288 with 2 Axes>"
      ]
     },
     "metadata": {},
     "output_type": "display_data"
    },
    {
     "data": {
      "image/png": "[encoded data removed]",
      "text/plain": [
       "<Figure size 504x288 with 2 Axes>"
      ]
     },
     "metadata": {},
     "output_type": "display_data"
    },
    {
     "data": {
      "image/png": "[encoded data removed]",
      "text/plain": [
       "<Figure size 504x288 with 2 Axes>"
      ]
     },
     "metadata": {},
     "output_type": "display_data"
    },
    {
     "data": {
      "image/png": "[encoded data removed]",
      "text/plain": [
       "<Figure size 504x288 with 2 Axes>"
      ]
     },
     "metadata": {},
     "output_type": "display_data"
    },
    {
     "data": {
      "image/png": "[encoded data removed]",
      "text/plain": [
       "<Figure size 504x288 with 2 Axes>"
      ]
     },
     "metadata": {},
     "output_type": "display_data"
    }
   ],
   "source": [
    "for i in num_col:\n",
    "    plt.figure(figsize=(7,4))\n",
    "    plt.subplot(121)\n",
    "    sns.boxplot(data=data,x=i,color='r')\n",
    "    \n",
    "    \n",
    "    plt.subplot(122)\n",
    "    sns.boxplot(data=data_bal,x=i,color='r')"
   ]
  },
  {
   "cell_type": "markdown",
   "id": "3dcc0274",
   "metadata": {},
   "source": [
    "## Test train Split "
   ]
  },
  {
   "cell_type": "code",
   "execution_count": 105,
   "id": "136a1f1c",
   "metadata": {},
   "outputs": [],
   "source": [
    "from sklearn.model_selection import train_test_split\n",
    "X_train1,X_test1,y_train1,y_test1=train_test_split(X_bal,y_bal,test_size=0.30,random_state=16)"
   ]
  },
  {
   "cell_type": "code",
   "execution_count": 106,
   "id": "02f7bcbb",
   "metadata": {},
   "outputs": [
    {
     "data": {
      "text/html": [
       "<div>\n",
       "<style scoped>\n",
       "    .dataframe tbody tr th:only-of-type {\n",
       "        vertical-align: middle;\n",
       "    }\n",
       "\n",
       "    .dataframe tbody tr th {\n",
       "        vertical-align: top;\n",
       "    }\n",
       "\n",
       "    .dataframe thead th {\n",
       "        text-align: right;\n",
       "    }\n",
       "</style>\n",
       "<table border=\"1\" class=\"dataframe\">\n",
       "  <thead>\n",
       "    <tr style=\"text-align: right;\">\n",
       "      <th></th>\n",
       "      <th>day</th>\n",
       "      <th>month</th>\n",
       "      <th>year</th>\n",
       "      <th>Temperature</th>\n",
       "      <th>RH</th>\n",
       "      <th>Ws</th>\n",
       "      <th>Rain</th>\n",
       "      <th>FFMC</th>\n",
       "      <th>DMC</th>\n",
       "      <th>DC</th>\n",
       "      <th>ISI</th>\n",
       "      <th>BUI</th>\n",
       "      <th>FWI</th>\n",
       "      <th>region</th>\n",
       "    </tr>\n",
       "  </thead>\n",
       "  <tbody>\n",
       "    <tr>\n",
       "      <th>46</th>\n",
       "      <td>15</td>\n",
       "      <td>8</td>\n",
       "      <td>2012</td>\n",
       "      <td>35</td>\n",
       "      <td>46</td>\n",
       "      <td>13</td>\n",
       "      <td>0.300000</td>\n",
       "      <td>83.900000</td>\n",
       "      <td>16.900000</td>\n",
       "      <td>54.200000</td>\n",
       "      <td>3.500000</td>\n",
       "      <td>19.000000</td>\n",
       "      <td>5.500000</td>\n",
       "      <td>1</td>\n",
       "    </tr>\n",
       "    <tr>\n",
       "      <th>7</th>\n",
       "      <td>21</td>\n",
       "      <td>8</td>\n",
       "      <td>2012</td>\n",
       "      <td>36</td>\n",
       "      <td>58</td>\n",
       "      <td>19</td>\n",
       "      <td>0.000000</td>\n",
       "      <td>88.600000</td>\n",
       "      <td>29.600000</td>\n",
       "      <td>141.100000</td>\n",
       "      <td>9.200000</td>\n",
       "      <td>38.800000</td>\n",
       "      <td>18.400000</td>\n",
       "      <td>0</td>\n",
       "    </tr>\n",
       "    <tr>\n",
       "      <th>246</th>\n",
       "      <td>6</td>\n",
       "      <td>7</td>\n",
       "      <td>2012</td>\n",
       "      <td>30</td>\n",
       "      <td>70</td>\n",
       "      <td>14</td>\n",
       "      <td>0.858817</td>\n",
       "      <td>72.630324</td>\n",
       "      <td>6.424355</td>\n",
       "      <td>15.037045</td>\n",
       "      <td>1.950430</td>\n",
       "      <td>6.858817</td>\n",
       "      <td>1.334463</td>\n",
       "      <td>0</td>\n",
       "    </tr>\n",
       "    <tr>\n",
       "      <th>403</th>\n",
       "      <td>8</td>\n",
       "      <td>7</td>\n",
       "      <td>2012</td>\n",
       "      <td>31</td>\n",
       "      <td>68</td>\n",
       "      <td>14</td>\n",
       "      <td>1.276085</td>\n",
       "      <td>66.771574</td>\n",
       "      <td>7.147149</td>\n",
       "      <td>9.819574</td>\n",
       "      <td>1.128596</td>\n",
       "      <td>6.971064</td>\n",
       "      <td>0.590468</td>\n",
       "      <td>0</td>\n",
       "    </tr>\n",
       "    <tr>\n",
       "      <th>350</th>\n",
       "      <td>9</td>\n",
       "      <td>6</td>\n",
       "      <td>2012</td>\n",
       "      <td>31</td>\n",
       "      <td>69</td>\n",
       "      <td>14</td>\n",
       "      <td>1.340744</td>\n",
       "      <td>65.462275</td>\n",
       "      <td>7.492602</td>\n",
       "      <td>9.128892</td>\n",
       "      <td>1.046669</td>\n",
       "      <td>7.204454</td>\n",
       "      <td>0.570372</td>\n",
       "      <td>0</td>\n",
       "    </tr>\n",
       "    <tr>\n",
       "      <th>...</th>\n",
       "      <td>...</td>\n",
       "      <td>...</td>\n",
       "      <td>...</td>\n",
       "      <td>...</td>\n",
       "      <td>...</td>\n",
       "      <td>...</td>\n",
       "      <td>...</td>\n",
       "      <td>...</td>\n",
       "      <td>...</td>\n",
       "      <td>...</td>\n",
       "      <td>...</td>\n",
       "      <td>...</td>\n",
       "      <td>...</td>\n",
       "      <td>...</td>\n",
       "    </tr>\n",
       "    <tr>\n",
       "      <th>321</th>\n",
       "      <td>23</td>\n",
       "      <td>7</td>\n",
       "      <td>2012</td>\n",
       "      <td>32</td>\n",
       "      <td>62</td>\n",
       "      <td>18</td>\n",
       "      <td>0.000000</td>\n",
       "      <td>85.526423</td>\n",
       "      <td>14.303563</td>\n",
       "      <td>94.038546</td>\n",
       "      <td>5.978328</td>\n",
       "      <td>20.664275</td>\n",
       "      <td>9.416180</td>\n",
       "      <td>0</td>\n",
       "    </tr>\n",
       "    <tr>\n",
       "      <th>69</th>\n",
       "      <td>15</td>\n",
       "      <td>6</td>\n",
       "      <td>2012</td>\n",
       "      <td>28</td>\n",
       "      <td>90</td>\n",
       "      <td>15</td>\n",
       "      <td>0.000000</td>\n",
       "      <td>66.800000</td>\n",
       "      <td>7.200000</td>\n",
       "      <td>14.700000</td>\n",
       "      <td>1.200000</td>\n",
       "      <td>7.100000</td>\n",
       "      <td>0.600000</td>\n",
       "      <td>1</td>\n",
       "    </tr>\n",
       "    <tr>\n",
       "      <th>121</th>\n",
       "      <td>14</td>\n",
       "      <td>7</td>\n",
       "      <td>2012</td>\n",
       "      <td>34</td>\n",
       "      <td>61</td>\n",
       "      <td>13</td>\n",
       "      <td>0.600000</td>\n",
       "      <td>73.900000</td>\n",
       "      <td>7.800000</td>\n",
       "      <td>22.900000</td>\n",
       "      <td>1.400000</td>\n",
       "      <td>8.400000</td>\n",
       "      <td>0.800000</td>\n",
       "      <td>0</td>\n",
       "    </tr>\n",
       "    <tr>\n",
       "      <th>238</th>\n",
       "      <td>18</td>\n",
       "      <td>8</td>\n",
       "      <td>2012</td>\n",
       "      <td>35</td>\n",
       "      <td>56</td>\n",
       "      <td>18</td>\n",
       "      <td>0.000000</td>\n",
       "      <td>89.181924</td>\n",
       "      <td>21.169680</td>\n",
       "      <td>114.805542</td>\n",
       "      <td>9.521574</td>\n",
       "      <td>28.927406</td>\n",
       "      <td>16.238776</td>\n",
       "      <td>0</td>\n",
       "    </tr>\n",
       "    <tr>\n",
       "      <th>169</th>\n",
       "      <td>27</td>\n",
       "      <td>7</td>\n",
       "      <td>2012</td>\n",
       "      <td>36</td>\n",
       "      <td>48</td>\n",
       "      <td>13</td>\n",
       "      <td>0.000000</td>\n",
       "      <td>90.300000</td>\n",
       "      <td>22.200000</td>\n",
       "      <td>108.500000</td>\n",
       "      <td>8.700000</td>\n",
       "      <td>29.400000</td>\n",
       "      <td>15.300000</td>\n",
       "      <td>0</td>\n",
       "    </tr>\n",
       "  </tbody>\n",
       "</table>\n",
       "<p>291 rows × 14 columns</p>\n",
       "</div>"
      ],
      "text/plain": [
       "     day  month  year  Temperature  RH  Ws      Rain       FFMC        DMC  \\\n",
       "46    15      8  2012           35  46  13  0.300000  83.900000  16.900000   \n",
       "7     21      8  2012           36  58  19  0.000000  88.600000  29.600000   \n",
       "246    6      7  2012           30  70  14  0.858817  72.630324   6.424355   \n",
       "403    8      7  2012           31  68  14  1.276085  66.771574   7.147149   \n",
       "350    9      6  2012           31  69  14  1.340744  65.462275   7.492602   \n",
       "..   ...    ...   ...          ...  ..  ..       ...        ...        ...   \n",
       "321   23      7  2012           32  62  18  0.000000  85.526423  14.303563   \n",
       "69    15      6  2012           28  90  15  0.000000  66.800000   7.200000   \n",
       "121   14      7  2012           34  61  13  0.600000  73.900000   7.800000   \n",
       "238   18      8  2012           35  56  18  0.000000  89.181924  21.169680   \n",
       "169   27      7  2012           36  48  13  0.000000  90.300000  22.200000   \n",
       "\n",
       "             DC       ISI        BUI        FWI  region  \n",
       "46    54.200000  3.500000  19.000000   5.500000       1  \n",
       "7    141.100000  9.200000  38.800000  18.400000       0  \n",
       "246   15.037045  1.950430   6.858817   1.334463       0  \n",
       "403    9.819574  1.128596   6.971064   0.590468       0  \n",
       "350    9.128892  1.046669   7.204454   0.570372       0  \n",
       "..          ...       ...        ...        ...     ...  \n",
       "321   94.038546  5.978328  20.664275   9.416180       0  \n",
       "69    14.700000  1.200000   7.100000   0.600000       1  \n",
       "121   22.900000  1.400000   8.400000   0.800000       0  \n",
       "238  114.805542  9.521574  28.927406  16.238776       0  \n",
       "169  108.500000  8.700000  29.400000  15.300000       0  \n",
       "\n",
       "[291 rows x 14 columns]"
      ]
     },
     "execution_count": 106,
     "metadata": {},
     "output_type": "execute_result"
    }
   ],
   "source": [
    "X_train1"
   ]
  },
  {
   "cell_type": "code",
   "execution_count": 107,
   "id": "394f1d87",
   "metadata": {},
   "outputs": [
    {
     "data": {
      "text/html": [
       "<div>\n",
       "<style scoped>\n",
       "    .dataframe tbody tr th:only-of-type {\n",
       "        vertical-align: middle;\n",
       "    }\n",
       "\n",
       "    .dataframe tbody tr th {\n",
       "        vertical-align: top;\n",
       "    }\n",
       "\n",
       "    .dataframe thead th {\n",
       "        text-align: right;\n",
       "    }\n",
       "</style>\n",
       "<table border=\"1\" class=\"dataframe\">\n",
       "  <thead>\n",
       "    <tr style=\"text-align: right;\">\n",
       "      <th></th>\n",
       "      <th>day</th>\n",
       "      <th>month</th>\n",
       "      <th>year</th>\n",
       "      <th>Temperature</th>\n",
       "      <th>RH</th>\n",
       "      <th>Ws</th>\n",
       "      <th>Rain</th>\n",
       "      <th>FFMC</th>\n",
       "      <th>DMC</th>\n",
       "      <th>DC</th>\n",
       "      <th>ISI</th>\n",
       "      <th>BUI</th>\n",
       "      <th>FWI</th>\n",
       "      <th>region</th>\n",
       "    </tr>\n",
       "  </thead>\n",
       "  <tbody>\n",
       "    <tr>\n",
       "      <th>307</th>\n",
       "      <td>4</td>\n",
       "      <td>8</td>\n",
       "      <td>2012</td>\n",
       "      <td>31</td>\n",
       "      <td>71</td>\n",
       "      <td>15</td>\n",
       "      <td>0.056344</td>\n",
       "      <td>75.646935</td>\n",
       "      <td>4.650343</td>\n",
       "      <td>17.489906</td>\n",
       "      <td>2.535062</td>\n",
       "      <td>5.213781</td>\n",
       "      <td>1.984312</td>\n",
       "      <td>0</td>\n",
       "    </tr>\n",
       "    <tr>\n",
       "      <th>310</th>\n",
       "      <td>8</td>\n",
       "      <td>7</td>\n",
       "      <td>2012</td>\n",
       "      <td>32</td>\n",
       "      <td>68</td>\n",
       "      <td>13</td>\n",
       "      <td>1.174137</td>\n",
       "      <td>69.568488</td>\n",
       "      <td>7.780665</td>\n",
       "      <td>10.910107</td>\n",
       "      <td>1.567860</td>\n",
       "      <td>7.529065</td>\n",
       "      <td>1.132392</td>\n",
       "      <td>0</td>\n",
       "    </tr>\n",
       "    <tr>\n",
       "      <th>412</th>\n",
       "      <td>3</td>\n",
       "      <td>9</td>\n",
       "      <td>2012</td>\n",
       "      <td>28</td>\n",
       "      <td>73</td>\n",
       "      <td>16</td>\n",
       "      <td>0.053488</td>\n",
       "      <td>74.818676</td>\n",
       "      <td>3.062804</td>\n",
       "      <td>19.700044</td>\n",
       "      <td>2.283731</td>\n",
       "      <td>4.341876</td>\n",
       "      <td>1.430243</td>\n",
       "      <td>0</td>\n",
       "    </tr>\n",
       "    <tr>\n",
       "      <th>163</th>\n",
       "      <td>24</td>\n",
       "      <td>8</td>\n",
       "      <td>2012</td>\n",
       "      <td>35</td>\n",
       "      <td>38</td>\n",
       "      <td>15</td>\n",
       "      <td>0.000000</td>\n",
       "      <td>92.100000</td>\n",
       "      <td>51.300000</td>\n",
       "      <td>147.700000</td>\n",
       "      <td>12.200000</td>\n",
       "      <td>54.900000</td>\n",
       "      <td>26.900000</td>\n",
       "      <td>1</td>\n",
       "    </tr>\n",
       "    <tr>\n",
       "      <th>178</th>\n",
       "      <td>3</td>\n",
       "      <td>7</td>\n",
       "      <td>2012</td>\n",
       "      <td>32</td>\n",
       "      <td>76</td>\n",
       "      <td>20</td>\n",
       "      <td>0.700000</td>\n",
       "      <td>63.100000</td>\n",
       "      <td>2.600000</td>\n",
       "      <td>9.200000</td>\n",
       "      <td>1.300000</td>\n",
       "      <td>3.000000</td>\n",
       "      <td>0.500000</td>\n",
       "      <td>0</td>\n",
       "    </tr>\n",
       "    <tr>\n",
       "      <th>...</th>\n",
       "      <td>...</td>\n",
       "      <td>...</td>\n",
       "      <td>...</td>\n",
       "      <td>...</td>\n",
       "      <td>...</td>\n",
       "      <td>...</td>\n",
       "      <td>...</td>\n",
       "      <td>...</td>\n",
       "      <td>...</td>\n",
       "      <td>...</td>\n",
       "      <td>...</td>\n",
       "      <td>...</td>\n",
       "      <td>...</td>\n",
       "      <td>...</td>\n",
       "    </tr>\n",
       "    <tr>\n",
       "      <th>320</th>\n",
       "      <td>20</td>\n",
       "      <td>8</td>\n",
       "      <td>2012</td>\n",
       "      <td>35</td>\n",
       "      <td>61</td>\n",
       "      <td>18</td>\n",
       "      <td>0.000000</td>\n",
       "      <td>88.209272</td>\n",
       "      <td>27.144370</td>\n",
       "      <td>134.529342</td>\n",
       "      <td>8.297587</td>\n",
       "      <td>35.914480</td>\n",
       "      <td>15.332642</td>\n",
       "      <td>0</td>\n",
       "    </tr>\n",
       "    <tr>\n",
       "      <th>199</th>\n",
       "      <td>2</td>\n",
       "      <td>7</td>\n",
       "      <td>2012</td>\n",
       "      <td>27</td>\n",
       "      <td>75</td>\n",
       "      <td>19</td>\n",
       "      <td>1.200000</td>\n",
       "      <td>55.700000</td>\n",
       "      <td>2.400000</td>\n",
       "      <td>8.300000</td>\n",
       "      <td>0.800000</td>\n",
       "      <td>2.800000</td>\n",
       "      <td>0.300000</td>\n",
       "      <td>0</td>\n",
       "    </tr>\n",
       "    <tr>\n",
       "      <th>12</th>\n",
       "      <td>5</td>\n",
       "      <td>6</td>\n",
       "      <td>2012</td>\n",
       "      <td>32</td>\n",
       "      <td>60</td>\n",
       "      <td>14</td>\n",
       "      <td>0.200000</td>\n",
       "      <td>77.100000</td>\n",
       "      <td>6.000000</td>\n",
       "      <td>17.600000</td>\n",
       "      <td>1.800000</td>\n",
       "      <td>6.500000</td>\n",
       "      <td>0.900000</td>\n",
       "      <td>1</td>\n",
       "    </tr>\n",
       "    <tr>\n",
       "      <th>339</th>\n",
       "      <td>20</td>\n",
       "      <td>7</td>\n",
       "      <td>2012</td>\n",
       "      <td>34</td>\n",
       "      <td>59</td>\n",
       "      <td>17</td>\n",
       "      <td>0.257611</td>\n",
       "      <td>84.516862</td>\n",
       "      <td>14.084309</td>\n",
       "      <td>53.689930</td>\n",
       "      <td>6.271429</td>\n",
       "      <td>19.019672</td>\n",
       "      <td>8.932787</td>\n",
       "      <td>0</td>\n",
       "    </tr>\n",
       "    <tr>\n",
       "      <th>133</th>\n",
       "      <td>11</td>\n",
       "      <td>9</td>\n",
       "      <td>2012</td>\n",
       "      <td>30</td>\n",
       "      <td>73</td>\n",
       "      <td>14</td>\n",
       "      <td>0.000000</td>\n",
       "      <td>79.200000</td>\n",
       "      <td>6.500000</td>\n",
       "      <td>16.600000</td>\n",
       "      <td>2.100000</td>\n",
       "      <td>6.600000</td>\n",
       "      <td>1.200000</td>\n",
       "      <td>1</td>\n",
       "    </tr>\n",
       "  </tbody>\n",
       "</table>\n",
       "<p>125 rows × 14 columns</p>\n",
       "</div>"
      ],
      "text/plain": [
       "     day  month  year  Temperature  RH  Ws      Rain       FFMC        DMC  \\\n",
       "307    4      8  2012           31  71  15  0.056344  75.646935   4.650343   \n",
       "310    8      7  2012           32  68  13  1.174137  69.568488   7.780665   \n",
       "412    3      9  2012           28  73  16  0.053488  74.818676   3.062804   \n",
       "163   24      8  2012           35  38  15  0.000000  92.100000  51.300000   \n",
       "178    3      7  2012           32  76  20  0.700000  63.100000   2.600000   \n",
       "..   ...    ...   ...          ...  ..  ..       ...        ...        ...   \n",
       "320   20      8  2012           35  61  18  0.000000  88.209272  27.144370   \n",
       "199    2      7  2012           27  75  19  1.200000  55.700000   2.400000   \n",
       "12     5      6  2012           32  60  14  0.200000  77.100000   6.000000   \n",
       "339   20      7  2012           34  59  17  0.257611  84.516862  14.084309   \n",
       "133   11      9  2012           30  73  14  0.000000  79.200000   6.500000   \n",
       "\n",
       "             DC        ISI        BUI        FWI  region  \n",
       "307   17.489906   2.535062   5.213781   1.984312       0  \n",
       "310   10.910107   1.567860   7.529065   1.132392       0  \n",
       "412   19.700044   2.283731   4.341876   1.430243       0  \n",
       "163  147.700000  12.200000  54.900000  26.900000       1  \n",
       "178    9.200000   1.300000   3.000000   0.500000       0  \n",
       "..          ...        ...        ...        ...     ...  \n",
       "320  134.529342   8.297587  35.914480  15.332642       0  \n",
       "199    8.300000   0.800000   2.800000   0.300000       0  \n",
       "12    17.600000   1.800000   6.500000   0.900000       1  \n",
       "339   53.689930   6.271429  19.019672   8.932787       0  \n",
       "133   16.600000   2.100000   6.600000   1.200000       1  \n",
       "\n",
       "[125 rows x 14 columns]"
      ]
     },
     "execution_count": 107,
     "metadata": {},
     "output_type": "execute_result"
    }
   ],
   "source": [
    "X_test1"
   ]
  },
  {
   "cell_type": "code",
   "execution_count": 108,
   "id": "53564784",
   "metadata": {},
   "outputs": [
    {
     "data": {
      "text/plain": [
       "46     1\n",
       "7      1\n",
       "246    0\n",
       "403    0\n",
       "350    0\n",
       "      ..\n",
       "321    0\n",
       "69     1\n",
       "121    1\n",
       "238    0\n",
       "169    1\n",
       "Name: Classes, Length: 291, dtype: int32"
      ]
     },
     "execution_count": 108,
     "metadata": {},
     "output_type": "execute_result"
    }
   ],
   "source": [
    "y_train1"
   ]
  },
  {
   "cell_type": "code",
   "execution_count": 109,
   "id": "4b49cc62",
   "metadata": {},
   "outputs": [
    {
     "data": {
      "text/plain": [
       "307    0\n",
       "310    0\n",
       "412    0\n",
       "163    1\n",
       "178    1\n",
       "      ..\n",
       "320    0\n",
       "199    1\n",
       "12     1\n",
       "339    0\n",
       "133    1\n",
       "Name: Classes, Length: 125, dtype: int32"
      ]
     },
     "execution_count": 109,
     "metadata": {},
     "output_type": "execute_result"
    }
   ],
   "source": [
    "y_test1"
   ]
  },
  {
   "cell_type": "markdown",
   "id": "92848ba6",
   "metadata": {},
   "source": [
    "## Logistic Regression Model "
   ]
  },
  {
   "cell_type": "code",
   "execution_count": 110,
   "id": "363e270a",
   "metadata": {},
   "outputs": [
    {
     "data": {
      "text/html": [
       "<style>#sk-container-id-3 {color: black;background-color: white;}#sk-container-id-3 pre{padding: 0;}#sk-container-id-3 div.sk-toggleable {background-color: white;}#sk-container-id-3 label.sk-toggleable__label {cursor: pointer;display: block;width: 100%;margin-bottom: 0;padding: 0.3em;box-sizing: border-box;text-align: center;}#sk-container-id-3 label.sk-toggleable__label-arrow:before {content: \"▸\";float: left;margin-right: 0.25em;color: #696969;}#sk-container-id-3 label.sk-toggleable__label-arrow:hover:before {color: black;}#sk-container-id-3 div.sk-estimator:hover label.sk-toggleable__label-arrow:before {color: black;}#sk-container-id-3 div.sk-toggleable__content {max-height: 0;max-width: 0;overflow: hidden;text-align: left;background-color: #f0f8ff;}#sk-container-id-3 div.sk-toggleable__content pre {margin: 0.2em;color: black;border-radius: 0.25em;background-color: #f0f8ff;}#sk-container-id-3 input.sk-toggleable__control:checked~div.sk-toggleable__content {max-height: 200px;max-width: 100%;overflow: auto;}#sk-container-id-3 input.sk-toggleable__control:checked~label.sk-toggleable__label-arrow:before {content: \"▾\";}#sk-container-id-3 div.sk-estimator input.sk-toggleable__control:checked~label.sk-toggleable__label {background-color: #d4ebff;}#sk-container-id-3 div.sk-label input.sk-toggleable__control:checked~label.sk-toggleable__label {background-color: #d4ebff;}#sk-container-id-3 input.sk-hidden--visually {border: 0;clip: rect(1px 1px 1px 1px);clip: rect(1px, 1px, 1px, 1px);height: 1px;margin: -1px;overflow: hidden;padding: 0;position: absolute;width: 1px;}#sk-container-id-3 div.sk-estimator {font-family: monospace;background-color: #f0f8ff;border: 1px dotted black;border-radius: 0.25em;box-sizing: border-box;margin-bottom: 0.5em;}#sk-container-id-3 div.sk-estimator:hover {background-color: #d4ebff;}#sk-container-id-3 div.sk-parallel-item::after {content: \"\";width: 100%;border-bottom: 1px solid gray;flex-grow: 1;}#sk-container-id-3 div.sk-label:hover label.sk-toggleable__label {background-color: #d4ebff;}#sk-container-id-3 div.sk-serial::before {content: \"\";position: absolute;border-left: 1px solid gray;box-sizing: border-box;top: 0;bottom: 0;left: 50%;z-index: 0;}#sk-container-id-3 div.sk-serial {display: flex;flex-direction: column;align-items: center;background-color: white;padding-right: 0.2em;padding-left: 0.2em;position: relative;}#sk-container-id-3 div.sk-item {position: relative;z-index: 1;}#sk-container-id-3 div.sk-parallel {display: flex;align-items: stretch;justify-content: center;background-color: white;position: relative;}#sk-container-id-3 div.sk-item::before, #sk-container-id-3 div.sk-parallel-item::before {content: \"\";position: absolute;border-left: 1px solid gray;box-sizing: border-box;top: 0;bottom: 0;left: 50%;z-index: -1;}#sk-container-id-3 div.sk-parallel-item {display: flex;flex-direction: column;z-index: 1;position: relative;background-color: white;}#sk-container-id-3 div.sk-parallel-item:first-child::after {align-self: flex-end;width: 50%;}#sk-container-id-3 div.sk-parallel-item:last-child::after {align-self: flex-start;width: 50%;}#sk-container-id-3 div.sk-parallel-item:only-child::after {width: 0;}#sk-container-id-3 div.sk-dashed-wrapped {border: 1px dashed gray;margin: 0 0.4em 0.5em 0.4em;box-sizing: border-box;padding-bottom: 0.4em;background-color: white;}#sk-container-id-3 div.sk-label label {font-family: monospace;font-weight: bold;display: inline-block;line-height: 1.2em;}#sk-container-id-3 div.sk-label-container {text-align: center;}#sk-container-id-3 div.sk-container {/* jupyter's `normalize.less` sets `[hidden] { display: none; }` but bootstrap.min.css set `[hidden] { display: none !important; }` so we also need the `!important` here to be able to override the default hidden behavior on the sphinx rendered scikit-learn.org. See: https://github.com/scikit-learn/scikit-learn/issues/21755 */display: inline-block !important;position: relative;}#sk-container-id-3 div.sk-text-repr-fallback {display: none;}</style><div id=\"sk-container-id-3\" class=\"sk-top-container\"><div class=\"sk-text-repr-fallback\"><pre>LogisticRegression()</pre><b>In a Jupyter environment, please rerun this cell to show the HTML representation or trust the notebook. <br />On GitHub, the HTML representation is unable to render, please try loading this page with nbviewer.org.</b></div><div class=\"sk-container\" hidden><div class=\"sk-item\"><div class=\"sk-estimator sk-toggleable\"><input class=\"sk-toggleable__control sk-hidden--visually\" id=\"sk-estimator-id-5\" type=\"checkbox\" checked><label for=\"sk-estimator-id-5\" class=\"sk-toggleable__label sk-toggleable__label-arrow\">LogisticRegression</label><div class=\"sk-toggleable__content\"><pre>LogisticRegression()</pre></div></div></div></div></div>"
      ],
      "text/plain": [
       "LogisticRegression()"
      ]
     },
     "execution_count": 110,
     "metadata": {},
     "output_type": "execute_result"
    }
   ],
   "source": [
    "from sklearn.linear_model import LogisticRegression\n",
    "classifier_bal=LogisticRegression()\n",
    "classifier_bal"
   ]
  },
  {
   "cell_type": "code",
   "execution_count": 111,
   "id": "65ccec40",
   "metadata": {},
   "outputs": [],
   "source": [
    "from sklearn.model_selection import GridSearchCV\n",
    "parameter_bal={'penalty':['l1','l2','elasticnet'],'C':[1,2,3,4,5,6,10,20,30,40,50],'max_iter':[100,200,300]}"
   ]
  },
  {
   "cell_type": "code",
   "execution_count": 112,
   "id": "fda17fa3",
   "metadata": {},
   "outputs": [],
   "source": [
    "classifier_regressor_bal=GridSearchCV(classifier,param_grid=parameter,scoring='accuracy',cv=5)"
   ]
  },
  {
   "cell_type": "markdown",
   "id": "b1fdb0b8",
   "metadata": {},
   "source": [
    "## Standarizing or Feature Scaling "
   ]
  },
  {
   "cell_type": "code",
   "execution_count": 113,
   "id": "0f298820",
   "metadata": {},
   "outputs": [
    {
     "data": {
      "text/html": [
       "<style>#sk-container-id-4 {color: black;background-color: white;}#sk-container-id-4 pre{padding: 0;}#sk-container-id-4 div.sk-toggleable {background-color: white;}#sk-container-id-4 label.sk-toggleable__label {cursor: pointer;display: block;width: 100%;margin-bottom: 0;padding: 0.3em;box-sizing: border-box;text-align: center;}#sk-container-id-4 label.sk-toggleable__label-arrow:before {content: \"▸\";float: left;margin-right: 0.25em;color: #696969;}#sk-container-id-4 label.sk-toggleable__label-arrow:hover:before {color: black;}#sk-container-id-4 div.sk-estimator:hover label.sk-toggleable__label-arrow:before {color: black;}#sk-container-id-4 div.sk-toggleable__content {max-height: 0;max-width: 0;overflow: hidden;text-align: left;background-color: #f0f8ff;}#sk-container-id-4 div.sk-toggleable__content pre {margin: 0.2em;color: black;border-radius: 0.25em;background-color: #f0f8ff;}#sk-container-id-4 input.sk-toggleable__control:checked~div.sk-toggleable__content {max-height: 200px;max-width: 100%;overflow: auto;}#sk-container-id-4 input.sk-toggleable__control:checked~label.sk-toggleable__label-arrow:before {content: \"▾\";}#sk-container-id-4 div.sk-estimator input.sk-toggleable__control:checked~label.sk-toggleable__label {background-color: #d4ebff;}#sk-container-id-4 div.sk-label input.sk-toggleable__control:checked~label.sk-toggleable__label {background-color: #d4ebff;}#sk-container-id-4 input.sk-hidden--visually {border: 0;clip: rect(1px 1px 1px 1px);clip: rect(1px, 1px, 1px, 1px);height: 1px;margin: -1px;overflow: hidden;padding: 0;position: absolute;width: 1px;}#sk-container-id-4 div.sk-estimator {font-family: monospace;background-color: #f0f8ff;border: 1px dotted black;border-radius: 0.25em;box-sizing: border-box;margin-bottom: 0.5em;}#sk-container-id-4 div.sk-estimator:hover {background-color: #d4ebff;}#sk-container-id-4 div.sk-parallel-item::after {content: \"\";width: 100%;border-bottom: 1px solid gray;flex-grow: 1;}#sk-container-id-4 div.sk-label:hover label.sk-toggleable__label {background-color: #d4ebff;}#sk-container-id-4 div.sk-serial::before {content: \"\";position: absolute;border-left: 1px solid gray;box-sizing: border-box;top: 0;bottom: 0;left: 50%;z-index: 0;}#sk-container-id-4 div.sk-serial {display: flex;flex-direction: column;align-items: center;background-color: white;padding-right: 0.2em;padding-left: 0.2em;position: relative;}#sk-container-id-4 div.sk-item {position: relative;z-index: 1;}#sk-container-id-4 div.sk-parallel {display: flex;align-items: stretch;justify-content: center;background-color: white;position: relative;}#sk-container-id-4 div.sk-item::before, #sk-container-id-4 div.sk-parallel-item::before {content: \"\";position: absolute;border-left: 1px solid gray;box-sizing: border-box;top: 0;bottom: 0;left: 50%;z-index: -1;}#sk-container-id-4 div.sk-parallel-item {display: flex;flex-direction: column;z-index: 1;position: relative;background-color: white;}#sk-container-id-4 div.sk-parallel-item:first-child::after {align-self: flex-end;width: 50%;}#sk-container-id-4 div.sk-parallel-item:last-child::after {align-self: flex-start;width: 50%;}#sk-container-id-4 div.sk-parallel-item:only-child::after {width: 0;}#sk-container-id-4 div.sk-dashed-wrapped {border: 1px dashed gray;margin: 0 0.4em 0.5em 0.4em;box-sizing: border-box;padding-bottom: 0.4em;background-color: white;}#sk-container-id-4 div.sk-label label {font-family: monospace;font-weight: bold;display: inline-block;line-height: 1.2em;}#sk-container-id-4 div.sk-label-container {text-align: center;}#sk-container-id-4 div.sk-container {/* jupyter's `normalize.less` sets `[hidden] { display: none; }` but bootstrap.min.css set `[hidden] { display: none !important; }` so we also need the `!important` here to be able to override the default hidden behavior on the sphinx rendered scikit-learn.org. See: https://github.com/scikit-learn/scikit-learn/issues/21755 */display: inline-block !important;position: relative;}#sk-container-id-4 div.sk-text-repr-fallback {display: none;}</style><div id=\"sk-container-id-4\" class=\"sk-top-container\"><div class=\"sk-text-repr-fallback\"><pre>GridSearchCV(cv=5, estimator=LogisticRegression(),\n",
       "             param_grid={&#x27;C&#x27;: [1, 2, 3, 4, 5, 6, 10, 20, 30, 40, 50],\n",
       "                         &#x27;max_iter&#x27;: [100, 200, 300],\n",
       "                         &#x27;penalty&#x27;: [&#x27;l1&#x27;, &#x27;l2&#x27;, &#x27;elasticnet&#x27;]},\n",
       "             scoring=&#x27;accuracy&#x27;)</pre><b>In a Jupyter environment, please rerun this cell to show the HTML representation or trust the notebook. <br />On GitHub, the HTML representation is unable to render, please try loading this page with nbviewer.org.</b></div><div class=\"sk-container\" hidden><div class=\"sk-item sk-dashed-wrapped\"><div class=\"sk-label-container\"><div class=\"sk-label sk-toggleable\"><input class=\"sk-toggleable__control sk-hidden--visually\" id=\"sk-estimator-id-6\" type=\"checkbox\" ><label for=\"sk-estimator-id-6\" class=\"sk-toggleable__label sk-toggleable__label-arrow\">GridSearchCV</label><div class=\"sk-toggleable__content\"><pre>GridSearchCV(cv=5, estimator=LogisticRegression(),\n",
       "             param_grid={&#x27;C&#x27;: [1, 2, 3, 4, 5, 6, 10, 20, 30, 40, 50],\n",
       "                         &#x27;max_iter&#x27;: [100, 200, 300],\n",
       "                         &#x27;penalty&#x27;: [&#x27;l1&#x27;, &#x27;l2&#x27;, &#x27;elasticnet&#x27;]},\n",
       "             scoring=&#x27;accuracy&#x27;)</pre></div></div></div><div class=\"sk-parallel\"><div class=\"sk-parallel-item\"><div class=\"sk-item\"><div class=\"sk-label-container\"><div class=\"sk-label sk-toggleable\"><input class=\"sk-toggleable__control sk-hidden--visually\" id=\"sk-estimator-id-7\" type=\"checkbox\" ><label for=\"sk-estimator-id-7\" class=\"sk-toggleable__label sk-toggleable__label-arrow\">estimator: LogisticRegression</label><div class=\"sk-toggleable__content\"><pre>LogisticRegression()</pre></div></div></div><div class=\"sk-serial\"><div class=\"sk-item\"><div class=\"sk-estimator sk-toggleable\"><input class=\"sk-toggleable__control sk-hidden--visually\" id=\"sk-estimator-id-8\" type=\"checkbox\" ><label for=\"sk-estimator-id-8\" class=\"sk-toggleable__label sk-toggleable__label-arrow\">LogisticRegression</label><div class=\"sk-toggleable__content\"><pre>LogisticRegression()</pre></div></div></div></div></div></div></div></div></div></div>"
      ],
      "text/plain": [
       "GridSearchCV(cv=5, estimator=LogisticRegression(),\n",
       "             param_grid={'C': [1, 2, 3, 4, 5, 6, 10, 20, 30, 40, 50],\n",
       "                         'max_iter': [100, 200, 300],\n",
       "                         'penalty': ['l1', 'l2', 'elasticnet']},\n",
       "             scoring='accuracy')"
      ]
     },
     "execution_count": 113,
     "metadata": {},
     "output_type": "execute_result"
    }
   ],
   "source": [
    "classifier_regressor_bal.fit(X_train1,y_train1)"
   ]
  },
  {
   "cell_type": "code",
   "execution_count": 114,
   "id": "1912e648",
   "metadata": {},
   "outputs": [
    {
     "name": "stdout",
     "output_type": "stream",
     "text": [
      "{'C': 1, 'max_iter': 300, 'penalty': 'l2'}\n"
     ]
    }
   ],
   "source": [
    "print(classifier_regressor_bal.best_params_)"
   ]
  },
  {
   "cell_type": "code",
   "execution_count": 115,
   "id": "ea1e7c8d",
   "metadata": {},
   "outputs": [
    {
     "name": "stdout",
     "output_type": "stream",
     "text": [
      "0.7489772063120983\n"
     ]
    }
   ],
   "source": [
    "print(classifier_regressor_bal.best_score_)"
   ]
  },
  {
   "cell_type": "markdown",
   "id": "1ec77f8c",
   "metadata": {},
   "source": [
    "## Prediction "
   ]
  },
  {
   "cell_type": "code",
   "execution_count": 116,
   "id": "40f79cf5",
   "metadata": {},
   "outputs": [],
   "source": [
    "y_bal_pred = classifier_regressor_bal.predict(X_test1)"
   ]
  },
  {
   "cell_type": "code",
   "execution_count": 117,
   "id": "1b529f33",
   "metadata": {},
   "outputs": [
    {
     "data": {
      "text/plain": [
       "array([0, 0, 0, 1, 0, 1, 0, 0, 1, 1, 1, 1, 0, 0, 0, 0, 0, 1, 1, 0, 0, 1,\n",
       "       0, 0, 1, 1, 0, 0, 0, 1, 0, 1, 0, 1, 0, 1, 0, 1, 1, 0, 1, 0, 1, 1,\n",
       "       0, 0, 1, 0, 0, 0, 1, 0, 0, 0, 1, 1, 0, 1, 0, 0, 1, 0, 0, 1, 1, 0,\n",
       "       0, 1, 1, 1, 0, 0, 0, 0, 1, 0, 0, 0, 1, 1, 1, 0, 0, 1, 1, 1, 0, 1,\n",
       "       1, 0, 1, 0, 1, 1, 0, 1, 1, 0, 1, 1, 0, 0, 0, 1, 0, 1, 1, 1, 0, 0,\n",
       "       0, 1, 0, 0, 0, 1, 1, 1, 1, 1, 0, 0, 1, 0, 1])"
      ]
     },
     "execution_count": 117,
     "metadata": {},
     "output_type": "execute_result"
    }
   ],
   "source": [
    "y_bal_pred"
   ]
  },
  {
   "cell_type": "markdown",
   "id": "0f3ea234",
   "metadata": {},
   "source": [
    "## Acurracy "
   ]
  },
  {
   "cell_type": "code",
   "execution_count": 118,
   "id": "6c844b5d",
   "metadata": {},
   "outputs": [
    {
     "name": "stdout",
     "output_type": "stream",
     "text": [
      "0.704\n"
     ]
    }
   ],
   "source": [
    "\n",
    "from sklearn.metrics import accuracy_score,classification_report\n",
    "bal_score=accuracy_score(y_bal_pred,y_test1)\n",
    "print(bal_score)"
   ]
  },
  {
   "cell_type": "markdown",
   "id": "681c4d0a",
   "metadata": {},
   "source": [
    "## Classification Report "
   ]
  },
  {
   "cell_type": "code",
   "execution_count": 119,
   "id": "b5df0cee",
   "metadata": {},
   "outputs": [
    {
     "name": "stdout",
     "output_type": "stream",
     "text": [
      "              precision    recall  f1-score   support\n",
      "\n",
      "           0       0.72      0.73      0.72        66\n",
      "           1       0.69      0.68      0.68        59\n",
      "\n",
      "    accuracy                           0.70       125\n",
      "   macro avg       0.70      0.70      0.70       125\n",
      "weighted avg       0.70      0.70      0.70       125\n",
      "\n"
     ]
    }
   ],
   "source": [
    "print(classification_report(y_bal_pred,y_test1))"
   ]
  },
  {
   "cell_type": "markdown",
   "id": "a1a8108c",
   "metadata": {},
   "source": [
    "## Performance Metrics "
   ]
  },
  {
   "cell_type": "markdown",
   "id": "304ac447",
   "metadata": {},
   "source": [
    "## Confusion Metrics "
   ]
  },
  {
   "cell_type": "code",
   "execution_count": 120,
   "id": "0bcb42a3",
   "metadata": {},
   "outputs": [],
   "source": [
    "conf_mat_bal=confusion_matrix(y_bal_pred,y_test1)"
   ]
  },
  {
   "cell_type": "code",
   "execution_count": 121,
   "id": "1a5a1f2b",
   "metadata": {},
   "outputs": [
    {
     "data": {
      "text/plain": [
       "array([[48, 18],\n",
       "       [19, 40]], dtype=int64)"
      ]
     },
     "execution_count": 121,
     "metadata": {},
     "output_type": "execute_result"
    }
   ],
   "source": [
    "conf_mat_bal"
   ]
  },
  {
   "cell_type": "code",
   "execution_count": 122,
   "id": "3b947785",
   "metadata": {},
   "outputs": [],
   "source": [
    "true_positive = conf_mat_bal[0][0]\n",
    "false_positive = conf_mat_bal[0][1]\n",
    "false_negative = conf_mat_bal[1][0]\n",
    "true_negative = conf_mat_bal[1][1]"
   ]
  },
  {
   "cell_type": "markdown",
   "id": "9ea507d6",
   "metadata": {},
   "source": [
    "## Precision "
   ]
  },
  {
   "cell_type": "code",
   "execution_count": 123,
   "id": "d609657c",
   "metadata": {},
   "outputs": [
    {
     "data": {
      "text/plain": [
       "0.7272727272727273"
      ]
     },
     "execution_count": 123,
     "metadata": {},
     "output_type": "execute_result"
    }
   ],
   "source": [
    "bal_Precision = true_positive/(true_positive+false_positive)\n",
    "bal_Precision"
   ]
  },
  {
   "cell_type": "markdown",
   "id": "39c0a81b",
   "metadata": {},
   "source": [
    "## Recall "
   ]
  },
  {
   "cell_type": "code",
   "execution_count": 124,
   "id": "606a3460",
   "metadata": {},
   "outputs": [
    {
     "data": {
      "text/plain": [
       "0.7164179104477612"
      ]
     },
     "execution_count": 124,
     "metadata": {},
     "output_type": "execute_result"
    }
   ],
   "source": [
    "bal_recall = true_positive/(true_positive+false_negative)\n",
    "bal_recall"
   ]
  },
  {
   "cell_type": "markdown",
   "id": "9e64dc45",
   "metadata": {},
   "source": [
    "## F1 score "
   ]
  },
  {
   "cell_type": "code",
   "execution_count": 125,
   "id": "56755c6c",
   "metadata": {},
   "outputs": [
    {
     "data": {
      "text/plain": [
       "0.7218045112781953"
      ]
     },
     "execution_count": 125,
     "metadata": {},
     "output_type": "execute_result"
    }
   ],
   "source": [
    "F1_Score_bal = 2*(bal_recall * bal_Precision) / (bal_recall + bal_Precision)\n",
    "F1_Score_bal"
   ]
  },
  {
   "cell_type": "markdown",
   "id": "573ab3f8",
   "metadata": {},
   "source": [
    "# Conclusion"
   ]
  },
  {
   "cell_type": "markdown",
   "id": "08dd7b9b",
   "metadata": {},
   "source": [
    "### Performance of Logistic Model on Original Dataset"
   ]
  },
  {
   "cell_type": "code",
   "execution_count": 126,
   "id": "213ca95b",
   "metadata": {},
   "outputs": [
    {
     "name": "stdout",
     "output_type": "stream",
     "text": [
      "              precision    recall  f1-score   support\n",
      "\n",
      "         0.0       0.96      0.92      0.94        25\n",
      "         1.0       0.95      0.97      0.96        36\n",
      "\n",
      "    accuracy                           0.95        61\n",
      "   macro avg       0.95      0.95      0.95        61\n",
      "weighted avg       0.95      0.95      0.95        61\n",
      "\n"
     ]
    }
   ],
   "source": [
    "print(classification_report(y_pred,y_test))"
   ]
  },
  {
   "cell_type": "markdown",
   "id": "55c14e96",
   "metadata": {},
   "source": [
    "### Performance of Logistic Model on Balanced Dataset which are created from imbalanced dataset "
   ]
  },
  {
   "cell_type": "code",
   "execution_count": 127,
   "id": "3136e1e2",
   "metadata": {},
   "outputs": [
    {
     "name": "stdout",
     "output_type": "stream",
     "text": [
      "              precision    recall  f1-score   support\n",
      "\n",
      "           0       0.72      0.73      0.72        66\n",
      "           1       0.69      0.68      0.68        59\n",
      "\n",
      "    accuracy                           0.70       125\n",
      "   macro avg       0.70      0.70      0.70       125\n",
      "weighted avg       0.70      0.70      0.70       125\n",
      "\n"
     ]
    }
   ],
   "source": [
    "print(classification_report(y_bal_pred,y_test1))"
   ]
  },
  {
   "cell_type": "markdown",
   "id": "48a6221e",
   "metadata": {},
   "source": [
    "## Observation\n",
    "\n",
    "It seems that model is good when we predict from original dataset\n",
    "\n",
    "It seems that model is very bad when we try to predict from balanced(created from an imbalanced dataset )"
   ]
  }
 ],
 "metadata": {
  "kernelspec": {
   "display_name": "Python 3 (ipykernel)",
   "language": "python",
   "name": "python3"
  },
  "language_info": {
   "codemirror_mode": {
    "name": "ipython",
    "version": 3
   },
   "file_extension": ".py",
   "mimetype": "text/x-python",
   "name": "python",
   "nbconvert_exporter": "python",
   "pygments_lexer": "ipython3",
   "version": "3.9.12"
  },
  "latex_envs": {
   "LaTeX_envs_menu_present": true,
   "autoclose": false,
   "autocomplete": true,
   "bibliofile": "biblio.bib",
   "cite_by": "apalike",
   "current_citInitial": 1,
   "eqLabelWithNumbers": true,
   "eqNumInitial": 1,
   "hotkeys": {
    "equation": "Ctrl-E",
    "itemize": "Ctrl-I"
   },
   "labels_anchors": false,
   "latex_user_defs": false,
   "report_style_numbering": false,
   "user_envs_cfg": false
  },
  "nbTranslate": {
   "displayLangs": [
    "*"
   ],
   "hotkey": "alt-t",
   "langInMainMenu": true,
   "sourceLang": "en",
   "targetLang": "fr",
   "useGoogleTranslate": true
  },
  "toc": {
   "base_numbering": 1,
   "nav_menu": {},
   "number_sections": true,
   "sideBar": true,
   "skip_h1_title": false,
   "title_cell": "Table of Contents",
   "title_sidebar": "Contents",
   "toc_cell": false,
   "toc_position": {},
   "toc_section_display": true,
   "toc_window_display": false
  },
  "varInspector": {
   "cols": {
    "lenName": 16,
    "lenType": 16,
    "lenVar": 40
   },
   "kernels_config": {
    "python": {
     "delete_cmd_postfix": "",
     "delete_cmd_prefix": "del ",
     "library": "var_list.py",
     "varRefreshCmd": "print(var_dic_list())"
    },
    "r": {
     "delete_cmd_postfix": ") ",
     "delete_cmd_prefix": "rm(",
     "library": "var_list.r",
     "varRefreshCmd": "cat(var_dic_list()) "
    }
   },
   "types_to_exclude": [
    "module",
    "function",
    "builtin_function_or_method",
    "instance",
    "_Feature"
   ],
   "window_display": false
  }
 },
 "nbformat": 4,
 "nbformat_minor": 5
}
