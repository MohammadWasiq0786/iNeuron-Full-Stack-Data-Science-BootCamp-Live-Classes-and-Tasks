{
 "cells": [
  {
   "cell_type": "markdown",
   "metadata": {},
   "source": [
    "# Admission Prediction Project by Mohammad Wasiq"
   ]
  },
  {
   "cell_type": "code",
   "execution_count": 1,
   "metadata": {
    "ExecuteTime": {
     "end_time": "2023-01-20T05:24:49.634943Z",
     "start_time": "2023-01-20T05:24:48.957719Z"
    }
   },
   "outputs": [],
   "source": [
    "import pandas as pd"
   ]
  },
  {
   "cell_type": "code",
   "execution_count": 2,
   "metadata": {
    "ExecuteTime": {
     "end_time": "2023-01-20T05:24:50.482691Z",
     "start_time": "2023-01-20T05:24:50.454768Z"
    }
   },
   "outputs": [],
   "source": [
    "data = pd.read_csv('Placement.csv')"
   ]
  },
  {
   "cell_type": "code",
   "execution_count": 3,
   "metadata": {
    "ExecuteTime": {
     "end_time": "2023-01-20T05:24:51.332024Z",
     "start_time": "2023-01-20T05:24:51.321066Z"
    }
   },
   "outputs": [],
   "source": [
    "import warnings"
   ]
  },
  {
   "cell_type": "code",
   "execution_count": 4,
   "metadata": {
    "ExecuteTime": {
     "end_time": "2023-01-20T05:24:52.139437Z",
     "start_time": "2023-01-20T05:24:52.120489Z"
    }
   },
   "outputs": [],
   "source": [
    "warnings.filterwarnings('ignore')"
   ]
  },
  {
   "cell_type": "markdown",
   "metadata": {},
   "source": [
    "### 1. Display Top 5 Rows of The Dataset"
   ]
  },
  {
   "cell_type": "code",
   "execution_count": 5,
   "metadata": {
    "ExecuteTime": {
     "end_time": "2023-01-20T05:24:55.625207Z",
     "start_time": "2023-01-20T05:24:55.587308Z"
    }
   },
   "outputs": [
    {
     "data": {
      "text/html": [
       "<div>\n",
       "<style scoped>\n",
       "    .dataframe tbody tr th:only-of-type {\n",
       "        vertical-align: middle;\n",
       "    }\n",
       "\n",
       "    .dataframe tbody tr th {\n",
       "        vertical-align: top;\n",
       "    }\n",
       "\n",
       "    .dataframe thead th {\n",
       "        text-align: right;\n",
       "    }\n",
       "</style>\n",
       "<table border=\"1\" class=\"dataframe\">\n",
       "  <thead>\n",
       "    <tr style=\"text-align: right;\">\n",
       "      <th></th>\n",
       "      <th>sl_no</th>\n",
       "      <th>gender</th>\n",
       "      <th>ssc_p</th>\n",
       "      <th>ssc_b</th>\n",
       "      <th>hsc_p</th>\n",
       "      <th>hsc_b</th>\n",
       "      <th>hsc_s</th>\n",
       "      <th>degree_p</th>\n",
       "      <th>degree_t</th>\n",
       "      <th>workex</th>\n",
       "      <th>etest_p</th>\n",
       "      <th>specialisation</th>\n",
       "      <th>mba_p</th>\n",
       "      <th>status</th>\n",
       "      <th>salary</th>\n",
       "    </tr>\n",
       "  </thead>\n",
       "  <tbody>\n",
       "    <tr>\n",
       "      <th>0</th>\n",
       "      <td>1</td>\n",
       "      <td>M</td>\n",
       "      <td>67.00</td>\n",
       "      <td>Others</td>\n",
       "      <td>91.00</td>\n",
       "      <td>Others</td>\n",
       "      <td>Commerce</td>\n",
       "      <td>58.00</td>\n",
       "      <td>Sci&amp;Tech</td>\n",
       "      <td>No</td>\n",
       "      <td>55.0</td>\n",
       "      <td>Mkt&amp;HR</td>\n",
       "      <td>58.80</td>\n",
       "      <td>Placed</td>\n",
       "      <td>270000.0</td>\n",
       "    </tr>\n",
       "    <tr>\n",
       "      <th>1</th>\n",
       "      <td>2</td>\n",
       "      <td>M</td>\n",
       "      <td>79.33</td>\n",
       "      <td>Central</td>\n",
       "      <td>78.33</td>\n",
       "      <td>Others</td>\n",
       "      <td>Science</td>\n",
       "      <td>77.48</td>\n",
       "      <td>Sci&amp;Tech</td>\n",
       "      <td>Yes</td>\n",
       "      <td>86.5</td>\n",
       "      <td>Mkt&amp;Fin</td>\n",
       "      <td>66.28</td>\n",
       "      <td>Placed</td>\n",
       "      <td>200000.0</td>\n",
       "    </tr>\n",
       "    <tr>\n",
       "      <th>2</th>\n",
       "      <td>3</td>\n",
       "      <td>M</td>\n",
       "      <td>65.00</td>\n",
       "      <td>Central</td>\n",
       "      <td>68.00</td>\n",
       "      <td>Central</td>\n",
       "      <td>Arts</td>\n",
       "      <td>64.00</td>\n",
       "      <td>Comm&amp;Mgmt</td>\n",
       "      <td>No</td>\n",
       "      <td>75.0</td>\n",
       "      <td>Mkt&amp;Fin</td>\n",
       "      <td>57.80</td>\n",
       "      <td>Placed</td>\n",
       "      <td>250000.0</td>\n",
       "    </tr>\n",
       "    <tr>\n",
       "      <th>3</th>\n",
       "      <td>4</td>\n",
       "      <td>M</td>\n",
       "      <td>56.00</td>\n",
       "      <td>Central</td>\n",
       "      <td>52.00</td>\n",
       "      <td>Central</td>\n",
       "      <td>Science</td>\n",
       "      <td>52.00</td>\n",
       "      <td>Sci&amp;Tech</td>\n",
       "      <td>No</td>\n",
       "      <td>66.0</td>\n",
       "      <td>Mkt&amp;HR</td>\n",
       "      <td>59.43</td>\n",
       "      <td>Not Placed</td>\n",
       "      <td>NaN</td>\n",
       "    </tr>\n",
       "    <tr>\n",
       "      <th>4</th>\n",
       "      <td>5</td>\n",
       "      <td>M</td>\n",
       "      <td>85.80</td>\n",
       "      <td>Central</td>\n",
       "      <td>73.60</td>\n",
       "      <td>Central</td>\n",
       "      <td>Commerce</td>\n",
       "      <td>73.30</td>\n",
       "      <td>Comm&amp;Mgmt</td>\n",
       "      <td>No</td>\n",
       "      <td>96.8</td>\n",
       "      <td>Mkt&amp;Fin</td>\n",
       "      <td>55.50</td>\n",
       "      <td>Placed</td>\n",
       "      <td>425000.0</td>\n",
       "    </tr>\n",
       "  </tbody>\n",
       "</table>\n",
       "</div>"
      ],
      "text/plain": [
       "   sl_no gender  ssc_p    ssc_b  hsc_p    hsc_b     hsc_s  degree_p  \\\n",
       "0      1      M  67.00   Others  91.00   Others  Commerce     58.00   \n",
       "1      2      M  79.33  Central  78.33   Others   Science     77.48   \n",
       "2      3      M  65.00  Central  68.00  Central      Arts     64.00   \n",
       "3      4      M  56.00  Central  52.00  Central   Science     52.00   \n",
       "4      5      M  85.80  Central  73.60  Central  Commerce     73.30   \n",
       "\n",
       "    degree_t workex  etest_p specialisation  mba_p      status    salary  \n",
       "0   Sci&Tech     No     55.0         Mkt&HR  58.80      Placed  270000.0  \n",
       "1   Sci&Tech    Yes     86.5        Mkt&Fin  66.28      Placed  200000.0  \n",
       "2  Comm&Mgmt     No     75.0        Mkt&Fin  57.80      Placed  250000.0  \n",
       "3   Sci&Tech     No     66.0         Mkt&HR  59.43  Not Placed       NaN  \n",
       "4  Comm&Mgmt     No     96.8        Mkt&Fin  55.50      Placed  425000.0  "
      ]
     },
     "execution_count": 5,
     "metadata": {},
     "output_type": "execute_result"
    }
   ],
   "source": [
    "data.head()"
   ]
  },
  {
   "cell_type": "markdown",
   "metadata": {},
   "source": [
    "### 2. Check Last 5 Rows of The Dataset"
   ]
  },
  {
   "cell_type": "code",
   "execution_count": 6,
   "metadata": {
    "ExecuteTime": {
     "end_time": "2023-01-20T05:24:59.795516Z",
     "start_time": "2023-01-20T05:24:59.769584Z"
    }
   },
   "outputs": [
    {
     "data": {
      "text/html": [
       "<div>\n",
       "<style scoped>\n",
       "    .dataframe tbody tr th:only-of-type {\n",
       "        vertical-align: middle;\n",
       "    }\n",
       "\n",
       "    .dataframe tbody tr th {\n",
       "        vertical-align: top;\n",
       "    }\n",
       "\n",
       "    .dataframe thead th {\n",
       "        text-align: right;\n",
       "    }\n",
       "</style>\n",
       "<table border=\"1\" class=\"dataframe\">\n",
       "  <thead>\n",
       "    <tr style=\"text-align: right;\">\n",
       "      <th></th>\n",
       "      <th>sl_no</th>\n",
       "      <th>gender</th>\n",
       "      <th>ssc_p</th>\n",
       "      <th>ssc_b</th>\n",
       "      <th>hsc_p</th>\n",
       "      <th>hsc_b</th>\n",
       "      <th>hsc_s</th>\n",
       "      <th>degree_p</th>\n",
       "      <th>degree_t</th>\n",
       "      <th>workex</th>\n",
       "      <th>etest_p</th>\n",
       "      <th>specialisation</th>\n",
       "      <th>mba_p</th>\n",
       "      <th>status</th>\n",
       "      <th>salary</th>\n",
       "    </tr>\n",
       "  </thead>\n",
       "  <tbody>\n",
       "    <tr>\n",
       "      <th>210</th>\n",
       "      <td>211</td>\n",
       "      <td>M</td>\n",
       "      <td>80.6</td>\n",
       "      <td>Others</td>\n",
       "      <td>82.0</td>\n",
       "      <td>Others</td>\n",
       "      <td>Commerce</td>\n",
       "      <td>77.6</td>\n",
       "      <td>Comm&amp;Mgmt</td>\n",
       "      <td>No</td>\n",
       "      <td>91.0</td>\n",
       "      <td>Mkt&amp;Fin</td>\n",
       "      <td>74.49</td>\n",
       "      <td>Placed</td>\n",
       "      <td>400000.0</td>\n",
       "    </tr>\n",
       "    <tr>\n",
       "      <th>211</th>\n",
       "      <td>212</td>\n",
       "      <td>M</td>\n",
       "      <td>58.0</td>\n",
       "      <td>Others</td>\n",
       "      <td>60.0</td>\n",
       "      <td>Others</td>\n",
       "      <td>Science</td>\n",
       "      <td>72.0</td>\n",
       "      <td>Sci&amp;Tech</td>\n",
       "      <td>No</td>\n",
       "      <td>74.0</td>\n",
       "      <td>Mkt&amp;Fin</td>\n",
       "      <td>53.62</td>\n",
       "      <td>Placed</td>\n",
       "      <td>275000.0</td>\n",
       "    </tr>\n",
       "    <tr>\n",
       "      <th>212</th>\n",
       "      <td>213</td>\n",
       "      <td>M</td>\n",
       "      <td>67.0</td>\n",
       "      <td>Others</td>\n",
       "      <td>67.0</td>\n",
       "      <td>Others</td>\n",
       "      <td>Commerce</td>\n",
       "      <td>73.0</td>\n",
       "      <td>Comm&amp;Mgmt</td>\n",
       "      <td>Yes</td>\n",
       "      <td>59.0</td>\n",
       "      <td>Mkt&amp;Fin</td>\n",
       "      <td>69.72</td>\n",
       "      <td>Placed</td>\n",
       "      <td>295000.0</td>\n",
       "    </tr>\n",
       "    <tr>\n",
       "      <th>213</th>\n",
       "      <td>214</td>\n",
       "      <td>F</td>\n",
       "      <td>74.0</td>\n",
       "      <td>Others</td>\n",
       "      <td>66.0</td>\n",
       "      <td>Others</td>\n",
       "      <td>Commerce</td>\n",
       "      <td>58.0</td>\n",
       "      <td>Comm&amp;Mgmt</td>\n",
       "      <td>No</td>\n",
       "      <td>70.0</td>\n",
       "      <td>Mkt&amp;HR</td>\n",
       "      <td>60.23</td>\n",
       "      <td>Placed</td>\n",
       "      <td>204000.0</td>\n",
       "    </tr>\n",
       "    <tr>\n",
       "      <th>214</th>\n",
       "      <td>215</td>\n",
       "      <td>M</td>\n",
       "      <td>62.0</td>\n",
       "      <td>Central</td>\n",
       "      <td>58.0</td>\n",
       "      <td>Others</td>\n",
       "      <td>Science</td>\n",
       "      <td>53.0</td>\n",
       "      <td>Comm&amp;Mgmt</td>\n",
       "      <td>No</td>\n",
       "      <td>89.0</td>\n",
       "      <td>Mkt&amp;HR</td>\n",
       "      <td>60.22</td>\n",
       "      <td>Not Placed</td>\n",
       "      <td>NaN</td>\n",
       "    </tr>\n",
       "  </tbody>\n",
       "</table>\n",
       "</div>"
      ],
      "text/plain": [
       "     sl_no gender  ssc_p    ssc_b  hsc_p   hsc_b     hsc_s  degree_p  \\\n",
       "210    211      M   80.6   Others   82.0  Others  Commerce      77.6   \n",
       "211    212      M   58.0   Others   60.0  Others   Science      72.0   \n",
       "212    213      M   67.0   Others   67.0  Others  Commerce      73.0   \n",
       "213    214      F   74.0   Others   66.0  Others  Commerce      58.0   \n",
       "214    215      M   62.0  Central   58.0  Others   Science      53.0   \n",
       "\n",
       "      degree_t workex  etest_p specialisation  mba_p      status    salary  \n",
       "210  Comm&Mgmt     No     91.0        Mkt&Fin  74.49      Placed  400000.0  \n",
       "211   Sci&Tech     No     74.0        Mkt&Fin  53.62      Placed  275000.0  \n",
       "212  Comm&Mgmt    Yes     59.0        Mkt&Fin  69.72      Placed  295000.0  \n",
       "213  Comm&Mgmt     No     70.0         Mkt&HR  60.23      Placed  204000.0  \n",
       "214  Comm&Mgmt     No     89.0         Mkt&HR  60.22  Not Placed       NaN  "
      ]
     },
     "execution_count": 6,
     "metadata": {},
     "output_type": "execute_result"
    }
   ],
   "source": [
    "data.tail()"
   ]
  },
  {
   "cell_type": "markdown",
   "metadata": {},
   "source": [
    "### 3. Find Shape of Our Dataset (Number of Rows And Number of Columns)"
   ]
  },
  {
   "cell_type": "code",
   "execution_count": 7,
   "metadata": {
    "ExecuteTime": {
     "end_time": "2023-01-20T05:25:03.460816Z",
     "start_time": "2023-01-20T05:25:03.440870Z"
    }
   },
   "outputs": [
    {
     "data": {
      "text/plain": [
       "(215, 15)"
      ]
     },
     "execution_count": 7,
     "metadata": {},
     "output_type": "execute_result"
    }
   ],
   "source": [
    "data.shape"
   ]
  },
  {
   "cell_type": "code",
   "execution_count": 8,
   "metadata": {
    "ExecuteTime": {
     "end_time": "2023-01-20T05:25:05.508342Z",
     "start_time": "2023-01-20T05:25:05.489394Z"
    }
   },
   "outputs": [
    {
     "name": "stdout",
     "output_type": "stream",
     "text": [
      "Number of Rows 215\n",
      "Number of Columns 15\n"
     ]
    }
   ],
   "source": [
    "print(\"Number of Rows\",data.shape[0])\n",
    "print(\"Number of Columns\",data.shape[1])"
   ]
  },
  {
   "cell_type": "markdown",
   "metadata": {},
   "source": [
    "### 4. Get Information About Our Dataset Like the Total Number of Rows, Total Number of Columns, Datatypes of Each Column And Memory Requirement"
   ]
  },
  {
   "cell_type": "code",
   "execution_count": 9,
   "metadata": {
    "ExecuteTime": {
     "end_time": "2023-01-20T05:25:10.856050Z",
     "start_time": "2023-01-20T05:25:10.830120Z"
    }
   },
   "outputs": [
    {
     "name": "stdout",
     "output_type": "stream",
     "text": [
      "<class 'pandas.core.frame.DataFrame'>\n",
      "RangeIndex: 215 entries, 0 to 214\n",
      "Data columns (total 15 columns):\n",
      " #   Column          Non-Null Count  Dtype  \n",
      "---  ------          --------------  -----  \n",
      " 0   sl_no           215 non-null    int64  \n",
      " 1   gender          215 non-null    object \n",
      " 2   ssc_p           215 non-null    float64\n",
      " 3   ssc_b           215 non-null    object \n",
      " 4   hsc_p           215 non-null    float64\n",
      " 5   hsc_b           215 non-null    object \n",
      " 6   hsc_s           215 non-null    object \n",
      " 7   degree_p        215 non-null    float64\n",
      " 8   degree_t        215 non-null    object \n",
      " 9   workex          215 non-null    object \n",
      " 10  etest_p         215 non-null    float64\n",
      " 11  specialisation  215 non-null    object \n",
      " 12  mba_p           215 non-null    float64\n",
      " 13  status          215 non-null    object \n",
      " 14  salary          148 non-null    float64\n",
      "dtypes: float64(6), int64(1), object(8)\n",
      "memory usage: 25.3+ KB\n"
     ]
    }
   ],
   "source": [
    "data.info()"
   ]
  },
  {
   "cell_type": "markdown",
   "metadata": {},
   "source": [
    "### 5. Check Null Values In The Dataset"
   ]
  },
  {
   "cell_type": "code",
   "execution_count": 10,
   "metadata": {
    "ExecuteTime": {
     "end_time": "2023-01-20T05:25:13.820278Z",
     "start_time": "2023-01-20T05:25:13.795344Z"
    }
   },
   "outputs": [
    {
     "data": {
      "text/plain": [
       "sl_no              0\n",
       "gender             0\n",
       "ssc_p              0\n",
       "ssc_b              0\n",
       "hsc_p              0\n",
       "hsc_b              0\n",
       "hsc_s              0\n",
       "degree_p           0\n",
       "degree_t           0\n",
       "workex             0\n",
       "etest_p            0\n",
       "specialisation     0\n",
       "mba_p              0\n",
       "status             0\n",
       "salary            67\n",
       "dtype: int64"
      ]
     },
     "execution_count": 10,
     "metadata": {},
     "output_type": "execute_result"
    }
   ],
   "source": [
    "data.isnull().sum()"
   ]
  },
  {
   "cell_type": "markdown",
   "metadata": {},
   "source": [
    "### 6. Get Overall Statistics About The Dataset"
   ]
  },
  {
   "cell_type": "code",
   "execution_count": 11,
   "metadata": {
    "ExecuteTime": {
     "end_time": "2023-01-20T05:25:19.706630Z",
     "start_time": "2023-01-20T05:25:19.661749Z"
    }
   },
   "outputs": [
    {
     "data": {
      "text/html": [
       "<div>\n",
       "<style scoped>\n",
       "    .dataframe tbody tr th:only-of-type {\n",
       "        vertical-align: middle;\n",
       "    }\n",
       "\n",
       "    .dataframe tbody tr th {\n",
       "        vertical-align: top;\n",
       "    }\n",
       "\n",
       "    .dataframe thead th {\n",
       "        text-align: right;\n",
       "    }\n",
       "</style>\n",
       "<table border=\"1\" class=\"dataframe\">\n",
       "  <thead>\n",
       "    <tr style=\"text-align: right;\">\n",
       "      <th></th>\n",
       "      <th>sl_no</th>\n",
       "      <th>ssc_p</th>\n",
       "      <th>hsc_p</th>\n",
       "      <th>degree_p</th>\n",
       "      <th>etest_p</th>\n",
       "      <th>mba_p</th>\n",
       "      <th>salary</th>\n",
       "    </tr>\n",
       "  </thead>\n",
       "  <tbody>\n",
       "    <tr>\n",
       "      <th>count</th>\n",
       "      <td>215.000000</td>\n",
       "      <td>215.000000</td>\n",
       "      <td>215.000000</td>\n",
       "      <td>215.000000</td>\n",
       "      <td>215.000000</td>\n",
       "      <td>215.000000</td>\n",
       "      <td>148.000000</td>\n",
       "    </tr>\n",
       "    <tr>\n",
       "      <th>mean</th>\n",
       "      <td>108.000000</td>\n",
       "      <td>67.303395</td>\n",
       "      <td>66.333163</td>\n",
       "      <td>66.370186</td>\n",
       "      <td>72.100558</td>\n",
       "      <td>62.278186</td>\n",
       "      <td>288655.405405</td>\n",
       "    </tr>\n",
       "    <tr>\n",
       "      <th>std</th>\n",
       "      <td>62.209324</td>\n",
       "      <td>10.827205</td>\n",
       "      <td>10.897509</td>\n",
       "      <td>7.358743</td>\n",
       "      <td>13.275956</td>\n",
       "      <td>5.833385</td>\n",
       "      <td>93457.452420</td>\n",
       "    </tr>\n",
       "    <tr>\n",
       "      <th>min</th>\n",
       "      <td>1.000000</td>\n",
       "      <td>40.890000</td>\n",
       "      <td>37.000000</td>\n",
       "      <td>50.000000</td>\n",
       "      <td>50.000000</td>\n",
       "      <td>51.210000</td>\n",
       "      <td>200000.000000</td>\n",
       "    </tr>\n",
       "    <tr>\n",
       "      <th>25%</th>\n",
       "      <td>54.500000</td>\n",
       "      <td>60.600000</td>\n",
       "      <td>60.900000</td>\n",
       "      <td>61.000000</td>\n",
       "      <td>60.000000</td>\n",
       "      <td>57.945000</td>\n",
       "      <td>240000.000000</td>\n",
       "    </tr>\n",
       "    <tr>\n",
       "      <th>50%</th>\n",
       "      <td>108.000000</td>\n",
       "      <td>67.000000</td>\n",
       "      <td>65.000000</td>\n",
       "      <td>66.000000</td>\n",
       "      <td>71.000000</td>\n",
       "      <td>62.000000</td>\n",
       "      <td>265000.000000</td>\n",
       "    </tr>\n",
       "    <tr>\n",
       "      <th>75%</th>\n",
       "      <td>161.500000</td>\n",
       "      <td>75.700000</td>\n",
       "      <td>73.000000</td>\n",
       "      <td>72.000000</td>\n",
       "      <td>83.500000</td>\n",
       "      <td>66.255000</td>\n",
       "      <td>300000.000000</td>\n",
       "    </tr>\n",
       "    <tr>\n",
       "      <th>max</th>\n",
       "      <td>215.000000</td>\n",
       "      <td>89.400000</td>\n",
       "      <td>97.700000</td>\n",
       "      <td>91.000000</td>\n",
       "      <td>98.000000</td>\n",
       "      <td>77.890000</td>\n",
       "      <td>940000.000000</td>\n",
       "    </tr>\n",
       "  </tbody>\n",
       "</table>\n",
       "</div>"
      ],
      "text/plain": [
       "            sl_no       ssc_p       hsc_p    degree_p     etest_p       mba_p  \\\n",
       "count  215.000000  215.000000  215.000000  215.000000  215.000000  215.000000   \n",
       "mean   108.000000   67.303395   66.333163   66.370186   72.100558   62.278186   \n",
       "std     62.209324   10.827205   10.897509    7.358743   13.275956    5.833385   \n",
       "min      1.000000   40.890000   37.000000   50.000000   50.000000   51.210000   \n",
       "25%     54.500000   60.600000   60.900000   61.000000   60.000000   57.945000   \n",
       "50%    108.000000   67.000000   65.000000   66.000000   71.000000   62.000000   \n",
       "75%    161.500000   75.700000   73.000000   72.000000   83.500000   66.255000   \n",
       "max    215.000000   89.400000   97.700000   91.000000   98.000000   77.890000   \n",
       "\n",
       "              salary  \n",
       "count     148.000000  \n",
       "mean   288655.405405  \n",
       "std     93457.452420  \n",
       "min    200000.000000  \n",
       "25%    240000.000000  \n",
       "50%    265000.000000  \n",
       "75%    300000.000000  \n",
       "max    940000.000000  "
      ]
     },
     "execution_count": 11,
     "metadata": {},
     "output_type": "execute_result"
    }
   ],
   "source": [
    "data.describe()"
   ]
  },
  {
   "cell_type": "markdown",
   "metadata": {},
   "source": [
    "### 7. EDA"
   ]
  },
  {
   "cell_type": "code",
   "execution_count": 12,
   "metadata": {
    "ExecuteTime": {
     "end_time": "2023-01-20T05:25:23.053314Z",
     "start_time": "2023-01-20T05:25:23.039352Z"
    }
   },
   "outputs": [
    {
     "data": {
      "text/plain": [
       "Index(['sl_no', 'gender', 'ssc_p', 'ssc_b', 'hsc_p', 'hsc_b', 'hsc_s',\n",
       "       'degree_p', 'degree_t', 'workex', 'etest_p', 'specialisation', 'mba_p',\n",
       "       'status', 'salary'],\n",
       "      dtype='object')"
      ]
     },
     "execution_count": 12,
     "metadata": {},
     "output_type": "execute_result"
    }
   ],
   "source": [
    "data.columns"
   ]
  },
  {
   "cell_type": "markdown",
   "metadata": {},
   "source": [
    "#### How Many Students Got Placed?"
   ]
  },
  {
   "cell_type": "code",
   "execution_count": 13,
   "metadata": {
    "ExecuteTime": {
     "end_time": "2023-01-20T05:25:26.703265Z",
     "start_time": "2023-01-20T05:25:26.685311Z"
    }
   },
   "outputs": [
    {
     "data": {
      "text/plain": [
       "array(['Placed', 'Not Placed'], dtype=object)"
      ]
     },
     "execution_count": 13,
     "metadata": {},
     "output_type": "execute_result"
    }
   ],
   "source": [
    "data['status'].unique()"
   ]
  },
  {
   "cell_type": "code",
   "execution_count": 14,
   "metadata": {
    "ExecuteTime": {
     "end_time": "2023-01-20T05:25:27.255525Z",
     "start_time": "2023-01-20T05:25:27.239568Z"
    }
   },
   "outputs": [
    {
     "data": {
      "text/plain": [
       "Placed        148\n",
       "Not Placed     67\n",
       "Name: status, dtype: int64"
      ]
     },
     "execution_count": 14,
     "metadata": {},
     "output_type": "execute_result"
    }
   ],
   "source": [
    "data['status'].value_counts()"
   ]
  },
  {
   "cell_type": "markdown",
   "metadata": {},
   "source": [
    "#### Could you display the top 5 sci&tech students placed according to their salary?"
   ]
  },
  {
   "cell_type": "code",
   "execution_count": 15,
   "metadata": {
    "ExecuteTime": {
     "end_time": "2023-01-20T05:25:28.599414Z",
     "start_time": "2023-01-20T05:25:28.578467Z"
    }
   },
   "outputs": [
    {
     "data": {
      "text/plain": [
       "Index(['sl_no', 'gender', 'ssc_p', 'ssc_b', 'hsc_p', 'hsc_b', 'hsc_s',\n",
       "       'degree_p', 'degree_t', 'workex', 'etest_p', 'specialisation', 'mba_p',\n",
       "       'status', 'salary'],\n",
       "      dtype='object')"
      ]
     },
     "execution_count": 15,
     "metadata": {},
     "output_type": "execute_result"
    }
   ],
   "source": [
    "data.columns"
   ]
  },
  {
   "cell_type": "code",
   "execution_count": 16,
   "metadata": {
    "ExecuteTime": {
     "end_time": "2023-01-20T05:25:29.265629Z",
     "start_time": "2023-01-20T05:25:29.239698Z"
    }
   },
   "outputs": [
    {
     "data": {
      "text/html": [
       "<div>\n",
       "<style scoped>\n",
       "    .dataframe tbody tr th:only-of-type {\n",
       "        vertical-align: middle;\n",
       "    }\n",
       "\n",
       "    .dataframe tbody tr th {\n",
       "        vertical-align: top;\n",
       "    }\n",
       "\n",
       "    .dataframe thead th {\n",
       "        text-align: right;\n",
       "    }\n",
       "</style>\n",
       "<table border=\"1\" class=\"dataframe\">\n",
       "  <thead>\n",
       "    <tr style=\"text-align: right;\">\n",
       "      <th></th>\n",
       "      <th>sl_no</th>\n",
       "      <th>gender</th>\n",
       "      <th>ssc_p</th>\n",
       "      <th>ssc_b</th>\n",
       "      <th>hsc_p</th>\n",
       "      <th>hsc_b</th>\n",
       "      <th>hsc_s</th>\n",
       "      <th>degree_p</th>\n",
       "      <th>degree_t</th>\n",
       "      <th>workex</th>\n",
       "      <th>etest_p</th>\n",
       "      <th>specialisation</th>\n",
       "      <th>mba_p</th>\n",
       "      <th>status</th>\n",
       "      <th>salary</th>\n",
       "    </tr>\n",
       "  </thead>\n",
       "  <tbody>\n",
       "    <tr>\n",
       "      <th>150</th>\n",
       "      <td>151</td>\n",
       "      <td>M</td>\n",
       "      <td>71.00</td>\n",
       "      <td>Central</td>\n",
       "      <td>58.66</td>\n",
       "      <td>Central</td>\n",
       "      <td>Science</td>\n",
       "      <td>58.00</td>\n",
       "      <td>Sci&amp;Tech</td>\n",
       "      <td>Yes</td>\n",
       "      <td>56.0</td>\n",
       "      <td>Mkt&amp;Fin</td>\n",
       "      <td>61.30</td>\n",
       "      <td>Placed</td>\n",
       "      <td>690000.0</td>\n",
       "    </tr>\n",
       "    <tr>\n",
       "      <th>77</th>\n",
       "      <td>78</td>\n",
       "      <td>M</td>\n",
       "      <td>64.00</td>\n",
       "      <td>Others</td>\n",
       "      <td>80.00</td>\n",
       "      <td>Others</td>\n",
       "      <td>Science</td>\n",
       "      <td>65.00</td>\n",
       "      <td>Sci&amp;Tech</td>\n",
       "      <td>Yes</td>\n",
       "      <td>69.0</td>\n",
       "      <td>Mkt&amp;Fin</td>\n",
       "      <td>57.65</td>\n",
       "      <td>Placed</td>\n",
       "      <td>500000.0</td>\n",
       "    </tr>\n",
       "    <tr>\n",
       "      <th>163</th>\n",
       "      <td>164</td>\n",
       "      <td>M</td>\n",
       "      <td>63.00</td>\n",
       "      <td>Others</td>\n",
       "      <td>67.00</td>\n",
       "      <td>Others</td>\n",
       "      <td>Science</td>\n",
       "      <td>64.00</td>\n",
       "      <td>Sci&amp;Tech</td>\n",
       "      <td>No</td>\n",
       "      <td>75.0</td>\n",
       "      <td>Mkt&amp;Fin</td>\n",
       "      <td>66.46</td>\n",
       "      <td>Placed</td>\n",
       "      <td>500000.0</td>\n",
       "    </tr>\n",
       "    <tr>\n",
       "      <th>174</th>\n",
       "      <td>175</td>\n",
       "      <td>M</td>\n",
       "      <td>73.24</td>\n",
       "      <td>Others</td>\n",
       "      <td>50.83</td>\n",
       "      <td>Others</td>\n",
       "      <td>Science</td>\n",
       "      <td>64.27</td>\n",
       "      <td>Sci&amp;Tech</td>\n",
       "      <td>Yes</td>\n",
       "      <td>64.0</td>\n",
       "      <td>Mkt&amp;Fin</td>\n",
       "      <td>66.23</td>\n",
       "      <td>Placed</td>\n",
       "      <td>500000.0</td>\n",
       "    </tr>\n",
       "    <tr>\n",
       "      <th>53</th>\n",
       "      <td>54</td>\n",
       "      <td>M</td>\n",
       "      <td>80.00</td>\n",
       "      <td>Others</td>\n",
       "      <td>70.00</td>\n",
       "      <td>Others</td>\n",
       "      <td>Science</td>\n",
       "      <td>72.00</td>\n",
       "      <td>Sci&amp;Tech</td>\n",
       "      <td>No</td>\n",
       "      <td>87.0</td>\n",
       "      <td>Mkt&amp;HR</td>\n",
       "      <td>71.04</td>\n",
       "      <td>Placed</td>\n",
       "      <td>450000.0</td>\n",
       "    </tr>\n",
       "  </tbody>\n",
       "</table>\n",
       "</div>"
      ],
      "text/plain": [
       "     sl_no gender  ssc_p    ssc_b  hsc_p    hsc_b    hsc_s  degree_p  \\\n",
       "150    151      M  71.00  Central  58.66  Central  Science     58.00   \n",
       "77      78      M  64.00   Others  80.00   Others  Science     65.00   \n",
       "163    164      M  63.00   Others  67.00   Others  Science     64.00   \n",
       "174    175      M  73.24   Others  50.83   Others  Science     64.27   \n",
       "53      54      M  80.00   Others  70.00   Others  Science     72.00   \n",
       "\n",
       "     degree_t workex  etest_p specialisation  mba_p  status    salary  \n",
       "150  Sci&Tech    Yes     56.0        Mkt&Fin  61.30  Placed  690000.0  \n",
       "77   Sci&Tech    Yes     69.0        Mkt&Fin  57.65  Placed  500000.0  \n",
       "163  Sci&Tech     No     75.0        Mkt&Fin  66.46  Placed  500000.0  \n",
       "174  Sci&Tech    Yes     64.0        Mkt&Fin  66.23  Placed  500000.0  \n",
       "53   Sci&Tech     No     87.0         Mkt&HR  71.04  Placed  450000.0  "
      ]
     },
     "execution_count": 16,
     "metadata": {},
     "output_type": "execute_result"
    }
   ],
   "source": [
    "data[(data['degree_t']==\"Sci&Tech\") & (data['status']==\"Placed\")].sort_values(by=\"salary\",ascending=False).head()"
   ]
  },
  {
   "cell_type": "markdown",
   "metadata": {},
   "source": [
    "### 8. Data Preprocessing"
   ]
  },
  {
   "cell_type": "code",
   "execution_count": 17,
   "metadata": {
    "ExecuteTime": {
     "end_time": "2023-01-20T05:25:31.140734Z",
     "start_time": "2023-01-20T05:25:31.114802Z"
    }
   },
   "outputs": [
    {
     "data": {
      "text/html": [
       "<div>\n",
       "<style scoped>\n",
       "    .dataframe tbody tr th:only-of-type {\n",
       "        vertical-align: middle;\n",
       "    }\n",
       "\n",
       "    .dataframe tbody tr th {\n",
       "        vertical-align: top;\n",
       "    }\n",
       "\n",
       "    .dataframe thead th {\n",
       "        text-align: right;\n",
       "    }\n",
       "</style>\n",
       "<table border=\"1\" class=\"dataframe\">\n",
       "  <thead>\n",
       "    <tr style=\"text-align: right;\">\n",
       "      <th></th>\n",
       "      <th>sl_no</th>\n",
       "      <th>gender</th>\n",
       "      <th>ssc_p</th>\n",
       "      <th>ssc_b</th>\n",
       "      <th>hsc_p</th>\n",
       "      <th>hsc_b</th>\n",
       "      <th>hsc_s</th>\n",
       "      <th>degree_p</th>\n",
       "      <th>degree_t</th>\n",
       "      <th>workex</th>\n",
       "      <th>etest_p</th>\n",
       "      <th>specialisation</th>\n",
       "      <th>mba_p</th>\n",
       "      <th>status</th>\n",
       "      <th>salary</th>\n",
       "    </tr>\n",
       "  </thead>\n",
       "  <tbody>\n",
       "    <tr>\n",
       "      <th>0</th>\n",
       "      <td>1</td>\n",
       "      <td>M</td>\n",
       "      <td>67.00</td>\n",
       "      <td>Others</td>\n",
       "      <td>91.00</td>\n",
       "      <td>Others</td>\n",
       "      <td>Commerce</td>\n",
       "      <td>58.00</td>\n",
       "      <td>Sci&amp;Tech</td>\n",
       "      <td>No</td>\n",
       "      <td>55.0</td>\n",
       "      <td>Mkt&amp;HR</td>\n",
       "      <td>58.80</td>\n",
       "      <td>Placed</td>\n",
       "      <td>270000.0</td>\n",
       "    </tr>\n",
       "    <tr>\n",
       "      <th>1</th>\n",
       "      <td>2</td>\n",
       "      <td>M</td>\n",
       "      <td>79.33</td>\n",
       "      <td>Central</td>\n",
       "      <td>78.33</td>\n",
       "      <td>Others</td>\n",
       "      <td>Science</td>\n",
       "      <td>77.48</td>\n",
       "      <td>Sci&amp;Tech</td>\n",
       "      <td>Yes</td>\n",
       "      <td>86.5</td>\n",
       "      <td>Mkt&amp;Fin</td>\n",
       "      <td>66.28</td>\n",
       "      <td>Placed</td>\n",
       "      <td>200000.0</td>\n",
       "    </tr>\n",
       "    <tr>\n",
       "      <th>2</th>\n",
       "      <td>3</td>\n",
       "      <td>M</td>\n",
       "      <td>65.00</td>\n",
       "      <td>Central</td>\n",
       "      <td>68.00</td>\n",
       "      <td>Central</td>\n",
       "      <td>Arts</td>\n",
       "      <td>64.00</td>\n",
       "      <td>Comm&amp;Mgmt</td>\n",
       "      <td>No</td>\n",
       "      <td>75.0</td>\n",
       "      <td>Mkt&amp;Fin</td>\n",
       "      <td>57.80</td>\n",
       "      <td>Placed</td>\n",
       "      <td>250000.0</td>\n",
       "    </tr>\n",
       "    <tr>\n",
       "      <th>3</th>\n",
       "      <td>4</td>\n",
       "      <td>M</td>\n",
       "      <td>56.00</td>\n",
       "      <td>Central</td>\n",
       "      <td>52.00</td>\n",
       "      <td>Central</td>\n",
       "      <td>Science</td>\n",
       "      <td>52.00</td>\n",
       "      <td>Sci&amp;Tech</td>\n",
       "      <td>No</td>\n",
       "      <td>66.0</td>\n",
       "      <td>Mkt&amp;HR</td>\n",
       "      <td>59.43</td>\n",
       "      <td>Not Placed</td>\n",
       "      <td>NaN</td>\n",
       "    </tr>\n",
       "    <tr>\n",
       "      <th>4</th>\n",
       "      <td>5</td>\n",
       "      <td>M</td>\n",
       "      <td>85.80</td>\n",
       "      <td>Central</td>\n",
       "      <td>73.60</td>\n",
       "      <td>Central</td>\n",
       "      <td>Commerce</td>\n",
       "      <td>73.30</td>\n",
       "      <td>Comm&amp;Mgmt</td>\n",
       "      <td>No</td>\n",
       "      <td>96.8</td>\n",
       "      <td>Mkt&amp;Fin</td>\n",
       "      <td>55.50</td>\n",
       "      <td>Placed</td>\n",
       "      <td>425000.0</td>\n",
       "    </tr>\n",
       "  </tbody>\n",
       "</table>\n",
       "</div>"
      ],
      "text/plain": [
       "   sl_no gender  ssc_p    ssc_b  hsc_p    hsc_b     hsc_s  degree_p  \\\n",
       "0      1      M  67.00   Others  91.00   Others  Commerce     58.00   \n",
       "1      2      M  79.33  Central  78.33   Others   Science     77.48   \n",
       "2      3      M  65.00  Central  68.00  Central      Arts     64.00   \n",
       "3      4      M  56.00  Central  52.00  Central   Science     52.00   \n",
       "4      5      M  85.80  Central  73.60  Central  Commerce     73.30   \n",
       "\n",
       "    degree_t workex  etest_p specialisation  mba_p      status    salary  \n",
       "0   Sci&Tech     No     55.0         Mkt&HR  58.80      Placed  270000.0  \n",
       "1   Sci&Tech    Yes     86.5        Mkt&Fin  66.28      Placed  200000.0  \n",
       "2  Comm&Mgmt     No     75.0        Mkt&Fin  57.80      Placed  250000.0  \n",
       "3   Sci&Tech     No     66.0         Mkt&HR  59.43  Not Placed       NaN  \n",
       "4  Comm&Mgmt     No     96.8        Mkt&Fin  55.50      Placed  425000.0  "
      ]
     },
     "execution_count": 17,
     "metadata": {},
     "output_type": "execute_result"
    }
   ],
   "source": [
    "data.head()"
   ]
  },
  {
   "cell_type": "code",
   "execution_count": 18,
   "metadata": {
    "ExecuteTime": {
     "end_time": "2023-01-20T05:25:31.633418Z",
     "start_time": "2023-01-20T05:25:31.616465Z"
    }
   },
   "outputs": [],
   "source": [
    "data = data.drop(['sl_no','salary'],axis=1)"
   ]
  },
  {
   "cell_type": "code",
   "execution_count": 19,
   "metadata": {
    "ExecuteTime": {
     "end_time": "2023-01-20T05:25:32.380420Z",
     "start_time": "2023-01-20T05:25:32.352494Z"
    }
   },
   "outputs": [
    {
     "data": {
      "text/html": [
       "<div>\n",
       "<style scoped>\n",
       "    .dataframe tbody tr th:only-of-type {\n",
       "        vertical-align: middle;\n",
       "    }\n",
       "\n",
       "    .dataframe tbody tr th {\n",
       "        vertical-align: top;\n",
       "    }\n",
       "\n",
       "    .dataframe thead th {\n",
       "        text-align: right;\n",
       "    }\n",
       "</style>\n",
       "<table border=\"1\" class=\"dataframe\">\n",
       "  <thead>\n",
       "    <tr style=\"text-align: right;\">\n",
       "      <th></th>\n",
       "      <th>gender</th>\n",
       "      <th>ssc_p</th>\n",
       "      <th>ssc_b</th>\n",
       "      <th>hsc_p</th>\n",
       "      <th>hsc_b</th>\n",
       "      <th>hsc_s</th>\n",
       "      <th>degree_p</th>\n",
       "      <th>degree_t</th>\n",
       "      <th>workex</th>\n",
       "      <th>etest_p</th>\n",
       "      <th>specialisation</th>\n",
       "      <th>mba_p</th>\n",
       "      <th>status</th>\n",
       "    </tr>\n",
       "  </thead>\n",
       "  <tbody>\n",
       "    <tr>\n",
       "      <th>0</th>\n",
       "      <td>M</td>\n",
       "      <td>67.0</td>\n",
       "      <td>Others</td>\n",
       "      <td>91.0</td>\n",
       "      <td>Others</td>\n",
       "      <td>Commerce</td>\n",
       "      <td>58.0</td>\n",
       "      <td>Sci&amp;Tech</td>\n",
       "      <td>No</td>\n",
       "      <td>55.0</td>\n",
       "      <td>Mkt&amp;HR</td>\n",
       "      <td>58.8</td>\n",
       "      <td>Placed</td>\n",
       "    </tr>\n",
       "  </tbody>\n",
       "</table>\n",
       "</div>"
      ],
      "text/plain": [
       "  gender  ssc_p   ssc_b  hsc_p   hsc_b     hsc_s  degree_p  degree_t workex  \\\n",
       "0      M   67.0  Others   91.0  Others  Commerce      58.0  Sci&Tech     No   \n",
       "\n",
       "   etest_p specialisation  mba_p  status  \n",
       "0     55.0         Mkt&HR   58.8  Placed  "
      ]
     },
     "execution_count": 19,
     "metadata": {},
     "output_type": "execute_result"
    }
   ],
   "source": [
    "data.head(1)"
   ]
  },
  {
   "cell_type": "markdown",
   "metadata": {},
   "source": [
    "#### Encoding the Categorical Columns"
   ]
  },
  {
   "cell_type": "code",
   "execution_count": 20,
   "metadata": {
    "ExecuteTime": {
     "end_time": "2023-01-20T05:25:34.798953Z",
     "start_time": "2023-01-20T05:25:34.779007Z"
    }
   },
   "outputs": [
    {
     "data": {
      "text/plain": [
       "array(['Others', 'Central'], dtype=object)"
      ]
     },
     "execution_count": 20,
     "metadata": {},
     "output_type": "execute_result"
    }
   ],
   "source": [
    "data['ssc_b'].unique()"
   ]
  },
  {
   "cell_type": "code",
   "execution_count": 21,
   "metadata": {
    "ExecuteTime": {
     "end_time": "2023-01-20T05:25:34.862782Z",
     "start_time": "2023-01-20T05:25:34.852810Z"
    }
   },
   "outputs": [],
   "source": [
    "data['ssc_b'] = data['ssc_b'].map({'Central':1,'Others':0})"
   ]
  },
  {
   "cell_type": "code",
   "execution_count": 22,
   "metadata": {
    "ExecuteTime": {
     "end_time": "2023-01-20T05:25:35.604799Z",
     "start_time": "2023-01-20T05:25:35.584853Z"
    }
   },
   "outputs": [
    {
     "data": {
      "text/html": [
       "<div>\n",
       "<style scoped>\n",
       "    .dataframe tbody tr th:only-of-type {\n",
       "        vertical-align: middle;\n",
       "    }\n",
       "\n",
       "    .dataframe tbody tr th {\n",
       "        vertical-align: top;\n",
       "    }\n",
       "\n",
       "    .dataframe thead th {\n",
       "        text-align: right;\n",
       "    }\n",
       "</style>\n",
       "<table border=\"1\" class=\"dataframe\">\n",
       "  <thead>\n",
       "    <tr style=\"text-align: right;\">\n",
       "      <th></th>\n",
       "      <th>gender</th>\n",
       "      <th>ssc_p</th>\n",
       "      <th>ssc_b</th>\n",
       "      <th>hsc_p</th>\n",
       "      <th>hsc_b</th>\n",
       "      <th>hsc_s</th>\n",
       "      <th>degree_p</th>\n",
       "      <th>degree_t</th>\n",
       "      <th>workex</th>\n",
       "      <th>etest_p</th>\n",
       "      <th>specialisation</th>\n",
       "      <th>mba_p</th>\n",
       "      <th>status</th>\n",
       "    </tr>\n",
       "  </thead>\n",
       "  <tbody>\n",
       "    <tr>\n",
       "      <th>0</th>\n",
       "      <td>M</td>\n",
       "      <td>67.00</td>\n",
       "      <td>0</td>\n",
       "      <td>91.00</td>\n",
       "      <td>Others</td>\n",
       "      <td>Commerce</td>\n",
       "      <td>58.00</td>\n",
       "      <td>Sci&amp;Tech</td>\n",
       "      <td>No</td>\n",
       "      <td>55.0</td>\n",
       "      <td>Mkt&amp;HR</td>\n",
       "      <td>58.80</td>\n",
       "      <td>Placed</td>\n",
       "    </tr>\n",
       "    <tr>\n",
       "      <th>1</th>\n",
       "      <td>M</td>\n",
       "      <td>79.33</td>\n",
       "      <td>1</td>\n",
       "      <td>78.33</td>\n",
       "      <td>Others</td>\n",
       "      <td>Science</td>\n",
       "      <td>77.48</td>\n",
       "      <td>Sci&amp;Tech</td>\n",
       "      <td>Yes</td>\n",
       "      <td>86.5</td>\n",
       "      <td>Mkt&amp;Fin</td>\n",
       "      <td>66.28</td>\n",
       "      <td>Placed</td>\n",
       "    </tr>\n",
       "  </tbody>\n",
       "</table>\n",
       "</div>"
      ],
      "text/plain": [
       "  gender  ssc_p  ssc_b  hsc_p   hsc_b     hsc_s  degree_p  degree_t workex  \\\n",
       "0      M  67.00      0  91.00  Others  Commerce     58.00  Sci&Tech     No   \n",
       "1      M  79.33      1  78.33  Others   Science     77.48  Sci&Tech    Yes   \n",
       "\n",
       "   etest_p specialisation  mba_p  status  \n",
       "0     55.0         Mkt&HR  58.80  Placed  \n",
       "1     86.5        Mkt&Fin  66.28  Placed  "
      ]
     },
     "execution_count": 22,
     "metadata": {},
     "output_type": "execute_result"
    }
   ],
   "source": [
    "data.head(2)"
   ]
  },
  {
   "cell_type": "code",
   "execution_count": 23,
   "metadata": {
    "ExecuteTime": {
     "end_time": "2023-01-20T05:25:36.115434Z",
     "start_time": "2023-01-20T05:25:36.105462Z"
    }
   },
   "outputs": [
    {
     "data": {
      "text/plain": [
       "array(['Others', 'Central'], dtype=object)"
      ]
     },
     "execution_count": 23,
     "metadata": {},
     "output_type": "execute_result"
    }
   ],
   "source": [
    "data['hsc_b'].unique()"
   ]
  },
  {
   "cell_type": "code",
   "execution_count": 24,
   "metadata": {
    "ExecuteTime": {
     "end_time": "2023-01-20T05:25:37.532646Z",
     "start_time": "2023-01-20T05:25:37.523669Z"
    }
   },
   "outputs": [],
   "source": [
    "data['hsc_b'] = data['hsc_b'].map({'Central':1,'Others':0})"
   ]
  },
  {
   "cell_type": "code",
   "execution_count": 25,
   "metadata": {
    "ExecuteTime": {
     "end_time": "2023-01-20T05:25:37.628388Z",
     "start_time": "2023-01-20T05:25:37.601461Z"
    }
   },
   "outputs": [
    {
     "data": {
      "text/html": [
       "<div>\n",
       "<style scoped>\n",
       "    .dataframe tbody tr th:only-of-type {\n",
       "        vertical-align: middle;\n",
       "    }\n",
       "\n",
       "    .dataframe tbody tr th {\n",
       "        vertical-align: top;\n",
       "    }\n",
       "\n",
       "    .dataframe thead th {\n",
       "        text-align: right;\n",
       "    }\n",
       "</style>\n",
       "<table border=\"1\" class=\"dataframe\">\n",
       "  <thead>\n",
       "    <tr style=\"text-align: right;\">\n",
       "      <th></th>\n",
       "      <th>gender</th>\n",
       "      <th>ssc_p</th>\n",
       "      <th>ssc_b</th>\n",
       "      <th>hsc_p</th>\n",
       "      <th>hsc_b</th>\n",
       "      <th>hsc_s</th>\n",
       "      <th>degree_p</th>\n",
       "      <th>degree_t</th>\n",
       "      <th>workex</th>\n",
       "      <th>etest_p</th>\n",
       "      <th>specialisation</th>\n",
       "      <th>mba_p</th>\n",
       "      <th>status</th>\n",
       "    </tr>\n",
       "  </thead>\n",
       "  <tbody>\n",
       "    <tr>\n",
       "      <th>0</th>\n",
       "      <td>M</td>\n",
       "      <td>67.00</td>\n",
       "      <td>0</td>\n",
       "      <td>91.00</td>\n",
       "      <td>0</td>\n",
       "      <td>Commerce</td>\n",
       "      <td>58.00</td>\n",
       "      <td>Sci&amp;Tech</td>\n",
       "      <td>No</td>\n",
       "      <td>55.0</td>\n",
       "      <td>Mkt&amp;HR</td>\n",
       "      <td>58.80</td>\n",
       "      <td>Placed</td>\n",
       "    </tr>\n",
       "    <tr>\n",
       "      <th>1</th>\n",
       "      <td>M</td>\n",
       "      <td>79.33</td>\n",
       "      <td>1</td>\n",
       "      <td>78.33</td>\n",
       "      <td>0</td>\n",
       "      <td>Science</td>\n",
       "      <td>77.48</td>\n",
       "      <td>Sci&amp;Tech</td>\n",
       "      <td>Yes</td>\n",
       "      <td>86.5</td>\n",
       "      <td>Mkt&amp;Fin</td>\n",
       "      <td>66.28</td>\n",
       "      <td>Placed</td>\n",
       "    </tr>\n",
       "  </tbody>\n",
       "</table>\n",
       "</div>"
      ],
      "text/plain": [
       "  gender  ssc_p  ssc_b  hsc_p  hsc_b     hsc_s  degree_p  degree_t workex  \\\n",
       "0      M  67.00      0  91.00      0  Commerce     58.00  Sci&Tech     No   \n",
       "1      M  79.33      1  78.33      0   Science     77.48  Sci&Tech    Yes   \n",
       "\n",
       "   etest_p specialisation  mba_p  status  \n",
       "0     55.0         Mkt&HR  58.80  Placed  \n",
       "1     86.5        Mkt&Fin  66.28  Placed  "
      ]
     },
     "execution_count": 25,
     "metadata": {},
     "output_type": "execute_result"
    }
   ],
   "source": [
    "data.head(2)"
   ]
  },
  {
   "cell_type": "code",
   "execution_count": 26,
   "metadata": {
    "ExecuteTime": {
     "end_time": "2023-01-20T05:25:37.994721Z",
     "start_time": "2023-01-20T05:25:37.982753Z"
    }
   },
   "outputs": [
    {
     "data": {
      "text/plain": [
       "array(['Commerce', 'Science', 'Arts'], dtype=object)"
      ]
     },
     "execution_count": 26,
     "metadata": {},
     "output_type": "execute_result"
    }
   ],
   "source": [
    "data['hsc_s'].unique()"
   ]
  },
  {
   "cell_type": "code",
   "execution_count": 27,
   "metadata": {
    "ExecuteTime": {
     "end_time": "2023-01-20T05:25:38.603752Z",
     "start_time": "2023-01-20T05:25:38.584799Z"
    }
   },
   "outputs": [],
   "source": [
    "data['hsc_s'] = data['hsc_s'].map({'Science':2,'Commerce':1,'Arts':0})"
   ]
  },
  {
   "cell_type": "code",
   "execution_count": 28,
   "metadata": {
    "ExecuteTime": {
     "end_time": "2023-01-20T05:25:39.185211Z",
     "start_time": "2023-01-20T05:25:39.159279Z"
    }
   },
   "outputs": [
    {
     "data": {
      "text/html": [
       "<div>\n",
       "<style scoped>\n",
       "    .dataframe tbody tr th:only-of-type {\n",
       "        vertical-align: middle;\n",
       "    }\n",
       "\n",
       "    .dataframe tbody tr th {\n",
       "        vertical-align: top;\n",
       "    }\n",
       "\n",
       "    .dataframe thead th {\n",
       "        text-align: right;\n",
       "    }\n",
       "</style>\n",
       "<table border=\"1\" class=\"dataframe\">\n",
       "  <thead>\n",
       "    <tr style=\"text-align: right;\">\n",
       "      <th></th>\n",
       "      <th>gender</th>\n",
       "      <th>ssc_p</th>\n",
       "      <th>ssc_b</th>\n",
       "      <th>hsc_p</th>\n",
       "      <th>hsc_b</th>\n",
       "      <th>hsc_s</th>\n",
       "      <th>degree_p</th>\n",
       "      <th>degree_t</th>\n",
       "      <th>workex</th>\n",
       "      <th>etest_p</th>\n",
       "      <th>specialisation</th>\n",
       "      <th>mba_p</th>\n",
       "      <th>status</th>\n",
       "    </tr>\n",
       "  </thead>\n",
       "  <tbody>\n",
       "    <tr>\n",
       "      <th>0</th>\n",
       "      <td>M</td>\n",
       "      <td>67.00</td>\n",
       "      <td>0</td>\n",
       "      <td>91.00</td>\n",
       "      <td>0</td>\n",
       "      <td>1</td>\n",
       "      <td>58.00</td>\n",
       "      <td>Sci&amp;Tech</td>\n",
       "      <td>No</td>\n",
       "      <td>55.0</td>\n",
       "      <td>Mkt&amp;HR</td>\n",
       "      <td>58.80</td>\n",
       "      <td>Placed</td>\n",
       "    </tr>\n",
       "    <tr>\n",
       "      <th>1</th>\n",
       "      <td>M</td>\n",
       "      <td>79.33</td>\n",
       "      <td>1</td>\n",
       "      <td>78.33</td>\n",
       "      <td>0</td>\n",
       "      <td>2</td>\n",
       "      <td>77.48</td>\n",
       "      <td>Sci&amp;Tech</td>\n",
       "      <td>Yes</td>\n",
       "      <td>86.5</td>\n",
       "      <td>Mkt&amp;Fin</td>\n",
       "      <td>66.28</td>\n",
       "      <td>Placed</td>\n",
       "    </tr>\n",
       "    <tr>\n",
       "      <th>2</th>\n",
       "      <td>M</td>\n",
       "      <td>65.00</td>\n",
       "      <td>1</td>\n",
       "      <td>68.00</td>\n",
       "      <td>1</td>\n",
       "      <td>0</td>\n",
       "      <td>64.00</td>\n",
       "      <td>Comm&amp;Mgmt</td>\n",
       "      <td>No</td>\n",
       "      <td>75.0</td>\n",
       "      <td>Mkt&amp;Fin</td>\n",
       "      <td>57.80</td>\n",
       "      <td>Placed</td>\n",
       "    </tr>\n",
       "    <tr>\n",
       "      <th>3</th>\n",
       "      <td>M</td>\n",
       "      <td>56.00</td>\n",
       "      <td>1</td>\n",
       "      <td>52.00</td>\n",
       "      <td>1</td>\n",
       "      <td>2</td>\n",
       "      <td>52.00</td>\n",
       "      <td>Sci&amp;Tech</td>\n",
       "      <td>No</td>\n",
       "      <td>66.0</td>\n",
       "      <td>Mkt&amp;HR</td>\n",
       "      <td>59.43</td>\n",
       "      <td>Not Placed</td>\n",
       "    </tr>\n",
       "    <tr>\n",
       "      <th>4</th>\n",
       "      <td>M</td>\n",
       "      <td>85.80</td>\n",
       "      <td>1</td>\n",
       "      <td>73.60</td>\n",
       "      <td>1</td>\n",
       "      <td>1</td>\n",
       "      <td>73.30</td>\n",
       "      <td>Comm&amp;Mgmt</td>\n",
       "      <td>No</td>\n",
       "      <td>96.8</td>\n",
       "      <td>Mkt&amp;Fin</td>\n",
       "      <td>55.50</td>\n",
       "      <td>Placed</td>\n",
       "    </tr>\n",
       "  </tbody>\n",
       "</table>\n",
       "</div>"
      ],
      "text/plain": [
       "  gender  ssc_p  ssc_b  hsc_p  hsc_b  hsc_s  degree_p   degree_t workex  \\\n",
       "0      M  67.00      0  91.00      0      1     58.00   Sci&Tech     No   \n",
       "1      M  79.33      1  78.33      0      2     77.48   Sci&Tech    Yes   \n",
       "2      M  65.00      1  68.00      1      0     64.00  Comm&Mgmt     No   \n",
       "3      M  56.00      1  52.00      1      2     52.00   Sci&Tech     No   \n",
       "4      M  85.80      1  73.60      1      1     73.30  Comm&Mgmt     No   \n",
       "\n",
       "   etest_p specialisation  mba_p      status  \n",
       "0     55.0         Mkt&HR  58.80      Placed  \n",
       "1     86.5        Mkt&Fin  66.28      Placed  \n",
       "2     75.0        Mkt&Fin  57.80      Placed  \n",
       "3     66.0         Mkt&HR  59.43  Not Placed  \n",
       "4     96.8        Mkt&Fin  55.50      Placed  "
      ]
     },
     "execution_count": 28,
     "metadata": {},
     "output_type": "execute_result"
    }
   ],
   "source": [
    "data.head()"
   ]
  },
  {
   "cell_type": "code",
   "execution_count": 29,
   "metadata": {
    "ExecuteTime": {
     "end_time": "2023-01-20T05:25:39.892901Z",
     "start_time": "2023-01-20T05:25:39.878941Z"
    }
   },
   "outputs": [
    {
     "data": {
      "text/plain": [
       "array(['Sci&Tech', 'Comm&Mgmt', 'Others'], dtype=object)"
      ]
     },
     "execution_count": 29,
     "metadata": {},
     "output_type": "execute_result"
    }
   ],
   "source": [
    "data['degree_t'].unique()"
   ]
  },
  {
   "cell_type": "code",
   "execution_count": 30,
   "metadata": {
    "ExecuteTime": {
     "end_time": "2023-01-20T05:25:40.710387Z",
     "start_time": "2023-01-20T05:25:40.688446Z"
    }
   },
   "outputs": [],
   "source": [
    "data['degree_t'] = data['degree_t'].map({'Sci&Tech':2,'Comm&Mgmt':1,'Others':0})"
   ]
  },
  {
   "cell_type": "code",
   "execution_count": 31,
   "metadata": {
    "ExecuteTime": {
     "end_time": "2023-01-20T05:25:41.340138Z",
     "start_time": "2023-01-20T05:25:41.305234Z"
    }
   },
   "outputs": [
    {
     "data": {
      "text/html": [
       "<div>\n",
       "<style scoped>\n",
       "    .dataframe tbody tr th:only-of-type {\n",
       "        vertical-align: middle;\n",
       "    }\n",
       "\n",
       "    .dataframe tbody tr th {\n",
       "        vertical-align: top;\n",
       "    }\n",
       "\n",
       "    .dataframe thead th {\n",
       "        text-align: right;\n",
       "    }\n",
       "</style>\n",
       "<table border=\"1\" class=\"dataframe\">\n",
       "  <thead>\n",
       "    <tr style=\"text-align: right;\">\n",
       "      <th></th>\n",
       "      <th>gender</th>\n",
       "      <th>ssc_p</th>\n",
       "      <th>ssc_b</th>\n",
       "      <th>hsc_p</th>\n",
       "      <th>hsc_b</th>\n",
       "      <th>hsc_s</th>\n",
       "      <th>degree_p</th>\n",
       "      <th>degree_t</th>\n",
       "      <th>workex</th>\n",
       "      <th>etest_p</th>\n",
       "      <th>specialisation</th>\n",
       "      <th>mba_p</th>\n",
       "      <th>status</th>\n",
       "    </tr>\n",
       "  </thead>\n",
       "  <tbody>\n",
       "    <tr>\n",
       "      <th>0</th>\n",
       "      <td>M</td>\n",
       "      <td>67.00</td>\n",
       "      <td>0</td>\n",
       "      <td>91.00</td>\n",
       "      <td>0</td>\n",
       "      <td>1</td>\n",
       "      <td>58.00</td>\n",
       "      <td>2</td>\n",
       "      <td>No</td>\n",
       "      <td>55.0</td>\n",
       "      <td>Mkt&amp;HR</td>\n",
       "      <td>58.80</td>\n",
       "      <td>Placed</td>\n",
       "    </tr>\n",
       "    <tr>\n",
       "      <th>1</th>\n",
       "      <td>M</td>\n",
       "      <td>79.33</td>\n",
       "      <td>1</td>\n",
       "      <td>78.33</td>\n",
       "      <td>0</td>\n",
       "      <td>2</td>\n",
       "      <td>77.48</td>\n",
       "      <td>2</td>\n",
       "      <td>Yes</td>\n",
       "      <td>86.5</td>\n",
       "      <td>Mkt&amp;Fin</td>\n",
       "      <td>66.28</td>\n",
       "      <td>Placed</td>\n",
       "    </tr>\n",
       "  </tbody>\n",
       "</table>\n",
       "</div>"
      ],
      "text/plain": [
       "  gender  ssc_p  ssc_b  hsc_p  hsc_b  hsc_s  degree_p  degree_t workex  \\\n",
       "0      M  67.00      0  91.00      0      1     58.00         2     No   \n",
       "1      M  79.33      1  78.33      0      2     77.48         2    Yes   \n",
       "\n",
       "   etest_p specialisation  mba_p  status  \n",
       "0     55.0         Mkt&HR  58.80  Placed  \n",
       "1     86.5        Mkt&Fin  66.28  Placed  "
      ]
     },
     "execution_count": 31,
     "metadata": {},
     "output_type": "execute_result"
    }
   ],
   "source": [
    "data.head(2)"
   ]
  },
  {
   "cell_type": "code",
   "execution_count": 32,
   "metadata": {
    "ExecuteTime": {
     "end_time": "2023-01-20T05:25:41.978665Z",
     "start_time": "2023-01-20T05:25:41.965700Z"
    }
   },
   "outputs": [
    {
     "data": {
      "text/plain": [
       "array(['Mkt&HR', 'Mkt&Fin'], dtype=object)"
      ]
     },
     "execution_count": 32,
     "metadata": {},
     "output_type": "execute_result"
    }
   ],
   "source": [
    "data['specialisation'].unique()"
   ]
  },
  {
   "cell_type": "code",
   "execution_count": 33,
   "metadata": {
    "ExecuteTime": {
     "end_time": "2023-01-20T05:25:42.672280Z",
     "start_time": "2023-01-20T05:25:42.662305Z"
    }
   },
   "outputs": [],
   "source": [
    "data['specialisation'] =data['specialisation'].map({'Mkt&HR':1,'Mkt&Fin':0})"
   ]
  },
  {
   "cell_type": "code",
   "execution_count": 34,
   "metadata": {
    "ExecuteTime": {
     "end_time": "2023-01-20T05:25:43.318008Z",
     "start_time": "2023-01-20T05:25:43.290086Z"
    }
   },
   "outputs": [
    {
     "data": {
      "text/html": [
       "<div>\n",
       "<style scoped>\n",
       "    .dataframe tbody tr th:only-of-type {\n",
       "        vertical-align: middle;\n",
       "    }\n",
       "\n",
       "    .dataframe tbody tr th {\n",
       "        vertical-align: top;\n",
       "    }\n",
       "\n",
       "    .dataframe thead th {\n",
       "        text-align: right;\n",
       "    }\n",
       "</style>\n",
       "<table border=\"1\" class=\"dataframe\">\n",
       "  <thead>\n",
       "    <tr style=\"text-align: right;\">\n",
       "      <th></th>\n",
       "      <th>gender</th>\n",
       "      <th>ssc_p</th>\n",
       "      <th>ssc_b</th>\n",
       "      <th>hsc_p</th>\n",
       "      <th>hsc_b</th>\n",
       "      <th>hsc_s</th>\n",
       "      <th>degree_p</th>\n",
       "      <th>degree_t</th>\n",
       "      <th>workex</th>\n",
       "      <th>etest_p</th>\n",
       "      <th>specialisation</th>\n",
       "      <th>mba_p</th>\n",
       "      <th>status</th>\n",
       "    </tr>\n",
       "  </thead>\n",
       "  <tbody>\n",
       "    <tr>\n",
       "      <th>0</th>\n",
       "      <td>M</td>\n",
       "      <td>67.00</td>\n",
       "      <td>0</td>\n",
       "      <td>91.00</td>\n",
       "      <td>0</td>\n",
       "      <td>1</td>\n",
       "      <td>58.00</td>\n",
       "      <td>2</td>\n",
       "      <td>No</td>\n",
       "      <td>55.0</td>\n",
       "      <td>1</td>\n",
       "      <td>58.80</td>\n",
       "      <td>Placed</td>\n",
       "    </tr>\n",
       "    <tr>\n",
       "      <th>1</th>\n",
       "      <td>M</td>\n",
       "      <td>79.33</td>\n",
       "      <td>1</td>\n",
       "      <td>78.33</td>\n",
       "      <td>0</td>\n",
       "      <td>2</td>\n",
       "      <td>77.48</td>\n",
       "      <td>2</td>\n",
       "      <td>Yes</td>\n",
       "      <td>86.5</td>\n",
       "      <td>0</td>\n",
       "      <td>66.28</td>\n",
       "      <td>Placed</td>\n",
       "    </tr>\n",
       "  </tbody>\n",
       "</table>\n",
       "</div>"
      ],
      "text/plain": [
       "  gender  ssc_p  ssc_b  hsc_p  hsc_b  hsc_s  degree_p  degree_t workex  \\\n",
       "0      M  67.00      0  91.00      0      1     58.00         2     No   \n",
       "1      M  79.33      1  78.33      0      2     77.48         2    Yes   \n",
       "\n",
       "   etest_p  specialisation  mba_p  status  \n",
       "0     55.0               1  58.80  Placed  \n",
       "1     86.5               0  66.28  Placed  "
      ]
     },
     "execution_count": 34,
     "metadata": {},
     "output_type": "execute_result"
    }
   ],
   "source": [
    "data.head(2)"
   ]
  },
  {
   "cell_type": "code",
   "execution_count": 35,
   "metadata": {
    "ExecuteTime": {
     "end_time": "2023-01-20T05:25:43.964339Z",
     "start_time": "2023-01-20T05:25:43.948380Z"
    }
   },
   "outputs": [
    {
     "data": {
      "text/plain": [
       "array(['No', 'Yes'], dtype=object)"
      ]
     },
     "execution_count": 35,
     "metadata": {},
     "output_type": "execute_result"
    }
   ],
   "source": [
    "data['workex'].unique()"
   ]
  },
  {
   "cell_type": "code",
   "execution_count": 36,
   "metadata": {
    "ExecuteTime": {
     "end_time": "2023-01-20T05:25:44.656010Z",
     "start_time": "2023-01-20T05:25:44.646036Z"
    }
   },
   "outputs": [],
   "source": [
    "data['workex'] = data['workex'].map({'Yes':1,'No':0})"
   ]
  },
  {
   "cell_type": "code",
   "execution_count": 37,
   "metadata": {
    "ExecuteTime": {
     "end_time": "2023-01-20T05:25:45.271674Z",
     "start_time": "2023-01-20T05:25:45.242751Z"
    }
   },
   "outputs": [
    {
     "data": {
      "text/html": [
       "<div>\n",
       "<style scoped>\n",
       "    .dataframe tbody tr th:only-of-type {\n",
       "        vertical-align: middle;\n",
       "    }\n",
       "\n",
       "    .dataframe tbody tr th {\n",
       "        vertical-align: top;\n",
       "    }\n",
       "\n",
       "    .dataframe thead th {\n",
       "        text-align: right;\n",
       "    }\n",
       "</style>\n",
       "<table border=\"1\" class=\"dataframe\">\n",
       "  <thead>\n",
       "    <tr style=\"text-align: right;\">\n",
       "      <th></th>\n",
       "      <th>gender</th>\n",
       "      <th>ssc_p</th>\n",
       "      <th>ssc_b</th>\n",
       "      <th>hsc_p</th>\n",
       "      <th>hsc_b</th>\n",
       "      <th>hsc_s</th>\n",
       "      <th>degree_p</th>\n",
       "      <th>degree_t</th>\n",
       "      <th>workex</th>\n",
       "      <th>etest_p</th>\n",
       "      <th>specialisation</th>\n",
       "      <th>mba_p</th>\n",
       "      <th>status</th>\n",
       "    </tr>\n",
       "  </thead>\n",
       "  <tbody>\n",
       "    <tr>\n",
       "      <th>0</th>\n",
       "      <td>M</td>\n",
       "      <td>67.00</td>\n",
       "      <td>0</td>\n",
       "      <td>91.00</td>\n",
       "      <td>0</td>\n",
       "      <td>1</td>\n",
       "      <td>58.00</td>\n",
       "      <td>2</td>\n",
       "      <td>0</td>\n",
       "      <td>55.0</td>\n",
       "      <td>1</td>\n",
       "      <td>58.80</td>\n",
       "      <td>Placed</td>\n",
       "    </tr>\n",
       "    <tr>\n",
       "      <th>1</th>\n",
       "      <td>M</td>\n",
       "      <td>79.33</td>\n",
       "      <td>1</td>\n",
       "      <td>78.33</td>\n",
       "      <td>0</td>\n",
       "      <td>2</td>\n",
       "      <td>77.48</td>\n",
       "      <td>2</td>\n",
       "      <td>1</td>\n",
       "      <td>86.5</td>\n",
       "      <td>0</td>\n",
       "      <td>66.28</td>\n",
       "      <td>Placed</td>\n",
       "    </tr>\n",
       "  </tbody>\n",
       "</table>\n",
       "</div>"
      ],
      "text/plain": [
       "  gender  ssc_p  ssc_b  hsc_p  hsc_b  hsc_s  degree_p  degree_t  workex  \\\n",
       "0      M  67.00      0  91.00      0      1     58.00         2       0   \n",
       "1      M  79.33      1  78.33      0      2     77.48         2       1   \n",
       "\n",
       "   etest_p  specialisation  mba_p  status  \n",
       "0     55.0               1  58.80  Placed  \n",
       "1     86.5               0  66.28  Placed  "
      ]
     },
     "execution_count": 37,
     "metadata": {},
     "output_type": "execute_result"
    }
   ],
   "source": [
    "data.head(2)"
   ]
  },
  {
   "cell_type": "code",
   "execution_count": 38,
   "metadata": {
    "ExecuteTime": {
     "end_time": "2023-01-20T05:25:45.869636Z",
     "start_time": "2023-01-20T05:25:45.856670Z"
    }
   },
   "outputs": [
    {
     "data": {
      "text/plain": [
       "array(['Placed', 'Not Placed'], dtype=object)"
      ]
     },
     "execution_count": 38,
     "metadata": {},
     "output_type": "execute_result"
    }
   ],
   "source": [
    "data['status'].unique()"
   ]
  },
  {
   "cell_type": "code",
   "execution_count": 39,
   "metadata": {
    "ExecuteTime": {
     "end_time": "2023-01-20T05:25:46.467185Z",
     "start_time": "2023-01-20T05:25:46.458207Z"
    }
   },
   "outputs": [],
   "source": [
    "data['status'] = data['status'].map({'Placed':1,'Not Placed':0})"
   ]
  },
  {
   "cell_type": "code",
   "execution_count": 40,
   "metadata": {
    "ExecuteTime": {
     "end_time": "2023-01-20T05:25:47.141698Z",
     "start_time": "2023-01-20T05:25:47.105793Z"
    }
   },
   "outputs": [
    {
     "data": {
      "text/html": [
       "<div>\n",
       "<style scoped>\n",
       "    .dataframe tbody tr th:only-of-type {\n",
       "        vertical-align: middle;\n",
       "    }\n",
       "\n",
       "    .dataframe tbody tr th {\n",
       "        vertical-align: top;\n",
       "    }\n",
       "\n",
       "    .dataframe thead th {\n",
       "        text-align: right;\n",
       "    }\n",
       "</style>\n",
       "<table border=\"1\" class=\"dataframe\">\n",
       "  <thead>\n",
       "    <tr style=\"text-align: right;\">\n",
       "      <th></th>\n",
       "      <th>gender</th>\n",
       "      <th>ssc_p</th>\n",
       "      <th>ssc_b</th>\n",
       "      <th>hsc_p</th>\n",
       "      <th>hsc_b</th>\n",
       "      <th>hsc_s</th>\n",
       "      <th>degree_p</th>\n",
       "      <th>degree_t</th>\n",
       "      <th>workex</th>\n",
       "      <th>etest_p</th>\n",
       "      <th>specialisation</th>\n",
       "      <th>mba_p</th>\n",
       "      <th>status</th>\n",
       "    </tr>\n",
       "  </thead>\n",
       "  <tbody>\n",
       "    <tr>\n",
       "      <th>0</th>\n",
       "      <td>M</td>\n",
       "      <td>67.00</td>\n",
       "      <td>0</td>\n",
       "      <td>91.00</td>\n",
       "      <td>0</td>\n",
       "      <td>1</td>\n",
       "      <td>58.00</td>\n",
       "      <td>2</td>\n",
       "      <td>0</td>\n",
       "      <td>55.0</td>\n",
       "      <td>1</td>\n",
       "      <td>58.80</td>\n",
       "      <td>1</td>\n",
       "    </tr>\n",
       "    <tr>\n",
       "      <th>1</th>\n",
       "      <td>M</td>\n",
       "      <td>79.33</td>\n",
       "      <td>1</td>\n",
       "      <td>78.33</td>\n",
       "      <td>0</td>\n",
       "      <td>2</td>\n",
       "      <td>77.48</td>\n",
       "      <td>2</td>\n",
       "      <td>1</td>\n",
       "      <td>86.5</td>\n",
       "      <td>0</td>\n",
       "      <td>66.28</td>\n",
       "      <td>1</td>\n",
       "    </tr>\n",
       "    <tr>\n",
       "      <th>2</th>\n",
       "      <td>M</td>\n",
       "      <td>65.00</td>\n",
       "      <td>1</td>\n",
       "      <td>68.00</td>\n",
       "      <td>1</td>\n",
       "      <td>0</td>\n",
       "      <td>64.00</td>\n",
       "      <td>1</td>\n",
       "      <td>0</td>\n",
       "      <td>75.0</td>\n",
       "      <td>0</td>\n",
       "      <td>57.80</td>\n",
       "      <td>1</td>\n",
       "    </tr>\n",
       "    <tr>\n",
       "      <th>3</th>\n",
       "      <td>M</td>\n",
       "      <td>56.00</td>\n",
       "      <td>1</td>\n",
       "      <td>52.00</td>\n",
       "      <td>1</td>\n",
       "      <td>2</td>\n",
       "      <td>52.00</td>\n",
       "      <td>2</td>\n",
       "      <td>0</td>\n",
       "      <td>66.0</td>\n",
       "      <td>1</td>\n",
       "      <td>59.43</td>\n",
       "      <td>0</td>\n",
       "    </tr>\n",
       "    <tr>\n",
       "      <th>4</th>\n",
       "      <td>M</td>\n",
       "      <td>85.80</td>\n",
       "      <td>1</td>\n",
       "      <td>73.60</td>\n",
       "      <td>1</td>\n",
       "      <td>1</td>\n",
       "      <td>73.30</td>\n",
       "      <td>1</td>\n",
       "      <td>0</td>\n",
       "      <td>96.8</td>\n",
       "      <td>0</td>\n",
       "      <td>55.50</td>\n",
       "      <td>1</td>\n",
       "    </tr>\n",
       "  </tbody>\n",
       "</table>\n",
       "</div>"
      ],
      "text/plain": [
       "  gender  ssc_p  ssc_b  hsc_p  hsc_b  hsc_s  degree_p  degree_t  workex  \\\n",
       "0      M  67.00      0  91.00      0      1     58.00         2       0   \n",
       "1      M  79.33      1  78.33      0      2     77.48         2       1   \n",
       "2      M  65.00      1  68.00      1      0     64.00         1       0   \n",
       "3      M  56.00      1  52.00      1      2     52.00         2       0   \n",
       "4      M  85.80      1  73.60      1      1     73.30         1       0   \n",
       "\n",
       "   etest_p  specialisation  mba_p  status  \n",
       "0     55.0               1  58.80       1  \n",
       "1     86.5               0  66.28       1  \n",
       "2     75.0               0  57.80       1  \n",
       "3     66.0               1  59.43       0  \n",
       "4     96.8               0  55.50       1  "
      ]
     },
     "execution_count": 40,
     "metadata": {},
     "output_type": "execute_result"
    }
   ],
   "source": [
    "data.head()"
   ]
  },
  {
   "cell_type": "code",
   "execution_count": 49,
   "metadata": {
    "ExecuteTime": {
     "end_time": "2023-01-20T05:28:32.115892Z",
     "start_time": "2023-01-20T05:28:32.097937Z"
    }
   },
   "outputs": [],
   "source": [
    "df= data.drop('gender', axis= 1)"
   ]
  },
  {
   "cell_type": "markdown",
   "metadata": {},
   "source": [
    "### 9. Store Feature Matrix In X and Response(Target) In Vector y"
   ]
  },
  {
   "cell_type": "code",
   "execution_count": 50,
   "metadata": {
    "ExecuteTime": {
     "end_time": "2023-01-20T05:28:37.450940Z",
     "start_time": "2023-01-20T05:28:37.434983Z"
    }
   },
   "outputs": [
    {
     "data": {
      "text/plain": [
       "Index(['ssc_p', 'ssc_b', 'hsc_p', 'hsc_b', 'hsc_s', 'degree_p', 'degree_t',\n",
       "       'workex', 'etest_p', 'specialisation', 'mba_p', 'status'],\n",
       "      dtype='object')"
      ]
     },
     "execution_count": 50,
     "metadata": {},
     "output_type": "execute_result"
    }
   ],
   "source": [
    "df.columns"
   ]
  },
  {
   "cell_type": "code",
   "execution_count": 51,
   "metadata": {
    "ExecuteTime": {
     "end_time": "2023-01-20T05:28:44.685934Z",
     "start_time": "2023-01-20T05:28:44.670974Z"
    }
   },
   "outputs": [],
   "source": [
    "X = df.drop('status',axis=1)\n",
    "y= df['status']"
   ]
  },
  {
   "cell_type": "code",
   "execution_count": 52,
   "metadata": {
    "ExecuteTime": {
     "end_time": "2023-01-20T05:28:45.467819Z",
     "start_time": "2023-01-20T05:28:45.448870Z"
    }
   },
   "outputs": [
    {
     "data": {
      "text/plain": [
       "0      1\n",
       "1      1\n",
       "2      1\n",
       "3      0\n",
       "4      1\n",
       "      ..\n",
       "210    1\n",
       "211    1\n",
       "212    1\n",
       "213    1\n",
       "214    0\n",
       "Name: status, Length: 215, dtype: int64"
      ]
     },
     "execution_count": 52,
     "metadata": {},
     "output_type": "execute_result"
    }
   ],
   "source": [
    "y"
   ]
  },
  {
   "cell_type": "markdown",
   "metadata": {},
   "source": [
    "### 10. Splitting The Dataset Into The Training Set And Test Set"
   ]
  },
  {
   "cell_type": "code",
   "execution_count": 53,
   "metadata": {
    "ExecuteTime": {
     "end_time": "2023-01-20T05:28:48.608847Z",
     "start_time": "2023-01-20T05:28:48.589899Z"
    }
   },
   "outputs": [],
   "source": [
    "from sklearn.model_selection import train_test_split"
   ]
  },
  {
   "cell_type": "code",
   "execution_count": 54,
   "metadata": {
    "ExecuteTime": {
     "end_time": "2023-01-20T05:28:50.527540Z",
     "start_time": "2023-01-20T05:28:50.507593Z"
    }
   },
   "outputs": [],
   "source": [
    "X_train,X_test,y_train,y_test=train_test_split(X,y,test_size=0.20,random_state=42)"
   ]
  },
  {
   "cell_type": "markdown",
   "metadata": {},
   "source": [
    "### 11. Import The models"
   ]
  },
  {
   "cell_type": "code",
   "execution_count": 55,
   "metadata": {
    "ExecuteTime": {
     "end_time": "2023-01-20T05:28:51.987449Z",
     "start_time": "2023-01-20T05:28:51.969499Z"
    }
   },
   "outputs": [],
   "source": [
    "from sklearn.linear_model import LogisticRegression\n",
    "from sklearn.neighbors import KNeighborsClassifier\n",
    "from sklearn import svm\n",
    "from sklearn.tree import DecisionTreeClassifier\n",
    "from sklearn.ensemble import RandomForestClassifier\n",
    "from sklearn.ensemble import GradientBoostingClassifier"
   ]
  },
  {
   "cell_type": "markdown",
   "metadata": {},
   "source": [
    "### 12. Model Training"
   ]
  },
  {
   "cell_type": "code",
   "execution_count": 56,
   "metadata": {
    "ExecuteTime": {
     "end_time": "2023-01-20T05:28:54.396308Z",
     "start_time": "2023-01-20T05:28:54.003360Z"
    }
   },
   "outputs": [
    {
     "data": {
      "text/html": [
       "<style>#sk-container-id-1 {color: black;background-color: white;}#sk-container-id-1 pre{padding: 0;}#sk-container-id-1 div.sk-toggleable {background-color: white;}#sk-container-id-1 label.sk-toggleable__label {cursor: pointer;display: block;width: 100%;margin-bottom: 0;padding: 0.3em;box-sizing: border-box;text-align: center;}#sk-container-id-1 label.sk-toggleable__label-arrow:before {content: \"▸\";float: left;margin-right: 0.25em;color: #696969;}#sk-container-id-1 label.sk-toggleable__label-arrow:hover:before {color: black;}#sk-container-id-1 div.sk-estimator:hover label.sk-toggleable__label-arrow:before {color: black;}#sk-container-id-1 div.sk-toggleable__content {max-height: 0;max-width: 0;overflow: hidden;text-align: left;background-color: #f0f8ff;}#sk-container-id-1 div.sk-toggleable__content pre {margin: 0.2em;color: black;border-radius: 0.25em;background-color: #f0f8ff;}#sk-container-id-1 input.sk-toggleable__control:checked~div.sk-toggleable__content {max-height: 200px;max-width: 100%;overflow: auto;}#sk-container-id-1 input.sk-toggleable__control:checked~label.sk-toggleable__label-arrow:before {content: \"▾\";}#sk-container-id-1 div.sk-estimator input.sk-toggleable__control:checked~label.sk-toggleable__label {background-color: #d4ebff;}#sk-container-id-1 div.sk-label input.sk-toggleable__control:checked~label.sk-toggleable__label {background-color: #d4ebff;}#sk-container-id-1 input.sk-hidden--visually {border: 0;clip: rect(1px 1px 1px 1px);clip: rect(1px, 1px, 1px, 1px);height: 1px;margin: -1px;overflow: hidden;padding: 0;position: absolute;width: 1px;}#sk-container-id-1 div.sk-estimator {font-family: monospace;background-color: #f0f8ff;border: 1px dotted black;border-radius: 0.25em;box-sizing: border-box;margin-bottom: 0.5em;}#sk-container-id-1 div.sk-estimator:hover {background-color: #d4ebff;}#sk-container-id-1 div.sk-parallel-item::after {content: \"\";width: 100%;border-bottom: 1px solid gray;flex-grow: 1;}#sk-container-id-1 div.sk-label:hover label.sk-toggleable__label {background-color: #d4ebff;}#sk-container-id-1 div.sk-serial::before {content: \"\";position: absolute;border-left: 1px solid gray;box-sizing: border-box;top: 0;bottom: 0;left: 50%;z-index: 0;}#sk-container-id-1 div.sk-serial {display: flex;flex-direction: column;align-items: center;background-color: white;padding-right: 0.2em;padding-left: 0.2em;position: relative;}#sk-container-id-1 div.sk-item {position: relative;z-index: 1;}#sk-container-id-1 div.sk-parallel {display: flex;align-items: stretch;justify-content: center;background-color: white;position: relative;}#sk-container-id-1 div.sk-item::before, #sk-container-id-1 div.sk-parallel-item::before {content: \"\";position: absolute;border-left: 1px solid gray;box-sizing: border-box;top: 0;bottom: 0;left: 50%;z-index: -1;}#sk-container-id-1 div.sk-parallel-item {display: flex;flex-direction: column;z-index: 1;position: relative;background-color: white;}#sk-container-id-1 div.sk-parallel-item:first-child::after {align-self: flex-end;width: 50%;}#sk-container-id-1 div.sk-parallel-item:last-child::after {align-self: flex-start;width: 50%;}#sk-container-id-1 div.sk-parallel-item:only-child::after {width: 0;}#sk-container-id-1 div.sk-dashed-wrapped {border: 1px dashed gray;margin: 0 0.4em 0.5em 0.4em;box-sizing: border-box;padding-bottom: 0.4em;background-color: white;}#sk-container-id-1 div.sk-label label {font-family: monospace;font-weight: bold;display: inline-block;line-height: 1.2em;}#sk-container-id-1 div.sk-label-container {text-align: center;}#sk-container-id-1 div.sk-container {/* jupyter's `normalize.less` sets `[hidden] { display: none; }` but bootstrap.min.css set `[hidden] { display: none !important; }` so we also need the `!important` here to be able to override the default hidden behavior on the sphinx rendered scikit-learn.org. See: https://github.com/scikit-learn/scikit-learn/issues/21755 */display: inline-block !important;position: relative;}#sk-container-id-1 div.sk-text-repr-fallback {display: none;}</style><div id=\"sk-container-id-1\" class=\"sk-top-container\"><div class=\"sk-text-repr-fallback\"><pre>GradientBoostingClassifier()</pre><b>In a Jupyter environment, please rerun this cell to show the HTML representation or trust the notebook. <br />On GitHub, the HTML representation is unable to render, please try loading this page with nbviewer.org.</b></div><div class=\"sk-container\" hidden><div class=\"sk-item\"><div class=\"sk-estimator sk-toggleable\"><input class=\"sk-toggleable__control sk-hidden--visually\" id=\"sk-estimator-id-1\" type=\"checkbox\" checked><label for=\"sk-estimator-id-1\" class=\"sk-toggleable__label sk-toggleable__label-arrow\">GradientBoostingClassifier</label><div class=\"sk-toggleable__content\"><pre>GradientBoostingClassifier()</pre></div></div></div></div></div>"
      ],
      "text/plain": [
       "GradientBoostingClassifier()"
      ]
     },
     "execution_count": 56,
     "metadata": {},
     "output_type": "execute_result"
    }
   ],
   "source": [
    "lr = LogisticRegression()\n",
    "lr.fit(X_train,y_train)\n",
    "\n",
    "svm = svm.SVC()\n",
    "svm.fit(X_train,y_train)\n",
    "\n",
    "knn=KNeighborsClassifier()\n",
    "knn.fit(X_train,y_train)\n",
    "\n",
    "dt=DecisionTreeClassifier()\n",
    "dt.fit(X_train,y_train)\n",
    "\n",
    "rf=RandomForestClassifier()\n",
    "rf.fit(X_train,y_train)\n",
    "\n",
    "gb=GradientBoostingClassifier()\n",
    "gb.fit(X_train,y_train)"
   ]
  },
  {
   "cell_type": "markdown",
   "metadata": {},
   "source": [
    "### 13. Prediction on Test Data"
   ]
  },
  {
   "cell_type": "code",
   "execution_count": 57,
   "metadata": {
    "ExecuteTime": {
     "end_time": "2023-01-20T05:29:01.559096Z",
     "start_time": "2023-01-20T05:29:01.501254Z"
    }
   },
   "outputs": [],
   "source": [
    "y_pred1 = lr.predict(X_test)\n",
    "y_pred2 = svm.predict(X_test)\n",
    "y_pred3 = knn.predict(X_test)\n",
    "y_pred4 = dt.predict(X_test)\n",
    "y_pred5 = rf.predict(X_test)\n",
    "y_pred6 = gb.predict(X_test)"
   ]
  },
  {
   "cell_type": "markdown",
   "metadata": {},
   "source": [
    "### 14. Evaluating the Algorithms"
   ]
  },
  {
   "cell_type": "code",
   "execution_count": 58,
   "metadata": {
    "ExecuteTime": {
     "end_time": "2023-01-20T05:29:04.003921Z",
     "start_time": "2023-01-20T05:29:03.987963Z"
    }
   },
   "outputs": [],
   "source": [
    "from sklearn.metrics import accuracy_score"
   ]
  },
  {
   "cell_type": "code",
   "execution_count": 59,
   "metadata": {
    "ExecuteTime": {
     "end_time": "2023-01-20T05:29:05.196731Z",
     "start_time": "2023-01-20T05:29:05.186760Z"
    }
   },
   "outputs": [],
   "source": [
    "score1= accuracy_score(y_test,y_pred1)\n",
    "score2= accuracy_score(y_test,y_pred2)\n",
    "score3= accuracy_score(y_test,y_pred3)\n",
    "score4= accuracy_score(y_test,y_pred4)\n",
    "score5= accuracy_score(y_test,y_pred5)\n",
    "score6= accuracy_score(y_test,y_pred6)"
   ]
  },
  {
   "cell_type": "code",
   "execution_count": 60,
   "metadata": {
    "ExecuteTime": {
     "end_time": "2023-01-20T05:29:33.413384Z",
     "start_time": "2023-01-20T05:29:33.398424Z"
    }
   },
   "outputs": [
    {
     "name": "stdout",
     "output_type": "stream",
     "text": [
      "0.8837209302325582 0.7674418604651163 0.7906976744186046 0.8372093023255814 0.7906976744186046 0.813953488372093\n"
     ]
    }
   ],
   "source": [
    "print(score1, score2, score3, score4, score5, score6)"
   ]
  },
  {
   "cell_type": "code",
   "execution_count": 61,
   "metadata": {
    "ExecuteTime": {
     "end_time": "2023-01-20T05:29:38.624663Z",
     "start_time": "2023-01-20T05:29:38.613693Z"
    }
   },
   "outputs": [],
   "source": [
    "final_data = pd.DataFrame({'Models':['LR','SVC','KNN','DT','RF','GB'],\n",
    "            'ACC':[score1*100,\n",
    "                  score2*100,\n",
    "                  score3*100,\n",
    "                  score4*100,\n",
    "                  score5*100,score6*100]})"
   ]
  },
  {
   "cell_type": "code",
   "execution_count": 62,
   "metadata": {
    "ExecuteTime": {
     "end_time": "2023-01-20T05:29:44.385390Z",
     "start_time": "2023-01-20T05:29:44.367438Z"
    }
   },
   "outputs": [
    {
     "data": {
      "text/html": [
       "<div>\n",
       "<style scoped>\n",
       "    .dataframe tbody tr th:only-of-type {\n",
       "        vertical-align: middle;\n",
       "    }\n",
       "\n",
       "    .dataframe tbody tr th {\n",
       "        vertical-align: top;\n",
       "    }\n",
       "\n",
       "    .dataframe thead th {\n",
       "        text-align: right;\n",
       "    }\n",
       "</style>\n",
       "<table border=\"1\" class=\"dataframe\">\n",
       "  <thead>\n",
       "    <tr style=\"text-align: right;\">\n",
       "      <th></th>\n",
       "      <th>Models</th>\n",
       "      <th>ACC</th>\n",
       "    </tr>\n",
       "  </thead>\n",
       "  <tbody>\n",
       "    <tr>\n",
       "      <th>0</th>\n",
       "      <td>LR</td>\n",
       "      <td>88.372093</td>\n",
       "    </tr>\n",
       "    <tr>\n",
       "      <th>1</th>\n",
       "      <td>SVC</td>\n",
       "      <td>76.744186</td>\n",
       "    </tr>\n",
       "    <tr>\n",
       "      <th>2</th>\n",
       "      <td>KNN</td>\n",
       "      <td>79.069767</td>\n",
       "    </tr>\n",
       "    <tr>\n",
       "      <th>3</th>\n",
       "      <td>DT</td>\n",
       "      <td>83.720930</td>\n",
       "    </tr>\n",
       "    <tr>\n",
       "      <th>4</th>\n",
       "      <td>RF</td>\n",
       "      <td>79.069767</td>\n",
       "    </tr>\n",
       "    <tr>\n",
       "      <th>5</th>\n",
       "      <td>GB</td>\n",
       "      <td>81.395349</td>\n",
       "    </tr>\n",
       "  </tbody>\n",
       "</table>\n",
       "</div>"
      ],
      "text/plain": [
       "  Models        ACC\n",
       "0     LR  88.372093\n",
       "1    SVC  76.744186\n",
       "2    KNN  79.069767\n",
       "3     DT  83.720930\n",
       "4     RF  79.069767\n",
       "5     GB  81.395349"
      ]
     },
     "execution_count": 62,
     "metadata": {},
     "output_type": "execute_result"
    }
   ],
   "source": [
    "final_data"
   ]
  },
  {
   "cell_type": "code",
   "execution_count": 63,
   "metadata": {
    "ExecuteTime": {
     "end_time": "2023-01-20T05:29:49.153490Z",
     "start_time": "2023-01-20T05:29:47.774098Z"
    }
   },
   "outputs": [],
   "source": [
    "import seaborn as sns"
   ]
  },
  {
   "cell_type": "code",
   "execution_count": 64,
   "metadata": {
    "ExecuteTime": {
     "end_time": "2023-01-20T05:29:49.595442Z",
     "start_time": "2023-01-20T05:29:49.348102Z"
    }
   },
   "outputs": [
    {
     "data": {
      "text/plain": [
       "<AxesSubplot:xlabel='Models', ylabel='ACC'>"
      ]
     },
     "execution_count": 64,
     "metadata": {},
     "output_type": "execute_result"
    },
    {
     "data": {
      "image/png": "[encoded data removed]",
      "text/plain": [
       "<Figure size 432x288 with 1 Axes>"
      ]
     },
     "metadata": {
      "needs_background": "light"
     },
     "output_type": "display_data"
    }
   ],
   "source": [
    "sns.barplot(final_data['Models'],final_data['ACC'])"
   ]
  },
  {
   "cell_type": "markdown",
   "metadata": {},
   "source": [
    "### 15. Prediction on New Data"
   ]
  },
  {
   "cell_type": "code",
   "execution_count": 68,
   "metadata": {
    "ExecuteTime": {
     "end_time": "2023-01-20T05:31:19.780933Z",
     "start_time": "2023-01-20T05:31:19.757996Z"
    }
   },
   "outputs": [
    {
     "data": {
      "text/html": [
       "<div>\n",
       "<style scoped>\n",
       "    .dataframe tbody tr th:only-of-type {\n",
       "        vertical-align: middle;\n",
       "    }\n",
       "\n",
       "    .dataframe tbody tr th {\n",
       "        vertical-align: top;\n",
       "    }\n",
       "\n",
       "    .dataframe thead th {\n",
       "        text-align: right;\n",
       "    }\n",
       "</style>\n",
       "<table border=\"1\" class=\"dataframe\">\n",
       "  <thead>\n",
       "    <tr style=\"text-align: right;\">\n",
       "      <th></th>\n",
       "      <th>ssc_p</th>\n",
       "      <th>ssc_b</th>\n",
       "      <th>hsc_p</th>\n",
       "      <th>hsc_b</th>\n",
       "      <th>hsc_s</th>\n",
       "      <th>degree_p</th>\n",
       "      <th>degree_t</th>\n",
       "      <th>workex</th>\n",
       "      <th>etest_p</th>\n",
       "      <th>specialisation</th>\n",
       "      <th>mba_p</th>\n",
       "    </tr>\n",
       "  </thead>\n",
       "  <tbody>\n",
       "    <tr>\n",
       "      <th>0</th>\n",
       "      <td>67.0</td>\n",
       "      <td>0</td>\n",
       "      <td>91.0</td>\n",
       "      <td>0</td>\n",
       "      <td>1</td>\n",
       "      <td>58.0</td>\n",
       "      <td>2</td>\n",
       "      <td>0</td>\n",
       "      <td>55.0</td>\n",
       "      <td>1</td>\n",
       "      <td>58.8</td>\n",
       "    </tr>\n",
       "  </tbody>\n",
       "</table>\n",
       "</div>"
      ],
      "text/plain": [
       "   ssc_p  ssc_b  hsc_p  hsc_b  hsc_s  degree_p  degree_t  workex  etest_p  \\\n",
       "0   67.0      0   91.0      0      1      58.0         2       0     55.0   \n",
       "\n",
       "   specialisation  mba_p  \n",
       "0               1   58.8  "
      ]
     },
     "execution_count": 68,
     "metadata": {},
     "output_type": "execute_result"
    }
   ],
   "source": [
    "new_data = pd.DataFrame({\n",
    "    'ssc_p':67.0,\n",
    "    'ssc_b':0,\n",
    "    'hsc_p':91.0,\n",
    "    'hsc_b':0,\n",
    "    'hsc_s':1,\n",
    "    'degree_p':58.0,\n",
    "    'degree_t':2,\n",
    "    'workex':0,\n",
    "    'etest_p':55.0,\n",
    "     'specialisation':1,\n",
    "    'mba_p':58.8,   \n",
    "},index=[0])\n",
    "\n",
    "new_data"
   ]
  },
  {
   "cell_type": "code",
   "execution_count": 69,
   "metadata": {
    "ExecuteTime": {
     "end_time": "2023-01-20T05:31:21.123761Z",
     "start_time": "2023-01-20T05:31:21.087868Z"
    }
   },
   "outputs": [
    {
     "data": {
      "text/html": [
       "<style>#sk-container-id-3 {color: black;background-color: white;}#sk-container-id-3 pre{padding: 0;}#sk-container-id-3 div.sk-toggleable {background-color: white;}#sk-container-id-3 label.sk-toggleable__label {cursor: pointer;display: block;width: 100%;margin-bottom: 0;padding: 0.3em;box-sizing: border-box;text-align: center;}#sk-container-id-3 label.sk-toggleable__label-arrow:before {content: \"▸\";float: left;margin-right: 0.25em;color: #696969;}#sk-container-id-3 label.sk-toggleable__label-arrow:hover:before {color: black;}#sk-container-id-3 div.sk-estimator:hover label.sk-toggleable__label-arrow:before {color: black;}#sk-container-id-3 div.sk-toggleable__content {max-height: 0;max-width: 0;overflow: hidden;text-align: left;background-color: #f0f8ff;}#sk-container-id-3 div.sk-toggleable__content pre {margin: 0.2em;color: black;border-radius: 0.25em;background-color: #f0f8ff;}#sk-container-id-3 input.sk-toggleable__control:checked~div.sk-toggleable__content {max-height: 200px;max-width: 100%;overflow: auto;}#sk-container-id-3 input.sk-toggleable__control:checked~label.sk-toggleable__label-arrow:before {content: \"▾\";}#sk-container-id-3 div.sk-estimator input.sk-toggleable__control:checked~label.sk-toggleable__label {background-color: #d4ebff;}#sk-container-id-3 div.sk-label input.sk-toggleable__control:checked~label.sk-toggleable__label {background-color: #d4ebff;}#sk-container-id-3 input.sk-hidden--visually {border: 0;clip: rect(1px 1px 1px 1px);clip: rect(1px, 1px, 1px, 1px);height: 1px;margin: -1px;overflow: hidden;padding: 0;position: absolute;width: 1px;}#sk-container-id-3 div.sk-estimator {font-family: monospace;background-color: #f0f8ff;border: 1px dotted black;border-radius: 0.25em;box-sizing: border-box;margin-bottom: 0.5em;}#sk-container-id-3 div.sk-estimator:hover {background-color: #d4ebff;}#sk-container-id-3 div.sk-parallel-item::after {content: \"\";width: 100%;border-bottom: 1px solid gray;flex-grow: 1;}#sk-container-id-3 div.sk-label:hover label.sk-toggleable__label {background-color: #d4ebff;}#sk-container-id-3 div.sk-serial::before {content: \"\";position: absolute;border-left: 1px solid gray;box-sizing: border-box;top: 0;bottom: 0;left: 50%;z-index: 0;}#sk-container-id-3 div.sk-serial {display: flex;flex-direction: column;align-items: center;background-color: white;padding-right: 0.2em;padding-left: 0.2em;position: relative;}#sk-container-id-3 div.sk-item {position: relative;z-index: 1;}#sk-container-id-3 div.sk-parallel {display: flex;align-items: stretch;justify-content: center;background-color: white;position: relative;}#sk-container-id-3 div.sk-item::before, #sk-container-id-3 div.sk-parallel-item::before {content: \"\";position: absolute;border-left: 1px solid gray;box-sizing: border-box;top: 0;bottom: 0;left: 50%;z-index: -1;}#sk-container-id-3 div.sk-parallel-item {display: flex;flex-direction: column;z-index: 1;position: relative;background-color: white;}#sk-container-id-3 div.sk-parallel-item:first-child::after {align-self: flex-end;width: 50%;}#sk-container-id-3 div.sk-parallel-item:last-child::after {align-self: flex-start;width: 50%;}#sk-container-id-3 div.sk-parallel-item:only-child::after {width: 0;}#sk-container-id-3 div.sk-dashed-wrapped {border: 1px dashed gray;margin: 0 0.4em 0.5em 0.4em;box-sizing: border-box;padding-bottom: 0.4em;background-color: white;}#sk-container-id-3 div.sk-label label {font-family: monospace;font-weight: bold;display: inline-block;line-height: 1.2em;}#sk-container-id-3 div.sk-label-container {text-align: center;}#sk-container-id-3 div.sk-container {/* jupyter's `normalize.less` sets `[hidden] { display: none; }` but bootstrap.min.css set `[hidden] { display: none !important; }` so we also need the `!important` here to be able to override the default hidden behavior on the sphinx rendered scikit-learn.org. See: https://github.com/scikit-learn/scikit-learn/issues/21755 */display: inline-block !important;position: relative;}#sk-container-id-3 div.sk-text-repr-fallback {display: none;}</style><div id=\"sk-container-id-3\" class=\"sk-top-container\"><div class=\"sk-text-repr-fallback\"><pre>LogisticRegression()</pre><b>In a Jupyter environment, please rerun this cell to show the HTML representation or trust the notebook. <br />On GitHub, the HTML representation is unable to render, please try loading this page with nbviewer.org.</b></div><div class=\"sk-container\" hidden><div class=\"sk-item\"><div class=\"sk-estimator sk-toggleable\"><input class=\"sk-toggleable__control sk-hidden--visually\" id=\"sk-estimator-id-3\" type=\"checkbox\" checked><label for=\"sk-estimator-id-3\" class=\"sk-toggleable__label sk-toggleable__label-arrow\">LogisticRegression</label><div class=\"sk-toggleable__content\"><pre>LogisticRegression()</pre></div></div></div></div></div>"
      ],
      "text/plain": [
       "LogisticRegression()"
      ]
     },
     "execution_count": 69,
     "metadata": {},
     "output_type": "execute_result"
    }
   ],
   "source": [
    "lr= LogisticRegression()\n",
    "lr.fit(X,y)"
   ]
  },
  {
   "cell_type": "code",
   "execution_count": 70,
   "metadata": {
    "ExecuteTime": {
     "end_time": "2023-01-20T05:31:22.285793Z",
     "start_time": "2023-01-20T05:31:22.264849Z"
    }
   },
   "outputs": [
    {
     "name": "stdout",
     "output_type": "stream",
     "text": [
      "Placed\n",
      "You will be placed with probability of 0.97\n"
     ]
    }
   ],
   "source": [
    "p= lr.predict(new_data)\n",
    "prob= lr.predict_proba(new_data)\n",
    "if p==1:\n",
    "    print('Placed')\n",
    "    print(f\"You will be placed with probability of {prob[0][1]:.2f}\")\n",
    "else:\n",
    "    print(\"Not-placed\")"
   ]
  },
  {
   "cell_type": "code",
   "execution_count": 71,
   "metadata": {
    "ExecuteTime": {
     "end_time": "2023-01-20T05:31:25.298910Z",
     "start_time": "2023-01-20T05:31:25.283952Z"
    }
   },
   "outputs": [
    {
     "data": {
      "text/plain": [
       "array([[0.0254163, 0.9745837]])"
      ]
     },
     "execution_count": 71,
     "metadata": {},
     "output_type": "execute_result"
    }
   ],
   "source": [
    "prob"
   ]
  },
  {
   "cell_type": "markdown",
   "metadata": {},
   "source": [
    "### 16. Save Model Using Joblib"
   ]
  },
  {
   "cell_type": "code",
   "execution_count": 72,
   "metadata": {
    "ExecuteTime": {
     "end_time": "2023-01-20T05:31:34.107760Z",
     "start_time": "2023-01-20T05:31:34.092804Z"
    }
   },
   "outputs": [],
   "source": [
    "import joblib"
   ]
  },
  {
   "cell_type": "code",
   "execution_count": 73,
   "metadata": {
    "ExecuteTime": {
     "end_time": "2023-01-20T05:31:36.889134Z",
     "start_time": "2023-01-20T05:31:36.876168Z"
    }
   },
   "outputs": [
    {
     "data": {
      "text/plain": [
       "['model_campus_placement']"
      ]
     },
     "execution_count": 73,
     "metadata": {},
     "output_type": "execute_result"
    }
   ],
   "source": [
    "joblib.dump(lr,'model_campus_placement')"
   ]
  },
  {
   "cell_type": "code",
   "execution_count": 74,
   "metadata": {
    "ExecuteTime": {
     "end_time": "2023-01-20T05:31:40.341476Z",
     "start_time": "2023-01-20T05:31:40.327516Z"
    }
   },
   "outputs": [],
   "source": [
    "model = joblib.load('model_campus_placement')"
   ]
  },
  {
   "cell_type": "code",
   "execution_count": 75,
   "metadata": {
    "ExecuteTime": {
     "end_time": "2023-01-20T05:31:41.463643Z",
     "start_time": "2023-01-20T05:31:41.447685Z"
    }
   },
   "outputs": [
    {
     "data": {
      "text/plain": [
       "array([1], dtype=int64)"
      ]
     },
     "execution_count": 75,
     "metadata": {},
     "output_type": "execute_result"
    }
   ],
   "source": [
    "model.predict(new_data)"
   ]
  },
  {
   "cell_type": "markdown",
   "metadata": {},
   "source": [
    "### GUI"
   ]
  },
  {
   "cell_type": "code",
   "execution_count": 76,
   "metadata": {
    "ExecuteTime": {
     "end_time": "2023-01-20T06:39:31.555703Z",
     "start_time": "2023-01-20T05:33:36.196723Z"
    }
   },
   "outputs": [
    {
     "name": "stdout",
     "output_type": "stream",
     "text": [
      "1\n",
      "0\n",
      "0\n",
      "2\n",
      "2\n",
      "0\n",
      "1\n"
     ]
    },
    {
     "name": "stderr",
     "output_type": "stream",
     "text": [
      "Exception in Tkinter callback\n",
      "Traceback (most recent call last):\n",
      "  File \"C:\\Users\\hp\\anaconda3\\lib\\tkinter\\__init__.py\", line 1892, in __call__\n",
      "    return self.func(*args)\n",
      "  File \"C:\\Users\\hp\\AppData\\Local\\Temp\\ipykernel_13136\\1872049314.py\", line 92, in show_entry_fields\n",
      "    result=model.predict(new_data)\n",
      "  File \"C:\\Users\\hp\\anaconda3\\lib\\site-packages\\sklearn\\linear_model\\_base.py\", line 447, in predict\n",
      "    scores = self.decision_function(X)\n",
      "  File \"C:\\Users\\hp\\anaconda3\\lib\\site-packages\\sklearn\\linear_model\\_base.py\", line 429, in decision_function\n",
      "    X = self._validate_data(X, accept_sparse=\"csr\", reset=False)\n",
      "  File \"C:\\Users\\hp\\anaconda3\\lib\\site-packages\\sklearn\\base.py\", line 600, in _validate_data\n",
      "    self._check_n_features(X, reset=reset)\n",
      "  File \"C:\\Users\\hp\\anaconda3\\lib\\site-packages\\sklearn\\base.py\", line 400, in _check_n_features\n",
      "    raise ValueError(\n",
      "ValueError: X has 12 features, but LogisticRegression is expecting 11 features as input.\n"
     ]
    },
    {
     "name": "stdout",
     "output_type": "stream",
     "text": [
      "1\n",
      "0\n",
      "0\n",
      "2\n",
      "2\n",
      "0\n",
      "1\n"
     ]
    },
    {
     "name": "stderr",
     "output_type": "stream",
     "text": [
      "Exception in Tkinter callback\n",
      "Traceback (most recent call last):\n",
      "  File \"C:\\Users\\hp\\anaconda3\\lib\\tkinter\\__init__.py\", line 1892, in __call__\n",
      "    return self.func(*args)\n",
      "  File \"C:\\Users\\hp\\AppData\\Local\\Temp\\ipykernel_13136\\1872049314.py\", line 92, in show_entry_fields\n",
      "    result=model.predict(new_data)\n",
      "  File \"C:\\Users\\hp\\anaconda3\\lib\\site-packages\\sklearn\\linear_model\\_base.py\", line 447, in predict\n",
      "    scores = self.decision_function(X)\n",
      "  File \"C:\\Users\\hp\\anaconda3\\lib\\site-packages\\sklearn\\linear_model\\_base.py\", line 429, in decision_function\n",
      "    X = self._validate_data(X, accept_sparse=\"csr\", reset=False)\n",
      "  File \"C:\\Users\\hp\\anaconda3\\lib\\site-packages\\sklearn\\base.py\", line 600, in _validate_data\n",
      "    self._check_n_features(X, reset=reset)\n",
      "  File \"C:\\Users\\hp\\anaconda3\\lib\\site-packages\\sklearn\\base.py\", line 400, in _check_n_features\n",
      "    raise ValueError(\n",
      "ValueError: X has 12 features, but LogisticRegression is expecting 11 features as input.\n"
     ]
    },
    {
     "name": "stdout",
     "output_type": "stream",
     "text": [
      "1\n",
      "0\n",
      "0\n",
      "2\n",
      "2\n",
      "0\n",
      "1\n",
      "1\n"
     ]
    },
    {
     "name": "stderr",
     "output_type": "stream",
     "text": [
      "Exception in Tkinter callback\n",
      "Traceback (most recent call last):\n",
      "  File \"C:\\Users\\hp\\anaconda3\\lib\\tkinter\\__init__.py\", line 1892, in __call__\n",
      "    return self.func(*args)\n",
      "  File \"C:\\Users\\hp\\AppData\\Local\\Temp\\ipykernel_13136\\1872049314.py\", line 92, in show_entry_fields\n",
      "    result=model.predict(new_data)\n",
      "  File \"C:\\Users\\hp\\anaconda3\\lib\\site-packages\\sklearn\\linear_model\\_base.py\", line 447, in predict\n",
      "    scores = self.decision_function(X)\n",
      "  File \"C:\\Users\\hp\\anaconda3\\lib\\site-packages\\sklearn\\linear_model\\_base.py\", line 429, in decision_function\n",
      "    X = self._validate_data(X, accept_sparse=\"csr\", reset=False)\n",
      "  File \"C:\\Users\\hp\\anaconda3\\lib\\site-packages\\sklearn\\base.py\", line 600, in _validate_data\n",
      "    self._check_n_features(X, reset=reset)\n",
      "  File \"C:\\Users\\hp\\anaconda3\\lib\\site-packages\\sklearn\\base.py\", line 400, in _check_n_features\n",
      "    raise ValueError(\n",
      "ValueError: X has 12 features, but LogisticRegression is expecting 11 features as input.\n"
     ]
    },
    {
     "name": "stdout",
     "output_type": "stream",
     "text": [
      "0\n",
      "0\n",
      "2\n",
      "2\n",
      "0\n",
      "1\n"
     ]
    },
    {
     "name": "stderr",
     "output_type": "stream",
     "text": [
      "Exception in Tkinter callback\n",
      "Traceback (most recent call last):\n",
      "  File \"C:\\Users\\hp\\anaconda3\\lib\\tkinter\\__init__.py\", line 1892, in __call__\n",
      "    return self.func(*args)\n",
      "  File \"C:\\Users\\hp\\AppData\\Local\\Temp\\ipykernel_13136\\1872049314.py\", line 92, in show_entry_fields\n",
      "    result=model.predict(new_data)\n",
      "  File \"C:\\Users\\hp\\anaconda3\\lib\\site-packages\\sklearn\\linear_model\\_base.py\", line 447, in predict\n",
      "    scores = self.decision_function(X)\n",
      "  File \"C:\\Users\\hp\\anaconda3\\lib\\site-packages\\sklearn\\linear_model\\_base.py\", line 429, in decision_function\n",
      "    X = self._validate_data(X, accept_sparse=\"csr\", reset=False)\n",
      "  File \"C:\\Users\\hp\\anaconda3\\lib\\site-packages\\sklearn\\base.py\", line 600, in _validate_data\n",
      "    self._check_n_features(X, reset=reset)\n",
      "  File \"C:\\Users\\hp\\anaconda3\\lib\\site-packages\\sklearn\\base.py\", line 400, in _check_n_features\n",
      "    raise ValueError(\n",
      "ValueError: X has 12 features, but LogisticRegression is expecting 11 features as input.\n"
     ]
    },
    {
     "name": "stdout",
     "output_type": "stream",
     "text": [
      "1\n",
      "0\n",
      "0\n",
      "2\n",
      "2\n",
      "0\n",
      "1\n"
     ]
    },
    {
     "name": "stderr",
     "output_type": "stream",
     "text": [
      "Exception in Tkinter callback\n",
      "Traceback (most recent call last):\n",
      "  File \"C:\\Users\\hp\\anaconda3\\lib\\tkinter\\__init__.py\", line 1892, in __call__\n",
      "    return self.func(*args)\n",
      "  File \"C:\\Users\\hp\\AppData\\Local\\Temp\\ipykernel_13136\\1872049314.py\", line 92, in show_entry_fields\n",
      "    result=model.predict(new_data)\n",
      "  File \"C:\\Users\\hp\\anaconda3\\lib\\site-packages\\sklearn\\linear_model\\_base.py\", line 447, in predict\n",
      "    scores = self.decision_function(X)\n",
      "  File \"C:\\Users\\hp\\anaconda3\\lib\\site-packages\\sklearn\\linear_model\\_base.py\", line 429, in decision_function\n",
      "    X = self._validate_data(X, accept_sparse=\"csr\", reset=False)\n",
      "  File \"C:\\Users\\hp\\anaconda3\\lib\\site-packages\\sklearn\\base.py\", line 600, in _validate_data\n",
      "    self._check_n_features(X, reset=reset)\n",
      "  File \"C:\\Users\\hp\\anaconda3\\lib\\site-packages\\sklearn\\base.py\", line 400, in _check_n_features\n",
      "    raise ValueError(\n",
      "ValueError: X has 12 features, but LogisticRegression is expecting 11 features as input.\n"
     ]
    },
    {
     "name": "stdout",
     "output_type": "stream",
     "text": [
      "1\n",
      "0\n",
      "0\n",
      "2\n",
      "2\n",
      "0\n",
      "1\n"
     ]
    },
    {
     "name": "stderr",
     "output_type": "stream",
     "text": [
      "Exception in Tkinter callback\n",
      "Traceback (most recent call last):\n",
      "  File \"C:\\Users\\hp\\anaconda3\\lib\\tkinter\\__init__.py\", line 1892, in __call__\n",
      "    return self.func(*args)\n",
      "  File \"C:\\Users\\hp\\AppData\\Local\\Temp\\ipykernel_13136\\1872049314.py\", line 92, in show_entry_fields\n",
      "    result=model.predict(new_data)\n",
      "  File \"C:\\Users\\hp\\anaconda3\\lib\\site-packages\\sklearn\\linear_model\\_base.py\", line 447, in predict\n",
      "    scores = self.decision_function(X)\n",
      "  File \"C:\\Users\\hp\\anaconda3\\lib\\site-packages\\sklearn\\linear_model\\_base.py\", line 429, in decision_function\n",
      "    X = self._validate_data(X, accept_sparse=\"csr\", reset=False)\n",
      "  File \"C:\\Users\\hp\\anaconda3\\lib\\site-packages\\sklearn\\base.py\", line 600, in _validate_data\n",
      "    self._check_n_features(X, reset=reset)\n",
      "  File \"C:\\Users\\hp\\anaconda3\\lib\\site-packages\\sklearn\\base.py\", line 400, in _check_n_features\n",
      "    raise ValueError(\n",
      "ValueError: X has 12 features, but LogisticRegression is expecting 11 features as input.\n"
     ]
    },
    {
     "name": "stdout",
     "output_type": "stream",
     "text": [
      "1\n",
      "0\n",
      "0\n",
      "2\n",
      "2\n",
      "0\n",
      "1\n"
     ]
    },
    {
     "name": "stderr",
     "output_type": "stream",
     "text": [
      "Exception in Tkinter callback\n",
      "Traceback (most recent call last):\n",
      "  File \"C:\\Users\\hp\\anaconda3\\lib\\tkinter\\__init__.py\", line 1892, in __call__\n",
      "    return self.func(*args)\n",
      "  File \"C:\\Users\\hp\\AppData\\Local\\Temp\\ipykernel_13136\\1872049314.py\", line 92, in show_entry_fields\n",
      "    result=model.predict(new_data)\n",
      "  File \"C:\\Users\\hp\\anaconda3\\lib\\site-packages\\sklearn\\linear_model\\_base.py\", line 447, in predict\n",
      "    scores = self.decision_function(X)\n",
      "  File \"C:\\Users\\hp\\anaconda3\\lib\\site-packages\\sklearn\\linear_model\\_base.py\", line 429, in decision_function\n",
      "    X = self._validate_data(X, accept_sparse=\"csr\", reset=False)\n",
      "  File \"C:\\Users\\hp\\anaconda3\\lib\\site-packages\\sklearn\\base.py\", line 600, in _validate_data\n",
      "    self._check_n_features(X, reset=reset)\n",
      "  File \"C:\\Users\\hp\\anaconda3\\lib\\site-packages\\sklearn\\base.py\", line 400, in _check_n_features\n",
      "    raise ValueError(\n",
      "ValueError: X has 12 features, but LogisticRegression is expecting 11 features as input.\n"
     ]
    },
    {
     "name": "stdout",
     "output_type": "stream",
     "text": [
      "1\n",
      "0\n",
      "0\n",
      "2\n",
      "2\n",
      "0\n",
      "1\n",
      "1\n",
      "0\n",
      "0\n",
      "2\n",
      "2\n",
      "0\n",
      "1\n"
     ]
    },
    {
     "name": "stderr",
     "output_type": "stream",
     "text": [
      "Exception in Tkinter callback\n",
      "Traceback (most recent call last):\n",
      "  File \"C:\\Users\\hp\\anaconda3\\lib\\tkinter\\__init__.py\", line 1892, in __call__\n",
      "    return self.func(*args)\n",
      "  File \"C:\\Users\\hp\\AppData\\Local\\Temp\\ipykernel_13136\\1872049314.py\", line 92, in show_entry_fields\n",
      "    result=model.predict(new_data)\n",
      "  File \"C:\\Users\\hp\\anaconda3\\lib\\site-packages\\sklearn\\linear_model\\_base.py\", line 447, in predict\n",
      "    scores = self.decision_function(X)\n",
      "  File \"C:\\Users\\hp\\anaconda3\\lib\\site-packages\\sklearn\\linear_model\\_base.py\", line 429, in decision_function\n",
      "    X = self._validate_data(X, accept_sparse=\"csr\", reset=False)\n",
      "  File \"C:\\Users\\hp\\anaconda3\\lib\\site-packages\\sklearn\\base.py\", line 600, in _validate_data\n",
      "    self._check_n_features(X, reset=reset)\n",
      "  File \"C:\\Users\\hp\\anaconda3\\lib\\site-packages\\sklearn\\base.py\", line 400, in _check_n_features\n",
      "    raise ValueError(\n",
      "ValueError: X has 12 features, but LogisticRegression is expecting 11 features as input.\n",
      "Exception in Tkinter callback\n",
      "Traceback (most recent call last):\n",
      "  File \"C:\\Users\\hp\\anaconda3\\lib\\tkinter\\__init__.py\", line 1892, in __call__\n",
      "    return self.func(*args)\n",
      "  File \"C:\\Users\\hp\\AppData\\Local\\Temp\\ipykernel_13136\\1872049314.py\", line 92, in show_entry_fields\n",
      "    result=model.predict(new_data)\n",
      "  File \"C:\\Users\\hp\\anaconda3\\lib\\site-packages\\sklearn\\linear_model\\_base.py\", line 447, in predict\n",
      "    scores = self.decision_function(X)\n",
      "  File \"C:\\Users\\hp\\anaconda3\\lib\\site-packages\\sklearn\\linear_model\\_base.py\", line 429, in decision_function\n",
      "    X = self._validate_data(X, accept_sparse=\"csr\", reset=False)\n",
      "  File \"C:\\Users\\hp\\anaconda3\\lib\\site-packages\\sklearn\\base.py\", line 600, in _validate_data\n",
      "    self._check_n_features(X, reset=reset)\n",
      "  File \"C:\\Users\\hp\\anaconda3\\lib\\site-packages\\sklearn\\base.py\", line 400, in _check_n_features\n",
      "    raise ValueError(\n",
      "ValueError: X has 12 features, but LogisticRegression is expecting 11 features as input.\n"
     ]
    },
    {
     "name": "stdout",
     "output_type": "stream",
     "text": [
      "1\n",
      "0\n",
      "0\n",
      "2\n",
      "2\n",
      "0\n",
      "1\n",
      "1\n",
      "0\n",
      "0\n",
      "2\n",
      "2\n",
      "0\n",
      "1\n"
     ]
    },
    {
     "name": "stderr",
     "output_type": "stream",
     "text": [
      "Exception in Tkinter callback\n",
      "Traceback (most recent call last):\n",
      "  File \"C:\\Users\\hp\\anaconda3\\lib\\tkinter\\__init__.py\", line 1892, in __call__\n",
      "    return self.func(*args)\n",
      "  File \"C:\\Users\\hp\\AppData\\Local\\Temp\\ipykernel_13136\\1872049314.py\", line 92, in show_entry_fields\n",
      "    result=model.predict(new_data)\n",
      "  File \"C:\\Users\\hp\\anaconda3\\lib\\site-packages\\sklearn\\linear_model\\_base.py\", line 447, in predict\n",
      "    scores = self.decision_function(X)\n",
      "  File \"C:\\Users\\hp\\anaconda3\\lib\\site-packages\\sklearn\\linear_model\\_base.py\", line 429, in decision_function\n",
      "    X = self._validate_data(X, accept_sparse=\"csr\", reset=False)\n",
      "  File \"C:\\Users\\hp\\anaconda3\\lib\\site-packages\\sklearn\\base.py\", line 600, in _validate_data\n",
      "    self._check_n_features(X, reset=reset)\n",
      "  File \"C:\\Users\\hp\\anaconda3\\lib\\site-packages\\sklearn\\base.py\", line 400, in _check_n_features\n",
      "    raise ValueError(\n",
      "ValueError: X has 12 features, but LogisticRegression is expecting 11 features as input.\n",
      "Exception in Tkinter callback\n",
      "Traceback (most recent call last):\n",
      "  File \"C:\\Users\\hp\\anaconda3\\lib\\tkinter\\__init__.py\", line 1892, in __call__\n",
      "    return self.func(*args)\n",
      "  File \"C:\\Users\\hp\\AppData\\Local\\Temp\\ipykernel_13136\\1872049314.py\", line 92, in show_entry_fields\n",
      "    result=model.predict(new_data)\n",
      "  File \"C:\\Users\\hp\\anaconda3\\lib\\site-packages\\sklearn\\linear_model\\_base.py\", line 447, in predict\n",
      "    scores = self.decision_function(X)\n",
      "  File \"C:\\Users\\hp\\anaconda3\\lib\\site-packages\\sklearn\\linear_model\\_base.py\", line 429, in decision_function\n",
      "    X = self._validate_data(X, accept_sparse=\"csr\", reset=False)\n",
      "  File \"C:\\Users\\hp\\anaconda3\\lib\\site-packages\\sklearn\\base.py\", line 600, in _validate_data\n",
      "    self._check_n_features(X, reset=reset)\n",
      "  File \"C:\\Users\\hp\\anaconda3\\lib\\site-packages\\sklearn\\base.py\", line 400, in _check_n_features\n",
      "    raise ValueError(\n",
      "ValueError: X has 12 features, but LogisticRegression is expecting 11 features as input.\n"
     ]
    },
    {
     "name": "stdout",
     "output_type": "stream",
     "text": [
      "1\n",
      "0\n",
      "0\n",
      "2\n",
      "2\n",
      "0\n",
      "1\n"
     ]
    },
    {
     "name": "stderr",
     "output_type": "stream",
     "text": [
      "Exception in Tkinter callback\n",
      "Traceback (most recent call last):\n",
      "  File \"C:\\Users\\hp\\anaconda3\\lib\\tkinter\\__init__.py\", line 1892, in __call__\n",
      "    return self.func(*args)\n",
      "  File \"C:\\Users\\hp\\AppData\\Local\\Temp\\ipykernel_13136\\1872049314.py\", line 92, in show_entry_fields\n",
      "    result=model.predict(new_data)\n",
      "  File \"C:\\Users\\hp\\anaconda3\\lib\\site-packages\\sklearn\\linear_model\\_base.py\", line 447, in predict\n",
      "    scores = self.decision_function(X)\n",
      "  File \"C:\\Users\\hp\\anaconda3\\lib\\site-packages\\sklearn\\linear_model\\_base.py\", line 429, in decision_function\n",
      "    X = self._validate_data(X, accept_sparse=\"csr\", reset=False)\n",
      "  File \"C:\\Users\\hp\\anaconda3\\lib\\site-packages\\sklearn\\base.py\", line 600, in _validate_data\n",
      "    self._check_n_features(X, reset=reset)\n",
      "  File \"C:\\Users\\hp\\anaconda3\\lib\\site-packages\\sklearn\\base.py\", line 400, in _check_n_features\n",
      "    raise ValueError(\n",
      "ValueError: X has 12 features, but LogisticRegression is expecting 11 features as input.\n"
     ]
    },
    {
     "name": "stdout",
     "output_type": "stream",
     "text": [
      "1\n",
      "0\n",
      "0\n",
      "2\n",
      "2\n",
      "0\n",
      "1\n",
      "1\n",
      "0\n",
      "0\n",
      "2\n",
      "2\n",
      "0\n",
      "1\n"
     ]
    },
    {
     "name": "stderr",
     "output_type": "stream",
     "text": [
      "Exception in Tkinter callback\n",
      "Traceback (most recent call last):\n",
      "  File \"C:\\Users\\hp\\anaconda3\\lib\\tkinter\\__init__.py\", line 1892, in __call__\n",
      "    return self.func(*args)\n",
      "  File \"C:\\Users\\hp\\AppData\\Local\\Temp\\ipykernel_13136\\1872049314.py\", line 92, in show_entry_fields\n",
      "    result=model.predict(new_data)\n",
      "  File \"C:\\Users\\hp\\anaconda3\\lib\\site-packages\\sklearn\\linear_model\\_base.py\", line 447, in predict\n",
      "    scores = self.decision_function(X)\n",
      "  File \"C:\\Users\\hp\\anaconda3\\lib\\site-packages\\sklearn\\linear_model\\_base.py\", line 429, in decision_function\n",
      "    X = self._validate_data(X, accept_sparse=\"csr\", reset=False)\n",
      "  File \"C:\\Users\\hp\\anaconda3\\lib\\site-packages\\sklearn\\base.py\", line 600, in _validate_data\n",
      "    self._check_n_features(X, reset=reset)\n",
      "  File \"C:\\Users\\hp\\anaconda3\\lib\\site-packages\\sklearn\\base.py\", line 400, in _check_n_features\n",
      "    raise ValueError(\n",
      "ValueError: X has 12 features, but LogisticRegression is expecting 11 features as input.\n",
      "Exception in Tkinter callback\n",
      "Traceback (most recent call last):\n",
      "  File \"C:\\Users\\hp\\anaconda3\\lib\\tkinter\\__init__.py\", line 1892, in __call__\n",
      "    return self.func(*args)\n",
      "  File \"C:\\Users\\hp\\AppData\\Local\\Temp\\ipykernel_13136\\1872049314.py\", line 92, in show_entry_fields\n",
      "    result=model.predict(new_data)\n",
      "  File \"C:\\Users\\hp\\anaconda3\\lib\\site-packages\\sklearn\\linear_model\\_base.py\", line 447, in predict\n",
      "    scores = self.decision_function(X)\n",
      "  File \"C:\\Users\\hp\\anaconda3\\lib\\site-packages\\sklearn\\linear_model\\_base.py\", line 429, in decision_function\n",
      "    X = self._validate_data(X, accept_sparse=\"csr\", reset=False)\n",
      "  File \"C:\\Users\\hp\\anaconda3\\lib\\site-packages\\sklearn\\base.py\", line 600, in _validate_data\n",
      "    self._check_n_features(X, reset=reset)\n",
      "  File \"C:\\Users\\hp\\anaconda3\\lib\\site-packages\\sklearn\\base.py\", line 400, in _check_n_features\n",
      "    raise ValueError(\n",
      "ValueError: X has 12 features, but LogisticRegression is expecting 11 features as input.\n"
     ]
    },
    {
     "name": "stdout",
     "output_type": "stream",
     "text": [
      "1\n",
      "0\n",
      "0\n",
      "2\n",
      "2\n",
      "0\n",
      "1\n",
      "1\n",
      "0\n",
      "0\n",
      "2\n",
      "2\n",
      "0\n",
      "1\n"
     ]
    },
    {
     "name": "stderr",
     "output_type": "stream",
     "text": [
      "Exception in Tkinter callback\n",
      "Traceback (most recent call last):\n",
      "  File \"C:\\Users\\hp\\anaconda3\\lib\\tkinter\\__init__.py\", line 1892, in __call__\n",
      "    return self.func(*args)\n",
      "  File \"C:\\Users\\hp\\AppData\\Local\\Temp\\ipykernel_13136\\1872049314.py\", line 92, in show_entry_fields\n",
      "    result=model.predict(new_data)\n",
      "  File \"C:\\Users\\hp\\anaconda3\\lib\\site-packages\\sklearn\\linear_model\\_base.py\", line 447, in predict\n",
      "    scores = self.decision_function(X)\n",
      "  File \"C:\\Users\\hp\\anaconda3\\lib\\site-packages\\sklearn\\linear_model\\_base.py\", line 429, in decision_function\n",
      "    X = self._validate_data(X, accept_sparse=\"csr\", reset=False)\n",
      "  File \"C:\\Users\\hp\\anaconda3\\lib\\site-packages\\sklearn\\base.py\", line 600, in _validate_data\n",
      "    self._check_n_features(X, reset=reset)\n",
      "  File \"C:\\Users\\hp\\anaconda3\\lib\\site-packages\\sklearn\\base.py\", line 400, in _check_n_features\n",
      "    raise ValueError(\n",
      "ValueError: X has 12 features, but LogisticRegression is expecting 11 features as input.\n",
      "Exception in Tkinter callback\n",
      "Traceback (most recent call last):\n",
      "  File \"C:\\Users\\hp\\anaconda3\\lib\\tkinter\\__init__.py\", line 1892, in __call__\n",
      "    return self.func(*args)\n",
      "  File \"C:\\Users\\hp\\AppData\\Local\\Temp\\ipykernel_13136\\1872049314.py\", line 92, in show_entry_fields\n",
      "    result=model.predict(new_data)\n",
      "  File \"C:\\Users\\hp\\anaconda3\\lib\\site-packages\\sklearn\\linear_model\\_base.py\", line 447, in predict\n",
      "    scores = self.decision_function(X)\n",
      "  File \"C:\\Users\\hp\\anaconda3\\lib\\site-packages\\sklearn\\linear_model\\_base.py\", line 429, in decision_function\n",
      "    X = self._validate_data(X, accept_sparse=\"csr\", reset=False)\n",
      "  File \"C:\\Users\\hp\\anaconda3\\lib\\site-packages\\sklearn\\base.py\", line 600, in _validate_data\n",
      "    self._check_n_features(X, reset=reset)\n",
      "  File \"C:\\Users\\hp\\anaconda3\\lib\\site-packages\\sklearn\\base.py\", line 400, in _check_n_features\n",
      "    raise ValueError(\n",
      "ValueError: X has 12 features, but LogisticRegression is expecting 11 features as input.\n"
     ]
    },
    {
     "name": "stdout",
     "output_type": "stream",
     "text": [
      "1\n",
      "0\n",
      "0\n",
      "2\n",
      "2\n",
      "0\n",
      "1\n",
      "1\n",
      "0\n"
     ]
    },
    {
     "name": "stderr",
     "output_type": "stream",
     "text": [
      "Exception in Tkinter callback\n",
      "Traceback (most recent call last):\n",
      "  File \"C:\\Users\\hp\\anaconda3\\lib\\tkinter\\__init__.py\", line 1892, in __call__\n",
      "    return self.func(*args)\n",
      "  File \"C:\\Users\\hp\\AppData\\Local\\Temp\\ipykernel_13136\\1872049314.py\", line 92, in show_entry_fields\n",
      "    result=model.predict(new_data)\n",
      "  File \"C:\\Users\\hp\\anaconda3\\lib\\site-packages\\sklearn\\linear_model\\_base.py\", line 447, in predict\n",
      "    scores = self.decision_function(X)\n",
      "  File \"C:\\Users\\hp\\anaconda3\\lib\\site-packages\\sklearn\\linear_model\\_base.py\", line 429, in decision_function\n",
      "    X = self._validate_data(X, accept_sparse=\"csr\", reset=False)\n",
      "  File \"C:\\Users\\hp\\anaconda3\\lib\\site-packages\\sklearn\\base.py\", line 600, in _validate_data\n",
      "    self._check_n_features(X, reset=reset)\n",
      "  File \"C:\\Users\\hp\\anaconda3\\lib\\site-packages\\sklearn\\base.py\", line 400, in _check_n_features\n",
      "    raise ValueError(\n",
      "ValueError: X has 12 features, but LogisticRegression is expecting 11 features as input.\n"
     ]
    },
    {
     "name": "stdout",
     "output_type": "stream",
     "text": [
      "0\n",
      "2\n",
      "2\n",
      "0\n",
      "1\n"
     ]
    },
    {
     "name": "stderr",
     "output_type": "stream",
     "text": [
      "Exception in Tkinter callback\n",
      "Traceback (most recent call last):\n",
      "  File \"C:\\Users\\hp\\anaconda3\\lib\\tkinter\\__init__.py\", line 1892, in __call__\n",
      "    return self.func(*args)\n",
      "  File \"C:\\Users\\hp\\AppData\\Local\\Temp\\ipykernel_13136\\1872049314.py\", line 92, in show_entry_fields\n",
      "    result=model.predict(new_data)\n",
      "  File \"C:\\Users\\hp\\anaconda3\\lib\\site-packages\\sklearn\\linear_model\\_base.py\", line 447, in predict\n",
      "    scores = self.decision_function(X)\n",
      "  File \"C:\\Users\\hp\\anaconda3\\lib\\site-packages\\sklearn\\linear_model\\_base.py\", line 429, in decision_function\n",
      "    X = self._validate_data(X, accept_sparse=\"csr\", reset=False)\n",
      "  File \"C:\\Users\\hp\\anaconda3\\lib\\site-packages\\sklearn\\base.py\", line 600, in _validate_data\n",
      "    self._check_n_features(X, reset=reset)\n",
      "  File \"C:\\Users\\hp\\anaconda3\\lib\\site-packages\\sklearn\\base.py\", line 400, in _check_n_features\n",
      "    raise ValueError(\n",
      "ValueError: X has 12 features, but LogisticRegression is expecting 11 features as input.\n"
     ]
    },
    {
     "name": "stdout",
     "output_type": "stream",
     "text": [
      "1\n",
      "0\n",
      "0\n",
      "2\n",
      "2\n",
      "0\n",
      "1\n"
     ]
    },
    {
     "name": "stderr",
     "output_type": "stream",
     "text": [
      "Exception in Tkinter callback\n",
      "Traceback (most recent call last):\n",
      "  File \"C:\\Users\\hp\\anaconda3\\lib\\tkinter\\__init__.py\", line 1892, in __call__\n",
      "    return self.func(*args)\n",
      "  File \"C:\\Users\\hp\\AppData\\Local\\Temp\\ipykernel_13136\\1872049314.py\", line 92, in show_entry_fields\n",
      "    result=model.predict(new_data)\n",
      "  File \"C:\\Users\\hp\\anaconda3\\lib\\site-packages\\sklearn\\linear_model\\_base.py\", line 447, in predict\n",
      "    scores = self.decision_function(X)\n",
      "  File \"C:\\Users\\hp\\anaconda3\\lib\\site-packages\\sklearn\\linear_model\\_base.py\", line 429, in decision_function\n",
      "    X = self._validate_data(X, accept_sparse=\"csr\", reset=False)\n",
      "  File \"C:\\Users\\hp\\anaconda3\\lib\\site-packages\\sklearn\\base.py\", line 600, in _validate_data\n",
      "    self._check_n_features(X, reset=reset)\n",
      "  File \"C:\\Users\\hp\\anaconda3\\lib\\site-packages\\sklearn\\base.py\", line 400, in _check_n_features\n",
      "    raise ValueError(\n",
      "ValueError: X has 12 features, but LogisticRegression is expecting 11 features as input.\n"
     ]
    }
   ],
   "source": [
    "from tkinter import *\n",
    "import joblib\n",
    "import numpy as np\n",
    "from sklearn import *\n",
    "import tkinter.font as font\n",
    "import pandas as pd\n",
    "\n",
    "def show_entry_fields():\n",
    "    text = clicked.get()\n",
    "    if text == \"Male\":\n",
    "        p1=1\n",
    "        print(p1)\n",
    "    else:\n",
    "        p1=0\n",
    "        print(p1)\n",
    "    p2=float(e2.get())\n",
    "    text = clicked1.get()\n",
    "    \n",
    "    if text == \"Central\":\n",
    "        p3=1\n",
    "        print(p3)\n",
    "    else:\n",
    "        p3=0\n",
    "        print(p3)\n",
    "    p4=float(e4.get())\n",
    "    text = clicked6.get()\n",
    "    \n",
    "    if text == \"Central\":\n",
    "        p5=1\n",
    "        print(p3)\n",
    "    else:\n",
    "        p5=0\n",
    "        print(p3)\n",
    "    text = clicked2.get()\n",
    "    \n",
    "    if text == \"Science\":\n",
    "        p6=2\n",
    "        print(p6)\n",
    "    elif text == \"Commerce\":\n",
    "        p6=1\n",
    "        print(p6)\n",
    "    else:\n",
    "        p6=0\n",
    "        print(p6)\n",
    "    \n",
    "    p7=float(e7.get())\n",
    "    text = clicked3.get()\n",
    "    \n",
    "    if text == \"Sci&Tech\":\n",
    "        p8=2\n",
    "        print(p8)\n",
    "    elif text==\"Comm&Mgmt\":\n",
    "        p8=1\n",
    "        print(p8)\n",
    "    else:\n",
    "        p8=0\n",
    "        print(p8)\n",
    "    text = clicked4.get()\n",
    "    \n",
    "    if text == \"Yes\":\n",
    "        p9=1\n",
    "        print(p3)\n",
    "    else:\n",
    "        p9=0\n",
    "        print(p3)\n",
    "    p10=float(e10.get())\n",
    "    text = clicked5.get()\n",
    "    \n",
    "    if text == \"Mkt&HR\":\n",
    "        p11=1\n",
    "        print(p11)\n",
    "    else:\n",
    "        p11=0\n",
    "        print(p11)\n",
    "    p12=float(e12.get())\n",
    "\n",
    "    model = joblib.load('model_campus_placement')\n",
    "    new_data = pd.DataFrame({\n",
    "    'gender':p1,\n",
    "    'ssc_p':p2,\n",
    "    'ssc_b':p3,\n",
    "    'hsc_p':p4,\n",
    "    'hsc_b':p5,\n",
    "    'hsc_s':p6,\n",
    "    'degree_p':p7,\n",
    "    'degree_t':p8,\n",
    "    'workex':p9,\n",
    "    'etest_p':p10,\n",
    "     'specialisation':p11,\n",
    "    'mba_p':p12,   \n",
    "},index=[0])\n",
    "    result=model.predict(new_data)\n",
    "    result1=model.predict_proba(new_data)\n",
    "    \n",
    "    if result[0] == 0:\n",
    "        Label(master, text=\"Can't Placed\").grid(row=31)\n",
    "    else:\n",
    "        Label(master, text=\"Student Will be Placed With Probability of\",font=(\"Arial\", 15)).grid(row=31)\n",
    "        Label(master, text=round(result1[0][1],2)*100,font=(\"Arial\", 15)).grid(row=33)\n",
    "        Label(master, text=\"Percent\",font=(\"Arial\", 15)).grid(row=34)\n",
    "\n",
    "master = Tk()\n",
    "master.title(\"Campus Placement Prediction System\")\n",
    "\n",
    "\n",
    "label = Label(master, text = \"Campus Placement Prediction System\"\n",
    "                          , bg = \"green\", fg = \"white\",font=(\"Arial\", 20)) \\\n",
    "                               .grid(row=0,columnspan=2)\n",
    "\n",
    "\n",
    "Label(master, text=\"Gender\",font=(\"Arial\", 15)).grid(row=1)\n",
    "Label(master, text=\"Secondary Education percentage- 10th Grade\",font=(\"Arial\", 15)).grid(row=2)\n",
    "Label(master, text=\"Board of Education\",font=(\"Arial\", 15)).grid(row=3)\n",
    "Label(master, text=\"Higher Secondary Education percentage- 12th Grade\",font=(\"Arial\", 15)).grid(row=4)\n",
    "Label(master, text=\"Board of Education\",font=(\"Arial\", 15)).grid(row=5)\n",
    "Label(master, text=\"Specialization in Higher Secondary Education\",font=(\"Arial\", 15)).grid(row=6)\n",
    "Label(master, text=\"Degree Percentage\",font=(\"Arial\", 15)).grid(row=7)\n",
    "Label(master, text=\"Under Graduation(Degree type)- Field of degree education\",font=(\"Arial\", 15)).grid(row=8)\n",
    "Label(master, text=\"Work Experience\",font=(\"Arial\", 15)).grid(row=9)\n",
    "Label(master, text=\"Enter test percentage\",font=(\"Arial\", 15)).grid(row=10)\n",
    "Label(master, text=\"branch specialization\",font=(\"Arial\", 15)).grid(row=11)\n",
    "Label(master, text=\"MBA percentage\",font=(\"Arial\", 15)).grid(row=12)\n",
    "clicked = StringVar()\n",
    "options = [\"Male\",\"Female\"]\n",
    "\n",
    "clicked1 = StringVar()\n",
    "options1 = [\"Central\",\"Others\"]\n",
    "\n",
    "clicked2 = StringVar()\n",
    "options2 = [\"Science\",\"Commerce\",\"Arts\"]\n",
    "\n",
    "clicked3 = StringVar()\n",
    "options3 = [\"Sci&Tech\",\"Comm&Mgmt\",\"Others\"]\n",
    "\n",
    "clicked4 = StringVar()\n",
    "options4 = [\"Yes\",\"No\"]\n",
    "\n",
    "clicked5 = StringVar()\n",
    "options5 = [\"Mkt&HR\",\"Mky&Fin\"]\n",
    "\n",
    "clicked6 = StringVar()\n",
    "options6 = [\"Central\",\"Others\"]\n",
    "\n",
    "e1 = OptionMenu(master , clicked , *options )\n",
    "e1.configure(width=13)\n",
    "e2 = Entry(master)\n",
    "\n",
    "e3 = OptionMenu(master , clicked1 , *options1 )\n",
    "e3.configure(width=13)\n",
    "e4 = Entry(master)\n",
    "\n",
    "e5 = OptionMenu(master , clicked6 , *options6)\n",
    "e5.configure(width=13)\n",
    "e6 = OptionMenu(master , clicked2 , *options2)\n",
    "e6.configure(width=13)\n",
    "e7 = Entry(master)\n",
    "\n",
    "e8 = OptionMenu(master , clicked3 , *options3)\n",
    "e8.configure(width=13)\n",
    "e9 = OptionMenu(master , clicked4 , *options4)\n",
    "e9.configure(width=13)\n",
    "e10 = Entry(master)\n",
    "\n",
    "e11 = OptionMenu(master , clicked5 , *options5)\n",
    "e11.configure(width=13)\n",
    "e12 = Entry(master)\n",
    "\n",
    "e1.grid(row=1, column=1)\n",
    "e2.grid(row=2, column=1)\n",
    "e3.grid(row=3, column=1)\n",
    "e4.grid(row=4, column=1)\n",
    "e5.grid(row=5, column=1)\n",
    "e6.grid(row=6, column=1)\n",
    "e7.grid(row=7, column=1)\n",
    "e8.grid(row=8, column=1)\n",
    "e9.grid(row=9, column=1)\n",
    "e10.grid(row=10, column=1)\n",
    "e11.grid(row=11, column=1)\n",
    "e12.grid(row=12, column=1)\n",
    "\n",
    "buttonFont = font.Font(family='Helvetica', size=16, weight='bold')\n",
    "Button(master, text='Predict',height= 1, width=8,activebackground='#00ff00',font=buttonFont,bg='black', fg='white',command=show_entry_fields).grid()\n",
    "\n",
    "mainloop()"
   ]
  },
  {
   "cell_type": "code",
   "execution_count": null,
   "metadata": {},
   "outputs": [],
   "source": []
  }
 ],
 "metadata": {
  "kernelspec": {
   "display_name": "Python 3 (ipykernel)",
   "language": "python",
   "name": "python3"
  },
  "language_info": {
   "codemirror_mode": {
    "name": "ipython",
    "version": 3
   },
   "file_extension": ".py",
   "mimetype": "text/x-python",
   "name": "python",
   "nbconvert_exporter": "python",
   "pygments_lexer": "ipython3",
   "version": "3.9.12"
  },
  "latex_envs": {
   "LaTeX_envs_menu_present": true,
   "autoclose": false,
   "autocomplete": true,
   "bibliofile": "biblio.bib",
   "cite_by": "apalike",
   "current_citInitial": 1,
   "eqLabelWithNumbers": true,
   "eqNumInitial": 1,
   "hotkeys": {
    "equation": "Ctrl-E",
    "itemize": "Ctrl-I"
   },
   "labels_anchors": false,
   "latex_user_defs": false,
   "report_style_numbering": false,
   "user_envs_cfg": false
  },
  "nbTranslate": {
   "displayLangs": [
    "*"
   ],
   "hotkey": "alt-t",
   "langInMainMenu": true,
   "sourceLang": "en",
   "targetLang": "fr",
   "useGoogleTranslate": true
  },
  "toc": {
   "base_numbering": 1,
   "nav_menu": {},
   "number_sections": true,
   "sideBar": true,
   "skip_h1_title": false,
   "title_cell": "Table of Contents",
   "title_sidebar": "Contents",
   "toc_cell": false,
   "toc_position": {},
   "toc_section_display": true,
   "toc_window_display": false
  },
  "varInspector": {
   "cols": {
    "lenName": 16,
    "lenType": 16,
    "lenVar": 40
   },
   "kernels_config": {
    "python": {
     "delete_cmd_postfix": "",
     "delete_cmd_prefix": "del ",
     "library": "var_list.py",
     "varRefreshCmd": "print(var_dic_list())"
    },
    "r": {
     "delete_cmd_postfix": ") ",
     "delete_cmd_prefix": "rm(",
     "library": "var_list.r",
     "varRefreshCmd": "cat(var_dic_list()) "
    }
   },
   "types_to_exclude": [
    "module",
    "function",
    "builtin_function_or_method",
    "instance",
    "_Feature"
   ],
   "window_display": false
  }
 },
 "nbformat": 4,
 "nbformat_minor": 4
}
