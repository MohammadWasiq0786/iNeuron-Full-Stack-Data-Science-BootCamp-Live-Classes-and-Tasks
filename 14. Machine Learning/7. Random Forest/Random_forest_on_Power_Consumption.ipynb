{
 "cells": [
  {
   "cell_type": "markdown",
   "metadata": {},
   "source": [
    "## Household Electricity Consumption \n",
    "- Decision Tree, Bagging , Random Forest"
   ]
  },
  {
   "cell_type": "markdown",
   "metadata": {},
   "source": [
    "![](https://i.imgur.com/B0DSlwb.jpg)"
   ]
  },
  {
   "cell_type": "markdown",
   "metadata": {},
   "source": [
    "### Problem Statement\n",
    "- Predict the household power counsumtion"
   ]
  },
  {
   "cell_type": "markdown",
   "metadata": {},
   "source": [
    "### Task Peformed:\n",
    "1. Load Data\n",
    "2. Exploratory data analysis\n",
    "3. Check and remove any special character\n",
    "4. Handle the null Values\n",
    "5. Graphical Analysis\n",
    "6. Check and Handle the outliers\n",
    "7. Train Test Split\n",
    "8. Model building for :\n",
    "\t- Linear Regression\n",
    "\t- Ridge Regression\n",
    "\t- Lasso Regression\n",
    "\t- Support Vector Regression\n",
    "\t- Decision Tree Regressor\n",
    "\t- Random Forest Regressor\n",
    "\t- Bagging Regressor\n",
    "9. check for all models:\n",
    "\t- mean_squared_error\n",
    "\t- mean_absolute_error\n",
    "\t- r2_score\n",
    "\t- Adjusted r2_score\n",
    "10. Hyper-Parameter tuning using RandomSearchCV on:\n",
    "\t- Random Forest Regessor\n",
    "\t- Bagging Regressor\n",
    "11. Summary\n",
    "12. Store the best model in pickle file"
   ]
  },
  {
   "cell_type": "markdown",
   "metadata": {},
   "source": [
    "### Description\n",
    "- The dataset is collected from UCI website, provided by Senior Researchers from France.\n",
    "- More then 2 million records\n",
    "- Data of 47 months ranging from December 2006 to November 2010.\n",
    "- Dataset has 9 attributes, out of which 3 are meter readings stating how much electricity unit appliances of various type has consumed.\n"
   ]
  },
  {
   "cell_type": "markdown",
   "metadata": {},
   "source": [
    "### Importing required libraries"
   ]
  },
  {
   "cell_type": "code",
   "execution_count": 16,
   "metadata": {},
   "outputs": [],
   "source": [
    "# Data Analysing \n",
    "import pandas as pd\n",
    "import numpy as np\n",
    "\n",
    "# Graphical analysis\n",
    "import matplotlib.pyplot as plt\n",
    "%matplotlib inline\n",
    "import seaborn as sns\n",
    "import warnings\n",
    "warnings.filterwarnings('ignore')\n",
    "\n",
    "# for model building\n",
    "from sklearn.linear_model import LinearRegression,Ridge,Lasso\n",
    "from sklearn.svm import SVR\n",
    "from sklearn.metrics import accuracy_score,r2_score,mean_squared_error,mean_absolute_error\n",
    "from sklearn.model_selection import train_test_split\n",
    "from sklearn.preprocessing import StandardScaler\n",
    "from sklearn.ensemble import RandomForestRegressor\n",
    "from sklearn.tree import DecisionTreeRegressor\n",
    "from sklearn.ensemble import BaggingRegressor\n",
    "from sklearn.model_selection import RandomizedSearchCV\n",
    "\n",
    "# Database\n",
    "import pymongo\n",
    "\n",
    "# save the model\n",
    "import pickle\n"
   ]
  },
  {
   "cell_type": "markdown",
   "metadata": {},
   "source": [
    "### Load dataset"
   ]
  },
  {
   "cell_type": "code",
   "execution_count": 17,
   "metadata": {},
   "outputs": [
    {
     "data": {
      "text/html": [
       "<div>\n",
       "<style scoped>\n",
       "    .dataframe tbody tr th:only-of-type {\n",
       "        vertical-align: middle;\n",
       "    }\n",
       "\n",
       "    .dataframe tbody tr th {\n",
       "        vertical-align: top;\n",
       "    }\n",
       "\n",
       "    .dataframe thead th {\n",
       "        text-align: right;\n",
       "    }\n",
       "</style>\n",
       "<table border=\"1\" class=\"dataframe\">\n",
       "  <thead>\n",
       "    <tr style=\"text-align: right;\">\n",
       "      <th></th>\n",
       "      <th>Date</th>\n",
       "      <th>Time</th>\n",
       "      <th>Global_active_power</th>\n",
       "      <th>Global_reactive_power</th>\n",
       "      <th>Voltage</th>\n",
       "      <th>Global_intensity</th>\n",
       "      <th>Sub_metering_1</th>\n",
       "      <th>Sub_metering_2</th>\n",
       "      <th>Sub_metering_3</th>\n",
       "    </tr>\n",
       "  </thead>\n",
       "  <tbody>\n",
       "    <tr>\n",
       "      <th>0</th>\n",
       "      <td>16/12/2006</td>\n",
       "      <td>17:24:00</td>\n",
       "      <td>4.216</td>\n",
       "      <td>0.418</td>\n",
       "      <td>234.840</td>\n",
       "      <td>18.400</td>\n",
       "      <td>0.000</td>\n",
       "      <td>1.000</td>\n",
       "      <td>17.0</td>\n",
       "    </tr>\n",
       "    <tr>\n",
       "      <th>1</th>\n",
       "      <td>16/12/2006</td>\n",
       "      <td>17:25:00</td>\n",
       "      <td>5.360</td>\n",
       "      <td>0.436</td>\n",
       "      <td>233.630</td>\n",
       "      <td>23.000</td>\n",
       "      <td>0.000</td>\n",
       "      <td>1.000</td>\n",
       "      <td>16.0</td>\n",
       "    </tr>\n",
       "    <tr>\n",
       "      <th>2</th>\n",
       "      <td>16/12/2006</td>\n",
       "      <td>17:26:00</td>\n",
       "      <td>5.374</td>\n",
       "      <td>0.498</td>\n",
       "      <td>233.290</td>\n",
       "      <td>23.000</td>\n",
       "      <td>0.000</td>\n",
       "      <td>2.000</td>\n",
       "      <td>17.0</td>\n",
       "    </tr>\n",
       "    <tr>\n",
       "      <th>3</th>\n",
       "      <td>16/12/2006</td>\n",
       "      <td>17:27:00</td>\n",
       "      <td>5.388</td>\n",
       "      <td>0.502</td>\n",
       "      <td>233.740</td>\n",
       "      <td>23.000</td>\n",
       "      <td>0.000</td>\n",
       "      <td>1.000</td>\n",
       "      <td>17.0</td>\n",
       "    </tr>\n",
       "    <tr>\n",
       "      <th>4</th>\n",
       "      <td>16/12/2006</td>\n",
       "      <td>17:28:00</td>\n",
       "      <td>3.666</td>\n",
       "      <td>0.528</td>\n",
       "      <td>235.680</td>\n",
       "      <td>15.800</td>\n",
       "      <td>0.000</td>\n",
       "      <td>1.000</td>\n",
       "      <td>17.0</td>\n",
       "    </tr>\n",
       "  </tbody>\n",
       "</table>\n",
       "</div>"
      ],
      "text/plain": [
       "         Date      Time Global_active_power Global_reactive_power  Voltage  \\\n",
       "0  16/12/2006  17:24:00               4.216                 0.418  234.840   \n",
       "1  16/12/2006  17:25:00               5.360                 0.436  233.630   \n",
       "2  16/12/2006  17:26:00               5.374                 0.498  233.290   \n",
       "3  16/12/2006  17:27:00               5.388                 0.502  233.740   \n",
       "4  16/12/2006  17:28:00               3.666                 0.528  235.680   \n",
       "\n",
       "  Global_intensity Sub_metering_1 Sub_metering_2  Sub_metering_3  \n",
       "0           18.400          0.000          1.000            17.0  \n",
       "1           23.000          0.000          1.000            16.0  \n",
       "2           23.000          0.000          2.000            17.0  \n",
       "3           23.000          0.000          1.000            17.0  \n",
       "4           15.800          0.000          1.000            17.0  "
      ]
     },
     "execution_count": 17,
     "metadata": {},
     "output_type": "execute_result"
    }
   ],
   "source": [
    "df = pd.read_csv(r\"G:\\Udemy\\DATA SCIENCE ineuron\\Resources\\Dataset\\household_power_consumption.txt\",sep=';')\n",
    "df.head()"
   ]
  },
  {
   "cell_type": "code",
   "execution_count": 18,
   "metadata": {},
   "outputs": [
    {
     "data": {
      "text/plain": [
       "(2075259, 9)"
      ]
     },
     "execution_count": 18,
     "metadata": {},
     "output_type": "execute_result"
    }
   ],
   "source": [
    "df.shape"
   ]
  },
  {
   "cell_type": "markdown",
   "metadata": {},
   "source": [
    "- Data is very big so we have to take small sample for model building"
   ]
  },
  {
   "cell_type": "code",
   "execution_count": 19,
   "metadata": {},
   "outputs": [],
   "source": [
    "df_sample = df.sample(60000)"
   ]
  },
  {
   "cell_type": "code",
   "execution_count": 20,
   "metadata": {},
   "outputs": [
    {
     "data": {
      "text/plain": [
       "(60000, 9)"
      ]
     },
     "execution_count": 20,
     "metadata": {},
     "output_type": "execute_result"
    }
   ],
   "source": [
    "df_sample.shape"
   ]
  },
  {
   "cell_type": "markdown",
   "metadata": {},
   "source": [
    "- We have taken 60000 samples out of 2 million to build model"
   ]
  },
  {
   "cell_type": "markdown",
   "metadata": {},
   "source": [
    "### EDA"
   ]
  },
  {
   "cell_type": "code",
   "execution_count": 21,
   "metadata": {},
   "outputs": [
    {
     "data": {
      "text/plain": [
       "Index(['Date', 'Time', 'Global_active_power', 'Global_reactive_power',\n",
       "       'Voltage', 'Global_intensity', 'Sub_metering_1', 'Sub_metering_2',\n",
       "       'Sub_metering_3'],\n",
       "      dtype='object')"
      ]
     },
     "execution_count": 21,
     "metadata": {},
     "output_type": "execute_result"
    }
   ],
   "source": [
    "df_sample.columns"
   ]
  },
  {
   "cell_type": "markdown",
   "metadata": {},
   "source": [
    "#### Drop Date and time columns"
   ]
  },
  {
   "cell_type": "code",
   "execution_count": 22,
   "metadata": {},
   "outputs": [],
   "source": [
    "df_sample.drop(['Date','Time'],axis = 1, inplace = True)"
   ]
  },
  {
   "cell_type": "code",
   "execution_count": 23,
   "metadata": {},
   "outputs": [
    {
     "data": {
      "text/html": [
       "<div>\n",
       "<style scoped>\n",
       "    .dataframe tbody tr th:only-of-type {\n",
       "        vertical-align: middle;\n",
       "    }\n",
       "\n",
       "    .dataframe tbody tr th {\n",
       "        vertical-align: top;\n",
       "    }\n",
       "\n",
       "    .dataframe thead th {\n",
       "        text-align: right;\n",
       "    }\n",
       "</style>\n",
       "<table border=\"1\" class=\"dataframe\">\n",
       "  <thead>\n",
       "    <tr style=\"text-align: right;\">\n",
       "      <th></th>\n",
       "      <th>Global_active_power</th>\n",
       "      <th>Global_reactive_power</th>\n",
       "      <th>Voltage</th>\n",
       "      <th>Global_intensity</th>\n",
       "      <th>Sub_metering_1</th>\n",
       "      <th>Sub_metering_2</th>\n",
       "      <th>Sub_metering_3</th>\n",
       "    </tr>\n",
       "  </thead>\n",
       "  <tbody>\n",
       "    <tr>\n",
       "      <th>1334516</th>\n",
       "      <td>1.680</td>\n",
       "      <td>0.242</td>\n",
       "      <td>240.250</td>\n",
       "      <td>7.400</td>\n",
       "      <td>0.000</td>\n",
       "      <td>0.000</td>\n",
       "      <td>19.0</td>\n",
       "    </tr>\n",
       "    <tr>\n",
       "      <th>834531</th>\n",
       "      <td>1.346</td>\n",
       "      <td>0.000</td>\n",
       "      <td>240.080</td>\n",
       "      <td>5.600</td>\n",
       "      <td>0.000</td>\n",
       "      <td>0.000</td>\n",
       "      <td>19.0</td>\n",
       "    </tr>\n",
       "    <tr>\n",
       "      <th>2039045</th>\n",
       "      <td>1.49</td>\n",
       "      <td>0.218</td>\n",
       "      <td>240.84</td>\n",
       "      <td>6.2</td>\n",
       "      <td>0.0</td>\n",
       "      <td>1.0</td>\n",
       "      <td>19.0</td>\n",
       "    </tr>\n",
       "    <tr>\n",
       "      <th>1197023</th>\n",
       "      <td>0.500</td>\n",
       "      <td>0.242</td>\n",
       "      <td>246.600</td>\n",
       "      <td>2.400</td>\n",
       "      <td>0.000</td>\n",
       "      <td>2.000</td>\n",
       "      <td>0.0</td>\n",
       "    </tr>\n",
       "    <tr>\n",
       "      <th>1992121</th>\n",
       "      <td>0.502</td>\n",
       "      <td>0.000</td>\n",
       "      <td>243.140</td>\n",
       "      <td>2.000</td>\n",
       "      <td>0.000</td>\n",
       "      <td>0.000</td>\n",
       "      <td>1.0</td>\n",
       "    </tr>\n",
       "  </tbody>\n",
       "</table>\n",
       "</div>"
      ],
      "text/plain": [
       "        Global_active_power Global_reactive_power  Voltage Global_intensity  \\\n",
       "1334516               1.680                 0.242  240.250            7.400   \n",
       "834531                1.346                 0.000  240.080            5.600   \n",
       "2039045                1.49                 0.218   240.84              6.2   \n",
       "1197023               0.500                 0.242  246.600            2.400   \n",
       "1992121               0.502                 0.000  243.140            2.000   \n",
       "\n",
       "        Sub_metering_1 Sub_metering_2  Sub_metering_3  \n",
       "1334516          0.000          0.000            19.0  \n",
       "834531           0.000          0.000            19.0  \n",
       "2039045            0.0            1.0            19.0  \n",
       "1197023          0.000          2.000             0.0  \n",
       "1992121          0.000          0.000             1.0  "
      ]
     },
     "execution_count": 23,
     "metadata": {},
     "output_type": "execute_result"
    }
   ],
   "source": [
    "df_sample.head()"
   ]
  },
  {
   "cell_type": "markdown",
   "metadata": {},
   "source": [
    "#### Check any special character"
   ]
  },
  {
   "cell_type": "code",
   "execution_count": 24,
   "metadata": {},
   "outputs": [
    {
     "data": {
      "text/html": [
       "<div>\n",
       "<style scoped>\n",
       "    .dataframe tbody tr th:only-of-type {\n",
       "        vertical-align: middle;\n",
       "    }\n",
       "\n",
       "    .dataframe tbody tr th {\n",
       "        vertical-align: top;\n",
       "    }\n",
       "\n",
       "    .dataframe thead th {\n",
       "        text-align: right;\n",
       "    }\n",
       "</style>\n",
       "<table border=\"1\" class=\"dataframe\">\n",
       "  <thead>\n",
       "    <tr style=\"text-align: right;\">\n",
       "      <th></th>\n",
       "      <th>Global_active_power</th>\n",
       "      <th>Global_reactive_power</th>\n",
       "      <th>Voltage</th>\n",
       "      <th>Global_intensity</th>\n",
       "      <th>Sub_metering_1</th>\n",
       "      <th>Sub_metering_2</th>\n",
       "      <th>Sub_metering_3</th>\n",
       "    </tr>\n",
       "  </thead>\n",
       "  <tbody>\n",
       "    <tr>\n",
       "      <th>1713110</th>\n",
       "      <td>?</td>\n",
       "      <td>?</td>\n",
       "      <td>?</td>\n",
       "      <td>?</td>\n",
       "      <td>?</td>\n",
       "      <td>?</td>\n",
       "      <td>NaN</td>\n",
       "    </tr>\n",
       "    <tr>\n",
       "      <th>1929951</th>\n",
       "      <td>?</td>\n",
       "      <td>?</td>\n",
       "      <td>?</td>\n",
       "      <td>?</td>\n",
       "      <td>?</td>\n",
       "      <td>?</td>\n",
       "      <td>NaN</td>\n",
       "    </tr>\n",
       "    <tr>\n",
       "      <th>191104</th>\n",
       "      <td>?</td>\n",
       "      <td>?</td>\n",
       "      <td>?</td>\n",
       "      <td>?</td>\n",
       "      <td>?</td>\n",
       "      <td>?</td>\n",
       "      <td>NaN</td>\n",
       "    </tr>\n",
       "    <tr>\n",
       "      <th>1714427</th>\n",
       "      <td>?</td>\n",
       "      <td>?</td>\n",
       "      <td>?</td>\n",
       "      <td>?</td>\n",
       "      <td>?</td>\n",
       "      <td>?</td>\n",
       "      <td>NaN</td>\n",
       "    </tr>\n",
       "    <tr>\n",
       "      <th>1309659</th>\n",
       "      <td>?</td>\n",
       "      <td>?</td>\n",
       "      <td>?</td>\n",
       "      <td>?</td>\n",
       "      <td>?</td>\n",
       "      <td>?</td>\n",
       "      <td>NaN</td>\n",
       "    </tr>\n",
       "    <tr>\n",
       "      <th>...</th>\n",
       "      <td>...</td>\n",
       "      <td>...</td>\n",
       "      <td>...</td>\n",
       "      <td>...</td>\n",
       "      <td>...</td>\n",
       "      <td>...</td>\n",
       "      <td>...</td>\n",
       "    </tr>\n",
       "    <tr>\n",
       "      <th>192591</th>\n",
       "      <td>?</td>\n",
       "      <td>?</td>\n",
       "      <td>?</td>\n",
       "      <td>?</td>\n",
       "      <td>?</td>\n",
       "      <td>?</td>\n",
       "      <td>NaN</td>\n",
       "    </tr>\n",
       "    <tr>\n",
       "      <th>1936886</th>\n",
       "      <td>?</td>\n",
       "      <td>?</td>\n",
       "      <td>?</td>\n",
       "      <td>?</td>\n",
       "      <td>?</td>\n",
       "      <td>?</td>\n",
       "      <td>NaN</td>\n",
       "    </tr>\n",
       "    <tr>\n",
       "      <th>192760</th>\n",
       "      <td>?</td>\n",
       "      <td>?</td>\n",
       "      <td>?</td>\n",
       "      <td>?</td>\n",
       "      <td>?</td>\n",
       "      <td>?</td>\n",
       "      <td>NaN</td>\n",
       "    </tr>\n",
       "    <tr>\n",
       "      <th>1714192</th>\n",
       "      <td>?</td>\n",
       "      <td>?</td>\n",
       "      <td>?</td>\n",
       "      <td>?</td>\n",
       "      <td>?</td>\n",
       "      <td>?</td>\n",
       "      <td>NaN</td>\n",
       "    </tr>\n",
       "    <tr>\n",
       "      <th>1617194</th>\n",
       "      <td>?</td>\n",
       "      <td>?</td>\n",
       "      <td>?</td>\n",
       "      <td>?</td>\n",
       "      <td>?</td>\n",
       "      <td>?</td>\n",
       "      <td>NaN</td>\n",
       "    </tr>\n",
       "  </tbody>\n",
       "</table>\n",
       "<p>763 rows × 7 columns</p>\n",
       "</div>"
      ],
      "text/plain": [
       "        Global_active_power Global_reactive_power Voltage Global_intensity  \\\n",
       "1713110                   ?                     ?       ?                ?   \n",
       "1929951                   ?                     ?       ?                ?   \n",
       "191104                    ?                     ?       ?                ?   \n",
       "1714427                   ?                     ?       ?                ?   \n",
       "1309659                   ?                     ?       ?                ?   \n",
       "...                     ...                   ...     ...              ...   \n",
       "192591                    ?                     ?       ?                ?   \n",
       "1936886                   ?                     ?       ?                ?   \n",
       "192760                    ?                     ?       ?                ?   \n",
       "1714192                   ?                     ?       ?                ?   \n",
       "1617194                   ?                     ?       ?                ?   \n",
       "\n",
       "        Sub_metering_1 Sub_metering_2  Sub_metering_3  \n",
       "1713110              ?              ?             NaN  \n",
       "1929951              ?              ?             NaN  \n",
       "191104               ?              ?             NaN  \n",
       "1714427              ?              ?             NaN  \n",
       "1309659              ?              ?             NaN  \n",
       "...                ...            ...             ...  \n",
       "192591               ?              ?             NaN  \n",
       "1936886              ?              ?             NaN  \n",
       "192760               ?              ?             NaN  \n",
       "1714192              ?              ?             NaN  \n",
       "1617194              ?              ?             NaN  \n",
       "\n",
       "[763 rows x 7 columns]"
      ]
     },
     "execution_count": 24,
     "metadata": {},
     "output_type": "execute_result"
    }
   ],
   "source": [
    "special_char = df_sample[df_sample['Voltage'] == \"?\"]\n",
    "special_char"
   ]
  },
  {
   "cell_type": "markdown",
   "metadata": {},
   "source": [
    "#### Drop these records having special character"
   ]
  },
  {
   "cell_type": "code",
   "execution_count": 25,
   "metadata": {},
   "outputs": [
    {
     "name": "stdout",
     "output_type": "stream",
     "text": [
      "Data before special characters (60000, 7)\n",
      "Data before removal of special characters (59237, 7)\n"
     ]
    }
   ],
   "source": [
    "print(\"Data before special characters\", df_sample.shape)\n",
    "df_sample.drop(special_char.index,axis= 0,inplace=True)\n",
    "print(\"Data before removal of special characters\", df_sample.shape)"
   ]
  },
  {
   "cell_type": "markdown",
   "metadata": {},
   "source": [
    "#### Check duplicated"
   ]
  },
  {
   "cell_type": "code",
   "execution_count": 26,
   "metadata": {},
   "outputs": [
    {
     "data": {
      "text/plain": [
       "267"
      ]
     },
     "execution_count": 26,
     "metadata": {},
     "output_type": "execute_result"
    }
   ],
   "source": [
    "df_sample.duplicated().sum()"
   ]
  },
  {
   "cell_type": "code",
   "execution_count": 27,
   "metadata": {},
   "outputs": [
    {
     "name": "stdout",
     "output_type": "stream",
     "text": [
      "Data before duplicate records (59237, 7)\n",
      "Data after removal of duplicate records (58970, 7)\n"
     ]
    }
   ],
   "source": [
    "print(\"Data before duplicate records\", df_sample.shape)\n",
    "df_sample.drop_duplicates(inplace=True)\n",
    "print(\"Data after removal of duplicate records\", df_sample.shape)"
   ]
  },
  {
   "cell_type": "markdown",
   "metadata": {},
   "source": [
    "#### Check the null values"
   ]
  },
  {
   "cell_type": "code",
   "execution_count": 28,
   "metadata": {},
   "outputs": [
    {
     "data": {
      "text/plain": [
       "Global_active_power      0\n",
       "Global_reactive_power    0\n",
       "Voltage                  0\n",
       "Global_intensity         0\n",
       "Sub_metering_1           0\n",
       "Sub_metering_2           0\n",
       "Sub_metering_3           0\n",
       "dtype: int64"
      ]
     },
     "execution_count": 28,
     "metadata": {},
     "output_type": "execute_result"
    }
   ],
   "source": [
    "df_sample.isna().sum()"
   ]
  },
  {
   "cell_type": "markdown",
   "metadata": {},
   "source": [
    "- no null values"
   ]
  },
  {
   "cell_type": "markdown",
   "metadata": {},
   "source": [
    "#### Convert all dtypes to float"
   ]
  },
  {
   "cell_type": "code",
   "execution_count": 29,
   "metadata": {},
   "outputs": [
    {
     "data": {
      "text/plain": [
       "Global_active_power       object\n",
       "Global_reactive_power     object\n",
       "Voltage                   object\n",
       "Global_intensity          object\n",
       "Sub_metering_1            object\n",
       "Sub_metering_2            object\n",
       "Sub_metering_3           float64\n",
       "dtype: object"
      ]
     },
     "execution_count": 29,
     "metadata": {},
     "output_type": "execute_result"
    }
   ],
   "source": [
    "df_sample.dtypes"
   ]
  },
  {
   "cell_type": "code",
   "execution_count": 30,
   "metadata": {},
   "outputs": [],
   "source": [
    "df_sample = df_sample.astype(float)"
   ]
  },
  {
   "cell_type": "code",
   "execution_count": 31,
   "metadata": {},
   "outputs": [
    {
     "data": {
      "text/plain": [
       "Global_active_power      float64\n",
       "Global_reactive_power    float64\n",
       "Voltage                  float64\n",
       "Global_intensity         float64\n",
       "Sub_metering_1           float64\n",
       "Sub_metering_2           float64\n",
       "Sub_metering_3           float64\n",
       "dtype: object"
      ]
     },
     "execution_count": 31,
     "metadata": {},
     "output_type": "execute_result"
    }
   ],
   "source": [
    "df_sample.dtypes"
   ]
  },
  {
   "cell_type": "markdown",
   "metadata": {},
   "source": [
    "#### Combine reading of sub_metering_1,sub_metering_2 and sub_metering_3"
   ]
  },
  {
   "cell_type": "code",
   "execution_count": 32,
   "metadata": {},
   "outputs": [
    {
     "data": {
      "text/plain": [
       "Index(['Global_active_power', 'Global_reactive_power', 'Voltage',\n",
       "       'Global_intensity', 'Sub_metering_1', 'Sub_metering_2',\n",
       "       'Sub_metering_3'],\n",
       "      dtype='object')"
      ]
     },
     "execution_count": 32,
     "metadata": {},
     "output_type": "execute_result"
    }
   ],
   "source": [
    "df_sample.columns"
   ]
  },
  {
   "cell_type": "code",
   "execution_count": 33,
   "metadata": {},
   "outputs": [],
   "source": [
    "df_sample['meter'] =df_sample['Sub_metering_1'] + df_sample['Sub_metering_2'] + df_sample['Sub_metering_3']"
   ]
  },
  {
   "cell_type": "markdown",
   "metadata": {},
   "source": [
    "#### Drop 3 columns"
   ]
  },
  {
   "cell_type": "code",
   "execution_count": 34,
   "metadata": {},
   "outputs": [],
   "source": [
    "df_sample.drop(['Sub_metering_1','Sub_metering_2','Sub_metering_3'],axis = 1,inplace = True)"
   ]
  },
  {
   "cell_type": "code",
   "execution_count": 35,
   "metadata": {},
   "outputs": [
    {
     "data": {
      "text/html": [
       "<div>\n",
       "<style scoped>\n",
       "    .dataframe tbody tr th:only-of-type {\n",
       "        vertical-align: middle;\n",
       "    }\n",
       "\n",
       "    .dataframe tbody tr th {\n",
       "        vertical-align: top;\n",
       "    }\n",
       "\n",
       "    .dataframe thead th {\n",
       "        text-align: right;\n",
       "    }\n",
       "</style>\n",
       "<table border=\"1\" class=\"dataframe\">\n",
       "  <thead>\n",
       "    <tr style=\"text-align: right;\">\n",
       "      <th></th>\n",
       "      <th>Global_active_power</th>\n",
       "      <th>Global_reactive_power</th>\n",
       "      <th>Voltage</th>\n",
       "      <th>Global_intensity</th>\n",
       "      <th>meter</th>\n",
       "    </tr>\n",
       "  </thead>\n",
       "  <tbody>\n",
       "    <tr>\n",
       "      <th>1334516</th>\n",
       "      <td>1.680</td>\n",
       "      <td>0.242</td>\n",
       "      <td>240.25</td>\n",
       "      <td>7.4</td>\n",
       "      <td>19.0</td>\n",
       "    </tr>\n",
       "    <tr>\n",
       "      <th>834531</th>\n",
       "      <td>1.346</td>\n",
       "      <td>0.000</td>\n",
       "      <td>240.08</td>\n",
       "      <td>5.6</td>\n",
       "      <td>19.0</td>\n",
       "    </tr>\n",
       "    <tr>\n",
       "      <th>2039045</th>\n",
       "      <td>1.490</td>\n",
       "      <td>0.218</td>\n",
       "      <td>240.84</td>\n",
       "      <td>6.2</td>\n",
       "      <td>20.0</td>\n",
       "    </tr>\n",
       "    <tr>\n",
       "      <th>1197023</th>\n",
       "      <td>0.500</td>\n",
       "      <td>0.242</td>\n",
       "      <td>246.60</td>\n",
       "      <td>2.4</td>\n",
       "      <td>2.0</td>\n",
       "    </tr>\n",
       "    <tr>\n",
       "      <th>1992121</th>\n",
       "      <td>0.502</td>\n",
       "      <td>0.000</td>\n",
       "      <td>243.14</td>\n",
       "      <td>2.0</td>\n",
       "      <td>1.0</td>\n",
       "    </tr>\n",
       "  </tbody>\n",
       "</table>\n",
       "</div>"
      ],
      "text/plain": [
       "         Global_active_power  Global_reactive_power  Voltage  \\\n",
       "1334516                1.680                  0.242   240.25   \n",
       "834531                 1.346                  0.000   240.08   \n",
       "2039045                1.490                  0.218   240.84   \n",
       "1197023                0.500                  0.242   246.60   \n",
       "1992121                0.502                  0.000   243.14   \n",
       "\n",
       "         Global_intensity  meter  \n",
       "1334516               7.4   19.0  \n",
       "834531                5.6   19.0  \n",
       "2039045               6.2   20.0  \n",
       "1197023               2.4    2.0  \n",
       "1992121               2.0    1.0  "
      ]
     },
     "execution_count": 35,
     "metadata": {},
     "output_type": "execute_result"
    }
   ],
   "source": [
    "df_sample.head()"
   ]
  },
  {
   "cell_type": "code",
   "execution_count": 36,
   "metadata": {},
   "outputs": [
    {
     "data": {
      "text/html": [
       "<div>\n",
       "<style scoped>\n",
       "    .dataframe tbody tr th:only-of-type {\n",
       "        vertical-align: middle;\n",
       "    }\n",
       "\n",
       "    .dataframe tbody tr th {\n",
       "        vertical-align: top;\n",
       "    }\n",
       "\n",
       "    .dataframe thead th {\n",
       "        text-align: right;\n",
       "    }\n",
       "</style>\n",
       "<table border=\"1\" class=\"dataframe\">\n",
       "  <thead>\n",
       "    <tr style=\"text-align: right;\">\n",
       "      <th></th>\n",
       "      <th>count</th>\n",
       "      <th>mean</th>\n",
       "      <th>std</th>\n",
       "      <th>min</th>\n",
       "      <th>25%</th>\n",
       "      <th>50%</th>\n",
       "      <th>75%</th>\n",
       "      <th>max</th>\n",
       "    </tr>\n",
       "  </thead>\n",
       "  <tbody>\n",
       "    <tr>\n",
       "      <th>Global_active_power</th>\n",
       "      <td>58970.0</td>\n",
       "      <td>1.087799</td>\n",
       "      <td>1.048202</td>\n",
       "      <td>0.078</td>\n",
       "      <td>0.31</td>\n",
       "      <td>0.602</td>\n",
       "      <td>1.526</td>\n",
       "      <td>10.536</td>\n",
       "    </tr>\n",
       "    <tr>\n",
       "      <th>Global_reactive_power</th>\n",
       "      <td>58970.0</td>\n",
       "      <td>0.125017</td>\n",
       "      <td>0.112689</td>\n",
       "      <td>0.000</td>\n",
       "      <td>0.05</td>\n",
       "      <td>0.102</td>\n",
       "      <td>0.196</td>\n",
       "      <td>1.148</td>\n",
       "    </tr>\n",
       "    <tr>\n",
       "      <th>Voltage</th>\n",
       "      <td>58970.0</td>\n",
       "      <td>240.842481</td>\n",
       "      <td>3.240869</td>\n",
       "      <td>223.990</td>\n",
       "      <td>238.99</td>\n",
       "      <td>241.010</td>\n",
       "      <td>242.890</td>\n",
       "      <td>253.430</td>\n",
       "    </tr>\n",
       "    <tr>\n",
       "      <th>Global_intensity</th>\n",
       "      <td>58970.0</td>\n",
       "      <td>4.613715</td>\n",
       "      <td>4.404747</td>\n",
       "      <td>0.200</td>\n",
       "      <td>1.40</td>\n",
       "      <td>2.600</td>\n",
       "      <td>6.400</td>\n",
       "      <td>45.800</td>\n",
       "    </tr>\n",
       "    <tr>\n",
       "      <th>meter</th>\n",
       "      <td>58970.0</td>\n",
       "      <td>8.807919</td>\n",
       "      <td>12.788774</td>\n",
       "      <td>0.000</td>\n",
       "      <td>0.00</td>\n",
       "      <td>1.000</td>\n",
       "      <td>18.000</td>\n",
       "      <td>129.000</td>\n",
       "    </tr>\n",
       "  </tbody>\n",
       "</table>\n",
       "</div>"
      ],
      "text/plain": [
       "                         count        mean        std      min     25%  \\\n",
       "Global_active_power    58970.0    1.087799   1.048202    0.078    0.31   \n",
       "Global_reactive_power  58970.0    0.125017   0.112689    0.000    0.05   \n",
       "Voltage                58970.0  240.842481   3.240869  223.990  238.99   \n",
       "Global_intensity       58970.0    4.613715   4.404747    0.200    1.40   \n",
       "meter                  58970.0    8.807919  12.788774    0.000    0.00   \n",
       "\n",
       "                           50%      75%      max  \n",
       "Global_active_power      0.602    1.526   10.536  \n",
       "Global_reactive_power    0.102    0.196    1.148  \n",
       "Voltage                241.010  242.890  253.430  \n",
       "Global_intensity         2.600    6.400   45.800  \n",
       "meter                    1.000   18.000  129.000  "
      ]
     },
     "execution_count": 36,
     "metadata": {},
     "output_type": "execute_result"
    }
   ],
   "source": [
    "df_sample.describe().T"
   ]
  },
  {
   "cell_type": "markdown",
   "metadata": {},
   "source": [
    "#### Graphical Representation"
   ]
  },
  {
   "cell_type": "code",
   "execution_count": 37,
   "metadata": {},
   "outputs": [
    {
     "data": {
      "image/png": "[encoded data removed]",
      "text/plain": [
       "<Figure size 1800x1500 with 5 Axes>"
      ]
     },
     "metadata": {},
     "output_type": "display_data"
    }
   ],
   "source": [
    "# Let's see data distribution in each column\n",
    "plt.figure(figsize=(18,15), facecolor='white')\n",
    "plotnumber = 1\n",
    "\n",
    "for column in df_sample.columns[:]:\n",
    "    if plotnumber<=5 :\n",
    "        ax = plt.subplot(3,2,plotnumber)\n",
    "        sns.distplot(df_sample[column])\n",
    "        plt.xlabel(column,fontsize=20)\n",
    "    plotnumber+=1\n",
    "plt.show()"
   ]
  },
  {
   "cell_type": "markdown",
   "metadata": {},
   "source": [
    "#### Check the outliers"
   ]
  },
  {
   "cell_type": "code",
   "execution_count": 38,
   "metadata": {},
   "outputs": [
    {
     "data": {
      "image/png": "[encoded data removed]",
      "text/plain": [
       "<Figure size 1500x2000 with 5 Axes>"
      ]
     },
     "metadata": {},
     "output_type": "display_data"
    }
   ],
   "source": [
    "plt.figure(figsize=(15,20),facecolor='White')\n",
    "plt.suptitle(\"Boxplot of all features\", fontweight = 'bold', fontsize = 15,y = 0.989)\n",
    "for i in range(0,len(df_sample.columns)):\n",
    "    plt.subplot(5,3,i+1)\n",
    "    sns.boxplot(x = df_sample.columns[i], data = df_sample)\n",
    "    plt.xlabel(\"Boxplot of {}\".format(df_sample.columns[i]),fontsize = 15)\n",
    "    plt.tight_layout()"
   ]
  },
  {
   "cell_type": "code",
   "execution_count": 39,
   "metadata": {},
   "outputs": [
    {
     "data": {
      "image/png": "[encoded data removed]",
      "text/plain": [
       "<Figure size 1400x400 with 2 Axes>"
      ]
     },
     "metadata": {},
     "output_type": "display_data"
    },
    {
     "data": {
      "image/png": "[encoded data removed]",
      "text/plain": [
       "<Figure size 1400x400 with 2 Axes>"
      ]
     },
     "metadata": {},
     "output_type": "display_data"
    },
    {
     "data": {
      "image/png": "[encoded data removed]",
      "text/plain": [
       "<Figure size 1400x400 with 2 Axes>"
      ]
     },
     "metadata": {},
     "output_type": "display_data"
    },
    {
     "data": {
      "image/png": "[encoded data removed]",
      "text/plain": [
       "<Figure size 1400x400 with 2 Axes>"
      ]
     },
     "metadata": {},
     "output_type": "display_data"
    },
    {
     "data": {
      "image/png": "[encoded data removed]",
      "text/plain": [
       "<Figure size 1400x400 with 2 Axes>"
      ]
     },
     "metadata": {},
     "output_type": "display_data"
    }
   ],
   "source": [
    "# Handling the outliers\n",
    "df1 = df_sample.copy()\n",
    "feature_to_use = df1.columns\n",
    "\n",
    "for i in range(len(feature_to_use)):\n",
    "    IQR = df1[feature_to_use[i]].quantile(0.75) - df1[feature_to_use[i]].quantile(0.25)\n",
    "    Lower_Limit = df1[feature_to_use[i]].quantile(0.25) - (1.5*IQR)\n",
    "    UPPER_LIMIT = df1[feature_to_use[i]].quantile(0.75) + (1.5*IQR)\n",
    "    df1[feature_to_use[i]]= np.where(df1[feature_to_use[i]]>UPPER_LIMIT,UPPER_LIMIT,\n",
    "                                np.where(df1[feature_to_use[i]]<Lower_Limit,Lower_Limit,df1[feature_to_use[i]]))\n",
    "\n",
    "\n",
    "for fea in feature_to_use:\n",
    "    plt.figure(figsize = (14,4))\n",
    "    plt.subplot(121)\n",
    "    sns.boxplot(x = fea, data = df_sample)\n",
    "    plt.title(\"Boxplot of {} before handling outliers\".format(fea),fontweight = 'bold')\n",
    "\n",
    "    plt.subplot(122)\n",
    "    sns.boxplot(x = fea, data = df1)\n",
    "    plt.title(\"Boxplot of {} After handling outliers\".format(fea),fontweight = 'bold')\n",
    "    plt.show()"
   ]
  },
  {
   "cell_type": "markdown",
   "metadata": {},
   "source": [
    "#### Seperate Independent and Dependent Features"
   ]
  },
  {
   "cell_type": "code",
   "execution_count": 40,
   "metadata": {},
   "outputs": [],
   "source": [
    "x = df1.iloc[:,:-1]\n",
    "y = df1['meter']"
   ]
  },
  {
   "cell_type": "code",
   "execution_count": 41,
   "metadata": {},
   "outputs": [
    {
     "data": {
      "text/plain": [
       "((58970, 4), (58970,))"
      ]
     },
     "execution_count": 41,
     "metadata": {},
     "output_type": "execute_result"
    }
   ],
   "source": [
    "x.shape,y.shape"
   ]
  },
  {
   "cell_type": "markdown",
   "metadata": {},
   "source": [
    "#### Train Test Split"
   ]
  },
  {
   "cell_type": "code",
   "execution_count": 42,
   "metadata": {},
   "outputs": [],
   "source": [
    "x_train,x_test,y_train,y_test = train_test_split(x,y,test_size = 0.33,random_state = 42 )"
   ]
  },
  {
   "cell_type": "code",
   "execution_count": 43,
   "metadata": {},
   "outputs": [
    {
     "data": {
      "text/plain": [
       "((39509, 4), (39509,))"
      ]
     },
     "execution_count": 43,
     "metadata": {},
     "output_type": "execute_result"
    }
   ],
   "source": [
    "x_train.shape,y_train.shape"
   ]
  },
  {
   "cell_type": "code",
   "execution_count": 44,
   "metadata": {},
   "outputs": [
    {
     "data": {
      "text/plain": [
       "((19461, 4), (19461,))"
      ]
     },
     "execution_count": 44,
     "metadata": {},
     "output_type": "execute_result"
    }
   ],
   "source": [
    "x_test.shape,y_test.shape"
   ]
  },
  {
   "cell_type": "markdown",
   "metadata": {},
   "source": [
    "#### Standardization"
   ]
  },
  {
   "cell_type": "code",
   "execution_count": 45,
   "metadata": {},
   "outputs": [],
   "source": [
    "scaler = StandardScaler()\n",
    "x_train = scaler.fit_transform(x_train)\n",
    "x_test = scaler.fit_transform(x_test)"
   ]
  },
  {
   "cell_type": "markdown",
   "metadata": {},
   "source": [
    "#### Model Building"
   ]
  },
  {
   "cell_type": "code",
   "execution_count": 46,
   "metadata": {},
   "outputs": [],
   "source": [
    "report = []"
   ]
  },
  {
   "cell_type": "code",
   "execution_count": 87,
   "metadata": {},
   "outputs": [
    {
     "data": {
      "text/html": [
       "<div>\n",
       "<style scoped>\n",
       "    .dataframe tbody tr th:only-of-type {\n",
       "        vertical-align: middle;\n",
       "    }\n",
       "\n",
       "    .dataframe tbody tr th {\n",
       "        vertical-align: top;\n",
       "    }\n",
       "\n",
       "    .dataframe thead th {\n",
       "        text-align: right;\n",
       "    }\n",
       "</style>\n",
       "<table border=\"1\" class=\"dataframe\">\n",
       "  <thead>\n",
       "    <tr style=\"text-align: right;\">\n",
       "      <th></th>\n",
       "      <th>model</th>\n",
       "      <th>Train Mean Squared Error</th>\n",
       "      <th>Test Mean Squared Error</th>\n",
       "      <th>Train Mean Absolute Error</th>\n",
       "      <th>Test Mean Absolute Error</th>\n",
       "      <th>Train R Sqaure</th>\n",
       "      <th>Test R Sqaure</th>\n",
       "      <th>Train Adj R Sqaure</th>\n",
       "      <th>Test Adj R Sqaure</th>\n",
       "    </tr>\n",
       "  </thead>\n",
       "  <tbody>\n",
       "    <tr>\n",
       "      <th>0</th>\n",
       "      <td>Linear Regression</td>\n",
       "      <td>38.121781</td>\n",
       "      <td>39.660269</td>\n",
       "      <td>4.098001</td>\n",
       "      <td>4.186627</td>\n",
       "      <td>0.702587</td>\n",
       "      <td>0.683831</td>\n",
       "      <td>0.702557</td>\n",
       "      <td>0.683766</td>\n",
       "    </tr>\n",
       "    <tr>\n",
       "      <th>1</th>\n",
       "      <td>Ridge Regression</td>\n",
       "      <td>38.122368</td>\n",
       "      <td>39.661540</td>\n",
       "      <td>4.097383</td>\n",
       "      <td>4.186172</td>\n",
       "      <td>0.702583</td>\n",
       "      <td>0.683821</td>\n",
       "      <td>0.702553</td>\n",
       "      <td>0.683756</td>\n",
       "    </tr>\n",
       "    <tr>\n",
       "      <th>2</th>\n",
       "      <td>Lasso Regression</td>\n",
       "      <td>39.855489</td>\n",
       "      <td>40.943839</td>\n",
       "      <td>4.342139</td>\n",
       "      <td>4.380703</td>\n",
       "      <td>0.689062</td>\n",
       "      <td>0.673598</td>\n",
       "      <td>0.689030</td>\n",
       "      <td>0.673531</td>\n",
       "    </tr>\n",
       "    <tr>\n",
       "      <th>3</th>\n",
       "      <td>Support Vector Regression</td>\n",
       "      <td>36.354071</td>\n",
       "      <td>38.939798</td>\n",
       "      <td>3.003868</td>\n",
       "      <td>3.141712</td>\n",
       "      <td>0.716378</td>\n",
       "      <td>0.689575</td>\n",
       "      <td>0.716350</td>\n",
       "      <td>0.689511</td>\n",
       "    </tr>\n",
       "    <tr>\n",
       "      <th>4</th>\n",
       "      <td>Decision Tree Regressor</td>\n",
       "      <td>0.381095</td>\n",
       "      <td>61.771581</td>\n",
       "      <td>0.030413</td>\n",
       "      <td>3.768889</td>\n",
       "      <td>0.997027</td>\n",
       "      <td>0.507561</td>\n",
       "      <td>0.997027</td>\n",
       "      <td>0.507460</td>\n",
       "    </tr>\n",
       "    <tr>\n",
       "      <th>5</th>\n",
       "      <td>Random Forest Regressor</td>\n",
       "      <td>4.857322</td>\n",
       "      <td>35.103382</td>\n",
       "      <td>1.121824</td>\n",
       "      <td>3.206044</td>\n",
       "      <td>0.962105</td>\n",
       "      <td>0.720158</td>\n",
       "      <td>0.962101</td>\n",
       "      <td>0.720101</td>\n",
       "    </tr>\n",
       "  </tbody>\n",
       "</table>\n",
       "</div>"
      ],
      "text/plain": [
       "                       model  Train Mean Squared Error   \\\n",
       "0          Linear Regression                  38.121781   \n",
       "1           Ridge Regression                  38.122368   \n",
       "2           Lasso Regression                  39.855489   \n",
       "3  Support Vector Regression                  36.354071   \n",
       "4    Decision Tree Regressor                   0.381095   \n",
       "5    Random Forest Regressor                   4.857322   \n",
       "\n",
       "   Test Mean Squared Error  Train Mean Absolute Error  \\\n",
       "0                39.660269                   4.098001   \n",
       "1                39.661540                   4.097383   \n",
       "2                40.943839                   4.342139   \n",
       "3                38.939798                   3.003868   \n",
       "4                61.771581                   0.030413   \n",
       "5                35.103382                   1.121824   \n",
       "\n",
       "   Test Mean Absolute Error  Train R Sqaure  Test R Sqaure  \\\n",
       "0                  4.186627        0.702587       0.683831   \n",
       "1                  4.186172        0.702583       0.683821   \n",
       "2                  4.380703        0.689062       0.673598   \n",
       "3                  3.141712        0.716378       0.689575   \n",
       "4                  3.768889        0.997027       0.507561   \n",
       "5                  3.206044        0.962105       0.720158   \n",
       "\n",
       "   Train Adj R Sqaure  Test Adj R Sqaure  \n",
       "0            0.702557           0.683766  \n",
       "1            0.702553           0.683756  \n",
       "2            0.689030           0.673531  \n",
       "3            0.716350           0.689511  \n",
       "4            0.997027           0.507460  \n",
       "5            0.962101           0.720101  "
      ]
     },
     "execution_count": 87,
     "metadata": {},
     "output_type": "execute_result"
    }
   ],
   "source": [
    "models = {\n",
    "    \"Linear Regression\" : LinearRegression(),\n",
    "    \"Ridge Regression\" : Ridge(),\n",
    "    \"Lasso Regression\" : Lasso(),\n",
    "    \"Support Vector Regression\" : SVR(),\n",
    "    \"Decision Tree Regressor\" : DecisionTreeRegressor(),\n",
    "    \"Random Forest Regressor\" : RandomForestRegressor()\n",
    "}\n",
    "\n",
    "for i in range(len(list(models))):\n",
    "    model = list(models.values())[i]\n",
    "    model.fit(x_train,y_train)   # Training Model\n",
    "\n",
    "    # Prediction\n",
    "    y_train_pred = model.predict(x_train)\n",
    "    y_test_pred = model.predict(x_test)\n",
    "\n",
    "    # Training Data perfomance Matrix\n",
    "    model_train_mse = mean_squared_error(y_train,y_train_pred)   # Calculate MSE\n",
    "    model_train_mae = mean_absolute_error(y_train,y_train_pred)  # Calculate MAE\n",
    "    model_train_r2 = r2_score(y_train,y_train_pred)              # Calculate 2 sqaure\n",
    "    model_train_ad_r2 = 1 - (1-model_train_r2)*(len(y_train)-1) / (len(y_train)- x_train.shape[1] - 1)\n",
    "\n",
    "    \n",
    "    # Test Data perfomance Matrix\n",
    "    model_test_mse = mean_squared_error(y_test,y_test_pred)   # Calculate MSE\n",
    "    model_test_mae = mean_absolute_error(y_test,y_test_pred)  # Calculate MAE\n",
    "    model_test_r2 = r2_score(y_test,y_test_pred)              # Calculate 2 sqaure\n",
    "    model_test_ad_r2 = 1 - (1-model_test_r2)*(len(y_test)-1) / (len(y_test)- x_test.shape[1] - 1)\n",
    "\n",
    "    # print(\"\\n\")\n",
    "    # print((list(models.keys()))[i])\n",
    "\n",
    "    # print(\"Model Performance For Training Data\")\n",
    "    # print(\"-Mean Squared Error : {:4f}\".format(model_train_mse))\n",
    "    # print(\"-Mean Absolute Error : {:.4f}\".format(model_train_mae))\n",
    "    # print(\"-R Sqaure : {:.4f}\".format(model_train_r2))\n",
    "    # print(\"-Adj R Sqaure : {:.4f}\".format(model_train_ad_r2))\n",
    "\n",
    "    # print(\"-----------------------------------------------------------------------\")\n",
    "\n",
    "    # print(\"Model Performance For Test Data\")\n",
    "    # print(\"-Mean Squared Error : {:4f}\".format(model_test_mse))\n",
    "    # print(\"-Mean Absolute Error : {:.4f}\".format(model_test_mae))\n",
    "    # print(\"-R Sqaure : {:.4f}\".format(model_test_r2))\n",
    "    # print(\"-Adj R Sqaure : {:.4f}\".format(model_test_ad_r2))\n",
    "\n",
    "    # print(\"=\"*80)\n",
    "\n",
    "    report.append({\n",
    "                    \"model\" : (list(models.keys()))[i],\n",
    "                    'Train Mean Squared Error ' : model_train_mse,\n",
    "                    'Test Mean Squared Error' : model_test_mse,\n",
    "                    'Train Mean Absolute Error' : model_train_mae,\n",
    "                    'Test Mean Absolute Error' : model_test_mae,\n",
    "                    'Train R Sqaure' : model_train_r2,\n",
    "                    'Test R Sqaure' : model_test_r2,\n",
    "                    'Train Adj R Sqaure' : model_train_ad_r2,\n",
    "                    'Test Adj R Sqaure' : model_test_ad_r2\n",
    "    })\n",
    "\n",
    "all_model = pd.DataFrame(report)\n",
    "all_model"
   ]
  },
  {
   "cell_type": "markdown",
   "metadata": {},
   "source": [
    "#### Hyper-Parameter Tunning on RandomSearchCV"
   ]
  },
  {
   "cell_type": "code",
   "execution_count": 48,
   "metadata": {},
   "outputs": [],
   "source": [
    "Ran_param = {\n",
    "    \"max_depth\" : [5,8,15,None,10],\n",
    "    'max_features' : [3,'auto'],\n",
    "    'min_samples_split' : [2,8,15,20],\n",
    "    'n_estimators' : [50,100,200,500]\n",
    "}"
   ]
  },
  {
   "cell_type": "code",
   "execution_count": 49,
   "metadata": {},
   "outputs": [],
   "source": [
    "random = RandomizedSearchCV(estimator = RandomForestRegressor(),\n",
    "                   param_distributions = Ran_param,\n",
    "                   n_iter= 100,\n",
    "                   cv = 3,\n",
    "                   verbose = 2,\n",
    "                   n_jobs=-1)"
   ]
  },
  {
   "cell_type": "code",
   "execution_count": 50,
   "metadata": {},
   "outputs": [
    {
     "name": "stdout",
     "output_type": "stream",
     "text": [
      "Fitting 3 folds for each of 100 candidates, totalling 300 fits\n"
     ]
    },
    {
     "data": {
      "text/html": [
       "<style>#sk-container-id-1 {color: black;background-color: white;}#sk-container-id-1 pre{padding: 0;}#sk-container-id-1 div.sk-toggleable {background-color: white;}#sk-container-id-1 label.sk-toggleable__label {cursor: pointer;display: block;width: 100%;margin-bottom: 0;padding: 0.3em;box-sizing: border-box;text-align: center;}#sk-container-id-1 label.sk-toggleable__label-arrow:before {content: \"▸\";float: left;margin-right: 0.25em;color: #696969;}#sk-container-id-1 label.sk-toggleable__label-arrow:hover:before {color: black;}#sk-container-id-1 div.sk-estimator:hover label.sk-toggleable__label-arrow:before {color: black;}#sk-container-id-1 div.sk-toggleable__content {max-height: 0;max-width: 0;overflow: hidden;text-align: left;background-color: #f0f8ff;}#sk-container-id-1 div.sk-toggleable__content pre {margin: 0.2em;color: black;border-radius: 0.25em;background-color: #f0f8ff;}#sk-container-id-1 input.sk-toggleable__control:checked~div.sk-toggleable__content {max-height: 200px;max-width: 100%;overflow: auto;}#sk-container-id-1 input.sk-toggleable__control:checked~label.sk-toggleable__label-arrow:before {content: \"▾\";}#sk-container-id-1 div.sk-estimator input.sk-toggleable__control:checked~label.sk-toggleable__label {background-color: #d4ebff;}#sk-container-id-1 div.sk-label input.sk-toggleable__control:checked~label.sk-toggleable__label {background-color: #d4ebff;}#sk-container-id-1 input.sk-hidden--visually {border: 0;clip: rect(1px 1px 1px 1px);clip: rect(1px, 1px, 1px, 1px);height: 1px;margin: -1px;overflow: hidden;padding: 0;position: absolute;width: 1px;}#sk-container-id-1 div.sk-estimator {font-family: monospace;background-color: #f0f8ff;border: 1px dotted black;border-radius: 0.25em;box-sizing: border-box;margin-bottom: 0.5em;}#sk-container-id-1 div.sk-estimator:hover {background-color: #d4ebff;}#sk-container-id-1 div.sk-parallel-item::after {content: \"\";width: 100%;border-bottom: 1px solid gray;flex-grow: 1;}#sk-container-id-1 div.sk-label:hover label.sk-toggleable__label {background-color: #d4ebff;}#sk-container-id-1 div.sk-serial::before {content: \"\";position: absolute;border-left: 1px solid gray;box-sizing: border-box;top: 0;bottom: 0;left: 50%;z-index: 0;}#sk-container-id-1 div.sk-serial {display: flex;flex-direction: column;align-items: center;background-color: white;padding-right: 0.2em;padding-left: 0.2em;position: relative;}#sk-container-id-1 div.sk-item {position: relative;z-index: 1;}#sk-container-id-1 div.sk-parallel {display: flex;align-items: stretch;justify-content: center;background-color: white;position: relative;}#sk-container-id-1 div.sk-item::before, #sk-container-id-1 div.sk-parallel-item::before {content: \"\";position: absolute;border-left: 1px solid gray;box-sizing: border-box;top: 0;bottom: 0;left: 50%;z-index: -1;}#sk-container-id-1 div.sk-parallel-item {display: flex;flex-direction: column;z-index: 1;position: relative;background-color: white;}#sk-container-id-1 div.sk-parallel-item:first-child::after {align-self: flex-end;width: 50%;}#sk-container-id-1 div.sk-parallel-item:last-child::after {align-self: flex-start;width: 50%;}#sk-container-id-1 div.sk-parallel-item:only-child::after {width: 0;}#sk-container-id-1 div.sk-dashed-wrapped {border: 1px dashed gray;margin: 0 0.4em 0.5em 0.4em;box-sizing: border-box;padding-bottom: 0.4em;background-color: white;}#sk-container-id-1 div.sk-label label {font-family: monospace;font-weight: bold;display: inline-block;line-height: 1.2em;}#sk-container-id-1 div.sk-label-container {text-align: center;}#sk-container-id-1 div.sk-container {/* jupyter's `normalize.less` sets `[hidden] { display: none; }` but bootstrap.min.css set `[hidden] { display: none !important; }` so we also need the `!important` here to be able to override the default hidden behavior on the sphinx rendered scikit-learn.org. See: https://github.com/scikit-learn/scikit-learn/issues/21755 */display: inline-block !important;position: relative;}#sk-container-id-1 div.sk-text-repr-fallback {display: none;}</style><div id=\"sk-container-id-1\" class=\"sk-top-container\"><div class=\"sk-text-repr-fallback\"><pre>RandomizedSearchCV(cv=3, estimator=RandomForestRegressor(), n_iter=100,\n",
       "                   n_jobs=-1,\n",
       "                   param_distributions={&#x27;max_depth&#x27;: [5, 8, 15, None, 10],\n",
       "                                        &#x27;max_features&#x27;: [3, &#x27;auto&#x27;],\n",
       "                                        &#x27;min_samples_split&#x27;: [2, 8, 15, 20],\n",
       "                                        &#x27;n_estimators&#x27;: [50, 100, 200, 500]},\n",
       "                   verbose=2)</pre><b>In a Jupyter environment, please rerun this cell to show the HTML representation or trust the notebook. <br />On GitHub, the HTML representation is unable to render, please try loading this page with nbviewer.org.</b></div><div class=\"sk-container\" hidden><div class=\"sk-item sk-dashed-wrapped\"><div class=\"sk-label-container\"><div class=\"sk-label sk-toggleable\"><input class=\"sk-toggleable__control sk-hidden--visually\" id=\"sk-estimator-id-1\" type=\"checkbox\" ><label for=\"sk-estimator-id-1\" class=\"sk-toggleable__label sk-toggleable__label-arrow\">RandomizedSearchCV</label><div class=\"sk-toggleable__content\"><pre>RandomizedSearchCV(cv=3, estimator=RandomForestRegressor(), n_iter=100,\n",
       "                   n_jobs=-1,\n",
       "                   param_distributions={&#x27;max_depth&#x27;: [5, 8, 15, None, 10],\n",
       "                                        &#x27;max_features&#x27;: [3, &#x27;auto&#x27;],\n",
       "                                        &#x27;min_samples_split&#x27;: [2, 8, 15, 20],\n",
       "                                        &#x27;n_estimators&#x27;: [50, 100, 200, 500]},\n",
       "                   verbose=2)</pre></div></div></div><div class=\"sk-parallel\"><div class=\"sk-parallel-item\"><div class=\"sk-item\"><div class=\"sk-label-container\"><div class=\"sk-label sk-toggleable\"><input class=\"sk-toggleable__control sk-hidden--visually\" id=\"sk-estimator-id-2\" type=\"checkbox\" ><label for=\"sk-estimator-id-2\" class=\"sk-toggleable__label sk-toggleable__label-arrow\">estimator: RandomForestRegressor</label><div class=\"sk-toggleable__content\"><pre>RandomForestRegressor()</pre></div></div></div><div class=\"sk-serial\"><div class=\"sk-item\"><div class=\"sk-estimator sk-toggleable\"><input class=\"sk-toggleable__control sk-hidden--visually\" id=\"sk-estimator-id-3\" type=\"checkbox\" ><label for=\"sk-estimator-id-3\" class=\"sk-toggleable__label sk-toggleable__label-arrow\">RandomForestRegressor</label><div class=\"sk-toggleable__content\"><pre>RandomForestRegressor()</pre></div></div></div></div></div></div></div></div></div></div>"
      ],
      "text/plain": [
       "RandomizedSearchCV(cv=3, estimator=RandomForestRegressor(), n_iter=100,\n",
       "                   n_jobs=-1,\n",
       "                   param_distributions={'max_depth': [5, 8, 15, None, 10],\n",
       "                                        'max_features': [3, 'auto'],\n",
       "                                        'min_samples_split': [2, 8, 15, 20],\n",
       "                                        'n_estimators': [50, 100, 200, 500]},\n",
       "                   verbose=2)"
      ]
     },
     "execution_count": 50,
     "metadata": {},
     "output_type": "execute_result"
    }
   ],
   "source": [
    "random.fit(x_train,y_train)"
   ]
  },
  {
   "cell_type": "markdown",
   "metadata": {},
   "source": [
    "![](https://i.imgur.com/j44Qu2N.jpg)"
   ]
  },
  {
   "cell_type": "code",
   "execution_count": 51,
   "metadata": {},
   "outputs": [
    {
     "data": {
      "text/plain": [
       "({'n_estimators': 200,\n",
       "  'min_samples_split': 15,\n",
       "  'max_features': 3,\n",
       "  'max_depth': 10},\n",
       " RandomForestRegressor(max_depth=10, max_features=3, min_samples_split=15,\n",
       "                       n_estimators=200))"
      ]
     },
     "execution_count": 51,
     "metadata": {},
     "output_type": "execute_result"
    }
   ],
   "source": [
    "random.best_params_,random.best_estimator_"
   ]
  },
  {
   "cell_type": "code",
   "execution_count": 52,
   "metadata": {},
   "outputs": [
    {
     "name": "stdout",
     "output_type": "stream",
     "text": [
      "\n",
      "\n",
      "Hyperparameter tuning on random forest\n",
      "Model Performance For Training Data\n",
      "-Mean Squared Error : 26.326022\n",
      "-Mean Absolute Error : 2.8060\n",
      "-R Sqaure : 0.7946\n",
      "-Adj R Sqaure : 0.7946\n",
      "-----------------------------------------------------------------------\n",
      "Model Performance For Test Data\n",
      "-Mean Squared Error : 31.857868\n",
      "-Mean Absolute Error : 3.1116\n",
      "-R Sqaure : 0.7460\n",
      "-Adj R Sqaure : 0.7460\n"
     ]
    }
   ],
   "source": [
    "rf_best_para = RandomForestRegressor(max_depth=10, max_features=3, min_samples_split=20,\n",
    "                                    n_estimators=200)\n",
    "\n",
    "rf_best_para.fit(x_train,y_train)\n",
    "\n",
    "# make predictions\n",
    "rf_pred_train = rf_best_para.predict(x_train)\n",
    "rf_pred_test = rf_best_para.predict(x_test)\n",
    "\n",
    "# Training dataset performance matrix\n",
    "rf_train_mse = mean_squared_error(y_train,rf_pred_train)   # Calculate MSE\n",
    "rf_train_mae = mean_absolute_error(y_train,rf_pred_train)  # Calculate MAE\n",
    "rf_train_r2 = r2_score(y_train,rf_pred_train)              # Calculate 2 sqaure\n",
    "rf_train_ad_r2 = 1 - (1-rf_train_r2)*(len(y_train)-1) / (len(y_train)- x_train.shape[1] - 1)\n",
    "\n",
    "\n",
    "# Test Data perfomance Matrix\n",
    "rf_test_mse = mean_squared_error(y_test,rf_pred_test)   # Calculate MSE\n",
    "rf_test_mae = mean_absolute_error(y_test,rf_pred_test)  # Calculate MAE\n",
    "rf_test_r2 = r2_score(y_test,rf_pred_test)              # Calculate 2 sqaure\n",
    "rf_test_ad_r2 = 1 - (1-rf_test_r2)*(len(y_test)-1) / (len(y_test)- x_test.shape[1] - 1)\n",
    "\n",
    "print(\"\\n\")\n",
    "print(\"Hyperparameter tuning on random forest\")\n",
    "\n",
    "print(\"Model Performance For Training Data\")\n",
    "print(\"-Mean Squared Error : {:4f}\".format(rf_train_mse))\n",
    "print(\"-Mean Absolute Error : {:.4f}\".format(rf_train_mae))\n",
    "print(\"-R Sqaure : {:.4f}\".format(rf_train_r2))\n",
    "print(\"-Adj R Sqaure : {:.4f}\".format(rf_train_ad_r2))\n",
    "\n",
    "print(\"-----------------------------------------------------------------------\")\n",
    "\n",
    "print(\"Model Performance For Test Data\")\n",
    "print(\"-Mean Squared Error : {:4f}\".format(rf_test_mse))\n",
    "print(\"-Mean Absolute Error : {:.4f}\".format(rf_test_mae))\n",
    "print(\"-R Sqaure : {:.4f}\".format(rf_test_r2))\n",
    "print(\"-Adj R Sqaure : {:.4f}\".format(rf_test_ad_r2))"
   ]
  },
  {
   "cell_type": "code",
   "execution_count": 119,
   "metadata": {},
   "outputs": [
    {
     "data": {
      "text/html": [
       "<div>\n",
       "<style scoped>\n",
       "    .dataframe tbody tr th:only-of-type {\n",
       "        vertical-align: middle;\n",
       "    }\n",
       "\n",
       "    .dataframe tbody tr th {\n",
       "        vertical-align: top;\n",
       "    }\n",
       "\n",
       "    .dataframe thead th {\n",
       "        text-align: right;\n",
       "    }\n",
       "</style>\n",
       "<table border=\"1\" class=\"dataframe\">\n",
       "  <thead>\n",
       "    <tr style=\"text-align: right;\">\n",
       "      <th></th>\n",
       "      <th>model</th>\n",
       "      <th>Train Mean Squared Error</th>\n",
       "      <th>Test Mean Squared Error</th>\n",
       "      <th>Train Mean Absolute Error</th>\n",
       "      <th>Test Mean Absolute Error</th>\n",
       "      <th>Train R Sqaure</th>\n",
       "      <th>Test R Sqaure</th>\n",
       "      <th>Train Adj R Sqaure</th>\n",
       "      <th>Test Adj R Sqaure</th>\n",
       "    </tr>\n",
       "  </thead>\n",
       "  <tbody>\n",
       "    <tr>\n",
       "      <th>0</th>\n",
       "      <td>Hyper-Parameter Tunning on random forest</td>\n",
       "      <td>26.326022</td>\n",
       "      <td>31.857868</td>\n",
       "      <td>2.805978</td>\n",
       "      <td>3.111554</td>\n",
       "      <td>0.794614</td>\n",
       "      <td>0.746031</td>\n",
       "      <td>0.794593</td>\n",
       "      <td>0.745979</td>\n",
       "    </tr>\n",
       "  </tbody>\n",
       "</table>\n",
       "</div>"
      ],
      "text/plain": [
       "                                      model  Train Mean Squared Error   \\\n",
       "0  Hyper-Parameter Tunning on random forest                  26.326022   \n",
       "\n",
       "   Test Mean Squared Error  Train Mean Absolute Error  \\\n",
       "0                31.857868                   2.805978   \n",
       "\n",
       "   Test Mean Absolute Error  Train R Sqaure  Test R Sqaure  \\\n",
       "0                  3.111554        0.794614       0.746031   \n",
       "\n",
       "   Train Adj R Sqaure  Test Adj R Sqaure  \n",
       "0            0.794593           0.745979  "
      ]
     },
     "execution_count": 119,
     "metadata": {},
     "output_type": "execute_result"
    }
   ],
   "source": [
    "rf_record = []\n",
    "rf_record.append({\n",
    "                    \"model\" : \"Hyper-Parameter Tunning on random forest\",\n",
    "                    \"Train Mean Squared Error \" : rf_train_mse,\n",
    "                    \"Test Mean Squared Error\" : rf_test_mse,\n",
    "                    \"Train Mean Absolute Error\" : rf_train_mae,\n",
    "                    \"Test Mean Absolute Error\" : rf_test_mae,\n",
    "                    \"Train R Sqaure\" : rf_train_r2,\n",
    "                    \"Test R Sqaure\" : rf_test_r2,\n",
    "                    \"Train Adj R Sqaure\" : rf_train_ad_r2,\n",
    "                    \"Test Adj R Sqaure\" : rf_test_ad_r2\n",
    "                    })\n",
    "\n",
    "Hypertuned_rf = pd.DataFrame(rf_record)\n",
    "Hypertuned_rf"
   ]
  },
  {
   "cell_type": "markdown",
   "metadata": {},
   "source": [
    "#### Bagging Regressor"
   ]
  },
  {
   "cell_type": "code",
   "execution_count": 120,
   "metadata": {},
   "outputs": [
    {
     "data": {
      "text/html": [
       "<div>\n",
       "<style scoped>\n",
       "    .dataframe tbody tr th:only-of-type {\n",
       "        vertical-align: middle;\n",
       "    }\n",
       "\n",
       "    .dataframe tbody tr th {\n",
       "        vertical-align: top;\n",
       "    }\n",
       "\n",
       "    .dataframe thead th {\n",
       "        text-align: right;\n",
       "    }\n",
       "</style>\n",
       "<table border=\"1\" class=\"dataframe\">\n",
       "  <thead>\n",
       "    <tr style=\"text-align: right;\">\n",
       "      <th></th>\n",
       "      <th>model</th>\n",
       "      <th>Train Mean Squared Error</th>\n",
       "      <th>Test Mean Squared Error</th>\n",
       "      <th>Train Mean Absolute Error</th>\n",
       "      <th>Test Mean Absolute Error</th>\n",
       "      <th>Train R Sqaure</th>\n",
       "      <th>Test R Sqaure</th>\n",
       "      <th>Train Adj R Sqaure</th>\n",
       "      <th>Test Adj R Sqaure</th>\n",
       "    </tr>\n",
       "  </thead>\n",
       "  <tbody>\n",
       "    <tr>\n",
       "      <th>0</th>\n",
       "      <td>Bagging Regressor</td>\n",
       "      <td>4.828434</td>\n",
       "      <td>35.107165</td>\n",
       "      <td>1.119831</td>\n",
       "      <td>3.228251</td>\n",
       "      <td>0.96233</td>\n",
       "      <td>0.720128</td>\n",
       "      <td>0.962326</td>\n",
       "      <td>0.720071</td>\n",
       "    </tr>\n",
       "  </tbody>\n",
       "</table>\n",
       "</div>"
      ],
      "text/plain": [
       "               model  Train Mean Squared Error   Test Mean Squared Error  \\\n",
       "0  Bagging Regressor                   4.828434                35.107165   \n",
       "\n",
       "   Train Mean Absolute Error  Test Mean Absolute Error  Train R Sqaure  \\\n",
       "0                   1.119831                  3.228251         0.96233   \n",
       "\n",
       "   Test R Sqaure  Train Adj R Sqaure  Test Adj R Sqaure  \n",
       "0       0.720128            0.962326           0.720071  "
      ]
     },
     "execution_count": 120,
     "metadata": {},
     "output_type": "execute_result"
    }
   ],
   "source": [
    "report2 = []\n",
    "# Bagging using DecisionTreeRegressor\n",
    "dt_bag = BaggingRegressor(n_estimators=100)\n",
    "#If None, then the base estimator is a DecisionTreeRegressor.\n",
    "dt_bag.fit(x_train,y_train)\n",
    "\n",
    "# Make predictions\n",
    "train_pred_bag =dt_bag.predict(x_train)\n",
    "test_pred_bag = dt_bag.predict(x_test)\n",
    "\n",
    "# Training dataset performance matrix\n",
    "bag_train_mse = mean_squared_error(y_train,train_pred_bag)   # Calculate MSE\n",
    "bag_train_mae = mean_absolute_error(y_train,train_pred_bag)  # Calculate MAE\n",
    "bag_train_r2 = r2_score(y_train,train_pred_bag)              # Calculate 2 sqaure\n",
    "bag_train_ad_r2 = 1 - (1-bag_train_r2)*(len(y_train)-1) / (len(y_train)- x_train.shape[1] - 1)\n",
    "\n",
    "\n",
    "# Test Data perfomance Matrix\n",
    "bag_test_mse = mean_squared_error(y_test,test_pred_bag)   # Calculate MSE\n",
    "bag_test_mae = mean_absolute_error(y_test,test_pred_bag)  # Calculate MAE\n",
    "bag_test_r2 = r2_score(y_test,test_pred_bag)              # Calculate 2 sqaure\n",
    "bag_test_ad_r2 = 1 - (1-bag_test_r2)*(len(y_test)-1) / (len(y_test)- x_test.shape[1] - 1)\n",
    "\n",
    "# # print(\"\\n\")\n",
    "# print(\"Bagging Regressor\")\n",
    "\n",
    "# print(\"Model Performance For Training Data\")\n",
    "# print(\"-Mean Squared Error : {:4f}\".format(bag_train_mse))\n",
    "# print(\"-Mean Absolute Error : {:.4f}\".format(bag_train_mae))\n",
    "# print(\"-R Sqaure : {:.4f}\".format(bag_train_r2))\n",
    "# print(\"-Adj R Sqaure : {:.4f}\".format(bag_train_ad_r2))\n",
    "\n",
    "# print(\"-----------------------------------------------------------------------\")\n",
    "\n",
    "# print(\"Model Performance For Test Data\")\n",
    "# print(\"-Mean Squared Error : {:4f}\".format(bag_test_mse))\n",
    "# print(\"-Mean Absolute Error : {:.4f}\".format(bag_test_mae))\n",
    "# print(\"-R Sqaure : {:.4f}\".format(bag_test_r2))\n",
    "# print(\"-Adj R Sqaure : {:.4f}\".format(bag_test_ad_r2))\n",
    "\n",
    "report2.append({\n",
    "                \"model\" : 'Bagging Regressor',\n",
    "                'Train Mean Squared Error ' : bag_train_mse,\n",
    "                'Test Mean Squared Error' : bag_test_mse,\n",
    "                'Train Mean Absolute Error' : bag_train_mae,\n",
    "                'Test Mean Absolute Error' : bag_test_mae,\n",
    "                'Train R Sqaure' : bag_train_r2,\n",
    "                'Test R Sqaure' : bag_test_r2,\n",
    "                'Train Adj R Sqaure' : bag_train_ad_r2,\n",
    "                'Test Adj R Sqaure' : bag_test_ad_r2\n",
    "})\n",
    "\n",
    "Bagging_report = pd.DataFrame(report2)\n",
    "Bagging_report"
   ]
  },
  {
   "cell_type": "markdown",
   "metadata": {},
   "source": [
    "#### Hyper-parameter tunning of bagging regressor"
   ]
  },
  {
   "cell_type": "code",
   "execution_count": 54,
   "metadata": {},
   "outputs": [],
   "source": [
    "bag_param = {\n",
    "            'n_estimators' : [50,100,200,500],\n",
    "            'max_samples' : range(2,5,1),\n",
    "            'max_features' : [2,3]\n",
    "}"
   ]
  },
  {
   "cell_type": "code",
   "execution_count": 55,
   "metadata": {},
   "outputs": [],
   "source": [
    "bag_ran_search = RandomizedSearchCV(estimator=dt_bag, \n",
    "                    param_distributions= bag_param, \n",
    "                    n_iter=100,\n",
    "                    n_jobs=-1,\n",
    "                    cv = 3,\n",
    "                    verbose= 2\n",
    "                    )"
   ]
  },
  {
   "cell_type": "code",
   "execution_count": 56,
   "metadata": {},
   "outputs": [
    {
     "name": "stdout",
     "output_type": "stream",
     "text": [
      "Fitting 3 folds for each of 24 candidates, totalling 72 fits\n"
     ]
    },
    {
     "data": {
      "text/html": [
       "<style>#sk-container-id-2 {color: black;background-color: white;}#sk-container-id-2 pre{padding: 0;}#sk-container-id-2 div.sk-toggleable {background-color: white;}#sk-container-id-2 label.sk-toggleable__label {cursor: pointer;display: block;width: 100%;margin-bottom: 0;padding: 0.3em;box-sizing: border-box;text-align: center;}#sk-container-id-2 label.sk-toggleable__label-arrow:before {content: \"▸\";float: left;margin-right: 0.25em;color: #696969;}#sk-container-id-2 label.sk-toggleable__label-arrow:hover:before {color: black;}#sk-container-id-2 div.sk-estimator:hover label.sk-toggleable__label-arrow:before {color: black;}#sk-container-id-2 div.sk-toggleable__content {max-height: 0;max-width: 0;overflow: hidden;text-align: left;background-color: #f0f8ff;}#sk-container-id-2 div.sk-toggleable__content pre {margin: 0.2em;color: black;border-radius: 0.25em;background-color: #f0f8ff;}#sk-container-id-2 input.sk-toggleable__control:checked~div.sk-toggleable__content {max-height: 200px;max-width: 100%;overflow: auto;}#sk-container-id-2 input.sk-toggleable__control:checked~label.sk-toggleable__label-arrow:before {content: \"▾\";}#sk-container-id-2 div.sk-estimator input.sk-toggleable__control:checked~label.sk-toggleable__label {background-color: #d4ebff;}#sk-container-id-2 div.sk-label input.sk-toggleable__control:checked~label.sk-toggleable__label {background-color: #d4ebff;}#sk-container-id-2 input.sk-hidden--visually {border: 0;clip: rect(1px 1px 1px 1px);clip: rect(1px, 1px, 1px, 1px);height: 1px;margin: -1px;overflow: hidden;padding: 0;position: absolute;width: 1px;}#sk-container-id-2 div.sk-estimator {font-family: monospace;background-color: #f0f8ff;border: 1px dotted black;border-radius: 0.25em;box-sizing: border-box;margin-bottom: 0.5em;}#sk-container-id-2 div.sk-estimator:hover {background-color: #d4ebff;}#sk-container-id-2 div.sk-parallel-item::after {content: \"\";width: 100%;border-bottom: 1px solid gray;flex-grow: 1;}#sk-container-id-2 div.sk-label:hover label.sk-toggleable__label {background-color: #d4ebff;}#sk-container-id-2 div.sk-serial::before {content: \"\";position: absolute;border-left: 1px solid gray;box-sizing: border-box;top: 0;bottom: 0;left: 50%;z-index: 0;}#sk-container-id-2 div.sk-serial {display: flex;flex-direction: column;align-items: center;background-color: white;padding-right: 0.2em;padding-left: 0.2em;position: relative;}#sk-container-id-2 div.sk-item {position: relative;z-index: 1;}#sk-container-id-2 div.sk-parallel {display: flex;align-items: stretch;justify-content: center;background-color: white;position: relative;}#sk-container-id-2 div.sk-item::before, #sk-container-id-2 div.sk-parallel-item::before {content: \"\";position: absolute;border-left: 1px solid gray;box-sizing: border-box;top: 0;bottom: 0;left: 50%;z-index: -1;}#sk-container-id-2 div.sk-parallel-item {display: flex;flex-direction: column;z-index: 1;position: relative;background-color: white;}#sk-container-id-2 div.sk-parallel-item:first-child::after {align-self: flex-end;width: 50%;}#sk-container-id-2 div.sk-parallel-item:last-child::after {align-self: flex-start;width: 50%;}#sk-container-id-2 div.sk-parallel-item:only-child::after {width: 0;}#sk-container-id-2 div.sk-dashed-wrapped {border: 1px dashed gray;margin: 0 0.4em 0.5em 0.4em;box-sizing: border-box;padding-bottom: 0.4em;background-color: white;}#sk-container-id-2 div.sk-label label {font-family: monospace;font-weight: bold;display: inline-block;line-height: 1.2em;}#sk-container-id-2 div.sk-label-container {text-align: center;}#sk-container-id-2 div.sk-container {/* jupyter's `normalize.less` sets `[hidden] { display: none; }` but bootstrap.min.css set `[hidden] { display: none !important; }` so we also need the `!important` here to be able to override the default hidden behavior on the sphinx rendered scikit-learn.org. See: https://github.com/scikit-learn/scikit-learn/issues/21755 */display: inline-block !important;position: relative;}#sk-container-id-2 div.sk-text-repr-fallback {display: none;}</style><div id=\"sk-container-id-2\" class=\"sk-top-container\"><div class=\"sk-text-repr-fallback\"><pre>RandomizedSearchCV(cv=3, estimator=BaggingRegressor(n_estimators=100),\n",
       "                   n_iter=100, n_jobs=-1,\n",
       "                   param_distributions={&#x27;max_features&#x27;: [2, 3],\n",
       "                                        &#x27;max_samples&#x27;: range(2, 5),\n",
       "                                        &#x27;n_estimators&#x27;: [50, 100, 200, 500]},\n",
       "                   verbose=2)</pre><b>In a Jupyter environment, please rerun this cell to show the HTML representation or trust the notebook. <br />On GitHub, the HTML representation is unable to render, please try loading this page with nbviewer.org.</b></div><div class=\"sk-container\" hidden><div class=\"sk-item sk-dashed-wrapped\"><div class=\"sk-label-container\"><div class=\"sk-label sk-toggleable\"><input class=\"sk-toggleable__control sk-hidden--visually\" id=\"sk-estimator-id-4\" type=\"checkbox\" ><label for=\"sk-estimator-id-4\" class=\"sk-toggleable__label sk-toggleable__label-arrow\">RandomizedSearchCV</label><div class=\"sk-toggleable__content\"><pre>RandomizedSearchCV(cv=3, estimator=BaggingRegressor(n_estimators=100),\n",
       "                   n_iter=100, n_jobs=-1,\n",
       "                   param_distributions={&#x27;max_features&#x27;: [2, 3],\n",
       "                                        &#x27;max_samples&#x27;: range(2, 5),\n",
       "                                        &#x27;n_estimators&#x27;: [50, 100, 200, 500]},\n",
       "                   verbose=2)</pre></div></div></div><div class=\"sk-parallel\"><div class=\"sk-parallel-item\"><div class=\"sk-item\"><div class=\"sk-label-container\"><div class=\"sk-label sk-toggleable\"><input class=\"sk-toggleable__control sk-hidden--visually\" id=\"sk-estimator-id-5\" type=\"checkbox\" ><label for=\"sk-estimator-id-5\" class=\"sk-toggleable__label sk-toggleable__label-arrow\">estimator: BaggingRegressor</label><div class=\"sk-toggleable__content\"><pre>BaggingRegressor(n_estimators=100)</pre></div></div></div><div class=\"sk-serial\"><div class=\"sk-item\"><div class=\"sk-estimator sk-toggleable\"><input class=\"sk-toggleable__control sk-hidden--visually\" id=\"sk-estimator-id-6\" type=\"checkbox\" ><label for=\"sk-estimator-id-6\" class=\"sk-toggleable__label sk-toggleable__label-arrow\">BaggingRegressor</label><div class=\"sk-toggleable__content\"><pre>BaggingRegressor(n_estimators=100)</pre></div></div></div></div></div></div></div></div></div></div>"
      ],
      "text/plain": [
       "RandomizedSearchCV(cv=3, estimator=BaggingRegressor(n_estimators=100),\n",
       "                   n_iter=100, n_jobs=-1,\n",
       "                   param_distributions={'max_features': [2, 3],\n",
       "                                        'max_samples': range(2, 5),\n",
       "                                        'n_estimators': [50, 100, 200, 500]},\n",
       "                   verbose=2)"
      ]
     },
     "execution_count": 56,
     "metadata": {},
     "output_type": "execute_result"
    }
   ],
   "source": [
    "bag_ran_search.fit(x_train,y_train)"
   ]
  },
  {
   "cell_type": "markdown",
   "metadata": {},
   "source": [
    "![](https://i.imgur.com/V3eiKPC.jpg)"
   ]
  },
  {
   "cell_type": "code",
   "execution_count": 57,
   "metadata": {},
   "outputs": [
    {
     "data": {
      "text/plain": [
       "({'n_estimators': 50, 'max_samples': 4, 'max_features': 3},\n",
       " BaggingRegressor(max_features=3, max_samples=4, n_estimators=50))"
      ]
     },
     "execution_count": 57,
     "metadata": {},
     "output_type": "execute_result"
    }
   ],
   "source": [
    "bag_ran_search.best_params_,bag_ran_search.best_estimator_"
   ]
  },
  {
   "cell_type": "code",
   "execution_count": 58,
   "metadata": {},
   "outputs": [
    {
     "name": "stdout",
     "output_type": "stream",
     "text": [
      "Hyperparameter tunning of Bagging Regressor\n",
      "Model Performance For Training Data\n",
      "-Mean Squared Error : 46.514256\n",
      "-Mean Absolute Error : 4.2701\n",
      "-R Sqaure : 0.6371\n",
      "-Adj R Sqaure : 0.6371\n",
      "-----------------------------------------------------------------------\n",
      "Model Performance For Test Data\n",
      "-Mean Squared Error : 47.017082\n",
      "-Mean Absolute Error : 4.3436\n",
      "-R Sqaure : 0.6252\n",
      "-Adj R Sqaure : 0.6251\n"
     ]
    }
   ],
   "source": [
    "bag_model_hyp =  BaggingRegressor(max_features=4, max_samples=10, n_estimators=50)\n",
    "bag_model_hyp.fit(x_train,y_train)\n",
    "\n",
    "# Make predictions\n",
    "train_pred_baghyp =bag_model_hyp.predict(x_train)\n",
    "test_pred_baghyp = bag_model_hyp.predict(x_test)\n",
    "\n",
    "# Training dataset performance matrix\n",
    "baghy_train_mse = mean_squared_error(y_train,train_pred_baghyp)   # Calculate MSE\n",
    "baghy_train_mae = mean_absolute_error(y_train,train_pred_baghyp)  # Calculate MAE\n",
    "baghy_train_r2 = r2_score(y_train,train_pred_baghyp)              # Calculate 2 sqaure\n",
    "baghy_train_ad_r2 = 1 - (1-baghy_train_r2)*(len(y_train)-1) / (len(y_train)- x_train.shape[1] - 1)\n",
    "\n",
    "# Test Data perfomance Matrix\n",
    "baghy_test_mse = mean_squared_error(y_test,test_pred_baghyp)   # Calculate MSE\n",
    "baghy_test_mae = mean_absolute_error(y_test,test_pred_baghyp)  # Calculate MAE\n",
    "baghy_test_r2 = r2_score(y_test,test_pred_baghyp)              # Calculate 2 sqaure\n",
    "baghy_test_ad_r2 = 1 - (1-baghy_test_r2)*(len(y_test)-1) / (len(y_test)- x_test.shape[1] - 1)\n",
    "\n",
    "print(\"Hyperparameter tunning of Bagging Regressor\")\n",
    "\n",
    "print(\"Model Performance For Training Data\")\n",
    "print(\"-Mean Squared Error : {:4f}\".format(baghy_train_mse))\n",
    "print(\"-Mean Absolute Error : {:.4f}\".format(baghy_train_mae))\n",
    "print(\"-R Sqaure : {:.4f}\".format(baghy_train_r2))\n",
    "print(\"-Adj R Sqaure : {:.4f}\".format(baghy_train_ad_r2))\n",
    "\n",
    "print(\"-----------------------------------------------------------------------\")\n",
    "\n",
    "print(\"Model Performance For Test Data\")\n",
    "print(\"-Mean Squared Error : {:4f}\".format(baghy_test_mse))\n",
    "print(\"-Mean Absolute Error : {:.4f}\".format(baghy_test_mae))\n",
    "print(\"-R Sqaure : {:.4f}\".format(baghy_test_r2))\n",
    "print(\"-Adj R Sqaure : {:.4f}\".format(baghy_test_ad_r2))\n"
   ]
  },
  {
   "cell_type": "code",
   "execution_count": 121,
   "metadata": {},
   "outputs": [
    {
     "data": {
      "text/html": [
       "<div>\n",
       "<style scoped>\n",
       "    .dataframe tbody tr th:only-of-type {\n",
       "        vertical-align: middle;\n",
       "    }\n",
       "\n",
       "    .dataframe tbody tr th {\n",
       "        vertical-align: top;\n",
       "    }\n",
       "\n",
       "    .dataframe thead th {\n",
       "        text-align: right;\n",
       "    }\n",
       "</style>\n",
       "<table border=\"1\" class=\"dataframe\">\n",
       "  <thead>\n",
       "    <tr style=\"text-align: right;\">\n",
       "      <th></th>\n",
       "      <th>model</th>\n",
       "      <th>Train Mean Squared Error</th>\n",
       "      <th>Test Mean Squared Error</th>\n",
       "      <th>Train Mean Absolute Error</th>\n",
       "      <th>Test Mean Absolute Error</th>\n",
       "      <th>Train R Sqaure</th>\n",
       "      <th>Test R Sqaure</th>\n",
       "      <th>Train Adj R Sqaure</th>\n",
       "      <th>Test Adj R Sqaure</th>\n",
       "    </tr>\n",
       "  </thead>\n",
       "  <tbody>\n",
       "    <tr>\n",
       "      <th>0</th>\n",
       "      <td>Hyper-Parameter Tunning on Bagging Regressor</td>\n",
       "      <td>46.514256</td>\n",
       "      <td>47.017082</td>\n",
       "      <td>4.270087</td>\n",
       "      <td>4.343603</td>\n",
       "      <td>0.637112</td>\n",
       "      <td>0.625183</td>\n",
       "      <td>0.637075</td>\n",
       "      <td>0.625106</td>\n",
       "    </tr>\n",
       "  </tbody>\n",
       "</table>\n",
       "</div>"
      ],
      "text/plain": [
       "                                          model  Train Mean Squared Error   \\\n",
       "0  Hyper-Parameter Tunning on Bagging Regressor                  46.514256   \n",
       "\n",
       "   Test Mean Squared Error  Train Mean Absolute Error  \\\n",
       "0                47.017082                   4.270087   \n",
       "\n",
       "   Test Mean Absolute Error  Train R Sqaure  Test R Sqaure  \\\n",
       "0                  4.343603        0.637112       0.625183   \n",
       "\n",
       "   Train Adj R Sqaure  Test Adj R Sqaure  \n",
       "0            0.637075           0.625106  "
      ]
     },
     "execution_count": 121,
     "metadata": {},
     "output_type": "execute_result"
    }
   ],
   "source": [
    "bag_record = []\n",
    "bag_record.append({\n",
    "                    \"model\" : \"Hyper-Parameter Tunning on Bagging Regressor\",\n",
    "                    \"Train Mean Squared Error \" : baghy_train_mse,\n",
    "                    \"Test Mean Squared Error\" : baghy_test_mse,\n",
    "                    \"Train Mean Absolute Error\" : baghy_train_mae,\n",
    "                    \"Test Mean Absolute Error\" : baghy_test_mae,\n",
    "                    \"Train R Sqaure\" : baghy_train_r2,\n",
    "                    \"Test R Sqaure\" : baghy_test_r2,\n",
    "                    \"Train Adj R Sqaure\" : baghy_train_ad_r2,\n",
    "                    \"Test Adj R Sqaure\" : baghy_test_ad_r2\n",
    "                    })\n",
    "\n",
    "Hypertuned_bag = pd.DataFrame(bag_record)\n",
    "Hypertuned_bag"
   ]
  },
  {
   "cell_type": "markdown",
   "metadata": {},
   "source": [
    "### Summary \n",
    "- Accuracy report of all columns"
   ]
  },
  {
   "cell_type": "code",
   "execution_count": 123,
   "metadata": {},
   "outputs": [
    {
     "data": {
      "text/html": [
       "<div>\n",
       "<style scoped>\n",
       "    .dataframe tbody tr th:only-of-type {\n",
       "        vertical-align: middle;\n",
       "    }\n",
       "\n",
       "    .dataframe tbody tr th {\n",
       "        vertical-align: top;\n",
       "    }\n",
       "\n",
       "    .dataframe thead th {\n",
       "        text-align: right;\n",
       "    }\n",
       "</style>\n",
       "<table border=\"1\" class=\"dataframe\">\n",
       "  <thead>\n",
       "    <tr style=\"text-align: right;\">\n",
       "      <th></th>\n",
       "      <th>model</th>\n",
       "      <th>Train Mean Squared Error</th>\n",
       "      <th>Test Mean Squared Error</th>\n",
       "      <th>Train Mean Absolute Error</th>\n",
       "      <th>Test Mean Absolute Error</th>\n",
       "      <th>Train R Sqaure</th>\n",
       "      <th>Test R Sqaure</th>\n",
       "      <th>Train Adj R Sqaure</th>\n",
       "      <th>Test Adj R Sqaure</th>\n",
       "    </tr>\n",
       "  </thead>\n",
       "  <tbody>\n",
       "    <tr>\n",
       "      <th>7</th>\n",
       "      <td>Hyper-Parameter Tunning on random forest</td>\n",
       "      <td>26.326022</td>\n",
       "      <td>31.857868</td>\n",
       "      <td>2.805978</td>\n",
       "      <td>3.111554</td>\n",
       "      <td>0.794614</td>\n",
       "      <td>0.746031</td>\n",
       "      <td>0.794593</td>\n",
       "      <td>0.745979</td>\n",
       "    </tr>\n",
       "    <tr>\n",
       "      <th>5</th>\n",
       "      <td>Random Forest Regressor</td>\n",
       "      <td>4.857322</td>\n",
       "      <td>35.103382</td>\n",
       "      <td>1.121824</td>\n",
       "      <td>3.206044</td>\n",
       "      <td>0.962105</td>\n",
       "      <td>0.720158</td>\n",
       "      <td>0.962101</td>\n",
       "      <td>0.720101</td>\n",
       "    </tr>\n",
       "    <tr>\n",
       "      <th>6</th>\n",
       "      <td>Bagging Regressor</td>\n",
       "      <td>4.828434</td>\n",
       "      <td>35.107165</td>\n",
       "      <td>1.119831</td>\n",
       "      <td>3.228251</td>\n",
       "      <td>0.962330</td>\n",
       "      <td>0.720128</td>\n",
       "      <td>0.962326</td>\n",
       "      <td>0.720071</td>\n",
       "    </tr>\n",
       "    <tr>\n",
       "      <th>3</th>\n",
       "      <td>Support Vector Regression</td>\n",
       "      <td>36.354071</td>\n",
       "      <td>38.939798</td>\n",
       "      <td>3.003868</td>\n",
       "      <td>3.141712</td>\n",
       "      <td>0.716378</td>\n",
       "      <td>0.689575</td>\n",
       "      <td>0.716350</td>\n",
       "      <td>0.689511</td>\n",
       "    </tr>\n",
       "    <tr>\n",
       "      <th>0</th>\n",
       "      <td>Linear Regression</td>\n",
       "      <td>38.121781</td>\n",
       "      <td>39.660269</td>\n",
       "      <td>4.098001</td>\n",
       "      <td>4.186627</td>\n",
       "      <td>0.702587</td>\n",
       "      <td>0.683831</td>\n",
       "      <td>0.702557</td>\n",
       "      <td>0.683766</td>\n",
       "    </tr>\n",
       "    <tr>\n",
       "      <th>1</th>\n",
       "      <td>Ridge Regression</td>\n",
       "      <td>38.122368</td>\n",
       "      <td>39.661540</td>\n",
       "      <td>4.097383</td>\n",
       "      <td>4.186172</td>\n",
       "      <td>0.702583</td>\n",
       "      <td>0.683821</td>\n",
       "      <td>0.702553</td>\n",
       "      <td>0.683756</td>\n",
       "    </tr>\n",
       "    <tr>\n",
       "      <th>2</th>\n",
       "      <td>Lasso Regression</td>\n",
       "      <td>39.855489</td>\n",
       "      <td>40.943839</td>\n",
       "      <td>4.342139</td>\n",
       "      <td>4.380703</td>\n",
       "      <td>0.689062</td>\n",
       "      <td>0.673598</td>\n",
       "      <td>0.689030</td>\n",
       "      <td>0.673531</td>\n",
       "    </tr>\n",
       "    <tr>\n",
       "      <th>8</th>\n",
       "      <td>Hyper-Parameter Tunning on Bagging Regressor</td>\n",
       "      <td>46.514256</td>\n",
       "      <td>47.017082</td>\n",
       "      <td>4.270087</td>\n",
       "      <td>4.343603</td>\n",
       "      <td>0.637112</td>\n",
       "      <td>0.625183</td>\n",
       "      <td>0.637075</td>\n",
       "      <td>0.625106</td>\n",
       "    </tr>\n",
       "    <tr>\n",
       "      <th>4</th>\n",
       "      <td>Decision Tree Regressor</td>\n",
       "      <td>0.381095</td>\n",
       "      <td>61.771581</td>\n",
       "      <td>0.030413</td>\n",
       "      <td>3.768889</td>\n",
       "      <td>0.997027</td>\n",
       "      <td>0.507561</td>\n",
       "      <td>0.997027</td>\n",
       "      <td>0.507460</td>\n",
       "    </tr>\n",
       "  </tbody>\n",
       "</table>\n",
       "</div>"
      ],
      "text/plain": [
       "                                          model  Train Mean Squared Error   \\\n",
       "7      Hyper-Parameter Tunning on random forest                  26.326022   \n",
       "5                       Random Forest Regressor                   4.857322   \n",
       "6                             Bagging Regressor                   4.828434   \n",
       "3                     Support Vector Regression                  36.354071   \n",
       "0                             Linear Regression                  38.121781   \n",
       "1                              Ridge Regression                  38.122368   \n",
       "2                              Lasso Regression                  39.855489   \n",
       "8  Hyper-Parameter Tunning on Bagging Regressor                  46.514256   \n",
       "4                       Decision Tree Regressor                   0.381095   \n",
       "\n",
       "   Test Mean Squared Error  Train Mean Absolute Error  \\\n",
       "7                31.857868                   2.805978   \n",
       "5                35.103382                   1.121824   \n",
       "6                35.107165                   1.119831   \n",
       "3                38.939798                   3.003868   \n",
       "0                39.660269                   4.098001   \n",
       "1                39.661540                   4.097383   \n",
       "2                40.943839                   4.342139   \n",
       "8                47.017082                   4.270087   \n",
       "4                61.771581                   0.030413   \n",
       "\n",
       "   Test Mean Absolute Error  Train R Sqaure  Test R Sqaure  \\\n",
       "7                  3.111554        0.794614       0.746031   \n",
       "5                  3.206044        0.962105       0.720158   \n",
       "6                  3.228251        0.962330       0.720128   \n",
       "3                  3.141712        0.716378       0.689575   \n",
       "0                  4.186627        0.702587       0.683831   \n",
       "1                  4.186172        0.702583       0.683821   \n",
       "2                  4.380703        0.689062       0.673598   \n",
       "8                  4.343603        0.637112       0.625183   \n",
       "4                  3.768889        0.997027       0.507561   \n",
       "\n",
       "   Train Adj R Sqaure  Test Adj R Sqaure  \n",
       "7            0.794593           0.745979  \n",
       "5            0.962101           0.720101  \n",
       "6            0.962326           0.720071  \n",
       "3            0.716350           0.689511  \n",
       "0            0.702557           0.683766  \n",
       "1            0.702553           0.683756  \n",
       "2            0.689030           0.673531  \n",
       "8            0.637075           0.625106  \n",
       "4            0.997027           0.507460  "
      ]
     },
     "execution_count": 123,
     "metadata": {},
     "output_type": "execute_result"
    }
   ],
   "source": [
    "frames3 = [all_model,Bagging_report,Hypertuned_rf,Hypertuned_bag]\n",
    "all_records = pd.concat(frames3) \n",
    "all_records.reset_index(inplace=True)\n",
    "all_records.drop('index',axis = 1,inplace = True)\n",
    "all_records.sort_values(by = 'Test R Sqaure',ascending=False)"
   ]
  },
  {
   "cell_type": "markdown",
   "metadata": {},
   "source": [
    "### Store the best model in pickle file"
   ]
  },
  {
   "cell_type": "code",
   "execution_count": 124,
   "metadata": {},
   "outputs": [],
   "source": [
    "import pickle\n",
    "pickle.dump(rf_best_para, open('random_forest_hypertuned.sav','wb'))"
   ]
  }
 ],
 "metadata": {
  "kernelspec": {
   "display_name": "Python 3.10.6 64-bit",
   "language": "python",
   "name": "python3"
  },
  "language_info": {
   "codemirror_mode": {
    "name": "ipython",
    "version": 3
   },
   "file_extension": ".py",
   "mimetype": "text/x-python",
   "name": "python",
   "nbconvert_exporter": "python",
   "pygments_lexer": "ipython3",
   "version": "3.10.6"
  },
  "orig_nbformat": 4,
  "vscode": {
   "interpreter": {
    "hash": "9ab66fe7944814080eba699b0827d98586b0c1b75b0dd08322b4876e0a85e33c"
   }
  }
 },
 "nbformat": 4,
 "nbformat_minor": 2
}
