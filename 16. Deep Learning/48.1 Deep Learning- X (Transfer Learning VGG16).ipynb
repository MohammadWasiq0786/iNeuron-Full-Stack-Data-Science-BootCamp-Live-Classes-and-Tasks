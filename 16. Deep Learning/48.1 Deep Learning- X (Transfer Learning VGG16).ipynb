{
 "cells": [
  {
   "cell_type": "markdown",
   "metadata": {},
   "source": [
    "![image](https://user-images.githubusercontent.com/57321948/196933065-4b16c235-f3b9-4391-9cfe-4affcec87c35.png)\n",
    "\n",
    "# **Class - 73 `Deep Learning`**\n",
    "## **25 February 2023**\n",
    "\n",
    "In this class **Subhradipta Paul** Sir taught the **Transfer Learning VGG16**"
   ]
  },
  {
   "cell_type": "markdown",
   "metadata": {},
   "source": [
    "## Agenda\n",
    "\n",
    "## 1. VGG (Visual Geometry Group)\n",
    "\n",
    "## 2. Transfer Learning\n",
    "\n",
    "### LeNet\n",
    "### AlexNet\n",
    "\n",
    "## Variants of Trans Blocks\n",
    "1. **C(1, 1)** $\\rightarrow$ **MP** $\\rightarrow$ Trans || **C(3, 3)** Conv Block\n",
    "2. **MP** $\\rightarrow$ **C(1, 1)** $\\rightarrow$ Trans || **C(3, 3)** Conv Block\n",
    "3. **C(1, 1)** $\\rightarrow$ **MP** $\\rightarrow$ **C(1, 1)** $\\rightarrow$ Trans \n",
    "\n",
    "**Edges/Gradients** $\\rightarrow$ **Patterns** $\\rightarrow$ **Textures** $\\rightarrow$ **Part of Object** $\\rightarrow$ **Object**\n",
    "\n",
    "### **Data Augmentation**\n",
    "**Changing your input slightly with different variations.**\n",
    "\n",
    "## Transfer Learning\n",
    "**Why ?** $\\rightarrow$ Not start from scratch.\n",
    "\n",
    "**Scratch/Training** $\\rightarrow$ **Time taking Models to be faster.**\n",
    "\n",
    "### Weights\n",
    "* $C_1 \\rightarrow$ Low Level Features\n",
    "* $C_2 \\rightarrow$ Low\n",
    "* $M_1 \\rightarrow$ \n",
    "* $C_3 \\rightarrow$ Mid Level Features\n",
    "* $C_4 \\rightarrow$ Mid \n",
    "* $M_2 \\rightarrow$\n",
    "* $C_5 \\rightarrow$ \n",
    "* $C_6 \\rightarrow$ New weights + Old weights $\\rightarrow$ (low + mid) features $\\rightarrow$ High level"
   ]
  },
  {
   "cell_type": "markdown",
   "metadata": {
    "id": "G_On-uhGoQo_"
   },
   "source": [
    "## Transfer Learning VGG 16 and VGG 19 using Keras"
   ]
  },
  {
   "cell_type": "code",
   "execution_count": 1,
   "metadata": {
    "colab": {
     "base_uri": "https://localhost:8080/"
    },
    "executionInfo": {
     "elapsed": 1544,
     "status": "ok",
     "timestamp": 1675596838139,
     "user": {
      "displayName": "colab0 ineuron",
      "userId": "16851312232179065356"
     },
     "user_tz": -360
    },
    "id": "COCzcPGroQpC",
    "outputId": "644de8a5-478f-4ea3-eb96-7b8d8a7a6f9b"
   },
   "outputs": [
    {
     "name": "stdout",
     "output_type": "stream",
     "text": [
      "Sun Feb  5 11:33:54 2023       \n",
      "+-----------------------------------------------------------------------------+\n",
      "| NVIDIA-SMI 510.47.03    Driver Version: 510.47.03    CUDA Version: 11.6     |\n",
      "|-------------------------------+----------------------+----------------------+\n",
      "| GPU  Name        Persistence-M| Bus-Id        Disp.A | Volatile Uncorr. ECC |\n",
      "| Fan  Temp  Perf  Pwr:Usage/Cap|         Memory-Usage | GPU-Util  Compute M. |\n",
      "|                               |                      |               MIG M. |\n",
      "|===============================+======================+======================|\n",
      "|   0  Tesla T4            Off  | 00000000:00:04.0 Off |                    0 |\n",
      "| N/A   48C    P0    25W /  70W |      0MiB / 15360MiB |      0%      Default |\n",
      "|                               |                      |                  N/A |\n",
      "+-------------------------------+----------------------+----------------------+\n",
      "                                                                               \n",
      "+-----------------------------------------------------------------------------+\n",
      "| Processes:                                                                  |\n",
      "|  GPU   GI   CI        PID   Type   Process name                  GPU Memory |\n",
      "|        ID   ID                                                   Usage      |\n",
      "|=============================================================================|\n",
      "|  No running processes found                                                 |\n",
      "+-----------------------------------------------------------------------------+\n"
     ]
    }
   ],
   "source": [
    "!nvidia-smi"
   ]
  },
  {
   "cell_type": "code",
   "execution_count": 2,
   "metadata": {
    "colab": {
     "base_uri": "https://localhost:8080/"
    },
    "executionInfo": {
     "elapsed": 2682,
     "status": "ok",
     "timestamp": 1675596885489,
     "user": {
      "displayName": "colab0 ineuron",
      "userId": "16851312232179065356"
     },
     "user_tz": -360
    },
    "id": "YcHqtmlxoQpD",
    "outputId": "aeb23e81-2123-4d29-a91e-718c5ba60417"
   },
   "outputs": [
    {
     "name": "stdout",
     "output_type": "stream",
     "text": [
      "2.9.2\n"
     ]
    }
   ],
   "source": [
    "import tensorflow as tf\n",
    "print(tf.__version__)"
   ]
  },
  {
   "cell_type": "code",
   "execution_count": 3,
   "metadata": {
    "executionInfo": {
     "elapsed": 3,
     "status": "ok",
     "timestamp": 1675596894827,
     "user": {
      "displayName": "colab0 ineuron",
      "userId": "16851312232179065356"
     },
     "user_tz": -360
    },
    "id": "CbJjhNbzoQpE"
   },
   "outputs": [],
   "source": [
    "# import the libraries as shown below\n",
    "\n",
    "from tensorflow.keras.layers import Input, Lambda, Dense, Flatten\n",
    "from tensorflow.keras.models import Model\n",
    "from tensorflow.keras.applications.vgg16 import VGG16\n",
    "from tensorflow.keras.applications.vgg19 import VGG19\n",
    "from tensorflow.keras.preprocessing import image\n",
    "from tensorflow.keras.preprocessing.image import ImageDataGenerator,load_img\n",
    "from tensorflow.keras.models import Sequential\n",
    "import numpy as np\n",
    "from glob import glob"
   ]
  },
  {
   "cell_type": "code",
   "execution_count": 4,
   "metadata": {
    "colab": {
     "base_uri": "https://localhost:8080/"
    },
    "executionInfo": {
     "elapsed": 76300,
     "status": "ok",
     "timestamp": 1675597036454,
     "user": {
      "displayName": "colab0 ineuron",
      "userId": "16851312232179065356"
     },
     "user_tz": -360
    },
    "id": "2HOVb0wfuUdI",
    "outputId": "e609e210-1d84-4b11-b48b-d85877669386"
   },
   "outputs": [
    {
     "name": "stdout",
     "output_type": "stream",
     "text": [
      "Mounted at /content/drive\n"
     ]
    }
   ],
   "source": [
    "from google.colab import drive\n",
    "drive.mount('/content/drive')"
   ]
  },
  {
   "cell_type": "code",
   "execution_count": 7,
   "metadata": {
    "executionInfo": {
     "elapsed": 1,
     "status": "ok",
     "timestamp": 1675597171108,
     "user": {
      "displayName": "colab0 ineuron",
      "userId": "16851312232179065356"
     },
     "user_tz": -360
    },
    "id": "LSscBP_Nul3k"
   },
   "outputs": [],
   "source": [
    "ROOT_PATH = '/content/drive/MyDrive/005_BOKTIAR_AHMED_BAPPY/My_classes/FSDS-Bootcamp/VggNEt'"
   ]
  },
  {
   "cell_type": "code",
   "execution_count": 5,
   "metadata": {
    "colab": {
     "base_uri": "https://localhost:8080/"
    },
    "executionInfo": {
     "elapsed": 1019,
     "status": "ok",
     "timestamp": 1675597133369,
     "user": {
      "displayName": "colab0 ineuron",
      "userId": "16851312232179065356"
     },
     "user_tz": -360
    },
    "id": "e1jhD1joXxNH",
    "outputId": "6b53a271-1d9f-4067-9144-6e2f05c63cca"
   },
   "outputs": [
    {
     "name": "stdout",
     "output_type": "stream",
     "text": [
      "/content\n"
     ]
    }
   ],
   "source": [
    "!pwd"
   ]
  },
  {
   "cell_type": "code",
   "execution_count": 8,
   "metadata": {
    "colab": {
     "base_uri": "https://localhost:8080/",
     "height": 35
    },
    "executionInfo": {
     "elapsed": 10,
     "status": "ok",
     "timestamp": 1675597173207,
     "user": {
      "displayName": "colab0 ineuron",
      "userId": "16851312232179065356"
     },
     "user_tz": -360
    },
    "id": "UmIsJIoTu1Nv",
    "outputId": "0ed105ab-08bb-4eea-acc7-c59fbfba715a"
   },
   "outputs": [
    {
     "data": {
      "application/vnd.google.colaboratory.intrinsic+json": {
       "type": "string"
      },
      "text/plain": [
       "'/content/drive/MyDrive/005_BOKTIAR_AHMED_BAPPY/My_classes/FSDS-Bootcamp/VggNEt'"
      ]
     },
     "execution_count": 8,
     "metadata": {},
     "output_type": "execute_result"
    }
   ],
   "source": [
    "import os\n",
    "os.chdir(ROOT_PATH)\n",
    "os.getcwd()"
   ]
  },
  {
   "cell_type": "code",
   "execution_count": 9,
   "metadata": {
    "executionInfo": {
     "elapsed": 606,
     "status": "ok",
     "timestamp": 1675597440658,
     "user": {
      "displayName": "colab0 ineuron",
      "userId": "16851312232179065356"
     },
     "user_tz": -360
    },
    "id": "JJRs9wzsoQpE"
   },
   "outputs": [],
   "source": [
    "# re-size all the images to this\n",
    "IMAGE_SIZE = [224, 224]\n",
    "\n",
    "train_path = 'flowers/train'\n",
    "valid_path = 'flowers/validation'\n"
   ]
  },
  {
   "cell_type": "code",
   "execution_count": 10,
   "metadata": {
    "colab": {
     "base_uri": "https://localhost:8080/"
    },
    "executionInfo": {
     "elapsed": 6014,
     "status": "ok",
     "timestamp": 1675597449161,
     "user": {
      "displayName": "colab0 ineuron",
      "userId": "16851312232179065356"
     },
     "user_tz": -360
    },
    "id": "5FOgov0ooQpE",
    "outputId": "b1d47c29-468e-4b08-abd5-f8b92e75d0e3"
   },
   "outputs": [
    {
     "name": "stdout",
     "output_type": "stream",
     "text": [
      "Downloading data from https://storage.googleapis.com/tensorflow/keras-applications/vgg16/vgg16_weights_tf_dim_ordering_tf_kernels_notop.h5\n",
      "58889256/58889256 [==============================] - 3s 0us/step\n"
     ]
    }
   ],
   "source": [
    "# Import the VGG16 library as shown below and add preprocessing layer to the front of VGG\n",
    "# Here we will be using imagenet weights\n",
    "\n",
    "vgg16 = VGG16(input_shape=IMAGE_SIZE + [3], weights='imagenet', include_top=False)\n"
   ]
  },
  {
   "cell_type": "code",
   "execution_count": 11,
   "metadata": {
    "colab": {
     "base_uri": "https://localhost:8080/"
    },
    "executionInfo": {
     "elapsed": 7,
     "status": "ok",
     "timestamp": 1675597505600,
     "user": {
      "displayName": "colab0 ineuron",
      "userId": "16851312232179065356"
     },
     "user_tz": -360
    },
    "id": "hgy8jszDZI1E",
    "outputId": "2eb0b9f6-2aee-4feb-ee75-a480598c230f"
   },
   "outputs": [
    {
     "name": "stdout",
     "output_type": "stream",
     "text": [
      "<keras.engine.input_layer.InputLayer object at 0x7f15709f4c40>\n",
      "<keras.layers.convolutional.conv2d.Conv2D object at 0x7f14f656d2b0>\n",
      "<keras.layers.convolutional.conv2d.Conv2D object at 0x7f14f656d9a0>\n",
      "<keras.layers.pooling.max_pooling2d.MaxPooling2D object at 0x7f14e4fd1d00>\n",
      "<keras.layers.convolutional.conv2d.Conv2D object at 0x7f14f63f6d00>\n",
      "<keras.layers.convolutional.conv2d.Conv2D object at 0x7f14f63f6af0>\n",
      "<keras.layers.pooling.max_pooling2d.MaxPooling2D object at 0x7f14f656db50>\n",
      "<keras.layers.convolutional.conv2d.Conv2D object at 0x7f14f58e6c10>\n",
      "<keras.layers.convolutional.conv2d.Conv2D object at 0x7f14f58e6ee0>\n",
      "<keras.layers.convolutional.conv2d.Conv2D object at 0x7f14f58e6730>\n",
      "<keras.layers.pooling.max_pooling2d.MaxPooling2D object at 0x7f14f63f64f0>\n",
      "<keras.layers.convolutional.conv2d.Conv2D object at 0x7f14f58f68b0>\n",
      "<keras.layers.convolutional.conv2d.Conv2D object at 0x7f14f58e3a90>\n",
      "<keras.layers.convolutional.conv2d.Conv2D object at 0x7f14f58f3d00>\n",
      "<keras.layers.pooling.max_pooling2d.MaxPooling2D object at 0x7f14f5904fa0>\n",
      "<keras.layers.convolutional.conv2d.Conv2D object at 0x7f14f58e3820>\n",
      "<keras.layers.convolutional.conv2d.Conv2D object at 0x7f14f58fec40>\n",
      "<keras.layers.convolutional.conv2d.Conv2D object at 0x7f14f59107f0>\n",
      "<keras.layers.pooling.max_pooling2d.MaxPooling2D object at 0x7f14f590a070>\n"
     ]
    }
   ],
   "source": [
    "# don't train existing weights\n",
    "for layer in vgg16.layers:\n",
    "  print(layer)"
   ]
  },
  {
   "cell_type": "code",
   "execution_count": 12,
   "metadata": {
    "executionInfo": {
     "elapsed": 2,
     "status": "ok",
     "timestamp": 1675597535488,
     "user": {
      "displayName": "colab0 ineuron",
      "userId": "16851312232179065356"
     },
     "user_tz": -360
    },
    "id": "Rx7AkOQIoQpF"
   },
   "outputs": [],
   "source": [
    "# don't train existing weights\n",
    "for layer in vgg16.layers:\n",
    "    layer.trainable = False"
   ]
  },
  {
   "cell_type": "code",
   "execution_count": 13,
   "metadata": {
    "colab": {
     "base_uri": "https://localhost:8080/"
    },
    "executionInfo": {
     "elapsed": 12,
     "status": "ok",
     "timestamp": 1675597546571,
     "user": {
      "displayName": "colab0 ineuron",
      "userId": "16851312232179065356"
     },
     "user_tz": -360
    },
    "id": "wNtlHqA8pyBx",
    "outputId": "93946e02-9b5e-409e-aee1-3006cd6cab0b"
   },
   "outputs": [
    {
     "name": "stdout",
     "output_type": "stream",
     "text": [
      "input_1 False\n",
      "block1_conv1 False\n",
      "block1_conv2 False\n",
      "block1_pool False\n",
      "block2_conv1 False\n",
      "block2_conv2 False\n",
      "block2_pool False\n",
      "block3_conv1 False\n",
      "block3_conv2 False\n",
      "block3_conv3 False\n",
      "block3_pool False\n",
      "block4_conv1 False\n",
      "block4_conv2 False\n",
      "block4_conv3 False\n",
      "block4_pool False\n",
      "block5_conv1 False\n",
      "block5_conv2 False\n",
      "block5_conv3 False\n",
      "block5_pool False\n"
     ]
    }
   ],
   "source": [
    "for layer in vgg16.layers:\n",
    "  print(layer.name,layer.trainable)"
   ]
  },
  {
   "cell_type": "code",
   "execution_count": 14,
   "metadata": {
    "colab": {
     "base_uri": "https://localhost:8080/"
    },
    "executionInfo": {
     "elapsed": 668,
     "status": "ok",
     "timestamp": 1675597608017,
     "user": {
      "displayName": "colab0 ineuron",
      "userId": "16851312232179065356"
     },
     "user_tz": -360
    },
    "id": "5WBu-g3rqIcw",
    "outputId": "3f5d293f-5fcf-4bf5-dda0-cff7123aa259"
   },
   "outputs": [
    {
     "name": "stdout",
     "output_type": "stream",
     "text": [
      "Model: \"vgg16\"\n",
      "_________________________________________________________________\n",
      " Layer (type)                Output Shape              Param #   \n",
      "=================================================================\n",
      " input_1 (InputLayer)        [(None, 224, 224, 3)]     0         \n",
      "                                                                 \n",
      " block1_conv1 (Conv2D)       (None, 224, 224, 64)      1792      \n",
      "                                                                 \n",
      " block1_conv2 (Conv2D)       (None, 224, 224, 64)      36928     \n",
      "                                                                 \n",
      " block1_pool (MaxPooling2D)  (None, 112, 112, 64)      0         \n",
      "                                                                 \n",
      " block2_conv1 (Conv2D)       (None, 112, 112, 128)     73856     \n",
      "                                                                 \n",
      " block2_conv2 (Conv2D)       (None, 112, 112, 128)     147584    \n",
      "                                                                 \n",
      " block2_pool (MaxPooling2D)  (None, 56, 56, 128)       0         \n",
      "                                                                 \n",
      " block3_conv1 (Conv2D)       (None, 56, 56, 256)       295168    \n",
      "                                                                 \n",
      " block3_conv2 (Conv2D)       (None, 56, 56, 256)       590080    \n",
      "                                                                 \n",
      " block3_conv3 (Conv2D)       (None, 56, 56, 256)       590080    \n",
      "                                                                 \n",
      " block3_pool (MaxPooling2D)  (None, 28, 28, 256)       0         \n",
      "                                                                 \n",
      " block4_conv1 (Conv2D)       (None, 28, 28, 512)       1180160   \n",
      "                                                                 \n",
      " block4_conv2 (Conv2D)       (None, 28, 28, 512)       2359808   \n",
      "                                                                 \n",
      " block4_conv3 (Conv2D)       (None, 28, 28, 512)       2359808   \n",
      "                                                                 \n",
      " block4_pool (MaxPooling2D)  (None, 14, 14, 512)       0         \n",
      "                                                                 \n",
      " block5_conv1 (Conv2D)       (None, 14, 14, 512)       2359808   \n",
      "                                                                 \n",
      " block5_conv2 (Conv2D)       (None, 14, 14, 512)       2359808   \n",
      "                                                                 \n",
      " block5_conv3 (Conv2D)       (None, 14, 14, 512)       2359808   \n",
      "                                                                 \n",
      " block5_pool (MaxPooling2D)  (None, 7, 7, 512)         0         \n",
      "                                                                 \n",
      "=================================================================\n",
      "Total params: 14,714,688\n",
      "Trainable params: 0\n",
      "Non-trainable params: 14,714,688\n",
      "_________________________________________________________________\n"
     ]
    }
   ],
   "source": [
    "vgg16.summary()"
   ]
  },
  {
   "cell_type": "code",
   "execution_count": 15,
   "metadata": {
    "executionInfo": {
     "elapsed": 649,
     "status": "ok",
     "timestamp": 1675597674785,
     "user": {
      "displayName": "colab0 ineuron",
      "userId": "16851312232179065356"
     },
     "user_tz": -360
    },
    "id": "N5TBzMtLoQpF"
   },
   "outputs": [],
   "source": [
    "  # useful for getting number of output classes\n",
    "folders = glob('flowers/train/*')"
   ]
  },
  {
   "cell_type": "code",
   "execution_count": 16,
   "metadata": {
    "colab": {
     "base_uri": "https://localhost:8080/"
    },
    "executionInfo": {
     "elapsed": 8,
     "status": "ok",
     "timestamp": 1675597676662,
     "user": {
      "displayName": "colab0 ineuron",
      "userId": "16851312232179065356"
     },
     "user_tz": -360
    },
    "id": "mEAc82BQoQpF",
    "outputId": "37892dab-ae75-48a3-e606-8e74b2dd48b8"
   },
   "outputs": [
    {
     "data": {
      "text/plain": [
       "['flowers/train/dandelion',\n",
       " 'flowers/train/sunflower',\n",
       " 'flowers/train/tulip',\n",
       " 'flowers/train/daisy',\n",
       " 'flowers/train/rose']"
      ]
     },
     "execution_count": 16,
     "metadata": {},
     "output_type": "execute_result"
    }
   ],
   "source": [
    "folders"
   ]
  },
  {
   "cell_type": "code",
   "execution_count": 17,
   "metadata": {
    "colab": {
     "base_uri": "https://localhost:8080/"
    },
    "executionInfo": {
     "elapsed": 778,
     "status": "ok",
     "timestamp": 1675597708458,
     "user": {
      "displayName": "colab0 ineuron",
      "userId": "16851312232179065356"
     },
     "user_tz": -360
    },
    "id": "TxWePQ04vWG0",
    "outputId": "97a6f1ee-1037-4e8a-c477-201c292f8a31"
   },
   "outputs": [
    {
     "data": {
      "text/plain": [
       "5"
      ]
     },
     "execution_count": 17,
     "metadata": {},
     "output_type": "execute_result"
    }
   ],
   "source": [
    "len(folders)"
   ]
  },
  {
   "cell_type": "code",
   "execution_count": 19,
   "metadata": {
    "executionInfo": {
     "elapsed": 605,
     "status": "ok",
     "timestamp": 1675597880461,
     "user": {
      "displayName": "colab0 ineuron",
      "userId": "16851312232179065356"
     },
     "user_tz": -360
    },
    "id": "az2MrlO7vcfE"
   },
   "outputs": [],
   "source": [
    "model = Sequential()\n",
    "\n",
    "model.add(vgg16)\n",
    "model.add(Flatten())\n",
    "model.add(Dense(256,activation='relu'))\n",
    "model.add(Dense(5,activation='softmax'))"
   ]
  },
  {
   "cell_type": "code",
   "execution_count": 20,
   "metadata": {
    "colab": {
     "base_uri": "https://localhost:8080/"
    },
    "executionInfo": {
     "elapsed": 13,
     "status": "ok",
     "timestamp": 1675597883116,
     "user": {
      "displayName": "colab0 ineuron",
      "userId": "16851312232179065356"
     },
     "user_tz": -360
    },
    "id": "pCbQyhRloQpG",
    "outputId": "22e82b6e-2567-4021-a133-c231a659a642"
   },
   "outputs": [
    {
     "name": "stdout",
     "output_type": "stream",
     "text": [
      "Model: \"sequential_1\"\n",
      "_________________________________________________________________\n",
      " Layer (type)                Output Shape              Param #   \n",
      "=================================================================\n",
      " vgg16 (Functional)          (None, 7, 7, 512)         14714688  \n",
      "                                                                 \n",
      " flatten_1 (Flatten)         (None, 25088)             0         \n",
      "                                                                 \n",
      " dense_3 (Dense)             (None, 256)               6422784   \n",
      "                                                                 \n",
      " dense_4 (Dense)             (None, 5)                 1285      \n",
      "                                                                 \n",
      "=================================================================\n",
      "Total params: 21,138,757\n",
      "Trainable params: 6,424,069\n",
      "Non-trainable params: 14,714,688\n",
      "_________________________________________________________________\n"
     ]
    }
   ],
   "source": [
    "# view the structure of the model\n",
    "model.summary()"
   ]
  },
  {
   "cell_type": "code",
   "execution_count": 21,
   "metadata": {
    "executionInfo": {
     "elapsed": 626,
     "status": "ok",
     "timestamp": 1675597982445,
     "user": {
      "displayName": "colab0 ineuron",
      "userId": "16851312232179065356"
     },
     "user_tz": -360
    },
    "id": "_v9RaVP0oQpG"
   },
   "outputs": [],
   "source": [
    "# tell the model what cost and optimization method to use\n",
    "model.compile(\n",
    "  loss='categorical_crossentropy',\n",
    "  optimizer='adam',\n",
    "  metrics=['accuracy']\n",
    ")\n"
   ]
  },
  {
   "cell_type": "code",
   "execution_count": 22,
   "metadata": {
    "executionInfo": {
     "elapsed": 630,
     "status": "ok",
     "timestamp": 1675598123577,
     "user": {
      "displayName": "colab0 ineuron",
      "userId": "16851312232179065356"
     },
     "user_tz": -360
    },
    "id": "ccGtjaZBoQpH"
   },
   "outputs": [],
   "source": [
    "# Use the Image Data Generator to import the images from the dataset\n",
    "from tensorflow.keras.preprocessing.image import ImageDataGenerator\n",
    "\n",
    "train_datagen = ImageDataGenerator(rescale = 1./255,\n",
    "                                   shear_range = 0.2,\n",
    "                                   zoom_range = 0.2,\n",
    "                                   horizontal_flip = True)\n",
    "\n",
    "test_datagen = ImageDataGenerator(rescale = 1./255)"
   ]
  },
  {
   "cell_type": "code",
   "execution_count": 23,
   "metadata": {
    "colab": {
     "base_uri": "https://localhost:8080/"
    },
    "executionInfo": {
     "elapsed": 9,
     "status": "ok",
     "timestamp": 1675598182131,
     "user": {
      "displayName": "colab0 ineuron",
      "userId": "16851312232179065356"
     },
     "user_tz": -360
    },
    "id": "QRP78ABJbyRt",
    "outputId": "854e52f1-dc38-4f76-a969-71ee67807712"
   },
   "outputs": [
    {
     "name": "stdout",
     "output_type": "stream",
     "text": [
      "/content/drive/MyDrive/005_BOKTIAR_AHMED_BAPPY/My_classes/FSDS-Bootcamp/VggNEt\n"
     ]
    }
   ],
   "source": [
    "!pwd"
   ]
  },
  {
   "cell_type": "code",
   "execution_count": 24,
   "metadata": {
    "colab": {
     "base_uri": "https://localhost:8080/"
    },
    "executionInfo": {
     "elapsed": 631,
     "status": "ok",
     "timestamp": 1675598242973,
     "user": {
      "displayName": "colab0 ineuron",
      "userId": "16851312232179065356"
     },
     "user_tz": -360
    },
    "id": "as_UVGKeoQpH",
    "outputId": "9bc25a43-cfe8-4928-d84c-41af710d2625"
   },
   "outputs": [
    {
     "name": "stdout",
     "output_type": "stream",
     "text": [
      "Found 600 images belonging to 5 classes.\n"
     ]
    }
   ],
   "source": [
    "# Make sure you provide the same target size as initialied for the image size\n",
    "training_set = train_datagen.flow_from_directory('flowers/train',\n",
    "                                                 target_size = (224, 224),\n",
    "                                                 batch_size = 32,\n",
    "                                                 class_mode = 'categorical')"
   ]
  },
  {
   "cell_type": "code",
   "execution_count": 25,
   "metadata": {
    "colab": {
     "base_uri": "https://localhost:8080/"
    },
    "executionInfo": {
     "elapsed": 1884,
     "status": "ok",
     "timestamp": 1675598273557,
     "user": {
      "displayName": "colab0 ineuron",
      "userId": "16851312232179065356"
     },
     "user_tz": -360
    },
    "id": "TGVUtA-8oQpH",
    "outputId": "c02d1bba-e08e-428d-adff-ba37cf348063"
   },
   "outputs": [
    {
     "name": "stdout",
     "output_type": "stream",
     "text": [
      "Found 300 images belonging to 5 classes.\n"
     ]
    }
   ],
   "source": [
    "test_set = test_datagen.flow_from_directory('flowers/validation',\n",
    "                                            target_size = (224, 224),\n",
    "                                            batch_size = 32,\n",
    "                                            class_mode = 'categorical')"
   ]
  },
  {
   "cell_type": "code",
   "execution_count": 26,
   "metadata": {
    "colab": {
     "base_uri": "https://localhost:8080/"
    },
    "executionInfo": {
     "elapsed": 558982,
     "status": "ok",
     "timestamp": 1675598861841,
     "user": {
      "displayName": "colab0 ineuron",
      "userId": "16851312232179065356"
     },
     "user_tz": -360
    },
    "id": "JbP-SQBhoQpH",
    "outputId": "89425ca9-cfc7-457e-9c49-92f8f5ff6c95",
    "scrolled": true
   },
   "outputs": [
    {
     "name": "stdout",
     "output_type": "stream",
     "text": [
      "Epoch 1/10\n",
      "19/19 [==============================] - 454s 24s/step - loss: 3.9861 - accuracy: 0.3850 - val_loss: 1.4400 - val_accuracy: 0.5333\n",
      "Epoch 2/10\n",
      "19/19 [==============================] - 9s 468ms/step - loss: 0.8904 - accuracy: 0.6667 - val_loss: 0.8521 - val_accuracy: 0.7067\n",
      "Epoch 3/10\n",
      "19/19 [==============================] - 10s 496ms/step - loss: 0.5474 - accuracy: 0.8100 - val_loss: 1.0699 - val_accuracy: 0.6200\n",
      "Epoch 4/10\n",
      "19/19 [==============================] - 9s 470ms/step - loss: 0.4409 - accuracy: 0.8500 - val_loss: 0.7930 - val_accuracy: 0.7567\n",
      "Epoch 5/10\n",
      "19/19 [==============================] - 9s 455ms/step - loss: 0.2961 - accuracy: 0.9150 - val_loss: 0.8190 - val_accuracy: 0.7567\n",
      "Epoch 6/10\n",
      "19/19 [==============================] - 9s 453ms/step - loss: 0.2158 - accuracy: 0.9400 - val_loss: 0.7910 - val_accuracy: 0.7533\n",
      "Epoch 7/10\n",
      "19/19 [==============================] - 9s 460ms/step - loss: 0.1878 - accuracy: 0.9533 - val_loss: 0.7333 - val_accuracy: 0.7700\n",
      "Epoch 8/10\n",
      "19/19 [==============================] - 9s 452ms/step - loss: 0.1409 - accuracy: 0.9733 - val_loss: 0.7849 - val_accuracy: 0.7700\n",
      "Epoch 9/10\n",
      "19/19 [==============================] - 9s 454ms/step - loss: 0.1337 - accuracy: 0.9700 - val_loss: 0.8050 - val_accuracy: 0.7667\n",
      "Epoch 10/10\n",
      "19/19 [==============================] - 9s 464ms/step - loss: 0.1218 - accuracy: 0.9683 - val_loss: 0.8076 - val_accuracy: 0.7567\n"
     ]
    }
   ],
   "source": [
    "# fit the model\n",
    "# Run the cell. It will take some time to execute\n",
    "r = model.fit(\n",
    "  training_set,\n",
    "  validation_data=test_set,\n",
    "  epochs=10,\n",
    "  steps_per_epoch=len(training_set),\n",
    "  validation_steps=len(test_set)\n",
    ")"
   ]
  },
  {
   "cell_type": "code",
   "execution_count": 27,
   "metadata": {
    "executionInfo": {
     "elapsed": 619,
     "status": "ok",
     "timestamp": 1675598871974,
     "user": {
      "displayName": "colab0 ineuron",
      "userId": "16851312232179065356"
     },
     "user_tz": -360
    },
    "id": "o1Ko1dSsoQpI"
   },
   "outputs": [],
   "source": [
    "import matplotlib.pyplot as plt"
   ]
  },
  {
   "cell_type": "code",
   "execution_count": 28,
   "metadata": {
    "colab": {
     "base_uri": "https://localhost:8080/",
     "height": 282
    },
    "executionInfo": {
     "elapsed": 725,
     "status": "ok",
     "timestamp": 1675598875730,
     "user": {
      "displayName": "colab0 ineuron",
      "userId": "16851312232179065356"
     },
     "user_tz": -360
    },
    "id": "7vQo-eqrxD8N",
    "outputId": "1e42c306-55e8-45f1-d350-c248c5d62aaa"
   },
   "outputs": [
    {
     "data": {
      "image/png": "[encoded data removed]",
      "text/plain": [
       "<Figure size 432x288 with 1 Axes>"
      ]
     },
     "metadata": {
      "needs_background": "light"
     },
     "output_type": "display_data"
    },
    {
     "data": {
      "text/plain": [
       "<Figure size 432x288 with 0 Axes>"
      ]
     },
     "metadata": {},
     "output_type": "display_data"
    }
   ],
   "source": [
    "# plot the loss\n",
    "plt.plot(r.history['loss'], label='train loss')\n",
    "plt.plot(r.history['val_loss'], label='val loss')\n",
    "plt.legend()\n",
    "plt.show()\n",
    "plt.savefig('LossVal_loss')"
   ]
  },
  {
   "cell_type": "code",
   "execution_count": 29,
   "metadata": {
    "colab": {
     "base_uri": "https://localhost:8080/",
     "height": 285
    },
    "executionInfo": {
     "elapsed": 11,
     "status": "ok",
     "timestamp": 1675598909769,
     "user": {
      "displayName": "colab0 ineuron",
      "userId": "16851312232179065356"
     },
     "user_tz": -360
    },
    "id": "4qCxYaAPoQpI",
    "outputId": "1a9a36a3-b500-4716-d081-8a999e371d8e"
   },
   "outputs": [
    {
     "data": {
      "image/png": "[encoded data removed]",
      "text/plain": [
       "<Figure size 432x288 with 1 Axes>"
      ]
     },
     "metadata": {
      "needs_background": "light"
     },
     "output_type": "display_data"
    },
    {
     "data": {
      "text/plain": [
       "<Figure size 432x288 with 0 Axes>"
      ]
     },
     "metadata": {},
     "output_type": "display_data"
    }
   ],
   "source": [
    "# plot the accuracy\n",
    "plt.plot(r.history['accuracy'], label='train acc')\n",
    "plt.plot(r.history['val_accuracy'], label='val acc')\n",
    "plt.legend()\n",
    "plt.show()\n",
    "plt.savefig('AccVal_acc')"
   ]
  },
  {
   "cell_type": "code",
   "execution_count": 30,
   "metadata": {
    "executionInfo": {
     "elapsed": 4,
     "status": "ok",
     "timestamp": 1675598987613,
     "user": {
      "displayName": "colab0 ineuron",
      "userId": "16851312232179065356"
     },
     "user_tz": -360
    },
    "id": "COqsN_kDoQpI"
   },
   "outputs": [],
   "source": [
    "# save it as a h5 file\n",
    "from tensorflow.keras.models import load_model\n",
    "\n",
    "model.save('model_vgg16.h5')"
   ]
  },
  {
   "cell_type": "code",
   "execution_count": 31,
   "metadata": {
    "colab": {
     "base_uri": "https://localhost:8080/"
    },
    "executionInfo": {
     "elapsed": 1649,
     "status": "ok",
     "timestamp": 1675599001984,
     "user": {
      "displayName": "colab0 ineuron",
      "userId": "16851312232179065356"
     },
     "user_tz": -360
    },
    "id": "x4D5sLfpoQpI",
    "outputId": "b77c93d2-b374-43d0-c4dc-099166a668ba"
   },
   "outputs": [
    {
     "name": "stdout",
     "output_type": "stream",
     "text": [
      "10/10 [==============================] - 2s 150ms/step\n"
     ]
    }
   ],
   "source": [
    "y_pred = model.predict(test_set)"
   ]
  },
  {
   "cell_type": "code",
   "execution_count": 32,
   "metadata": {
    "colab": {
     "base_uri": "https://localhost:8080/"
    },
    "executionInfo": {
     "elapsed": 648,
     "status": "ok",
     "timestamp": 1675599005155,
     "user": {
      "displayName": "colab0 ineuron",
      "userId": "16851312232179065356"
     },
     "user_tz": -360
    },
    "id": "wtlfFRrRoQpI",
    "outputId": "2144cd8a-4461-41d3-bd7c-29ad4b7c5c34"
   },
   "outputs": [
    {
     "data": {
      "text/plain": [
       "array([[9.9060094e-01, 2.6569128e-04, 9.0508098e-03, 4.2226307e-05,\n",
       "        4.0323877e-05],\n",
       "       [9.9774975e-01, 1.7386813e-03, 4.5325427e-04, 2.4479374e-05,\n",
       "        3.3786815e-05],\n",
       "       [6.9162474e-05, 9.9987209e-01, 5.4215994e-05, 4.4938724e-06,\n",
       "        4.2904653e-09],\n",
       "       ...,\n",
       "       [1.6517782e-01, 1.3945237e-01, 2.0621069e-01, 3.4724548e-01,\n",
       "        1.4191364e-01],\n",
       "       [3.1644445e-02, 2.0270415e-02, 9.2508131e-01, 9.4741639e-03,\n",
       "        1.3529677e-02],\n",
       "       [7.0481205e-01, 1.0233573e-02, 3.1783655e-02, 2.5499301e-02,\n",
       "        2.2767141e-01]], dtype=float32)"
      ]
     },
     "execution_count": 32,
     "metadata": {},
     "output_type": "execute_result"
    }
   ],
   "source": [
    "y_pred"
   ]
  },
  {
   "cell_type": "code",
   "execution_count": 33,
   "metadata": {
    "executionInfo": {
     "elapsed": 2,
     "status": "ok",
     "timestamp": 1675599012673,
     "user": {
      "displayName": "colab0 ineuron",
      "userId": "16851312232179065356"
     },
     "user_tz": -360
    },
    "id": "C-ICKy-5oQpJ"
   },
   "outputs": [],
   "source": [
    "import numpy as np\n",
    "y_pred = np.argmax(y_pred, axis=1)"
   ]
  },
  {
   "cell_type": "code",
   "execution_count": 34,
   "metadata": {
    "colab": {
     "base_uri": "https://localhost:8080/"
    },
    "executionInfo": {
     "elapsed": 6,
     "status": "ok",
     "timestamp": 1675599015971,
     "user": {
      "displayName": "colab0 ineuron",
      "userId": "16851312232179065356"
     },
     "user_tz": -360
    },
    "id": "-GDhHDksoQpJ",
    "outputId": "75019f12-e8b1-4ed1-cc27-1588b34028e8"
   },
   "outputs": [
    {
     "data": {
      "text/plain": [
       "array([0, 0, 1, 2, 1, 1, 4, 3, 2, 0, 4, 3, 2, 3, 4, 1, 4, 2, 1, 4, 4, 2,\n",
       "       3, 2, 1, 2, 3, 4, 3, 1, 4, 0, 2, 2, 0, 2, 4, 0, 3, 2, 4, 1, 3, 1,\n",
       "       2, 1, 1, 0, 1, 2, 3, 2, 0, 2, 0, 1, 3, 3, 0, 3, 4, 3, 3, 1, 1, 2,\n",
       "       4, 2, 0, 2, 3, 2, 3, 4, 4, 1, 2, 2, 4, 4, 0, 1, 2, 2, 4, 3, 0, 1,\n",
       "       3, 2, 0, 0, 2, 4, 0, 0, 2, 0, 4, 0, 4, 2, 2, 1, 2, 1, 2, 2, 2, 0,\n",
       "       0, 2, 1, 1, 2, 1, 0, 1, 0, 3, 3, 1, 2, 2, 3, 3, 2, 4, 1, 0, 1, 1,\n",
       "       1, 1, 4, 1, 0, 3, 3, 2, 2, 1, 3, 1, 2, 1, 3, 2, 3, 2, 0, 4, 3, 3,\n",
       "       1, 3, 2, 2, 0, 3, 2, 1, 0, 2, 2, 1, 4, 3, 1, 0, 3, 4, 1, 0, 2, 2,\n",
       "       4, 2, 3, 0, 2, 2, 3, 2, 0, 2, 2, 2, 3, 4, 2, 0, 1, 2, 2, 0, 4, 1,\n",
       "       0, 3, 0, 2, 0, 2, 3, 1, 2, 2, 1, 2, 0, 3, 2, 2, 2, 2, 2, 0, 2, 4,\n",
       "       1, 1, 1, 2, 0, 0, 0, 2, 2, 3, 2, 2, 0, 2, 1, 3, 1, 1, 2, 4, 4, 1,\n",
       "       4, 1, 4, 0, 1, 3, 2, 4, 0, 2, 2, 0, 1, 1, 1, 4, 4, 1, 0, 4, 2, 1,\n",
       "       1, 0, 2, 2, 3, 1, 2, 0, 2, 2, 3, 1, 4, 2, 2, 2, 4, 0, 3, 0, 1, 2,\n",
       "       4, 0, 2, 1, 4, 4, 4, 1, 0, 1, 1, 3, 2, 0])"
      ]
     },
     "execution_count": 34,
     "metadata": {},
     "output_type": "execute_result"
    }
   ],
   "source": [
    "y_pred"
   ]
  },
  {
   "cell_type": "code",
   "execution_count": 35,
   "metadata": {
    "executionInfo": {
     "elapsed": 2,
     "status": "ok",
     "timestamp": 1675599065996,
     "user": {
      "displayName": "colab0 ineuron",
      "userId": "16851312232179065356"
     },
     "user_tz": -360
    },
    "id": "kqj7Au6FoQpJ"
   },
   "outputs": [],
   "source": [
    "from tensorflow.keras.models import load_model\n",
    "from tensorflow.keras.preprocessing import image"
   ]
  },
  {
   "cell_type": "code",
   "execution_count": 36,
   "metadata": {
    "executionInfo": {
     "elapsed": 5182,
     "status": "ok",
     "timestamp": 1675599082962,
     "user": {
      "displayName": "colab0 ineuron",
      "userId": "16851312232179065356"
     },
     "user_tz": -360
    },
    "id": "XL0M50cToQpJ"
   },
   "outputs": [],
   "source": [
    "model=load_model('model_vgg16.h5')"
   ]
  },
  {
   "cell_type": "code",
   "execution_count": 37,
   "metadata": {
    "executionInfo": {
     "elapsed": 1051,
     "status": "ok",
     "timestamp": 1675599140472,
     "user": {
      "displayName": "colab0 ineuron",
      "userId": "16851312232179065356"
     },
     "user_tz": -360
    },
    "id": "1LximTFLoQpJ"
   },
   "outputs": [],
   "source": [
    "img=image.load_img('tulip.jpg',target_size=(224,224))"
   ]
  },
  {
   "cell_type": "code",
   "execution_count": 38,
   "metadata": {
    "colab": {
     "base_uri": "https://localhost:8080/"
    },
    "executionInfo": {
     "elapsed": 6,
     "status": "ok",
     "timestamp": 1675599145029,
     "user": {
      "displayName": "colab0 ineuron",
      "userId": "16851312232179065356"
     },
     "user_tz": -360
    },
    "id": "MCqIwjCioQpJ",
    "outputId": "8c92684b-ba40-4ebb-cf81-8eb849918980"
   },
   "outputs": [
    {
     "data": {
      "text/plain": [
       "array([[[215.,  87.,  12.],\n",
       "        [221., 108.,  14.],\n",
       "        [224., 116.,  15.],\n",
       "        ...,\n",
       "        [102.,  22.,  15.],\n",
       "        [103.,  22.,  18.],\n",
       "        [114.,  20.,  20.]],\n",
       "\n",
       "       [[219.,  83.,  21.],\n",
       "        [219.,  98.,  17.],\n",
       "        [223., 108.,  19.],\n",
       "        ...,\n",
       "        [102.,  18.,  16.],\n",
       "        [100.,  19.,  16.],\n",
       "        [107.,  17.,  19.]],\n",
       "\n",
       "       [[219.,  73.,  26.],\n",
       "        [224.,  93.,  25.],\n",
       "        [222.,  96.,  20.],\n",
       "        ...,\n",
       "        [101.,  15.,  18.],\n",
       "        [ 98.,  16.,  18.],\n",
       "        [ 99.,  14.,  17.]],\n",
       "\n",
       "       ...,\n",
       "\n",
       "       [[156.,  16.,  19.],\n",
       "        [153.,  17.,  17.],\n",
       "        [153.,  15.,  15.],\n",
       "        ...,\n",
       "        [ 91.,  17.,  14.],\n",
       "        [ 89.,  18.,  14.],\n",
       "        [ 90.,  19.,  15.]],\n",
       "\n",
       "       [[158.,  15.,  19.],\n",
       "        [155.,  17.,  17.],\n",
       "        [153.,  15.,  15.],\n",
       "        ...,\n",
       "        [ 86.,  17.,  12.],\n",
       "        [ 86.,  17.,  10.],\n",
       "        [ 90.,  21.,  14.]],\n",
       "\n",
       "       [[159.,  14.,  19.],\n",
       "        [156.,  18.,  18.],\n",
       "        [154.,  14.,  15.],\n",
       "        ...,\n",
       "        [ 84.,  17.,  11.],\n",
       "        [ 85.,  16.,   9.],\n",
       "        [ 92.,  22.,  14.]]], dtype=float32)"
      ]
     },
     "execution_count": 38,
     "metadata": {},
     "output_type": "execute_result"
    }
   ],
   "source": [
    "x=image.img_to_array(img)\n",
    "x"
   ]
  },
  {
   "cell_type": "code",
   "execution_count": 39,
   "metadata": {
    "colab": {
     "base_uri": "https://localhost:8080/",
     "height": 286
    },
    "executionInfo": {
     "elapsed": 1435,
     "status": "ok",
     "timestamp": 1675599154440,
     "user": {
      "displayName": "colab0 ineuron",
      "userId": "16851312232179065356"
     },
     "user_tz": -360
    },
    "id": "ndGBT7Ns1xED",
    "outputId": "bc9e2ab8-a1a8-4533-b46d-0276c489cebd"
   },
   "outputs": [
    {
     "data": {
      "text/plain": [
       "<matplotlib.image.AxesImage at 0x7f147e0226d0>"
      ]
     },
     "execution_count": 39,
     "metadata": {},
     "output_type": "execute_result"
    },
    {
     "data": {
      "image/png": "[encoded data removed]",
      "text/plain": [
       "<Figure size 432x288 with 1 Axes>"
      ]
     },
     "metadata": {
      "needs_background": "light"
     },
     "output_type": "display_data"
    }
   ],
   "source": [
    "Z = plt.imread('tulip.jpg')\n",
    "plt.imshow(Z)"
   ]
  },
  {
   "cell_type": "code",
   "execution_count": 40,
   "metadata": {
    "colab": {
     "base_uri": "https://localhost:8080/"
    },
    "executionInfo": {
     "elapsed": 7,
     "status": "ok",
     "timestamp": 1675599159605,
     "user": {
      "displayName": "colab0 ineuron",
      "userId": "16851312232179065356"
     },
     "user_tz": -360
    },
    "id": "XcmlehPvoQpJ",
    "outputId": "7367759f-1bda-417e-98b6-9afac6c08078"
   },
   "outputs": [
    {
     "data": {
      "text/plain": [
       "(224, 224, 3)"
      ]
     },
     "execution_count": 40,
     "metadata": {},
     "output_type": "execute_result"
    }
   ],
   "source": [
    "x.shape"
   ]
  },
  {
   "cell_type": "code",
   "execution_count": 41,
   "metadata": {
    "executionInfo": {
     "elapsed": 804,
     "status": "ok",
     "timestamp": 1675599166910,
     "user": {
      "displayName": "colab0 ineuron",
      "userId": "16851312232179065356"
     },
     "user_tz": -360
    },
    "id": "-JxBg8BuoQpK"
   },
   "outputs": [],
   "source": [
    "x=x/255"
   ]
  },
  {
   "cell_type": "code",
   "execution_count": 42,
   "metadata": {
    "executionInfo": {
     "elapsed": 1,
     "status": "ok",
     "timestamp": 1675599171977,
     "user": {
      "displayName": "colab0 ineuron",
      "userId": "16851312232179065356"
     },
     "user_tz": -360
    },
    "id": "j76htW2Myj1v"
   },
   "outputs": [],
   "source": [
    "from keras.applications.vgg16 import preprocess_input"
   ]
  },
  {
   "cell_type": "code",
   "execution_count": 43,
   "metadata": {
    "colab": {
     "base_uri": "https://localhost:8080/"
    },
    "executionInfo": {
     "elapsed": 620,
     "status": "ok",
     "timestamp": 1675599198381,
     "user": {
      "displayName": "colab0 ineuron",
      "userId": "16851312232179065356"
     },
     "user_tz": -360
    },
    "id": "4TPPbmbpoQpK",
    "outputId": "c01a4786-828a-4392-9ca1-ca3407cc25e2"
   },
   "outputs": [
    {
     "data": {
      "text/plain": [
       "(1, 224, 224, 3)"
      ]
     },
     "execution_count": 43,
     "metadata": {},
     "output_type": "execute_result"
    }
   ],
   "source": [
    "import numpy as np\n",
    "x=np.expand_dims(x,axis=0)\n",
    "img_data=preprocess_input(x)\n",
    "img_data.shape"
   ]
  },
  {
   "cell_type": "code",
   "execution_count": 44,
   "metadata": {
    "colab": {
     "base_uri": "https://localhost:8080/"
    },
    "executionInfo": {
     "elapsed": 1534,
     "status": "ok",
     "timestamp": 1675599203412,
     "user": {
      "displayName": "colab0 ineuron",
      "userId": "16851312232179065356"
     },
     "user_tz": -360
    },
    "id": "YycqMzQMoQpK",
    "outputId": "60bb7fc9-4fb1-497b-ebb9-1568e81cbc7b"
   },
   "outputs": [
    {
     "name": "stdout",
     "output_type": "stream",
     "text": [
      "1/1 [==============================] - 1s 759ms/step\n"
     ]
    },
    {
     "data": {
      "text/plain": [
       "array([[2.6325766e-02, 9.7351527e-01, 1.5420128e-04, 4.7533540e-06,\n",
       "        2.2755837e-09]], dtype=float32)"
      ]
     },
     "execution_count": 44,
     "metadata": {},
     "output_type": "execute_result"
    }
   ],
   "source": [
    "model.predict(img_data)"
   ]
  },
  {
   "cell_type": "code",
   "execution_count": 45,
   "metadata": {
    "colab": {
     "base_uri": "https://localhost:8080/"
    },
    "executionInfo": {
     "elapsed": 608,
     "status": "ok",
     "timestamp": 1675599210941,
     "user": {
      "displayName": "colab0 ineuron",
      "userId": "16851312232179065356"
     },
     "user_tz": -360
    },
    "id": "JCnpd8rCoQpK",
    "outputId": "3d8249ad-6ae8-4813-dafe-41e2193600c4"
   },
   "outputs": [
    {
     "name": "stdout",
     "output_type": "stream",
     "text": [
      "1/1 [==============================] - 0s 16ms/step\n"
     ]
    }
   ],
   "source": [
    "a=np.argmax(model.predict(img_data), axis=1)"
   ]
  },
  {
   "cell_type": "code",
   "execution_count": 46,
   "metadata": {
    "colab": {
     "base_uri": "https://localhost:8080/"
    },
    "executionInfo": {
     "elapsed": 632,
     "status": "ok",
     "timestamp": 1675599214498,
     "user": {
      "displayName": "colab0 ineuron",
      "userId": "16851312232179065356"
     },
     "user_tz": -360
    },
    "id": "N0olnSIooQpK",
    "outputId": "77df5cea-43cb-48e5-8c4f-602021c0ec34"
   },
   "outputs": [
    {
     "data": {
      "text/plain": [
       "array([1])"
      ]
     },
     "execution_count": 46,
     "metadata": {},
     "output_type": "execute_result"
    }
   ],
   "source": [
    "a"
   ]
  },
  {
   "cell_type": "code",
   "execution_count": 47,
   "metadata": {
    "executionInfo": {
     "elapsed": 2,
     "status": "ok",
     "timestamp": 1675599228144,
     "user": {
      "displayName": "colab0 ineuron",
      "userId": "16851312232179065356"
     },
     "user_tz": -360
    },
    "id": "w2J4Puf3oQpK"
   },
   "outputs": [],
   "source": [
    "flower_name = ['dandelion',\n",
    " 'sunflower',\n",
    " 'tulip',\n",
    " 'daisy',\n",
    " 'rose']"
   ]
  },
  {
   "cell_type": "code",
   "execution_count": 48,
   "metadata": {
    "colab": {
     "base_uri": "https://localhost:8080/",
     "height": 35
    },
    "executionInfo": {
     "elapsed": 10,
     "status": "ok",
     "timestamp": 1675599232452,
     "user": {
      "displayName": "colab0 ineuron",
      "userId": "16851312232179065356"
     },
     "user_tz": -360
    },
    "id": "rkKtWzE50stt",
    "outputId": "0e7790a4-ae43-4f4f-bf56-4cc4ea3f3ca5"
   },
   "outputs": [
    {
     "data": {
      "application/vnd.google.colaboratory.intrinsic+json": {
       "type": "string"
      },
      "text/plain": [
       "'sunflower'"
      ]
     },
     "execution_count": 48,
     "metadata": {},
     "output_type": "execute_result"
    }
   ],
   "source": [
    "flower_name[a[0]]"
   ]
  }
 ],
 "metadata": {
  "accelerator": "GPU",
  "colab": {
   "machine_shape": "hm",
   "provenance": []
  },
  "gpuClass": "standard",
  "kernelspec": {
   "display_name": "Python 3 (ipykernel)",
   "language": "python",
   "name": "python3"
  },
  "language_info": {
   "codemirror_mode": {
    "name": "ipython",
    "version": 3
   },
   "file_extension": ".py",
   "mimetype": "text/x-python",
   "name": "python",
   "nbconvert_exporter": "python",
   "pygments_lexer": "ipython3",
   "version": "3.9.12"
  },
  "latex_envs": {
   "LaTeX_envs_menu_present": true,
   "autoclose": false,
   "autocomplete": true,
   "bibliofile": "biblio.bib",
   "cite_by": "apalike",
   "current_citInitial": 1,
   "eqLabelWithNumbers": true,
   "eqNumInitial": 1,
   "hotkeys": {
    "equation": "Ctrl-E",
    "itemize": "Ctrl-I"
   },
   "labels_anchors": false,
   "latex_user_defs": false,
   "report_style_numbering": false,
   "user_envs_cfg": false
  },
  "nbTranslate": {
   "displayLangs": [
    "*"
   ],
   "hotkey": "alt-t",
   "langInMainMenu": true,
   "sourceLang": "en",
   "targetLang": "fr",
   "useGoogleTranslate": true
  },
  "toc": {
   "base_numbering": 1,
   "nav_menu": {},
   "number_sections": true,
   "sideBar": true,
   "skip_h1_title": false,
   "title_cell": "Table of Contents",
   "title_sidebar": "Contents",
   "toc_cell": false,
   "toc_position": {},
   "toc_section_display": true,
   "toc_window_display": false
  },
  "varInspector": {
   "cols": {
    "lenName": 16,
    "lenType": 16,
    "lenVar": 40
   },
   "kernels_config": {
    "python": {
     "delete_cmd_postfix": "",
     "delete_cmd_prefix": "del ",
     "library": "var_list.py",
     "varRefreshCmd": "print(var_dic_list())"
    },
    "r": {
     "delete_cmd_postfix": ") ",
     "delete_cmd_prefix": "rm(",
     "library": "var_list.r",
     "varRefreshCmd": "cat(var_dic_list()) "
    }
   },
   "types_to_exclude": [
    "module",
    "function",
    "builtin_function_or_method",
    "instance",
    "_Feature"
   ],
   "window_display": false
  }
 },
 "nbformat": 4,
 "nbformat_minor": 1
}
