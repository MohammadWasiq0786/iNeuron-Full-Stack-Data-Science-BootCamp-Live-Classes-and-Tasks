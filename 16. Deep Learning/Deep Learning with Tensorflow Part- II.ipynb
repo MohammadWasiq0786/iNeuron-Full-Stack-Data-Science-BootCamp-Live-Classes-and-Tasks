{
 "cells": [
  {
   "cell_type": "markdown",
   "metadata": {
    "id": "HABFw3fQmd0U"
   },
   "source": [
    "# **Deep Learning Part- II with Mohammad Wasiq**\n"
   ]
  },
  {
   "cell_type": "code",
   "execution_count": 1,
   "metadata": {
    "id": "C7CzoG9XtdHE"
   },
   "outputs": [],
   "source": [
    "# import the libraries\n",
    "import tensorflow as tf\n",
    "from tensorflow.keras.datasets import fashion_mnist"
   ]
  },
  {
   "cell_type": "code",
   "execution_count": 2,
   "metadata": {
    "colab": {
     "base_uri": "https://localhost:8080/"
    },
    "id": "flEZZp9XtzMR",
    "outputId": "55252ede-7ada-481e-88bf-7062cbdf7d0d"
   },
   "outputs": [
    {
     "name": "stdout",
     "output_type": "stream",
     "text": [
      "Downloading data from https://storage.googleapis.com/tensorflow/tf-keras-datasets/train-labels-idx1-ubyte.gz\n",
      "29515/29515 [==============================] - 0s 0us/step\n",
      "Downloading data from https://storage.googleapis.com/tensorflow/tf-keras-datasets/train-images-idx3-ubyte.gz\n",
      "26421880/26421880 [==============================] - 1s 0us/step\n",
      "Downloading data from https://storage.googleapis.com/tensorflow/tf-keras-datasets/t10k-labels-idx1-ubyte.gz\n",
      "5148/5148 [==============================] - 0s 0us/step\n",
      "Downloading data from https://storage.googleapis.com/tensorflow/tf-keras-datasets/t10k-images-idx3-ubyte.gz\n",
      "4422102/4422102 [==============================] - 0s 0us/step\n"
     ]
    }
   ],
   "source": [
    "(X_train, y_train), (X_test, y_test)= fashion_mnist.load_data()"
   ]
  },
  {
   "cell_type": "code",
   "execution_count": 3,
   "metadata": {
    "colab": {
     "base_uri": "https://localhost:8080/"
    },
    "id": "NrOKNQTGtzzU",
    "outputId": "b691a5cb-d396-4206-d84a-2fbfd76a2747"
   },
   "outputs": [
    {
     "data": {
      "text/plain": [
       "(60000, 28, 28)"
      ]
     },
     "execution_count": 3,
     "metadata": {},
     "output_type": "execute_result"
    }
   ],
   "source": [
    "X_train.shape"
   ]
  },
  {
   "cell_type": "code",
   "execution_count": 4,
   "metadata": {
    "id": "otyCXRMvtz2e"
   },
   "outputs": [],
   "source": [
    "# Normalizing the data\n",
    "X_train= X_train/255.0\n",
    "X_test= X_test/255.0"
   ]
  },
  {
   "cell_type": "code",
   "execution_count": 5,
   "metadata": {
    "id": "oiybTRDCtz5U"
   },
   "outputs": [],
   "source": [
    "# Reshaping the data\n",
    "X_train= X_train.reshape(-1, 28*28)\n",
    "X_test= X_test.reshape(-1, 28*28)"
   ]
  },
  {
   "cell_type": "markdown",
   "metadata": {
    "id": "q5F917qKuzX_"
   },
   "source": [
    "# $$ANN$$"
   ]
  },
  {
   "cell_type": "code",
   "execution_count": 8,
   "metadata": {
    "id": "8ihUdJreuw_9"
   },
   "outputs": [],
   "source": [
    "# Object instance of zsequential class\n",
    "model= tf.keras.models.Sequential()\n",
    "\n",
    "# Add layers to the model\n",
    "# units --> number of neurons in the layer\n",
    "# input shape --> number of features as input to each neuron\n",
    "model.add(tf.keras.layers.Dense(units= 128, activation= 'relu', input_shape= (784,)))\n",
    "\n",
    "# Add another layer to the model\n",
    "model.add(tf.keras.layers.Dense(units= 10, activation= 'softmax'))\n",
    "\n",
    "# Compile the model\n",
    "model.compile(optimizer= 'adam',\n",
    "              loss= 'sparse_categorical_crossentropy',\n",
    "              metrics= ['sparse_categorical_accuracy'])"
   ]
  },
  {
   "cell_type": "code",
   "execution_count": 10,
   "metadata": {
    "colab": {
     "base_uri": "https://localhost:8080/"
    },
    "id": "ZEGRyqaCtz71",
    "outputId": "5c7bc727-19b7-4c0c-c158-30586b99deb8"
   },
   "outputs": [
    {
     "name": "stdout",
     "output_type": "stream",
     "text": [
      "Epoch 1/5\n",
      "1875/1875 [==============================] - 5s 2ms/step - loss: 0.4964 - sparse_categorical_accuracy: 0.8250\n",
      "Epoch 2/5\n",
      "1875/1875 [==============================] - 5s 2ms/step - loss: 0.3724 - sparse_categorical_accuracy: 0.8655\n",
      "Epoch 3/5\n",
      "1875/1875 [==============================] - 5s 2ms/step - loss: 0.3319 - sparse_categorical_accuracy: 0.8780\n",
      "Epoch 4/5\n",
      "1875/1875 [==============================] - 5s 2ms/step - loss: 0.3097 - sparse_categorical_accuracy: 0.8866\n",
      "Epoch 5/5\n",
      "1875/1875 [==============================] - 5s 2ms/step - loss: 0.2937 - sparse_categorical_accuracy: 0.8910\n"
     ]
    },
    {
     "data": {
      "text/plain": [
       "<keras.callbacks.History at 0x7fdceaa9e0a0>"
      ]
     },
     "execution_count": 10,
     "metadata": {},
     "output_type": "execute_result"
    }
   ],
   "source": [
    "# train the model\n",
    "model.fit(X_train, y_train, epochs= 5)"
   ]
  },
  {
   "cell_type": "code",
   "execution_count": 12,
   "metadata": {
    "colab": {
     "base_uri": "https://localhost:8080/"
    },
    "id": "nSIqV_EEtz_O",
    "outputId": "3776e940-7984-4e58-d4d6-6cf9cf3ba719"
   },
   "outputs": [
    {
     "name": "stdout",
     "output_type": "stream",
     "text": [
      "313/313 [==============================] - 1s 2ms/step - loss: 0.3527 - sparse_categorical_accuracy: 0.8715\n"
     ]
    }
   ],
   "source": [
    "# test the model\n",
    "test_loss, test_accuracy= model.evaluate(X_test, y_test)"
   ]
  },
  {
   "cell_type": "markdown",
   "metadata": {
    "id": "xtDPU90ZmptJ"
   },
   "source": [
    "# $$CNN$$"
   ]
  },
  {
   "cell_type": "code",
   "execution_count": 13,
   "metadata": {
    "id": "gZjtB_8P2MFc"
   },
   "outputs": [],
   "source": [
    "# import the require libraries\n",
    "import numpy as np\n",
    "import matplotlib.pyplot as plt\n",
    "import keras\n",
    "from keras.datasets import fashion_mnist\n",
    "from keras.layers import Dense, Activation, Flatten, Conv2D, MaxPooling2D\n",
    "from keras.models import Sequential\n",
    "from keras.utils import to_categorical"
   ]
  },
  {
   "cell_type": "code",
   "execution_count": 21,
   "metadata": {
    "id": "8MX8qr3J2MIF"
   },
   "outputs": [],
   "source": [
    "(train_X, train_Y), (test_X, test_Y)= fashion_mnist.load_data()"
   ]
  },
  {
   "cell_type": "code",
   "execution_count": 15,
   "metadata": {
    "colab": {
     "base_uri": "https://localhost:8080/"
    },
    "id": "XLmrNzrw2MKJ",
    "outputId": "175d544e-5681-4ec9-d970-97aa77908f49"
   },
   "outputs": [
    {
     "data": {
      "text/plain": [
       "(60000, 28, 28)"
      ]
     },
     "execution_count": 15,
     "metadata": {},
     "output_type": "execute_result"
    }
   ],
   "source": [
    "train_X.shape"
   ]
  },
  {
   "cell_type": "code",
   "execution_count": 16,
   "metadata": {
    "colab": {
     "base_uri": "https://localhost:8080/",
     "height": 282
    },
    "id": "VRMI9Tqj2MNz",
    "outputId": "dd1010ca-efae-4c9c-edf2-02afe55756a3"
   },
   "outputs": [
    {
     "data": {
      "text/plain": [
       "<matplotlib.image.AxesImage at 0x7fdce7336d00>"
      ]
     },
     "execution_count": 16,
     "metadata": {},
     "output_type": "execute_result"
    },
    {
     "data": {
      "image/png": "[encoded data removed]",
      "text/plain": [
       "<Figure size 432x288 with 1 Axes>"
      ]
     },
     "metadata": {
      "needs_background": "light"
     },
     "output_type": "display_data"
    }
   ],
   "source": [
    "# Data visualization\n",
    "plt.imshow(train_X[1])"
   ]
  },
  {
   "cell_type": "code",
   "execution_count": 17,
   "metadata": {
    "id": "lLaJ1T4F2MQY"
   },
   "outputs": [],
   "source": [
    "# Normalizing the data\n",
    "train_X= train_X.astype('float32')/255\n",
    "test_X= test_X.astype('float32')/255"
   ]
  },
  {
   "cell_type": "code",
   "execution_count": 18,
   "metadata": {
    "id": "0rSYP7lH3z_8"
   },
   "outputs": [],
   "source": [
    "# Reshaping the data\n",
    "train_X= train_X.reshape(-1, 28*28, 1)\n",
    "test_X= test_X.reshape(-1, 28*28, 1)"
   ]
  },
  {
   "cell_type": "code",
   "execution_count": 22,
   "metadata": {
    "id": "M7oD1_IE4Xud"
   },
   "outputs": [],
   "source": [
    "# changing our output to categorical\n",
    "train_Y_one_hot= to_categorical(train_Y)\n",
    "test_Y_one_hot= to_categorical(test_Y)"
   ]
  },
  {
   "cell_type": "code",
   "execution_count": 23,
   "metadata": {
    "colab": {
     "base_uri": "https://localhost:8080/"
    },
    "id": "B0qcb86g4X2u",
    "outputId": "fef0361b-750d-43e5-8de3-95d343b57eae"
   },
   "outputs": [
    {
     "name": "stdout",
     "output_type": "stream",
     "text": [
      "Model: \"sequential_3\"\n",
      "_________________________________________________________________\n",
      " Layer (type)                Output Shape              Param #   \n",
      "=================================================================\n",
      " conv2d (Conv2D)             (None, 26, 26, 64)        640       \n",
      "                                                                 \n",
      " activation (Activation)     (None, 26, 26, 64)        0         \n",
      "                                                                 \n",
      " max_pooling2d (MaxPooling2D  (None, 13, 13, 64)       0         \n",
      " )                                                               \n",
      "                                                                 \n",
      " conv2d_1 (Conv2D)           (None, 11, 11, 64)        36928     \n",
      "                                                                 \n",
      " activation_1 (Activation)   (None, 11, 11, 64)        0         \n",
      "                                                                 \n",
      " max_pooling2d_1 (MaxPooling  (None, 5, 5, 64)         0         \n",
      " 2D)                                                             \n",
      "                                                                 \n",
      " flatten (Flatten)           (None, 1600)              0         \n",
      "                                                                 \n",
      " dense_6 (Dense)             (None, 64)                102464    \n",
      "                                                                 \n",
      " dense_7 (Dense)             (None, 10)                650       \n",
      "                                                                 \n",
      " activation_2 (Activation)   (None, 10)                0         \n",
      "                                                                 \n",
      "=================================================================\n",
      "Total params: 140,682\n",
      "Trainable params: 140,682\n",
      "Non-trainable params: 0\n",
      "_________________________________________________________________\n"
     ]
    }
   ],
   "source": [
    "# Object instance of zsequential class\n",
    "model= Sequential()\n",
    "\n",
    "# Must define the input shape in the first layer of the neural network\n",
    "# Convolutions layers\n",
    "# Filters --> learned during training and provide brightness to pixel on the basis of there weights\n",
    "# Kernel size --> height and weight of 2D conv window or\n",
    "# A number specifying both the height and weight of the (square) convolution window.\n",
    "model.add(Conv2D(64, (3,3), input_shape= (28, 28, 1)))\n",
    "model.add(Activation('relu'))\n",
    "\n",
    "# MaxPooling layer\n",
    "model.add(MaxPooling2D(pool_size=(2, 2)))\n",
    "\n",
    "# Convolutions layer\n",
    "model.add(Conv2D(64, (3,3)))\n",
    "model.add(Activation('relu'))\n",
    "\n",
    "# MaxPooling layer\n",
    "model.add(MaxPooling2D(pool_size=(2, 2)))\n",
    "\n",
    "# Flatten to make our model 1D\n",
    "model.add(Flatten())\n",
    "\n",
    "# fully connected layer\n",
    "model.add(Dense(64))\n",
    "\n",
    "# Output layer\n",
    "model.add(Dense(10))\n",
    "model.add(Activation('softmax'))\n",
    "\n",
    "# Model summary\n",
    "model.summary()"
   ]
  },
  {
   "cell_type": "code",
   "execution_count": 24,
   "metadata": {
    "id": "05QeaEcY4X45"
   },
   "outputs": [],
   "source": [
    "# Compiling Model\n",
    "model.compile(loss= keras.losses.categorical_crossentropy, \n",
    "              optimizer= keras.optimizers.Adam(),\n",
    "              metrics= ['accuracy'])"
   ]
  },
  {
   "cell_type": "code",
   "execution_count": 25,
   "metadata": {
    "colab": {
     "base_uri": "https://localhost:8080/"
    },
    "id": "xPJV_EJP4X7r",
    "outputId": "630256e8-d34f-42fa-9d4c-6d6d2f938051"
   },
   "outputs": [
    {
     "name": "stdout",
     "output_type": "stream",
     "text": [
      "Epoch 1/3\n",
      "1875/1875 [==============================] - 124s 66ms/step - loss: 0.7472 - accuracy: 0.7978\n",
      "Epoch 2/3\n",
      "1875/1875 [==============================] - 108s 58ms/step - loss: 0.4232 - accuracy: 0.8481\n",
      "Epoch 3/3\n",
      "1875/1875 [==============================] - 118s 63ms/step - loss: 0.3656 - accuracy: 0.8695\n"
     ]
    },
    {
     "data": {
      "text/plain": [
       "<keras.callbacks.History at 0x7fdcea526580>"
      ]
     },
     "execution_count": 25,
     "metadata": {},
     "output_type": "execute_result"
    }
   ],
   "source": [
    "# Fitting Model\n",
    "model.fit(train_X, train_Y_one_hot, epochs= 3) "
   ]
  },
  {
   "cell_type": "code",
   "execution_count": 26,
   "metadata": {
    "colab": {
     "base_uri": "https://localhost:8080/"
    },
    "id": "piYRvnlI4X_D",
    "outputId": "2279b4e9-42a1-4538-df6f-dcd74a50e79c"
   },
   "outputs": [
    {
     "name": "stdout",
     "output_type": "stream",
     "text": [
      "313/313 [==============================] - 4s 13ms/step - loss: 0.3762 - accuracy: 0.8690\n",
      "Test Loss:  0.37617945671081543\n",
      "Test Accuracy:  0.8690000176429749\n"
     ]
    }
   ],
   "source": [
    "# testing our model\n",
    "test_loss, test_acc= model.evaluate(test_X, test_Y_one_hot)\n",
    "print(\"Test Loss: \", test_loss)\n",
    "print(\"Test Accuracy: \", test_acc)"
   ]
  },
  {
   "cell_type": "code",
   "execution_count": 27,
   "metadata": {
    "colab": {
     "base_uri": "https://localhost:8080/"
    },
    "id": "aQvjORPH2MTw",
    "outputId": "d85eae3a-3ca5-47a7-9153-83104cce5da8"
   },
   "outputs": [
    {
     "name": "stdout",
     "output_type": "stream",
     "text": [
      "313/313 [==============================] - 4s 13ms/step\n",
      "9\n"
     ]
    }
   ],
   "source": [
    "# Prediction\n",
    "predictions= model.predict(test_X)\n",
    "print(np.argmax(np.round(predictions[0])))"
   ]
  },
  {
   "cell_type": "code",
   "execution_count": 28,
   "metadata": {
    "colab": {
     "base_uri": "https://localhost:8080/",
     "height": 265
    },
    "id": "EqtXwznh9epQ",
    "outputId": "991d0911-605a-44ff-d6ad-6814a510dbda"
   },
   "outputs": [
    {
     "data": {
      "image/png": "[encoded data removed]",
      "text/plain": [
       "<Figure size 432x288 with 1 Axes>"
      ]
     },
     "metadata": {
      "needs_background": "light"
     },
     "output_type": "display_data"
    }
   ],
   "source": [
    "plt.imshow(test_X[0].reshape(28, 28), cmap= plt.cm.binary)\n",
    "plt.show()"
   ]
  },
  {
   "cell_type": "markdown",
   "metadata": {
    "id": "URlfVJD1mpu_"
   },
   "source": [
    "# $$RNN$$\n",
    "* Output from the previous step are fed as input to the current step\n",
    "* Use its internal memory to handle weights and biases from the previous steps or previous weights.\n",
    "\n",
    "***Problems with Gradient descent:***\n",
    "* Poor Performance\n",
    "* Low Accuracy\n",
    "* Long Training Period\n",
    "\n",
    "Exploding gradient: high importance to weights\n",
    "\n",
    "Vanishing gradient: small value of GD(LSTM)"
   ]
  },
  {
   "cell_type": "code",
   "execution_count": 61,
   "metadata": {
    "id": "Sobd7Rmp-zle"
   },
   "outputs": [],
   "source": [
    "import numpy as np\n",
    "import tensorflow as tf\n",
    "from tensorflow import keras"
   ]
  },
  {
   "cell_type": "code",
   "execution_count": 62,
   "metadata": {
    "id": "ayZ85eEr-znh"
   },
   "outputs": [],
   "source": [
    "paragraph1= np.random.random((20, 10, 50)).astype(np.float32)\n",
    "paragraph2= np.random.random((20, 10, 50)).astype(np.float32)\n",
    "paragraph3= np.random.random((20, 10, 50)).astype(np.float32)"
   ]
  },
  {
   "cell_type": "code",
   "execution_count": 63,
   "metadata": {
    "id": "SUn9DVUo-zpy"
   },
   "outputs": [],
   "source": [
    "lstm_layer= tf.keras.layers.LSTM(64, stateful= True)\n",
    "output= lstm_layer(paragraph1)\n",
    "output= lstm_layer(paragraph2)\n",
    "output= lstm_layer(paragraph3)"
   ]
  },
  {
   "cell_type": "code",
   "execution_count": 64,
   "metadata": {
    "id": "2DrJf0hA-zrg"
   },
   "outputs": [],
   "source": [
    "# reset_states() will reset the cached state to the original initial_state.\n",
    "# If no initial_state was provided, zero-states will be used by default\n",
    "\n",
    "lstm_layer.reset_states()"
   ]
  },
  {
   "cell_type": "markdown",
   "metadata": {
    "id": "HQtDMw6gBwOC"
   },
   "source": [
    "### **MNIST**"
   ]
  },
  {
   "cell_type": "code",
   "execution_count": 65,
   "metadata": {
    "id": "1F8BaJpt-ztg"
   },
   "outputs": [],
   "source": [
    "batch_size= 64\n",
    "# Each MNIST image batch is a tensor of shape (batch_size, 28, 28).\n",
    "# Each input sequence will be of size (28, 28) (height of treated like time)\n",
    "input_dim= 28\n",
    "\n",
    "units = 64\n",
    "output_size = 10 # labels are from 0 to 9\n",
    "\n",
    "# Build the RNN model\n",
    "def build_model(allow_cudnn_kernel=True):\n",
    "  # CuDNN is only available at the layer level, and not at the cell level.\n",
    "  # This means `LSTM(units)` will use the CuDNN kernel,\n",
    "  # while RNN(LSTMCell(units)) will run on non-CuDNN kernel. www \n",
    "  # cuDNN created by nvidia to accelerate deep learning by optimised GPU\n",
    "  if allow_cudnn_kernel:\n",
    "    # The LSTM layer with default options uses CuDNN.\n",
    "    lstm_layer = keras.layers.LSTM(units, input_shape=(None, input_dim))\n",
    "  else:\n",
    "    # Wrapping a LSTMCell in a RNN layer will not use CuDNN.\n",
    "    lstm_layer = keras.layers.RNN(\n",
    "        keras.layers.LSTMCell(units), input_shape=(None, input_dim)\n",
    "        )\n",
    "  model = keras.models.Sequential(\n",
    "      [\n",
    "          lstm_layer,\n",
    "       keras.layers.BatchNormalization(),\n",
    "       keras.layers. Dense (output_size),\n",
    "      ]\n",
    "  )\n",
    "  return model"
   ]
  },
  {
   "cell_type": "code",
   "execution_count": 67,
   "metadata": {
    "id": "h1IZt5y1-zvP"
   },
   "outputs": [],
   "source": [
    "mnist= keras.datasets.mnist\n",
    "\n",
    "(x_train, y_train), (x_test, y_test)= mnist.load_data()\n",
    "\n",
    "x_train= x_train/255.0\n",
    "x_test= x_test/255.0\n",
    "\n",
    "sample, sample_label= x_train[0], y_train[0]"
   ]
  },
  {
   "cell_type": "markdown",
   "metadata": {
    "id": "2LzHLNTMDzBX"
   },
   "source": [
    " # $$CUDNN$$"
   ]
  },
  {
   "cell_type": "code",
   "execution_count": 68,
   "metadata": {
    "colab": {
     "base_uri": "https://localhost:8080/"
    },
    "id": "DM0aQDOY-zxt",
    "outputId": "394ef605-ca05-435a-8253-c6386a210716"
   },
   "outputs": [
    {
     "name": "stdout",
     "output_type": "stream",
     "text": [
      "938/938 [==============================] - 22s 21ms/step - loss: 0.9854 - accuracy: 0.6816 - val_loss: 0.5716 - val_accuracy: 0.8129\n"
     ]
    },
    {
     "data": {
      "text/plain": [
       "<keras.callbacks.History at 0x7fdce3373490>"
      ]
     },
     "execution_count": 68,
     "metadata": {},
     "output_type": "execute_result"
    }
   ],
   "source": [
    "model= build_model(allow_cudnn_kernel=True)\n",
    "\n",
    "model.compile(\n",
    "    loss=keras.losses.SparseCategoricalCrossentropy(from_logits=True), \n",
    "    optimizer=\"sgd\",\n",
    "    metrics=[\"accuracy\"],\n",
    ")\n",
    "\n",
    "model.fit(\n",
    "    x_train, y_train, validation_data=(x_test, y_test), batch_size=batch_size, epochs=1\n",
    ")"
   ]
  },
  {
   "cell_type": "markdown",
   "metadata": {
    "id": "Fkufj-8EGNHP"
   },
   "source": [
    "# $$NON-CUDNN$$"
   ]
  },
  {
   "cell_type": "code",
   "execution_count": 69,
   "metadata": {
    "colab": {
     "base_uri": "https://localhost:8080/"
    },
    "id": "tVV0ZK8o-z1X",
    "outputId": "9e683dfe-38a2-425d-b735-f3667019a1b0"
   },
   "outputs": [
    {
     "name": "stdout",
     "output_type": "stream",
     "text": [
      "938/938 [==============================] - 22s 22ms/step - loss: 0.9699 - accuracy: 0.6898 - val_loss: 0.5842 - val_accuracy: 0.8168\n"
     ]
    },
    {
     "data": {
      "text/plain": [
       "<keras.callbacks.History at 0x7fdce4b00250>"
      ]
     },
     "execution_count": 69,
     "metadata": {},
     "output_type": "execute_result"
    }
   ],
   "source": [
    "noncudnn_model= build_model(allow_cudnn_kernel=False)\n",
    "\n",
    "noncudnn_model.compile(\n",
    "    loss=keras.losses.SparseCategoricalCrossentropy(from_logits=True), \n",
    "    optimizer=\"sgd\",\n",
    "    metrics=[\"accuracy\"],\n",
    ")\n",
    "\n",
    "noncudnn_model.fit(\n",
    "    x_train, y_train, validation_data=(x_test, y_test), batch_size=batch_size, epochs=1\n",
    ")"
   ]
  },
  {
   "cell_type": "code",
   "execution_count": 76,
   "metadata": {
    "colab": {
     "base_uri": "https://localhost:8080/",
     "height": 320
    },
    "id": "0lD4qxyO-z35",
    "outputId": "45bbd06f-81c7-4c14-9c77-30fec20fd321"
   },
   "outputs": [
    {
     "name": "stderr",
     "output_type": "stream",
     "text": [
      "WARNING:tensorflow:6 out of the last 318 calls to <function Model.make_predict_function.<locals>.predict_function at 0x7fdce438e3a0> triggered tf.function retracing. Tracing is expensive and the excessive number of tracings could be due to (1) creating @tf.function repeatedly in a loop, (2) passing tensors with different shapes, (3) passing Python objects instead of tensors. For (1), please define your @tf.function outside of the loop. For (2), @tf.function has reduce_retracing=True option that can avoid unnecessary retracing. For (3), please refer to https://www.tensorflow.org/guide/function#controlling_retracing and https://www.tensorflow.org/api_docs/python/tf/function for  more details.\n"
     ]
    },
    {
     "name": "stdout",
     "output_type": "stream",
     "text": [
      "Predicted result is: [3], target result is: 5\n"
     ]
    },
    {
     "data": {
      "image/png": "[encoded data removed]",
      "text/plain": [
       "<Figure size 432x288 with 1 Axes>"
      ]
     },
     "metadata": {
      "needs_background": "light"
     },
     "output_type": "display_data"
    }
   ],
   "source": [
    "import matplotlib.pyplot as plt\n",
    "\n",
    "with tf.device(\"CPU:0\"):\n",
    "  cpu_model= build_model(allow_cudnn_kernel=True)\n",
    "  cpu_model.set_weights(model.get_weights())\n",
    "  result= tf.argmax(cpu_model.predict_on_batch(tf.expand_dims(sample, 0)), axis=1)\n",
    "  print(\n",
    "      \"Predicted result is: %s, target result is: %s\"  % (result.numpy(), sample_label)\n",
    "  )\n",
    "  plt.imshow(sample, cmap= plt.get_cmap(\"gray\"))"
   ]
  },
  {
   "cell_type": "code",
   "execution_count": 75,
   "metadata": {
    "colab": {
     "base_uri": "https://localhost:8080/",
     "height": 282
    },
    "id": "LT9ApazK-z6M",
    "outputId": "0702548a-16c4-44ba-e8dd-2f39eb2373d8"
   },
   "outputs": [
    {
     "data": {
      "text/plain": [
       "<matplotlib.image.AxesImage at 0x7fdce44073d0>"
      ]
     },
     "execution_count": 75,
     "metadata": {},
     "output_type": "execute_result"
    },
    {
     "data": {
      "image/png": "[encoded data removed]",
      "text/plain": [
       "<Figure size 432x288 with 1 Axes>"
      ]
     },
     "metadata": {
      "needs_background": "light"
     },
     "output_type": "display_data"
    }
   ],
   "source": [
    "plt.imshow(sample, cmap= plt.get_cmap(\"gray\"))"
   ]
  },
  {
   "cell_type": "markdown",
   "metadata": {
    "id": "Qq9yRBw3mpyW"
   },
   "source": [
    "# $$LSTM$$"
   ]
  },
  {
   "cell_type": "code",
   "execution_count": 79,
   "metadata": {
    "colab": {
     "base_uri": "https://localhost:8080/"
    },
    "id": "fy_oFDHmLLKn",
    "outputId": "881b75c1-b8d6-4940-96b1-1cb05a63b865"
   },
   "outputs": [
    {
     "name": "stdout",
     "output_type": "stream",
     "text": [
      "(32, 4)\n",
      "(32, 10, 4)\n",
      "tf.Tensor(\n",
      "[[ 0.00599484 -0.07147904 -0.22251241  0.15038137]\n",
      " [-0.14588329 -0.16784547  0.15052132 -0.2967525 ]\n",
      " [ 0.11350111 -0.12368236  0.08183151  0.14265503]\n",
      " [ 0.03297516 -0.04085385 -0.58056647 -0.18384266]\n",
      " [ 0.11017487  0.3967818  -0.0281275   0.5455691 ]\n",
      " [ 0.11724549 -0.06492374  0.03136574  0.42300218]\n",
      " [ 0.20611326  0.23375249 -0.02886098  0.20538205]\n",
      " [-0.06899471 -0.08809044  0.19757609 -0.07225027]\n",
      " [-0.1614825  -0.0787637  -0.07829116 -0.2920745 ]\n",
      " [ 0.38781536 -0.14999376 -0.35807315 -0.07563388]\n",
      " [ 0.03387729 -0.10892843 -0.31633636 -0.1297638 ]\n",
      " [ 0.27270943  0.07358011  0.0615805   0.23424144]\n",
      " [ 0.05550168 -0.04130902  0.17609432  0.25786635]\n",
      " [-0.22415006 -0.18327193 -0.10271047 -0.2614181 ]\n",
      " [ 0.13201165  0.32307446 -0.00872818  0.2632039 ]\n",
      " [ 0.29303902  0.01510982 -0.35818708 -0.08086089]\n",
      " [ 0.02201576 -0.17442764 -0.23548189  0.01380546]\n",
      " [-0.51743126 -0.14581594 -0.14862078 -0.10654356]\n",
      " [-0.3964613  -0.29342845  0.24717075 -0.01494086]\n",
      " [ 0.19282019  0.21603133 -0.06540181 -0.08887418]\n",
      " [ 0.14291601  0.30490267  0.03022421 -0.05221018]\n",
      " [ 0.35363534  0.06927341 -0.6384676   0.13304602]\n",
      " [ 0.06138504  0.12819089 -0.0074234   0.24538967]\n",
      " [-0.1308729  -0.17182621  0.25452113  0.12900889]\n",
      " [ 0.09643193 -0.00844124  0.07499465  0.09541342]\n",
      " [ 0.10976326  0.38285342  0.39985964  0.05090024]\n",
      " [ 0.21630521 -0.00342668 -0.3271462  -0.08525673]\n",
      " [-0.4251052  -0.12555152 -0.20660059 -0.10313453]\n",
      " [ 0.17040403 -0.02941836  0.13893706  0.09960802]\n",
      " [ 0.15946652  0.15418461 -0.48667213  0.27683127]\n",
      " [ 0.12339392  0.10592143  0.0888676   0.5563353 ]\n",
      " [-0.08885258 -0.18447661  0.55798364 -0.2953814 ]], shape=(32, 4), dtype=float32)\n",
      "(32, 4)\n"
     ]
    }
   ],
   "source": [
    "import random\n",
    "import tensorflow as tf\n",
    "inputs= tf.random.normal([32, 10, 8])\n",
    "lstm= tf.keras.layers.LSTM(4)\n",
    "\n",
    "output= lstm(inputs)\n",
    "print(output.shape)\n",
    "\n",
    "lstm= tf.keras.layers.LSTM(4, return_sequences= True, return_state=True)\n",
    "whole_seq_output, final_memory_state, final_carry_state= lstm(inputs)\n",
    "\n",
    "print(whole_seq_output.shape)\n",
    "print(final_memory_state)\n",
    "print(final_carry_state.shape)"
   ]
  },
  {
   "cell_type": "markdown",
   "metadata": {
    "id": "MWwaUPhCczEL"
   },
   "source": [
    "```python\n",
    "import numpy as np  # Linear Algebra\n",
    "import pandas as pd # Data Processing\n",
    "\n",
    "from sklearn.feature_extraction.text import CountVectorizer\n",
    "from keras.preprocessing.text import Tokenizer\n",
    "from tensorflow.keras.preprocessing.sequence import pad_sequences\n",
    "from keras.models import Sequential\n",
    "from sklearn.layers import Dense, Embedding, LSTM, SpatialDropout1D\n",
    "from sklearn.model_selection import train_test_split\n",
    "from keras.utils.np_utils import to_categorical\n",
    "import re\n",
    "\n",
    "data= pd.read_csv(\"Sentiment.csv\")\n",
    "\n",
    "data= data[['text', 'sentiment']]\n",
    "\n",
    "data= data[data.Sentiment != \"Neutral\"]\n",
    "\n",
    "data['text']= data['text'].apply(lambda x:x.lower())\n",
    "data['text']= data['text'].apply((lambda x: re.sub('[^a-zA=z0-9\\s]', '', x)))\n",
    "\n",
    "print(data[data['sentiment']== 'Positive'].size)\n",
    "print(data[data['sentiment']== 'Negative'].size)\n",
    "\n",
    "for idx, row in data.iterrows():\n",
    "  row[0]= row[0].replace('rt', ' ')\n",
    "\n",
    "max_features= 2000\n",
    "# Split paragraphs and sentences into smaller units that can be more easily assigned meaning\n",
    "tokenizer= Tokenizer(num_words= max_features, split= ' ')\n",
    "tokenizer.fit_on_texts(data['text'].values)\n",
    "\n",
    "X= tokenizer.texts_to_sequences(data['text'].values)\n",
    "\n",
    "# Pads sequences to the same length\n",
    "X= pad_sequences(X)\n",
    "\n",
    "emded_dim= 128\n",
    "lstm_out= 196\n",
    "\n",
    "model= Sequential()\n",
    "\n",
    "# The Embedding layer is defined as the first hidden layer of a network\n",
    "model.add(Embedding(max_features, emded_dim, input_length= X.shape[1]))\n",
    "model.add(SpatialDropout1D(0.4))\n",
    "model.add(LSTM(lstm_out, dropout= 0.2, recurrent_dropout= 0.2))\n",
    "model.add(Dense(2, activation= 'softmax'))\n",
    "model.compile(loss= 'categorical_crossentropy',\n",
    "              optimizer= 'adam',\n",
    "              metrics= ['accuracy'])\n",
    "print(model.summary())\n",
    "\n",
    "Y= pd.get_dummies(data['sentiment']).values\n",
    "\n",
    "X_train, X_test, Y_train, Y_test= train_test_split(X, Y, test_size= 0.33, random_state= 42)\n",
    "print(X_train.shape, Y_train.shape)\n",
    "print(X_test.shape, Y_test.shape)\n",
    "\n",
    "batch_size= 32\n",
    "model.fit(X_train, Y_train, epochs= 7, batch_size= batch_size, verbose= 2)\n",
    "\n",
    "validation_size= 1500\n",
    "X_validate= X_test[-validation_size:]\n",
    "Y_validate= Y_test[-validation_size:]\n",
    "X_test= X_test[:-validation_size]\n",
    "Y_test= Y_test[:-validation_size]\n",
    "\n",
    "score, acc= model.evaluate(X_test, Y_test, verbose=2, batch_size= batch_size)\n",
    "print(\"Score: %.2f\" % (score))\n",
    "print(\"Accuracy: %.2f\" % (acc))\n",
    "\n",
    "pos_cnt, neg_cnt, pos_correct, neg_correct= 0, 0, 0, 0]\n",
    "\n",
    "for x in range(len(X_validate)):\n",
    "\n",
    "  result= model.predict(X_validate[x].reshape(1, X_test.shape[1]), batch_size=1, verbose=2)[0]\n",
    "\n",
    "  if np.argmax(result)== np.argmax(Y_validate[x]):\n",
    "    if np.argmax(Y_validate[x])==0:\n",
    "      neg_correct += 1\n",
    "    else:\n",
    "      pos_correct += 1\n",
    "  \n",
    "  if np.argmax(Y_validate[x])==0:\n",
    "    neg_correct += 1\n",
    "  else:\n",
    "    pos_correct += 1\n",
    "\n",
    "print(\"Positive Accuracy: \", pos_correct/pos_cnt*100, \"%\")\n",
    "print(\"Positive Accuracy: \", neg_correct/neg_cnt*100, \"%\")\n",
    "\n",
    "twt= [\"Meetings: Because none of us is as dumb as all od us.\"]\n",
    "\n",
    "# vectorizing the tweet by the pre-fitted tokenizer instance\n",
    "twt= tokenizer.texts_to_sequences(twt)\n",
    "\n",
    "# padding the tweet to have exactly the same shape as `embedding_2` input\n",
    "twt= pad_sequences(twt, maxlen=28, dtype= 'int32', value=0)\n",
    "print(twt)\n",
    "\n",
    "sentiment= model.predict(twt, batch_size=1, verbose=2)[0]\n",
    "if (np.argmax(sentiment)==0):\n",
    "  print(\"Negative\")\n",
    "elif (np.argmax(sentiment)==1):\n",
    "  print(\"Positive\")\n",
    " else:\n",
    "   print(\"Nutral\") \n",
    "```"
   ]
  },
  {
   "cell_type": "markdown",
   "metadata": {
    "id": "lCUrXJibc8zg"
   },
   "source": [
    " # Data Augmentation\n",
    "1. **Data Augmentation:** Data augmentation is the technique of increasing the size of data used for training a model.\n",
    "2. **Synthetic Data:** Artificial data (Generative Adversarial Networks [GAN])\n",
    "3. **Augmentated Data:** Derived from original data (Transformation)\n",
    "4. **Types of Data Augmentation** \n",
    "  * Position \n",
    "  * Color Augmentation\n",
    "  * GAN"
   ]
  }
 ],
 "metadata": {
  "colab": {
   "collapsed_sections": [
    "HABFw3fQmd0U",
    "q5F917qKuzX_",
    "xtDPU90ZmptJ"
   ],
   "provenance": []
  },
  "kernelspec": {
   "display_name": "Python 3 (ipykernel)",
   "language": "python",
   "name": "python3"
  },
  "language_info": {
   "codemirror_mode": {
    "name": "ipython",
    "version": 3
   },
   "file_extension": ".py",
   "mimetype": "text/x-python",
   "name": "python",
   "nbconvert_exporter": "python",
   "pygments_lexer": "ipython3",
   "version": "3.9.12"
  },
  "latex_envs": {
   "LaTeX_envs_menu_present": true,
   "autoclose": false,
   "autocomplete": true,
   "bibliofile": "biblio.bib",
   "cite_by": "apalike",
   "current_citInitial": 1,
   "eqLabelWithNumbers": true,
   "eqNumInitial": 1,
   "hotkeys": {
    "equation": "Ctrl-E",
    "itemize": "Ctrl-I"
   },
   "labels_anchors": false,
   "latex_user_defs": false,
   "report_style_numbering": false,
   "user_envs_cfg": false
  },
  "nbTranslate": {
   "displayLangs": [
    "*"
   ],
   "hotkey": "alt-t",
   "langInMainMenu": true,
   "sourceLang": "en",
   "targetLang": "fr",
   "useGoogleTranslate": true
  },
  "toc": {
   "base_numbering": 1,
   "nav_menu": {},
   "number_sections": true,
   "sideBar": true,
   "skip_h1_title": false,
   "title_cell": "Table of Contents",
   "title_sidebar": "Contents",
   "toc_cell": false,
   "toc_position": {},
   "toc_section_display": true,
   "toc_window_display": false
  },
  "varInspector": {
   "cols": {
    "lenName": 16,
    "lenType": 16,
    "lenVar": 40
   },
   "kernels_config": {
    "python": {
     "delete_cmd_postfix": "",
     "delete_cmd_prefix": "del ",
     "library": "var_list.py",
     "varRefreshCmd": "print(var_dic_list())"
    },
    "r": {
     "delete_cmd_postfix": ") ",
     "delete_cmd_prefix": "rm(",
     "library": "var_list.r",
     "varRefreshCmd": "cat(var_dic_list()) "
    }
   },
   "types_to_exclude": [
    "module",
    "function",
    "builtin_function_or_method",
    "instance",
    "_Feature"
   ],
   "window_display": false
  }
 },
 "nbformat": 4,
 "nbformat_minor": 1
}
