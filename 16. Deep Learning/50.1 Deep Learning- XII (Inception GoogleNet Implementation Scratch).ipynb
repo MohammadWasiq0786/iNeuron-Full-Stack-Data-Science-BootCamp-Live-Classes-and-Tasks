{
 "cells": [
  {
   "cell_type": "markdown",
   "metadata": {},
   "source": [
    "![image](https://user-images.githubusercontent.com/57321948/196933065-4b16c235-f3b9-4391-9cfe-4affcec87c35.png)\n",
    "\n",
    "# **Class - 77 `Deep Learning`**\n",
    "## **4 March 2023**\n",
    "\n",
    "In this class **Subhradipta Paul** Sir taught the **Inception GoogleNet Implementation Scratch**"
   ]
  },
  {
   "cell_type": "markdown",
   "metadata": {},
   "source": [
    "## Agenda\n",
    "## 1. Inception\n",
    "### 1.1 [Theory](https://github.com/MohammadWasiq0786/iNeuron-Full-Stack-Data-Science-BootCamp-Live-Classes-and-Tasks/blob/main/16.%20Deep%20Learning/47.%20Deep%20Learning-%20IX%20(Cnn%20Architectures).ipynb)\n",
    "### 1.2 Practical"
   ]
  },
  {
   "cell_type": "markdown",
   "metadata": {
    "id": "T8HkXrbCGsmJ"
   },
   "source": [
    "##  Import libraries"
   ]
  },
  {
   "cell_type": "code",
   "execution_count": 1,
   "metadata": {
    "colab": {
     "base_uri": "https://localhost:8080/"
    },
    "executionInfo": {
     "elapsed": 1411,
     "status": "ok",
     "timestamp": 1677848128010,
     "user": {
      "displayName": "colab0 ineuron",
      "userId": "16851312232179065356"
     },
     "user_tz": -360
    },
    "id": "W7iDOdxY50kb",
    "outputId": "9dd240e2-625d-4c33-d6b7-e9a6f3a61c47"
   },
   "outputs": [
    {
     "name": "stdout",
     "output_type": "stream",
     "text": [
      "Fri Mar  3 12:55:23 2023       \n",
      "+-----------------------------------------------------------------------------+\n",
      "| NVIDIA-SMI 525.85.12    Driver Version: 525.85.12    CUDA Version: 12.0     |\n",
      "|-------------------------------+----------------------+----------------------+\n",
      "| GPU  Name        Persistence-M| Bus-Id        Disp.A | Volatile Uncorr. ECC |\n",
      "| Fan  Temp  Perf  Pwr:Usage/Cap|         Memory-Usage | GPU-Util  Compute M. |\n",
      "|                               |                      |               MIG M. |\n",
      "|===============================+======================+======================|\n",
      "|   0  Tesla T4            Off  | 00000000:00:04.0 Off |                    0 |\n",
      "| N/A   62C    P0    29W /  70W |      0MiB / 15360MiB |      0%      Default |\n",
      "|                               |                      |                  N/A |\n",
      "+-------------------------------+----------------------+----------------------+\n",
      "                                                                               \n",
      "+-----------------------------------------------------------------------------+\n",
      "| Processes:                                                                  |\n",
      "|  GPU   GI   CI        PID   Type   Process name                  GPU Memory |\n",
      "|        ID   ID                                                   Usage      |\n",
      "|=============================================================================|\n",
      "|  No running processes found                                                 |\n",
      "+-----------------------------------------------------------------------------+\n"
     ]
    }
   ],
   "source": [
    "!nvidia-smi"
   ]
  },
  {
   "cell_type": "code",
   "execution_count": 12,
   "metadata": {
    "executionInfo": {
     "elapsed": 1,
     "status": "ok",
     "timestamp": 1677848550795,
     "user": {
      "displayName": "colab0 ineuron",
      "userId": "16851312232179065356"
     },
     "user_tz": -360
    },
    "id": "wqtlofH8Gjs0"
   },
   "outputs": [],
   "source": [
    "import cv2 \n",
    "import numpy as np \n",
    "from tensorflow import keras\n",
    "import keras\n",
    "import math\n",
    "import keras.backend as K\n",
    "import tensorflow as tf\n",
    "from keras.datasets import cifar10\n",
    "from keras.models import Model\n",
    "from keras.layers import Conv2D, MaxPool2D,  \\\n",
    "    Dropout, Dense, Input, concatenate,      \\\n",
    "    GlobalAveragePooling2D, AveragePooling2D,\\\n",
    "    Flatten\n",
    "from keras.layers import UpSampling2D, Flatten, Input\n",
    "from keras.utils import np_utils \n",
    "from keras.optimizers import SGD \n",
    "from keras.callbacks import LearningRateScheduler  "
   ]
  },
  {
   "cell_type": "markdown",
   "metadata": {
    "id": "C_wPhHBnHTi5"
   },
   "source": [
    "## Prepare the dataset"
   ]
  },
  {
   "cell_type": "code",
   "execution_count": 4,
   "metadata": {
    "executionInfo": {
     "elapsed": 451,
     "status": "ok",
     "timestamp": 1677848349740,
     "user": {
      "displayName": "colab0 ineuron",
      "userId": "16851312232179065356"
     },
     "user_tz": -360
    },
    "id": "ctHF7lnUHP9b"
   },
   "outputs": [],
   "source": [
    "num_classes = 10\n",
    "\n",
    "def load_cifar10_data(img_rows, img_cols):\n",
    "\n",
    "    # Load cifar10 training and validation sets\n",
    "    (X_train, Y_train), (X_valid, Y_valid) = cifar10.load_data()\n",
    "\n",
    "    # Resize training images\n",
    "    X_train = np.array([cv2.resize(img, (img_rows,img_cols)) for img in X_train[:,:,:,:]])\n",
    "    X_valid = np.array([cv2.resize(img, (img_rows,img_cols)) for img in X_valid[:,:,:,:]])\n",
    "\n",
    "    # Transform targets to keras compatible format\n",
    "    Y_train = np_utils.to_categorical(Y_train, num_classes)\n",
    "    Y_valid = np_utils.to_categorical(Y_valid, num_classes)\n",
    "    \n",
    "    X_train = X_train.astype('float32')\n",
    "    X_valid = X_valid.astype('float32')\n",
    "\n",
    "    # preprocess data\n",
    "    X_train = X_train / 255.0\n",
    "    X_valid = X_valid / 255.0\n",
    "\n",
    "    return X_train, Y_train, X_valid, Y_valid"
   ]
  },
  {
   "cell_type": "code",
   "execution_count": 7,
   "metadata": {
    "executionInfo": {
     "elapsed": 1164,
     "status": "ok",
     "timestamp": 1677848459365,
     "user": {
      "displayName": "colab0 ineuron",
      "userId": "16851312232179065356"
     },
     "user_tz": -360
    },
    "id": "o9yfjw7-Hynu"
   },
   "outputs": [],
   "source": [
    "from keras.datasets import cifar10\n",
    "(X_train, y_train), (X_test, y_test) = cifar10.load_data()"
   ]
  },
  {
   "cell_type": "code",
   "execution_count": 8,
   "metadata": {
    "executionInfo": {
     "elapsed": 2,
     "status": "ok",
     "timestamp": 1677848462735,
     "user": {
      "displayName": "colab0 ineuron",
      "userId": "16851312232179065356"
     },
     "user_tz": -360
    },
    "id": "On4VKizSH3vk"
   },
   "outputs": [],
   "source": [
    "def inception_module(x,\n",
    "                     filters_1x1,\n",
    "                     filters_3x3_reduce,\n",
    "                     filters_3x3,\n",
    "                     filters_5x5_reduce,\n",
    "                     filters_5x5,\n",
    "                     filters_pool_proj,\n",
    "                     name=None):\n",
    "    \n",
    "    conv_1x1 = Conv2D(filters_1x1, (1, 1), padding='same', activation='relu', kernel_initializer=kernel_init, bias_initializer=bias_init)(x)\n",
    "    \n",
    "    conv_3x3 = Conv2D(filters_3x3_reduce, (1, 1), padding='same', activation='relu', kernel_initializer=kernel_init, bias_initializer=bias_init)(x)\n",
    "    conv_3x3 = Conv2D(filters_3x3, (3, 3), padding='same', activation='relu', kernel_initializer=kernel_init, bias_initializer=bias_init)(conv_3x3)\n",
    "\n",
    "    conv_5x5 = Conv2D(filters_5x5_reduce, (1, 1), padding='same', activation='relu', kernel_initializer=kernel_init, bias_initializer=bias_init)(x)\n",
    "    conv_5x5 = Conv2D(filters_5x5, (5, 5), padding='same', activation='relu', kernel_initializer=kernel_init, bias_initializer=bias_init)(conv_5x5)\n",
    "\n",
    "    pool_proj = MaxPool2D((3, 3), strides=(1, 1), padding='same')(x)\n",
    "    pool_proj = Conv2D(filters_pool_proj, (1, 1), padding='same', activation='relu', kernel_initializer=kernel_init, bias_initializer=bias_init)(pool_proj)\n",
    "\n",
    "    output = concatenate([conv_1x1, conv_3x3, conv_5x5, pool_proj], axis=3, name=name)\n",
    "    \n",
    "    return output"
   ]
  },
  {
   "cell_type": "markdown",
   "metadata": {
    "id": "EkD9n0DuJ0Y6"
   },
   "source": [
    "## Create the GoogLeNet architecture"
   ]
  },
  {
   "cell_type": "code",
   "execution_count": 9,
   "metadata": {
    "executionInfo": {
     "elapsed": 448,
     "status": "ok",
     "timestamp": 1677848466438,
     "user": {
      "displayName": "colab0 ineuron",
      "userId": "16851312232179065356"
     },
     "user_tz": -360
    },
    "id": "WmK_6HL3JwDf"
   },
   "outputs": [],
   "source": [
    "kernel_init = keras.initializers.glorot_uniform()\n",
    "bias_init = keras.initializers.Constant(value=0.2)"
   ]
  },
  {
   "cell_type": "code",
   "execution_count": 13,
   "metadata": {
    "colab": {
     "base_uri": "https://localhost:8080/"
    },
    "executionInfo": {
     "elapsed": 4908,
     "status": "ok",
     "timestamp": 1677848560831,
     "user": {
      "displayName": "colab0 ineuron",
      "userId": "16851312232179065356"
     },
     "user_tz": -360
    },
    "id": "zF9N0rxIJ4ME",
    "outputId": "d4c11781-fd44-4629-d445-d7e7137f72cf"
   },
   "outputs": [
    {
     "name": "stderr",
     "output_type": "stream",
     "text": [
      "/usr/local/lib/python3.8/dist-packages/keras/initializers/initializers_v2.py:120: UserWarning: The initializer GlorotUniform is unseeded and being called multiple times, which will return identical values  each time (even if the initializer is unseeded). Please update your code to provide a seed to the initializer, or avoid using the same initalizer instance more than once.\n",
      "  warnings.warn(\n"
     ]
    }
   ],
   "source": [
    "input_layer = Input(shape=(32, 32, 3))\n",
    "x = UpSampling2D((2,2))(input_layer) #64\n",
    "x = UpSampling2D((2,2))(x) #128\n",
    "x = UpSampling2D((2,2))(x) #256\n",
    "\n",
    "x = Conv2D(64, (7, 7), padding='same', strides=(2, 2), activation='relu', name='conv_1_7x7/2', kernel_initializer=kernel_init, bias_initializer=bias_init, input_shape=(224,224,3))(x)\n",
    "x = MaxPool2D((3, 3), padding='same', strides=(2, 2), name='max_pool_1_3x3/2')(x)\n",
    "# x = Conv2D(64, (1, 1), padding='same', strides=(1, 1), activation='relu', name='conv_2a_3x3/1')(x)\n",
    "x = Conv2D(192, (3, 3), padding='same', strides=(1, 1), activation='relu', name='conv_2b_3x3/1')(x)\n",
    "x = MaxPool2D((3, 3), padding='same', strides=(2, 2), name='max_pool_2_3x3/2')(x)\n",
    "\n",
    "\n",
    "x = inception_module(x,\n",
    "                     filters_1x1=64,\n",
    "                     filters_3x3_reduce=96,\n",
    "                     filters_3x3=128,\n",
    "                     filters_5x5_reduce=16,\n",
    "                     filters_5x5=32,\n",
    "                     filters_pool_proj=32,\n",
    "                     name='inception_3a')\n",
    "\n",
    "x = inception_module(x,\n",
    "                     filters_1x1=128,\n",
    "                     filters_3x3_reduce=128,\n",
    "                     filters_3x3=192,\n",
    "                     filters_5x5_reduce=32,\n",
    "                     filters_5x5=96,\n",
    "                     filters_pool_proj=64,\n",
    "                     name='inception_3b')\n",
    "\n",
    "x = MaxPool2D((3, 3), padding='same', strides=(2, 2), name='max_pool_3_3x3/2')(x)\n",
    "\n",
    "x = inception_module(x,\n",
    "                     filters_1x1=192,\n",
    "                     filters_3x3_reduce=96,\n",
    "                     filters_3x3=208,\n",
    "                     filters_5x5_reduce=16,\n",
    "                     filters_5x5=48,\n",
    "                     filters_pool_proj=64,\n",
    "                     name='inception_4a')\n",
    "\n",
    "\n",
    "classifier_1 = AveragePooling2D((5, 5), strides=3)(x)\n",
    "classifier_1 = Conv2D(128, (1, 1), padding='same', activation='relu')(classifier_1)\n",
    "classifier_1 = Flatten()(classifier_1)\n",
    "classifier_1 = Dense(1024, activation='relu')(classifier_1)\n",
    "classifier_1 = Dropout(0.7)(classifier_1)\n",
    "classifier_1 = Dense(10, activation='softmax', name='auxilliary_output_1')(classifier_1)\n",
    "\n",
    "x = inception_module(x,\n",
    "                     filters_1x1=160,\n",
    "                     filters_3x3_reduce=112,\n",
    "                     filters_3x3=224,\n",
    "                     filters_5x5_reduce=24,\n",
    "                     filters_5x5=64,\n",
    "                     filters_pool_proj=64,\n",
    "                     name='inception_4b')\n",
    "\n",
    "x = inception_module(x,\n",
    "                     filters_1x1=128,\n",
    "                     filters_3x3_reduce=128,\n",
    "                     filters_3x3=256,\n",
    "                     filters_5x5_reduce=24,\n",
    "                     filters_5x5=64,\n",
    "                     filters_pool_proj=64,\n",
    "                     name='inception_4c')\n",
    "\n",
    "x = inception_module(x,\n",
    "                     filters_1x1=112,\n",
    "                     filters_3x3_reduce=144,\n",
    "                     filters_3x3=288,\n",
    "                     filters_5x5_reduce=32,\n",
    "                     filters_5x5=64,\n",
    "                     filters_pool_proj=64,\n",
    "                     name='inception_4d')\n",
    "\n",
    "\n",
    "classifier_2 = AveragePooling2D((5, 5), strides=3)(x)\n",
    "classifier_2 = Conv2D(128, (1, 1), padding='same', activation='relu')(classifier_2)\n",
    "classifier_2 = Flatten()(classifier_2)\n",
    "classifier_2 = Dense(1024, activation='relu')(classifier_2)\n",
    "classifier_2 = Dropout(0.7)(classifier_2)\n",
    "classifier_2 = Dense(10, activation='softmax', name='auxilliary_output_2')(classifier_2)\n",
    "\n",
    "x = inception_module(x,\n",
    "                     filters_1x1=256,\n",
    "                     filters_3x3_reduce=160,\n",
    "                     filters_3x3=320,\n",
    "                     filters_5x5_reduce=32,\n",
    "                     filters_5x5=128,\n",
    "                     filters_pool_proj=128,\n",
    "                     name='inception_4e')\n",
    "\n",
    "x = MaxPool2D((3, 3), padding='same', strides=(2, 2), name='max_pool_4_3x3/2')(x)\n",
    "\n",
    "x = inception_module(x,\n",
    "                     filters_1x1=256,\n",
    "                     filters_3x3_reduce=160,\n",
    "                     filters_3x3=320,\n",
    "                     filters_5x5_reduce=32,\n",
    "                     filters_5x5=128,\n",
    "                     filters_pool_proj=128,\n",
    "                     name='inception_5a')\n",
    "\n",
    "x = inception_module(x,\n",
    "                     filters_1x1=384,\n",
    "                     filters_3x3_reduce=192,\n",
    "                     filters_3x3=384,\n",
    "                     filters_5x5_reduce=48,\n",
    "                     filters_5x5=128,\n",
    "                     filters_pool_proj=128,\n",
    "                     name='inception_5b')\n",
    "\n",
    "x = AveragePooling2D(pool_size=(7,7), strides=1, padding='valid',name='avg_pool_5_3x3/1')(x)\n",
    "x = Flatten()(x)\n",
    "x = Dropout(0.4)(x)\n",
    "x = Dense(1000, activation='relu', name='linear')(x)\n",
    "x = Dense(10, activation='softmax', name='output')(x)"
   ]
  },
  {
   "cell_type": "markdown",
   "metadata": {
    "id": "CKOYYRMJPJyE"
   },
   "source": [
    "## GoogleNet model without the classfiers 1 and 2"
   ]
  },
  {
   "cell_type": "code",
   "execution_count": 14,
   "metadata": {
    "executionInfo": {
     "elapsed": 640,
     "status": "ok",
     "timestamp": 1677848566626,
     "user": {
      "displayName": "colab0 ineuron",
      "userId": "16851312232179065356"
     },
     "user_tz": -360
    },
    "id": "6u03MmH-MIhX"
   },
   "outputs": [],
   "source": [
    "model = Model(input_layer, [x], name='googlenet')"
   ]
  },
  {
   "cell_type": "code",
   "execution_count": 15,
   "metadata": {
    "colab": {
     "base_uri": "https://localhost:8080/"
    },
    "executionInfo": {
     "elapsed": 638,
     "status": "ok",
     "timestamp": 1677848569174,
     "user": {
      "displayName": "colab0 ineuron",
      "userId": "16851312232179065356"
     },
     "user_tz": -360
    },
    "id": "saYrrRupOZ3k",
    "outputId": "2fa720d0-e3ff-416a-9426-cd0c1085e29b"
   },
   "outputs": [
    {
     "name": "stdout",
     "output_type": "stream",
     "text": [
      "Model: \"googlenet\"\n",
      "__________________________________________________________________________________________________\n",
      " Layer (type)                   Output Shape         Param #     Connected to                     \n",
      "==================================================================================================\n",
      " input_1 (InputLayer)           [(None, 32, 32, 3)]  0           []                               \n",
      "                                                                                                  \n",
      " up_sampling2d (UpSampling2D)   (None, 64, 64, 3)    0           ['input_1[0][0]']                \n",
      "                                                                                                  \n",
      " up_sampling2d_1 (UpSampling2D)  (None, 128, 128, 3)  0          ['up_sampling2d[0][0]']          \n",
      "                                                                                                  \n",
      " up_sampling2d_2 (UpSampling2D)  (None, 256, 256, 3)  0          ['up_sampling2d_1[0][0]']        \n",
      "                                                                                                  \n",
      " conv_1_7x7/2 (Conv2D)          (None, 128, 128, 64  9472        ['up_sampling2d_2[0][0]']        \n",
      "                                )                                                                 \n",
      "                                                                                                  \n",
      " max_pool_1_3x3/2 (MaxPooling2D  (None, 64, 64, 64)  0           ['conv_1_7x7/2[0][0]']           \n",
      " )                                                                                                \n",
      "                                                                                                  \n",
      " conv_2b_3x3/1 (Conv2D)         (None, 64, 64, 192)  110784      ['max_pool_1_3x3/2[0][0]']       \n",
      "                                                                                                  \n",
      " max_pool_2_3x3/2 (MaxPooling2D  (None, 32, 32, 192)  0          ['conv_2b_3x3/1[0][0]']          \n",
      " )                                                                                                \n",
      "                                                                                                  \n",
      " conv2d_1 (Conv2D)              (None, 32, 32, 96)   18528       ['max_pool_2_3x3/2[0][0]']       \n",
      "                                                                                                  \n",
      " conv2d_3 (Conv2D)              (None, 32, 32, 16)   3088        ['max_pool_2_3x3/2[0][0]']       \n",
      "                                                                                                  \n",
      " max_pooling2d (MaxPooling2D)   (None, 32, 32, 192)  0           ['max_pool_2_3x3/2[0][0]']       \n",
      "                                                                                                  \n",
      " conv2d (Conv2D)                (None, 32, 32, 64)   12352       ['max_pool_2_3x3/2[0][0]']       \n",
      "                                                                                                  \n",
      " conv2d_2 (Conv2D)              (None, 32, 32, 128)  110720      ['conv2d_1[0][0]']               \n",
      "                                                                                                  \n",
      " conv2d_4 (Conv2D)              (None, 32, 32, 32)   12832       ['conv2d_3[0][0]']               \n",
      "                                                                                                  \n",
      " conv2d_5 (Conv2D)              (None, 32, 32, 32)   6176        ['max_pooling2d[0][0]']          \n",
      "                                                                                                  \n",
      " inception_3a (Concatenate)     (None, 32, 32, 256)  0           ['conv2d[0][0]',                 \n",
      "                                                                  'conv2d_2[0][0]',               \n",
      "                                                                  'conv2d_4[0][0]',               \n",
      "                                                                  'conv2d_5[0][0]']               \n",
      "                                                                                                  \n",
      " conv2d_7 (Conv2D)              (None, 32, 32, 128)  32896       ['inception_3a[0][0]']           \n",
      "                                                                                                  \n",
      " conv2d_9 (Conv2D)              (None, 32, 32, 32)   8224        ['inception_3a[0][0]']           \n",
      "                                                                                                  \n",
      " max_pooling2d_1 (MaxPooling2D)  (None, 32, 32, 256)  0          ['inception_3a[0][0]']           \n",
      "                                                                                                  \n",
      " conv2d_6 (Conv2D)              (None, 32, 32, 128)  32896       ['inception_3a[0][0]']           \n",
      "                                                                                                  \n",
      " conv2d_8 (Conv2D)              (None, 32, 32, 192)  221376      ['conv2d_7[0][0]']               \n",
      "                                                                                                  \n",
      " conv2d_10 (Conv2D)             (None, 32, 32, 96)   76896       ['conv2d_9[0][0]']               \n",
      "                                                                                                  \n",
      " conv2d_11 (Conv2D)             (None, 32, 32, 64)   16448       ['max_pooling2d_1[0][0]']        \n",
      "                                                                                                  \n",
      " inception_3b (Concatenate)     (None, 32, 32, 480)  0           ['conv2d_6[0][0]',               \n",
      "                                                                  'conv2d_8[0][0]',               \n",
      "                                                                  'conv2d_10[0][0]',              \n",
      "                                                                  'conv2d_11[0][0]']              \n",
      "                                                                                                  \n",
      " max_pool_3_3x3/2 (MaxPooling2D  (None, 16, 16, 480)  0          ['inception_3b[0][0]']           \n",
      " )                                                                                                \n",
      "                                                                                                  \n",
      " conv2d_13 (Conv2D)             (None, 16, 16, 96)   46176       ['max_pool_3_3x3/2[0][0]']       \n",
      "                                                                                                  \n",
      " conv2d_15 (Conv2D)             (None, 16, 16, 16)   7696        ['max_pool_3_3x3/2[0][0]']       \n",
      "                                                                                                  \n",
      " max_pooling2d_2 (MaxPooling2D)  (None, 16, 16, 480)  0          ['max_pool_3_3x3/2[0][0]']       \n",
      "                                                                                                  \n",
      " conv2d_12 (Conv2D)             (None, 16, 16, 192)  92352       ['max_pool_3_3x3/2[0][0]']       \n",
      "                                                                                                  \n",
      " conv2d_14 (Conv2D)             (None, 16, 16, 208)  179920      ['conv2d_13[0][0]']              \n",
      "                                                                                                  \n",
      " conv2d_16 (Conv2D)             (None, 16, 16, 48)   19248       ['conv2d_15[0][0]']              \n",
      "                                                                                                  \n",
      " conv2d_17 (Conv2D)             (None, 16, 16, 64)   30784       ['max_pooling2d_2[0][0]']        \n",
      "                                                                                                  \n",
      " inception_4a (Concatenate)     (None, 16, 16, 512)  0           ['conv2d_12[0][0]',              \n",
      "                                                                  'conv2d_14[0][0]',              \n",
      "                                                                  'conv2d_16[0][0]',              \n",
      "                                                                  'conv2d_17[0][0]']              \n",
      "                                                                                                  \n",
      " conv2d_20 (Conv2D)             (None, 16, 16, 112)  57456       ['inception_4a[0][0]']           \n",
      "                                                                                                  \n",
      " conv2d_22 (Conv2D)             (None, 16, 16, 24)   12312       ['inception_4a[0][0]']           \n",
      "                                                                                                  \n",
      " max_pooling2d_3 (MaxPooling2D)  (None, 16, 16, 512)  0          ['inception_4a[0][0]']           \n",
      "                                                                                                  \n",
      " conv2d_19 (Conv2D)             (None, 16, 16, 160)  82080       ['inception_4a[0][0]']           \n",
      "                                                                                                  \n",
      " conv2d_21 (Conv2D)             (None, 16, 16, 224)  226016      ['conv2d_20[0][0]']              \n",
      "                                                                                                  \n",
      " conv2d_23 (Conv2D)             (None, 16, 16, 64)   38464       ['conv2d_22[0][0]']              \n",
      "                                                                                                  \n",
      " conv2d_24 (Conv2D)             (None, 16, 16, 64)   32832       ['max_pooling2d_3[0][0]']        \n",
      "                                                                                                  \n",
      " inception_4b (Concatenate)     (None, 16, 16, 512)  0           ['conv2d_19[0][0]',              \n",
      "                                                                  'conv2d_21[0][0]',              \n",
      "                                                                  'conv2d_23[0][0]',              \n",
      "                                                                  'conv2d_24[0][0]']              \n",
      "                                                                                                  \n",
      " conv2d_26 (Conv2D)             (None, 16, 16, 128)  65664       ['inception_4b[0][0]']           \n",
      "                                                                                                  \n",
      " conv2d_28 (Conv2D)             (None, 16, 16, 24)   12312       ['inception_4b[0][0]']           \n",
      "                                                                                                  \n",
      " max_pooling2d_4 (MaxPooling2D)  (None, 16, 16, 512)  0          ['inception_4b[0][0]']           \n",
      "                                                                                                  \n",
      " conv2d_25 (Conv2D)             (None, 16, 16, 128)  65664       ['inception_4b[0][0]']           \n",
      "                                                                                                  \n",
      " conv2d_27 (Conv2D)             (None, 16, 16, 256)  295168      ['conv2d_26[0][0]']              \n",
      "                                                                                                  \n",
      " conv2d_29 (Conv2D)             (None, 16, 16, 64)   38464       ['conv2d_28[0][0]']              \n",
      "                                                                                                  \n",
      " conv2d_30 (Conv2D)             (None, 16, 16, 64)   32832       ['max_pooling2d_4[0][0]']        \n",
      "                                                                                                  \n",
      " inception_4c (Concatenate)     (None, 16, 16, 512)  0           ['conv2d_25[0][0]',              \n",
      "                                                                  'conv2d_27[0][0]',              \n",
      "                                                                  'conv2d_29[0][0]',              \n",
      "                                                                  'conv2d_30[0][0]']              \n",
      "                                                                                                  \n",
      " conv2d_32 (Conv2D)             (None, 16, 16, 144)  73872       ['inception_4c[0][0]']           \n",
      "                                                                                                  \n",
      " conv2d_34 (Conv2D)             (None, 16, 16, 32)   16416       ['inception_4c[0][0]']           \n",
      "                                                                                                  \n",
      " max_pooling2d_5 (MaxPooling2D)  (None, 16, 16, 512)  0          ['inception_4c[0][0]']           \n",
      "                                                                                                  \n",
      " conv2d_31 (Conv2D)             (None, 16, 16, 112)  57456       ['inception_4c[0][0]']           \n",
      "                                                                                                  \n",
      " conv2d_33 (Conv2D)             (None, 16, 16, 288)  373536      ['conv2d_32[0][0]']              \n",
      "                                                                                                  \n",
      " conv2d_35 (Conv2D)             (None, 16, 16, 64)   51264       ['conv2d_34[0][0]']              \n",
      "                                                                                                  \n",
      " conv2d_36 (Conv2D)             (None, 16, 16, 64)   32832       ['max_pooling2d_5[0][0]']        \n",
      "                                                                                                  \n",
      " inception_4d (Concatenate)     (None, 16, 16, 528)  0           ['conv2d_31[0][0]',              \n",
      "                                                                  'conv2d_33[0][0]',              \n",
      "                                                                  'conv2d_35[0][0]',              \n",
      "                                                                  'conv2d_36[0][0]']              \n",
      "                                                                                                  \n",
      " conv2d_39 (Conv2D)             (None, 16, 16, 160)  84640       ['inception_4d[0][0]']           \n",
      "                                                                                                  \n",
      " conv2d_41 (Conv2D)             (None, 16, 16, 32)   16928       ['inception_4d[0][0]']           \n",
      "                                                                                                  \n",
      " max_pooling2d_6 (MaxPooling2D)  (None, 16, 16, 528)  0          ['inception_4d[0][0]']           \n",
      "                                                                                                  \n",
      " conv2d_38 (Conv2D)             (None, 16, 16, 256)  135424      ['inception_4d[0][0]']           \n",
      "                                                                                                  \n",
      " conv2d_40 (Conv2D)             (None, 16, 16, 320)  461120      ['conv2d_39[0][0]']              \n",
      "                                                                                                  \n",
      " conv2d_42 (Conv2D)             (None, 16, 16, 128)  102528      ['conv2d_41[0][0]']              \n",
      "                                                                                                  \n",
      " conv2d_43 (Conv2D)             (None, 16, 16, 128)  67712       ['max_pooling2d_6[0][0]']        \n",
      "                                                                                                  \n",
      " inception_4e (Concatenate)     (None, 16, 16, 832)  0           ['conv2d_38[0][0]',              \n",
      "                                                                  'conv2d_40[0][0]',              \n",
      "                                                                  'conv2d_42[0][0]',              \n",
      "                                                                  'conv2d_43[0][0]']              \n",
      "                                                                                                  \n",
      " max_pool_4_3x3/2 (MaxPooling2D  (None, 8, 8, 832)   0           ['inception_4e[0][0]']           \n",
      " )                                                                                                \n",
      "                                                                                                  \n",
      " conv2d_45 (Conv2D)             (None, 8, 8, 160)    133280      ['max_pool_4_3x3/2[0][0]']       \n",
      "                                                                                                  \n",
      " conv2d_47 (Conv2D)             (None, 8, 8, 32)     26656       ['max_pool_4_3x3/2[0][0]']       \n",
      "                                                                                                  \n",
      " max_pooling2d_7 (MaxPooling2D)  (None, 8, 8, 832)   0           ['max_pool_4_3x3/2[0][0]']       \n",
      "                                                                                                  \n",
      " conv2d_44 (Conv2D)             (None, 8, 8, 256)    213248      ['max_pool_4_3x3/2[0][0]']       \n",
      "                                                                                                  \n",
      " conv2d_46 (Conv2D)             (None, 8, 8, 320)    461120      ['conv2d_45[0][0]']              \n",
      "                                                                                                  \n",
      " conv2d_48 (Conv2D)             (None, 8, 8, 128)    102528      ['conv2d_47[0][0]']              \n",
      "                                                                                                  \n",
      " conv2d_49 (Conv2D)             (None, 8, 8, 128)    106624      ['max_pooling2d_7[0][0]']        \n",
      "                                                                                                  \n",
      " inception_5a (Concatenate)     (None, 8, 8, 832)    0           ['conv2d_44[0][0]',              \n",
      "                                                                  'conv2d_46[0][0]',              \n",
      "                                                                  'conv2d_48[0][0]',              \n",
      "                                                                  'conv2d_49[0][0]']              \n",
      "                                                                                                  \n",
      " conv2d_51 (Conv2D)             (None, 8, 8, 192)    159936      ['inception_5a[0][0]']           \n",
      "                                                                                                  \n",
      " conv2d_53 (Conv2D)             (None, 8, 8, 48)     39984       ['inception_5a[0][0]']           \n",
      "                                                                                                  \n",
      " max_pooling2d_8 (MaxPooling2D)  (None, 8, 8, 832)   0           ['inception_5a[0][0]']           \n",
      "                                                                                                  \n",
      " conv2d_50 (Conv2D)             (None, 8, 8, 384)    319872      ['inception_5a[0][0]']           \n",
      "                                                                                                  \n",
      " conv2d_52 (Conv2D)             (None, 8, 8, 384)    663936      ['conv2d_51[0][0]']              \n",
      "                                                                                                  \n",
      " conv2d_54 (Conv2D)             (None, 8, 8, 128)    153728      ['conv2d_53[0][0]']              \n",
      "                                                                                                  \n",
      " conv2d_55 (Conv2D)             (None, 8, 8, 128)    106624      ['max_pooling2d_8[0][0]']        \n",
      "                                                                                                  \n",
      " inception_5b (Concatenate)     (None, 8, 8, 1024)   0           ['conv2d_50[0][0]',              \n",
      "                                                                  'conv2d_52[0][0]',              \n",
      "                                                                  'conv2d_54[0][0]',              \n",
      "                                                                  'conv2d_55[0][0]']              \n",
      "                                                                                                  \n",
      " avg_pool_5_3x3/1 (AveragePooli  (None, 2, 2, 1024)  0           ['inception_5b[0][0]']           \n",
      " ng2D)                                                                                            \n",
      "                                                                                                  \n",
      " flatten_2 (Flatten)            (None, 4096)         0           ['avg_pool_5_3x3/1[0][0]']       \n",
      "                                                                                                  \n",
      " dropout_2 (Dropout)            (None, 4096)         0           ['flatten_2[0][0]']              \n",
      "                                                                                                  \n",
      " linear (Dense)                 (None, 1000)         4097000     ['dropout_2[0][0]']              \n",
      "                                                                                                  \n",
      " output (Dense)                 (None, 10)           10010       ['linear[0][0]']                 \n",
      "                                                                                                  \n",
      "==================================================================================================\n",
      "Total params: 10,076,402\n",
      "Trainable params: 10,076,402\n",
      "Non-trainable params: 0\n",
      "__________________________________________________________________________________________________\n"
     ]
    }
   ],
   "source": [
    "model.summary()"
   ]
  },
  {
   "cell_type": "markdown",
   "metadata": {
    "id": "Xm5mBDQkPRzs"
   },
   "source": [
    "##GoogLeNet model after adding classifiers 1 and 2"
   ]
  },
  {
   "cell_type": "code",
   "execution_count": 16,
   "metadata": {
    "colab": {
     "base_uri": "https://localhost:8080/"
    },
    "executionInfo": {
     "elapsed": 1331,
     "status": "ok",
     "timestamp": 1677848580577,
     "user": {
      "displayName": "colab0 ineuron",
      "userId": "16851312232179065356"
     },
     "user_tz": -360
    },
    "id": "uDJtmkwuOdxO",
    "outputId": "d2226bec-6b14-47a6-d2cf-6d4b62b4a7f6"
   },
   "outputs": [
    {
     "name": "stdout",
     "output_type": "stream",
     "text": [
      "Model: \"googlenet_complete_architecture\"\n",
      "__________________________________________________________________________________________________\n",
      " Layer (type)                   Output Shape         Param #     Connected to                     \n",
      "==================================================================================================\n",
      " input_1 (InputLayer)           [(None, 32, 32, 3)]  0           []                               \n",
      "                                                                                                  \n",
      " up_sampling2d (UpSampling2D)   (None, 64, 64, 3)    0           ['input_1[0][0]']                \n",
      "                                                                                                  \n",
      " up_sampling2d_1 (UpSampling2D)  (None, 128, 128, 3)  0          ['up_sampling2d[0][0]']          \n",
      "                                                                                                  \n",
      " up_sampling2d_2 (UpSampling2D)  (None, 256, 256, 3)  0          ['up_sampling2d_1[0][0]']        \n",
      "                                                                                                  \n",
      " conv_1_7x7/2 (Conv2D)          (None, 128, 128, 64  9472        ['up_sampling2d_2[0][0]']        \n",
      "                                )                                                                 \n",
      "                                                                                                  \n",
      " max_pool_1_3x3/2 (MaxPooling2D  (None, 64, 64, 64)  0           ['conv_1_7x7/2[0][0]']           \n",
      " )                                                                                                \n",
      "                                                                                                  \n",
      " conv_2b_3x3/1 (Conv2D)         (None, 64, 64, 192)  110784      ['max_pool_1_3x3/2[0][0]']       \n",
      "                                                                                                  \n",
      " max_pool_2_3x3/2 (MaxPooling2D  (None, 32, 32, 192)  0          ['conv_2b_3x3/1[0][0]']          \n",
      " )                                                                                                \n",
      "                                                                                                  \n",
      " conv2d_1 (Conv2D)              (None, 32, 32, 96)   18528       ['max_pool_2_3x3/2[0][0]']       \n",
      "                                                                                                  \n",
      " conv2d_3 (Conv2D)              (None, 32, 32, 16)   3088        ['max_pool_2_3x3/2[0][0]']       \n",
      "                                                                                                  \n",
      " max_pooling2d (MaxPooling2D)   (None, 32, 32, 192)  0           ['max_pool_2_3x3/2[0][0]']       \n",
      "                                                                                                  \n",
      " conv2d (Conv2D)                (None, 32, 32, 64)   12352       ['max_pool_2_3x3/2[0][0]']       \n",
      "                                                                                                  \n",
      " conv2d_2 (Conv2D)              (None, 32, 32, 128)  110720      ['conv2d_1[0][0]']               \n",
      "                                                                                                  \n",
      " conv2d_4 (Conv2D)              (None, 32, 32, 32)   12832       ['conv2d_3[0][0]']               \n",
      "                                                                                                  \n",
      " conv2d_5 (Conv2D)              (None, 32, 32, 32)   6176        ['max_pooling2d[0][0]']          \n",
      "                                                                                                  \n",
      " inception_3a (Concatenate)     (None, 32, 32, 256)  0           ['conv2d[0][0]',                 \n",
      "                                                                  'conv2d_2[0][0]',               \n",
      "                                                                  'conv2d_4[0][0]',               \n",
      "                                                                  'conv2d_5[0][0]']               \n",
      "                                                                                                  \n",
      " conv2d_7 (Conv2D)              (None, 32, 32, 128)  32896       ['inception_3a[0][0]']           \n",
      "                                                                                                  \n",
      " conv2d_9 (Conv2D)              (None, 32, 32, 32)   8224        ['inception_3a[0][0]']           \n",
      "                                                                                                  \n",
      " max_pooling2d_1 (MaxPooling2D)  (None, 32, 32, 256)  0          ['inception_3a[0][0]']           \n",
      "                                                                                                  \n",
      " conv2d_6 (Conv2D)              (None, 32, 32, 128)  32896       ['inception_3a[0][0]']           \n",
      "                                                                                                  \n",
      " conv2d_8 (Conv2D)              (None, 32, 32, 192)  221376      ['conv2d_7[0][0]']               \n",
      "                                                                                                  \n",
      " conv2d_10 (Conv2D)             (None, 32, 32, 96)   76896       ['conv2d_9[0][0]']               \n",
      "                                                                                                  \n",
      " conv2d_11 (Conv2D)             (None, 32, 32, 64)   16448       ['max_pooling2d_1[0][0]']        \n",
      "                                                                                                  \n",
      " inception_3b (Concatenate)     (None, 32, 32, 480)  0           ['conv2d_6[0][0]',               \n",
      "                                                                  'conv2d_8[0][0]',               \n",
      "                                                                  'conv2d_10[0][0]',              \n",
      "                                                                  'conv2d_11[0][0]']              \n",
      "                                                                                                  \n",
      " max_pool_3_3x3/2 (MaxPooling2D  (None, 16, 16, 480)  0          ['inception_3b[0][0]']           \n",
      " )                                                                                                \n",
      "                                                                                                  \n",
      " conv2d_13 (Conv2D)             (None, 16, 16, 96)   46176       ['max_pool_3_3x3/2[0][0]']       \n",
      "                                                                                                  \n",
      " conv2d_15 (Conv2D)             (None, 16, 16, 16)   7696        ['max_pool_3_3x3/2[0][0]']       \n",
      "                                                                                                  \n",
      " max_pooling2d_2 (MaxPooling2D)  (None, 16, 16, 480)  0          ['max_pool_3_3x3/2[0][0]']       \n",
      "                                                                                                  \n",
      " conv2d_12 (Conv2D)             (None, 16, 16, 192)  92352       ['max_pool_3_3x3/2[0][0]']       \n",
      "                                                                                                  \n",
      " conv2d_14 (Conv2D)             (None, 16, 16, 208)  179920      ['conv2d_13[0][0]']              \n",
      "                                                                                                  \n",
      " conv2d_16 (Conv2D)             (None, 16, 16, 48)   19248       ['conv2d_15[0][0]']              \n",
      "                                                                                                  \n",
      " conv2d_17 (Conv2D)             (None, 16, 16, 64)   30784       ['max_pooling2d_2[0][0]']        \n",
      "                                                                                                  \n",
      " inception_4a (Concatenate)     (None, 16, 16, 512)  0           ['conv2d_12[0][0]',              \n",
      "                                                                  'conv2d_14[0][0]',              \n",
      "                                                                  'conv2d_16[0][0]',              \n",
      "                                                                  'conv2d_17[0][0]']              \n",
      "                                                                                                  \n",
      " conv2d_20 (Conv2D)             (None, 16, 16, 112)  57456       ['inception_4a[0][0]']           \n",
      "                                                                                                  \n",
      " conv2d_22 (Conv2D)             (None, 16, 16, 24)   12312       ['inception_4a[0][0]']           \n",
      "                                                                                                  \n",
      " max_pooling2d_3 (MaxPooling2D)  (None, 16, 16, 512)  0          ['inception_4a[0][0]']           \n",
      "                                                                                                  \n",
      " conv2d_19 (Conv2D)             (None, 16, 16, 160)  82080       ['inception_4a[0][0]']           \n",
      "                                                                                                  \n",
      " conv2d_21 (Conv2D)             (None, 16, 16, 224)  226016      ['conv2d_20[0][0]']              \n",
      "                                                                                                  \n",
      " conv2d_23 (Conv2D)             (None, 16, 16, 64)   38464       ['conv2d_22[0][0]']              \n",
      "                                                                                                  \n",
      " conv2d_24 (Conv2D)             (None, 16, 16, 64)   32832       ['max_pooling2d_3[0][0]']        \n",
      "                                                                                                  \n",
      " inception_4b (Concatenate)     (None, 16, 16, 512)  0           ['conv2d_19[0][0]',              \n",
      "                                                                  'conv2d_21[0][0]',              \n",
      "                                                                  'conv2d_23[0][0]',              \n",
      "                                                                  'conv2d_24[0][0]']              \n",
      "                                                                                                  \n",
      " conv2d_26 (Conv2D)             (None, 16, 16, 128)  65664       ['inception_4b[0][0]']           \n",
      "                                                                                                  \n",
      " conv2d_28 (Conv2D)             (None, 16, 16, 24)   12312       ['inception_4b[0][0]']           \n",
      "                                                                                                  \n",
      " max_pooling2d_4 (MaxPooling2D)  (None, 16, 16, 512)  0          ['inception_4b[0][0]']           \n",
      "                                                                                                  \n",
      " conv2d_25 (Conv2D)             (None, 16, 16, 128)  65664       ['inception_4b[0][0]']           \n",
      "                                                                                                  \n",
      " conv2d_27 (Conv2D)             (None, 16, 16, 256)  295168      ['conv2d_26[0][0]']              \n",
      "                                                                                                  \n",
      " conv2d_29 (Conv2D)             (None, 16, 16, 64)   38464       ['conv2d_28[0][0]']              \n",
      "                                                                                                  \n",
      " conv2d_30 (Conv2D)             (None, 16, 16, 64)   32832       ['max_pooling2d_4[0][0]']        \n",
      "                                                                                                  \n",
      " inception_4c (Concatenate)     (None, 16, 16, 512)  0           ['conv2d_25[0][0]',              \n",
      "                                                                  'conv2d_27[0][0]',              \n",
      "                                                                  'conv2d_29[0][0]',              \n",
      "                                                                  'conv2d_30[0][0]']              \n",
      "                                                                                                  \n",
      " conv2d_32 (Conv2D)             (None, 16, 16, 144)  73872       ['inception_4c[0][0]']           \n",
      "                                                                                                  \n",
      " conv2d_34 (Conv2D)             (None, 16, 16, 32)   16416       ['inception_4c[0][0]']           \n",
      "                                                                                                  \n",
      " max_pooling2d_5 (MaxPooling2D)  (None, 16, 16, 512)  0          ['inception_4c[0][0]']           \n",
      "                                                                                                  \n",
      " conv2d_31 (Conv2D)             (None, 16, 16, 112)  57456       ['inception_4c[0][0]']           \n",
      "                                                                                                  \n",
      " conv2d_33 (Conv2D)             (None, 16, 16, 288)  373536      ['conv2d_32[0][0]']              \n",
      "                                                                                                  \n",
      " conv2d_35 (Conv2D)             (None, 16, 16, 64)   51264       ['conv2d_34[0][0]']              \n",
      "                                                                                                  \n",
      " conv2d_36 (Conv2D)             (None, 16, 16, 64)   32832       ['max_pooling2d_5[0][0]']        \n",
      "                                                                                                  \n",
      " inception_4d (Concatenate)     (None, 16, 16, 528)  0           ['conv2d_31[0][0]',              \n",
      "                                                                  'conv2d_33[0][0]',              \n",
      "                                                                  'conv2d_35[0][0]',              \n",
      "                                                                  'conv2d_36[0][0]']              \n",
      "                                                                                                  \n",
      " conv2d_39 (Conv2D)             (None, 16, 16, 160)  84640       ['inception_4d[0][0]']           \n",
      "                                                                                                  \n",
      " conv2d_41 (Conv2D)             (None, 16, 16, 32)   16928       ['inception_4d[0][0]']           \n",
      "                                                                                                  \n",
      " max_pooling2d_6 (MaxPooling2D)  (None, 16, 16, 528)  0          ['inception_4d[0][0]']           \n",
      "                                                                                                  \n",
      " conv2d_38 (Conv2D)             (None, 16, 16, 256)  135424      ['inception_4d[0][0]']           \n",
      "                                                                                                  \n",
      " conv2d_40 (Conv2D)             (None, 16, 16, 320)  461120      ['conv2d_39[0][0]']              \n",
      "                                                                                                  \n",
      " conv2d_42 (Conv2D)             (None, 16, 16, 128)  102528      ['conv2d_41[0][0]']              \n",
      "                                                                                                  \n",
      " conv2d_43 (Conv2D)             (None, 16, 16, 128)  67712       ['max_pooling2d_6[0][0]']        \n",
      "                                                                                                  \n",
      " inception_4e (Concatenate)     (None, 16, 16, 832)  0           ['conv2d_38[0][0]',              \n",
      "                                                                  'conv2d_40[0][0]',              \n",
      "                                                                  'conv2d_42[0][0]',              \n",
      "                                                                  'conv2d_43[0][0]']              \n",
      "                                                                                                  \n",
      " max_pool_4_3x3/2 (MaxPooling2D  (None, 8, 8, 832)   0           ['inception_4e[0][0]']           \n",
      " )                                                                                                \n",
      "                                                                                                  \n",
      " conv2d_45 (Conv2D)             (None, 8, 8, 160)    133280      ['max_pool_4_3x3/2[0][0]']       \n",
      "                                                                                                  \n",
      " conv2d_47 (Conv2D)             (None, 8, 8, 32)     26656       ['max_pool_4_3x3/2[0][0]']       \n",
      "                                                                                                  \n",
      " max_pooling2d_7 (MaxPooling2D)  (None, 8, 8, 832)   0           ['max_pool_4_3x3/2[0][0]']       \n",
      "                                                                                                  \n",
      " conv2d_44 (Conv2D)             (None, 8, 8, 256)    213248      ['max_pool_4_3x3/2[0][0]']       \n",
      "                                                                                                  \n",
      " conv2d_46 (Conv2D)             (None, 8, 8, 320)    461120      ['conv2d_45[0][0]']              \n",
      "                                                                                                  \n",
      " conv2d_48 (Conv2D)             (None, 8, 8, 128)    102528      ['conv2d_47[0][0]']              \n",
      "                                                                                                  \n",
      " conv2d_49 (Conv2D)             (None, 8, 8, 128)    106624      ['max_pooling2d_7[0][0]']        \n",
      "                                                                                                  \n",
      " inception_5a (Concatenate)     (None, 8, 8, 832)    0           ['conv2d_44[0][0]',              \n",
      "                                                                  'conv2d_46[0][0]',              \n",
      "                                                                  'conv2d_48[0][0]',              \n",
      "                                                                  'conv2d_49[0][0]']              \n",
      "                                                                                                  \n",
      " conv2d_51 (Conv2D)             (None, 8, 8, 192)    159936      ['inception_5a[0][0]']           \n",
      "                                                                                                  \n",
      " conv2d_53 (Conv2D)             (None, 8, 8, 48)     39984       ['inception_5a[0][0]']           \n",
      "                                                                                                  \n",
      " max_pooling2d_8 (MaxPooling2D)  (None, 8, 8, 832)   0           ['inception_5a[0][0]']           \n",
      "                                                                                                  \n",
      " conv2d_50 (Conv2D)             (None, 8, 8, 384)    319872      ['inception_5a[0][0]']           \n",
      "                                                                                                  \n",
      " conv2d_52 (Conv2D)             (None, 8, 8, 384)    663936      ['conv2d_51[0][0]']              \n",
      "                                                                                                  \n",
      " conv2d_54 (Conv2D)             (None, 8, 8, 128)    153728      ['conv2d_53[0][0]']              \n",
      "                                                                                                  \n",
      " conv2d_55 (Conv2D)             (None, 8, 8, 128)    106624      ['max_pooling2d_8[0][0]']        \n",
      "                                                                                                  \n",
      " inception_5b (Concatenate)     (None, 8, 8, 1024)   0           ['conv2d_50[0][0]',              \n",
      "                                                                  'conv2d_52[0][0]',              \n",
      "                                                                  'conv2d_54[0][0]',              \n",
      "                                                                  'conv2d_55[0][0]']              \n",
      "                                                                                                  \n",
      " average_pooling2d (AveragePool  (None, 4, 4, 512)   0           ['inception_4a[0][0]']           \n",
      " ing2D)                                                                                           \n",
      "                                                                                                  \n",
      " average_pooling2d_1 (AveragePo  (None, 4, 4, 528)   0           ['inception_4d[0][0]']           \n",
      " oling2D)                                                                                         \n",
      "                                                                                                  \n",
      " avg_pool_5_3x3/1 (AveragePooli  (None, 2, 2, 1024)  0           ['inception_5b[0][0]']           \n",
      " ng2D)                                                                                            \n",
      "                                                                                                  \n",
      " conv2d_18 (Conv2D)             (None, 4, 4, 128)    65664       ['average_pooling2d[0][0]']      \n",
      "                                                                                                  \n",
      " conv2d_37 (Conv2D)             (None, 4, 4, 128)    67712       ['average_pooling2d_1[0][0]']    \n",
      "                                                                                                  \n",
      " flatten_2 (Flatten)            (None, 4096)         0           ['avg_pool_5_3x3/1[0][0]']       \n",
      "                                                                                                  \n",
      " flatten (Flatten)              (None, 2048)         0           ['conv2d_18[0][0]']              \n",
      "                                                                                                  \n",
      " flatten_1 (Flatten)            (None, 2048)         0           ['conv2d_37[0][0]']              \n",
      "                                                                                                  \n",
      " dropout_2 (Dropout)            (None, 4096)         0           ['flatten_2[0][0]']              \n",
      "                                                                                                  \n",
      " dense (Dense)                  (None, 1024)         2098176     ['flatten[0][0]']                \n",
      "                                                                                                  \n",
      " dense_1 (Dense)                (None, 1024)         2098176     ['flatten_1[0][0]']              \n",
      "                                                                                                  \n",
      " linear (Dense)                 (None, 1000)         4097000     ['dropout_2[0][0]']              \n",
      "                                                                                                  \n",
      " dropout (Dropout)              (None, 1024)         0           ['dense[0][0]']                  \n",
      "                                                                                                  \n",
      " dropout_1 (Dropout)            (None, 1024)         0           ['dense_1[0][0]']                \n",
      "                                                                                                  \n",
      " output (Dense)                 (None, 10)           10010       ['linear[0][0]']                 \n",
      "                                                                                                  \n",
      " auxilliary_output_1 (Dense)    (None, 10)           10250       ['dropout[0][0]']                \n",
      "                                                                                                  \n",
      " auxilliary_output_2 (Dense)    (None, 10)           10250       ['dropout_1[0][0]']              \n",
      "                                                                                                  \n",
      "==================================================================================================\n",
      "Total params: 14,426,630\n",
      "Trainable params: 14,426,630\n",
      "Non-trainable params: 0\n",
      "__________________________________________________________________________________________________\n"
     ]
    }
   ],
   "source": [
    "model_with_classifiers = Model(input_layer, [x, classifier_1, classifier_2], name='googlenet_complete_architecture')\n",
    "model_with_classifiers.summary()"
   ]
  },
  {
   "cell_type": "markdown",
   "metadata": {
    "id": "uxY8wPlEPhnT"
   },
   "source": [
    "## compile a network with three models"
   ]
  },
  {
   "cell_type": "code",
   "execution_count": null,
   "metadata": {
    "colab": {
     "base_uri": "https://localhost:8080/"
    },
    "id": "oVyJz3frPY7N",
    "outputId": "84e9c5fe-d6f8-429f-e0c2-1b006758cc94"
   },
   "outputs": [
    {
     "name": "stderr",
     "output_type": "stream",
     "text": [
      "/usr/local/lib/python3.7/dist-packages/tensorflow/python/keras/optimizer_v2/optimizer_v2.py:375: UserWarning: The `lr` argument is deprecated, use `learning_rate` instead.\n",
      "  \"The `lr` argument is deprecated, use `learning_rate` instead.\")\n"
     ]
    },
    {
     "name": "stdout",
     "output_type": "stream",
     "text": [
      "Epoch 1/5\n",
      "\n",
      "Epoch 00001: LearningRateScheduler reducing learning rate to 0.01.\n",
      "196/196 [==============================] - 508s 2s/step - loss: 3.7286 - output_loss: 2.3443 - auxilliary_output_1_loss: 2.3051 - auxilliary_output_2_loss: 2.3096 - output_accuracy: 0.1155 - auxilliary_output_1_accuracy: 0.1218 - auxilliary_output_2_accuracy: 0.1194 - val_loss: 3.1891 - val_output_loss: 2.0038 - val_auxilliary_output_1_loss: 1.9709 - val_auxilliary_output_2_loss: 1.9800 - val_output_accuracy: 0.2540 - val_auxilliary_output_1_accuracy: 0.2769 - val_auxilliary_output_2_accuracy: 0.2696\n",
      "Epoch 2/5\n",
      "\n",
      "Epoch 00002: LearningRateScheduler reducing learning rate to 0.01.\n",
      "196/196 [==============================] - 433s 2s/step - loss: 3.2025 - output_loss: 2.0066 - auxilliary_output_1_loss: 1.9864 - auxilliary_output_2_loss: 1.9997 - output_accuracy: 0.2439 - auxilliary_output_1_accuracy: 0.2543 - auxilliary_output_2_accuracy: 0.2551 - val_loss: 2.9376 - val_output_loss: 1.8864 - val_auxilliary_output_1_loss: 1.7425 - val_auxilliary_output_2_loss: 1.7614 - val_output_accuracy: 0.3139 - val_auxilliary_output_1_accuracy: 0.3780 - val_auxilliary_output_2_accuracy: 0.3649\n",
      "Epoch 3/5\n",
      "\n",
      "Epoch 00003: LearningRateScheduler reducing learning rate to 0.01.\n",
      "196/196 [==============================] - 433s 2s/step - loss: 2.8590 - output_loss: 1.7959 - auxilliary_output_1_loss: 1.7692 - auxilliary_output_2_loss: 1.7747 - output_accuracy: 0.3286 - auxilliary_output_1_accuracy: 0.3523 - auxilliary_output_2_accuracy: 0.3453 - val_loss: 2.5842 - val_output_loss: 1.6247 - val_auxilliary_output_1_loss: 1.5872 - val_auxilliary_output_2_loss: 1.6109 - val_output_accuracy: 0.3897 - val_auxilliary_output_1_accuracy: 0.4250 - val_auxilliary_output_2_accuracy: 0.4058\n",
      "Epoch 4/5\n",
      "\n",
      "Epoch 00004: LearningRateScheduler reducing learning rate to 0.01.\n",
      " 76/196 [==========>...................] - ETA: 4:11 - loss: 2.6011 - output_loss: 1.6208 - auxilliary_output_1_loss: 1.6365 - auxilliary_output_2_loss: 1.6311 - output_accuracy: 0.3962 - auxilliary_output_1_accuracy: 0.3996 - auxilliary_output_2_accuracy: 0.3991"
     ]
    }
   ],
   "source": [
    "epochs = 5\n",
    "initial_lrate = 0.01\n",
    "\n",
    "def decay(epoch, steps=100):\n",
    "    initial_lrate = 0.01\n",
    "    drop = 0.96\n",
    "    epochs_drop = 8\n",
    "    lrate = initial_lrate * math.pow(drop, math.floor((1+epoch)/epochs_drop))\n",
    "    return lrate\n",
    "\n",
    "sgd = SGD(lr=initial_lrate, momentum=0.9, nesterov=False)\n",
    "\n",
    "lr_sc = LearningRateScheduler(decay, verbose=1)\n",
    "\n",
    "model_with_classifiers.compile(loss=['categorical_crossentropy', 'categorical_crossentropy', 'categorical_crossentropy'], \n",
    "              loss_weights=[1, 0.3, 0.3], optimizer=sgd, metrics=['accuracy'])\n",
    "\n",
    "history = model_with_classifiers.fit(X_train, [y_train, y_train, y_train], validation_data=(X_test, [y_test, y_test, y_test]), \n",
    "                    epochs=epochs, batch_size=256, callbacks=[lr_sc])"
   ]
  },
  {
   "cell_type": "code",
   "execution_count": null,
   "metadata": {
    "id": "pDd7K_WPP3vv"
   },
   "outputs": [],
   "source": []
  }
 ],
 "metadata": {
  "accelerator": "GPU",
  "colab": {
   "provenance": []
  },
  "kernelspec": {
   "display_name": "Python 3 (ipykernel)",
   "language": "python",
   "name": "python3"
  },
  "language_info": {
   "codemirror_mode": {
    "name": "ipython",
    "version": 3
   },
   "file_extension": ".py",
   "mimetype": "text/x-python",
   "name": "python",
   "nbconvert_exporter": "python",
   "pygments_lexer": "ipython3",
   "version": "3.9.12"
  },
  "latex_envs": {
   "LaTeX_envs_menu_present": true,
   "autoclose": false,
   "autocomplete": true,
   "bibliofile": "biblio.bib",
   "cite_by": "apalike",
   "current_citInitial": 1,
   "eqLabelWithNumbers": true,
   "eqNumInitial": 1,
   "hotkeys": {
    "equation": "Ctrl-E",
    "itemize": "Ctrl-I"
   },
   "labels_anchors": false,
   "latex_user_defs": false,
   "report_style_numbering": false,
   "user_envs_cfg": false
  },
  "nbTranslate": {
   "displayLangs": [
    "*"
   ],
   "hotkey": "alt-t",
   "langInMainMenu": true,
   "sourceLang": "en",
   "targetLang": "fr",
   "useGoogleTranslate": true
  },
  "toc": {
   "base_numbering": 1,
   "nav_menu": {},
   "number_sections": true,
   "sideBar": true,
   "skip_h1_title": false,
   "title_cell": "Table of Contents",
   "title_sidebar": "Contents",
   "toc_cell": false,
   "toc_position": {},
   "toc_section_display": true,
   "toc_window_display": false
  },
  "varInspector": {
   "cols": {
    "lenName": 16,
    "lenType": 16,
    "lenVar": 40
   },
   "kernels_config": {
    "python": {
     "delete_cmd_postfix": "",
     "delete_cmd_prefix": "del ",
     "library": "var_list.py",
     "varRefreshCmd": "print(var_dic_list())"
    },
    "r": {
     "delete_cmd_postfix": ") ",
     "delete_cmd_prefix": "rm(",
     "library": "var_list.r",
     "varRefreshCmd": "cat(var_dic_list()) "
    }
   },
   "types_to_exclude": [
    "module",
    "function",
    "builtin_function_or_method",
    "instance",
    "_Feature"
   ],
   "window_display": false
  }
 },
 "nbformat": 4,
 "nbformat_minor": 1
}
