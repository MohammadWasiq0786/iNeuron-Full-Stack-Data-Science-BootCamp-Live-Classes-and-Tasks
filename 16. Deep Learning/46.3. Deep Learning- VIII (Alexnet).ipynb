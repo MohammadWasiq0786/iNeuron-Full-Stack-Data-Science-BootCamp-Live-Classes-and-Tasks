{
 "cells": [
  {
   "cell_type": "markdown",
   "metadata": {},
   "source": [
    "![image](https://user-images.githubusercontent.com/57321948/196933065-4b16c235-f3b9-4391-9cfe-4affcec87c35.png)\n",
    "\n",
    "# **Class - 71 `Deep Learning`**\n",
    "## **19 February 2023**\n",
    "In this class **Paul Sir** taught **LeNet- 5**\n",
    "\n",
    "### **Agenda of Today Class**\n",
    "1. **Receptive Fields**\n",
    "\n",
    "i. **Local Receptive Fields**\n",
    "\n",
    "ii. **Global Receptive Fields**\n",
    "\n",
    "2. **Paramerer Calculation**\n",
    "\n",
    "i. **Kernels**\n",
    "\n",
    "ii. **Padding**\n",
    "\n",
    "iii. **Stride**\n",
    "\n",
    "iv. **Bias**\n",
    "\n",
    "3. **LeNet - 5**\n",
    "4. **Alexnet**\n",
    "\n",
    "## $$Formula= \\bf{\\Big((m \\times n \\times d)+ 1 \\Big)+ k}$$\n",
    "where, $\\bf{m}$ is the **width**, $\\bf{n}$ is the **height**, $\\bf{d}$ is the **channels from previous layers** and $\\bf{k}$ is the **current number of filters using**\n",
    "\n",
    "## $\\bf{\\underline{\\text{Uses}}}$\n",
    "1. **Image Classification**\n",
    "2. **Object Detection**\n",
    "3. **Segmentation**\n",
    "4. **Tracking**\n",
    "\n",
    "### Receptive Field\n",
    "Receptive Field (RF) is atleast close to the input image resolution.\n",
    "\n",
    "| **Image Size** | **RF**      | **RF**         |\n",
    "|----------------|-------------|----------------|\n",
    "| $300 \\times 30$| 290/280/270 | 400, 3600, 800 |"
   ]
  },
  {
   "cell_type": "code",
   "execution_count": 1,
   "metadata": {
    "executionInfo": {
     "elapsed": 5962,
     "status": "ok",
     "timestamp": 1676810432891,
     "user": {
      "displayName": "Boktiar Ahmed Bappy",
      "userId": "10381972055342951581"
     },
     "user_tz": -360
    },
    "id": "-YUhuwSNWkIR"
   },
   "outputs": [],
   "source": [
    "\n",
    "import tensorflow as tf\n",
    "from tensorflow import keras\n",
    "import keras\n",
    "from keras.models import Sequential\n",
    "from keras.layers import Dense, Activation, Dropout, Flatten, Conv2D, MaxPooling2D\n",
    "from tensorflow.keras.layers import BatchNormalization"
   ]
  },
  {
   "cell_type": "code",
   "execution_count": 2,
   "metadata": {
    "colab": {
     "base_uri": "https://localhost:8080/"
    },
    "executionInfo": {
     "elapsed": 6240,
     "status": "ok",
     "timestamp": 1676810446091,
     "user": {
      "displayName": "Boktiar Ahmed Bappy",
      "userId": "10381972055342951581"
     },
     "user_tz": -360
    },
    "id": "iuIEOwl7W9CL",
    "outputId": "9f8bafed-6ff9-41dc-cd12-9e1cc2c6df4e"
   },
   "outputs": [
    {
     "name": "stdout",
     "output_type": "stream",
     "text": [
      "Looking in indexes: https://pypi.org/simple, https://us-python.pkg.dev/colab-wheels/public/simple/\n",
      "Collecting tflearn\n",
      "  Downloading tflearn-0.5.0.tar.gz (107 kB)\n",
      "\u001b[2K     \u001b[90m━━━━━━━━━━━━━━━━━━━━━━━━━━━━━━━━━━━━━━━\u001b[0m \u001b[32m107.3/107.3 KB\u001b[0m \u001b[31m7.0 MB/s\u001b[0m eta \u001b[36m0:00:00\u001b[0m\n",
      "\u001b[?25h  Preparing metadata (setup.py) ... \u001b[?25l\u001b[?25hdone\n",
      "Requirement already satisfied: numpy in /usr/local/lib/python3.8/dist-packages (from tflearn) (1.21.6)\n",
      "Requirement already satisfied: six in /usr/local/lib/python3.8/dist-packages (from tflearn) (1.15.0)\n",
      "Requirement already satisfied: Pillow in /usr/local/lib/python3.8/dist-packages (from tflearn) (7.1.2)\n",
      "Building wheels for collected packages: tflearn\n",
      "  Building wheel for tflearn (setup.py) ... \u001b[?25l\u001b[?25hdone\n",
      "  Created wheel for tflearn: filename=tflearn-0.5.0-py3-none-any.whl size=127299 sha256=5b50ca856fd7d3cf797a457d9bd455737c8e7c0b5e4d2620fe4823f0b491f74d\n",
      "  Stored in directory: /root/.cache/pip/wheels/65/9b/15/cb1e6b279c14ed897530d15cfd7da8e3df8a947e593f5cfe59\n",
      "Successfully built tflearn\n",
      "Installing collected packages: tflearn\n",
      "Successfully installed tflearn-0.5.0\n"
     ]
    }
   ],
   "source": [
    "!pip install tflearn "
   ]
  },
  {
   "cell_type": "code",
   "execution_count": 3,
   "metadata": {
    "colab": {
     "base_uri": "https://localhost:8080/"
    },
    "executionInfo": {
     "elapsed": 24864,
     "status": "ok",
     "timestamp": 1676810519711,
     "user": {
      "displayName": "Boktiar Ahmed Bappy",
      "userId": "10381972055342951581"
     },
     "user_tz": -360
    },
    "id": "c60kGVJ5XCpN",
    "outputId": "e6d61f54-48f7-4906-9ed5-b37f30f206cf"
   },
   "outputs": [
    {
     "name": "stderr",
     "output_type": "stream",
     "text": [
      "WARNING:tensorflow:From /usr/local/lib/python3.8/dist-packages/tensorflow/python/compat/v2_compat.py:107: disable_resource_variables (from tensorflow.python.ops.variable_scope) is deprecated and will be removed in a future version.\n",
      "Instructions for updating:\n",
      "non-resource variables are not supported in the long term\n",
      "  0.0%     8192 / 60270631"
     ]
    },
    {
     "name": "stdout",
     "output_type": "stream",
     "text": [
      "Downloading Oxford 17 category Flower Dataset, Please wait...\n"
     ]
    },
    {
     "name": "stderr",
     "output_type": "stream",
     "text": [
      "100.0% 60276736 / 60270631\n"
     ]
    },
    {
     "name": "stdout",
     "output_type": "stream",
     "text": [
      "Succesfully downloaded 17flowers.tgz 60270631 bytes.\n",
      "File Extracted\n",
      "Starting to parse images...\n",
      "Parsing Done!\n"
     ]
    }
   ],
   "source": [
    "# Get Data\n",
    "import tflearn.datasets.oxflower17 as oxflower17\n",
    "x, y = oxflower17.load_data(one_hot=True)"
   ]
  },
  {
   "cell_type": "code",
   "execution_count": 4,
   "metadata": {
    "colab": {
     "base_uri": "https://localhost:8080/"
    },
    "executionInfo": {
     "elapsed": 17,
     "status": "ok",
     "timestamp": 1676810519712,
     "user": {
      "displayName": "Boktiar Ahmed Bappy",
      "userId": "10381972055342951581"
     },
     "user_tz": -360
    },
    "id": "Ermoh8NOXUHZ",
    "outputId": "52f82602-cc80-4346-ccd1-c8f5b76fc6cf"
   },
   "outputs": [
    {
     "data": {
      "text/plain": [
       "array([[[[0.22745098, 0.09411765, 0.04705882],\n",
       "         [0.22745098, 0.09411765, 0.04705882],\n",
       "         [0.22745098, 0.09411765, 0.04705882],\n",
       "         ...,\n",
       "         [0.28235295, 0.23529412, 0.03921569],\n",
       "         [0.26666668, 0.21568628, 0.03529412],\n",
       "         [0.27058825, 0.21960784, 0.04313726]],\n",
       "\n",
       "        [[0.22745098, 0.09411765, 0.04705882],\n",
       "         [0.22745098, 0.09411765, 0.04705882],\n",
       "         [0.22745098, 0.09411765, 0.04705882],\n",
       "         ...,\n",
       "         [0.30588236, 0.25882354, 0.0627451 ],\n",
       "         [0.25882354, 0.20784314, 0.02745098],\n",
       "         [0.25882354, 0.20784314, 0.03137255]],\n",
       "\n",
       "        [[0.22745098, 0.09411765, 0.04705882],\n",
       "         [0.22745098, 0.09411765, 0.04705882],\n",
       "         [0.22745098, 0.09411765, 0.04705882],\n",
       "         ...,\n",
       "         [0.30588236, 0.25490198, 0.07450981],\n",
       "         [0.27058825, 0.21960784, 0.03921569],\n",
       "         [0.26666668, 0.21568628, 0.03921569]],\n",
       "\n",
       "        ...,\n",
       "\n",
       "        [[0.23921569, 0.10980392, 0.05098039],\n",
       "         [0.31764707, 0.21568628, 0.16470589],\n",
       "         [0.2901961 , 0.23137255, 0.18039216],\n",
       "         ...,\n",
       "         [0.4       , 0.4392157 , 0.19215687],\n",
       "         [0.3764706 , 0.43529412, 0.19607843],\n",
       "         [0.4       , 0.46666667, 0.22745098]],\n",
       "\n",
       "        [[0.26666668, 0.14117648, 0.04705882],\n",
       "         [0.23921569, 0.12941177, 0.03529412],\n",
       "         [0.22745098, 0.14509805, 0.03529412],\n",
       "         ...,\n",
       "         [0.3529412 , 0.40784314, 0.19607843],\n",
       "         [0.35686275, 0.41960785, 0.22352941],\n",
       "         [0.39215687, 0.45490196, 0.2627451 ]],\n",
       "\n",
       "        [[0.24705882, 0.16078432, 0.03921569],\n",
       "         [0.27058825, 0.18431373, 0.0627451 ],\n",
       "         [0.25882354, 0.18039216, 0.05098039],\n",
       "         ...,\n",
       "         [0.34117648, 0.42352942, 0.21960784],\n",
       "         [0.3764706 , 0.4392157 , 0.27058825],\n",
       "         [0.42352942, 0.47843137, 0.31764707]]],\n",
       "\n",
       "\n",
       "       [[[1.        , 1.        , 1.        ],\n",
       "         [1.        , 1.        , 1.        ],\n",
       "         [1.        , 1.        , 1.        ],\n",
       "         ...,\n",
       "         [0.10980392, 0.10980392, 0.10980392],\n",
       "         [0.10980392, 0.10980392, 0.10980392],\n",
       "         [0.10980392, 0.10980392, 0.10980392]],\n",
       "\n",
       "        [[1.        , 1.        , 1.        ],\n",
       "         [1.        , 1.        , 1.        ],\n",
       "         [1.        , 1.        , 1.        ],\n",
       "         ...,\n",
       "         [0.10980392, 0.10980392, 0.10980392],\n",
       "         [0.10980392, 0.10980392, 0.10980392],\n",
       "         [0.10980392, 0.10980392, 0.10980392]],\n",
       "\n",
       "        [[1.        , 1.        , 1.        ],\n",
       "         [1.        , 1.        , 1.        ],\n",
       "         [1.        , 1.        , 1.        ],\n",
       "         ...,\n",
       "         [0.10980392, 0.10980392, 0.10980392],\n",
       "         [0.10980392, 0.10980392, 0.10980392],\n",
       "         [0.10980392, 0.10980392, 0.10980392]],\n",
       "\n",
       "        ...,\n",
       "\n",
       "        [[1.        , 1.        , 1.        ],\n",
       "         [1.        , 1.        , 1.        ],\n",
       "         [0.9882353 , 0.9882353 , 0.9882353 ],\n",
       "         ...,\n",
       "         [0.34509805, 0.34509805, 0.34509805],\n",
       "         [0.30588236, 0.30588236, 0.30588236],\n",
       "         [0.11372549, 0.11372549, 0.11372549]],\n",
       "\n",
       "        [[1.        , 1.        , 1.        ],\n",
       "         [1.        , 1.        , 1.        ],\n",
       "         [1.        , 1.        , 1.        ],\n",
       "         ...,\n",
       "         [0.25882354, 0.25882354, 0.25882354],\n",
       "         [0.23529412, 0.23529412, 0.23529412],\n",
       "         [0.10196079, 0.10196079, 0.10196079]],\n",
       "\n",
       "        [[1.        , 1.        , 1.        ],\n",
       "         [1.        , 1.        , 1.        ],\n",
       "         [1.        , 1.        , 1.        ],\n",
       "         ...,\n",
       "         [0.09803922, 0.09803922, 0.09803922],\n",
       "         [0.09019608, 0.09019608, 0.09019608],\n",
       "         [0.10980392, 0.10980392, 0.10980392]]],\n",
       "\n",
       "\n",
       "       [[[0.5372549 , 0.4392157 , 0.5529412 ],\n",
       "         [0.53333336, 0.43529412, 0.54901963],\n",
       "         [0.52156866, 0.42352942, 0.5372549 ],\n",
       "         ...,\n",
       "         [0.9490196 , 0.9372549 , 0.9882353 ],\n",
       "         [0.9372549 , 0.91764706, 0.9882353 ],\n",
       "         [0.9372549 , 0.9137255 , 0.99607843]],\n",
       "\n",
       "        [[0.5372549 , 0.4392157 , 0.5529412 ],\n",
       "         [0.53333336, 0.43529412, 0.54901963],\n",
       "         [0.52156866, 0.42352942, 0.5372549 ],\n",
       "         ...,\n",
       "         [0.9372549 , 0.92156863, 0.972549  ],\n",
       "         [0.92941177, 0.9098039 , 0.9843137 ],\n",
       "         [0.92156863, 0.9019608 , 0.9882353 ]],\n",
       "\n",
       "        [[0.5372549 , 0.4392157 , 0.5529412 ],\n",
       "         [0.53333336, 0.43529412, 0.54901963],\n",
       "         [0.52156866, 0.42352942, 0.5372549 ],\n",
       "         ...,\n",
       "         [0.9372549 , 0.92156863, 0.98039216],\n",
       "         [0.91764706, 0.8980392 , 0.98039216],\n",
       "         [0.9098039 , 0.8901961 , 0.98039216]],\n",
       "\n",
       "        ...,\n",
       "\n",
       "        [[0.12156863, 0.04313726, 0.05882353],\n",
       "         [0.0627451 , 0.        , 0.01176471],\n",
       "         [0.04313726, 0.        , 0.00784314],\n",
       "         ...,\n",
       "         [0.00392157, 0.00392157, 0.00392157],\n",
       "         [0.00392157, 0.00392157, 0.00392157],\n",
       "         [0.        , 0.        , 0.        ]],\n",
       "\n",
       "        [[0.11372549, 0.03529412, 0.05490196],\n",
       "         [0.07058824, 0.00784314, 0.02352941],\n",
       "         [0.03921569, 0.00392157, 0.01176471],\n",
       "         ...,\n",
       "         [0.00392157, 0.00392157, 0.00392157],\n",
       "         [0.00392157, 0.00392157, 0.00392157],\n",
       "         [0.        , 0.        , 0.        ]],\n",
       "\n",
       "        [[0.11764706, 0.03137255, 0.0627451 ],\n",
       "         [0.07058824, 0.01176471, 0.03137255],\n",
       "         [0.03137255, 0.00784314, 0.01568628],\n",
       "         ...,\n",
       "         [0.00784314, 0.00392157, 0.00392157],\n",
       "         [0.00392157, 0.00392157, 0.00392157],\n",
       "         [0.00392157, 0.00392157, 0.00392157]]],\n",
       "\n",
       "\n",
       "       ...,\n",
       "\n",
       "\n",
       "       [[[0.9490196 , 1.        , 0.972549  ],\n",
       "         [0.90588236, 0.9529412 , 0.93333334],\n",
       "         [0.87058824, 0.91764706, 0.9137255 ],\n",
       "         ...,\n",
       "         [0.35686275, 0.23921569, 0.2901961 ],\n",
       "         [0.3764706 , 0.2509804 , 0.31764707],\n",
       "         [0.49019608, 0.41568628, 0.48235294]],\n",
       "\n",
       "        [[0.94509804, 1.        , 0.972549  ],\n",
       "         [0.89411765, 0.9529412 , 0.93333334],\n",
       "         [0.8352941 , 0.8901961 , 0.88235295],\n",
       "         ...,\n",
       "         [0.3647059 , 0.2509804 , 0.3019608 ],\n",
       "         [0.34901962, 0.22745098, 0.2901961 ],\n",
       "         [0.44705883, 0.36862746, 0.43137255]],\n",
       "\n",
       "        [[0.9372549 , 0.99607843, 0.9764706 ],\n",
       "         [0.8745098 , 0.9372549 , 0.91764706],\n",
       "         [0.79607844, 0.85490197, 0.8392157 ],\n",
       "         ...,\n",
       "         [0.3882353 , 0.27058825, 0.3137255 ],\n",
       "         [0.32941177, 0.21176471, 0.27450982],\n",
       "         [0.39607844, 0.32156864, 0.38039216]],\n",
       "\n",
       "        ...,\n",
       "\n",
       "        [[0.43529412, 0.5372549 , 0.24705882],\n",
       "         [0.39215687, 0.47843137, 0.22745098],\n",
       "         [0.39215687, 0.47058824, 0.27058825],\n",
       "         ...,\n",
       "         [0.5137255 , 0.27450982, 0.35686275],\n",
       "         [0.4       , 0.2       , 0.26666668],\n",
       "         [0.33333334, 0.15686275, 0.21568628]],\n",
       "\n",
       "        [[0.45490196, 0.54509807, 0.24313726],\n",
       "         [0.41568628, 0.5058824 , 0.24313726],\n",
       "         [0.40784314, 0.49411765, 0.28627452],\n",
       "         ...,\n",
       "         [0.4627451 , 0.22745098, 0.30588236],\n",
       "         [0.37254903, 0.18431373, 0.24705882],\n",
       "         [0.33333334, 0.18039216, 0.23137255]],\n",
       "\n",
       "        [[0.45882353, 0.5411765 , 0.23921569],\n",
       "         [0.41960785, 0.50980395, 0.24313726],\n",
       "         [0.4117647 , 0.49803922, 0.2901961 ],\n",
       "         ...,\n",
       "         [0.42745098, 0.19215687, 0.27058825],\n",
       "         [0.3529412 , 0.16470589, 0.22745098],\n",
       "         [0.33333334, 0.1882353 , 0.23921569]]],\n",
       "\n",
       "\n",
       "       [[[0.4       , 0.43137255, 0.34901962],\n",
       "         [0.3764706 , 0.40784314, 0.31764707],\n",
       "         [0.35686275, 0.3882353 , 0.29803923],\n",
       "         ...,\n",
       "         [0.01960784, 0.02745098, 0.02352941],\n",
       "         [0.01568628, 0.03137255, 0.02745098],\n",
       "         [0.01960784, 0.03529412, 0.03137255]],\n",
       "\n",
       "        [[0.39607844, 0.42745098, 0.3372549 ],\n",
       "         [0.36862746, 0.4       , 0.30980393],\n",
       "         [0.34901962, 0.38039216, 0.2901961 ],\n",
       "         ...,\n",
       "         [0.01960784, 0.02745098, 0.02352941],\n",
       "         [0.01960784, 0.03137255, 0.02745098],\n",
       "         [0.02352941, 0.03921569, 0.03529412]],\n",
       "\n",
       "        [[0.39607844, 0.42745098, 0.3372549 ],\n",
       "         [0.37254903, 0.40392157, 0.30980393],\n",
       "         [0.3529412 , 0.38431373, 0.2901961 ],\n",
       "         ...,\n",
       "         [0.01960784, 0.02745098, 0.02352941],\n",
       "         [0.01960784, 0.03529412, 0.03137255],\n",
       "         [0.02352941, 0.03921569, 0.03529412]],\n",
       "\n",
       "        ...,\n",
       "\n",
       "        [[0.08235294, 0.07058824, 0.05098039],\n",
       "         [0.08235294, 0.07058824, 0.05490196],\n",
       "         [0.08627451, 0.07450981, 0.05490196],\n",
       "         ...,\n",
       "         [0.05098039, 0.07450981, 0.03529412],\n",
       "         [0.05490196, 0.07843138, 0.03921569],\n",
       "         [0.05490196, 0.07843138, 0.03921569]],\n",
       "\n",
       "        [[0.12156863, 0.10980392, 0.08235294],\n",
       "         [0.11764706, 0.10588235, 0.08235294],\n",
       "         [0.10588235, 0.09411765, 0.06666667],\n",
       "         ...,\n",
       "         [0.05882353, 0.08235294, 0.04313726],\n",
       "         [0.05882353, 0.08235294, 0.04313726],\n",
       "         [0.0627451 , 0.08627451, 0.04705882]],\n",
       "\n",
       "        [[0.1254902 , 0.11372549, 0.08627451],\n",
       "         [0.12156863, 0.10980392, 0.08235294],\n",
       "         [0.10588235, 0.09411765, 0.06666667],\n",
       "         ...,\n",
       "         [0.05882353, 0.08235294, 0.04313726],\n",
       "         [0.06666667, 0.09019608, 0.05098039],\n",
       "         [0.07058824, 0.09411765, 0.05490196]]],\n",
       "\n",
       "\n",
       "       [[[0.6745098 , 0.654902  , 0.50980395],\n",
       "         [0.69411767, 0.6784314 , 0.5294118 ],\n",
       "         [0.68235296, 0.6666667 , 0.49803922],\n",
       "         ...,\n",
       "         [0.41568628, 0.4117647 , 0.2784314 ],\n",
       "         [0.42745098, 0.3882353 , 0.27058825],\n",
       "         [0.4509804 , 0.3882353 , 0.2784314 ]],\n",
       "\n",
       "        [[0.7137255 , 0.6862745 , 0.5529412 ],\n",
       "         [0.67058825, 0.64705884, 0.5019608 ],\n",
       "         [0.654902  , 0.6313726 , 0.47058824],\n",
       "         ...,\n",
       "         [0.36078432, 0.35686275, 0.22352941],\n",
       "         [0.38431373, 0.34117648, 0.22352941],\n",
       "         [0.4       , 0.33333334, 0.22352941]],\n",
       "\n",
       "        [[0.72156864, 0.6784314 , 0.54901963],\n",
       "         [0.7019608 , 0.6627451 , 0.5254902 ],\n",
       "         [0.6666667 , 0.6313726 , 0.47843137],\n",
       "         ...,\n",
       "         [0.34117648, 0.3372549 , 0.20392157],\n",
       "         [0.34117648, 0.29803923, 0.18039216],\n",
       "         [0.34509805, 0.28235295, 0.17254902]],\n",
       "\n",
       "        ...,\n",
       "\n",
       "        [[0.3529412 , 0.35686275, 0.23529412],\n",
       "         [0.7294118 , 0.7372549 , 0.627451  ],\n",
       "         [0.4117647 , 0.42745098, 0.32156864],\n",
       "         ...,\n",
       "         [0.35686275, 0.36078432, 0.21960784],\n",
       "         [0.07843138, 0.06666667, 0.04705882],\n",
       "         [0.05882353, 0.04705882, 0.08235294]],\n",
       "\n",
       "        [[0.34117648, 0.34509805, 0.2509804 ],\n",
       "         [0.6392157 , 0.654902  , 0.5294118 ],\n",
       "         [0.1882353 , 0.19607843, 0.11764706],\n",
       "         ...,\n",
       "         [0.3372549 , 0.3372549 , 0.27450982],\n",
       "         [0.02745098, 0.02745098, 0.01176471],\n",
       "         [0.0627451 , 0.05882353, 0.07843138]],\n",
       "\n",
       "        [[0.23529412, 0.24313726, 0.15686275],\n",
       "         [0.5137255 , 0.5294118 , 0.39607844],\n",
       "         [0.11764706, 0.12156863, 0.05098039],\n",
       "         ...,\n",
       "         [0.16078432, 0.16078432, 0.12156863],\n",
       "         [0.04313726, 0.04313726, 0.03137255],\n",
       "         [0.06666667, 0.06666667, 0.07843138]]]], dtype=float32)"
      ]
     },
     "execution_count": 4,
     "metadata": {},
     "output_type": "execute_result"
    }
   ],
   "source": [
    "x"
   ]
  },
  {
   "cell_type": "code",
   "execution_count": 5,
   "metadata": {
    "colab": {
     "base_uri": "https://localhost:8080/"
    },
    "executionInfo": {
     "elapsed": 525,
     "status": "ok",
     "timestamp": 1676810542742,
     "user": {
      "displayName": "Boktiar Ahmed Bappy",
      "userId": "10381972055342951581"
     },
     "user_tz": -360
    },
    "id": "LsYceBRtXhvz",
    "outputId": "9c224630-e5c4-4781-d05e-657d6668036a"
   },
   "outputs": [
    {
     "data": {
      "text/plain": [
       "array([[0., 0., 0., ..., 0., 0., 0.],\n",
       "       [0., 0., 0., ..., 0., 0., 0.],\n",
       "       [0., 1., 0., ..., 0., 0., 0.],\n",
       "       ...,\n",
       "       [0., 0., 0., ..., 0., 1., 0.],\n",
       "       [0., 0., 0., ..., 0., 0., 0.],\n",
       "       [0., 0., 0., ..., 0., 0., 0.]])"
      ]
     },
     "execution_count": 5,
     "metadata": {},
     "output_type": "execute_result"
    }
   ],
   "source": [
    "y"
   ]
  },
  {
   "cell_type": "code",
   "execution_count": 6,
   "metadata": {
    "colab": {
     "base_uri": "https://localhost:8080/"
    },
    "executionInfo": {
     "elapsed": 5,
     "status": "ok",
     "timestamp": 1676810547449,
     "user": {
      "displayName": "Boktiar Ahmed Bappy",
      "userId": "10381972055342951581"
     },
     "user_tz": -360
    },
    "id": "0DDm8dyTXkRy",
    "outputId": "e1e638a6-1b68-454d-f0b5-ea263c6d0d1f"
   },
   "outputs": [
    {
     "data": {
      "text/plain": [
       "(1360, 224, 224, 3)"
      ]
     },
     "execution_count": 6,
     "metadata": {},
     "output_type": "execute_result"
    }
   ],
   "source": [
    "x.shape"
   ]
  },
  {
   "cell_type": "code",
   "execution_count": 7,
   "metadata": {
    "colab": {
     "base_uri": "https://localhost:8080/"
    },
    "executionInfo": {
     "elapsed": 521,
     "status": "ok",
     "timestamp": 1676810560826,
     "user": {
      "displayName": "Boktiar Ahmed Bappy",
      "userId": "10381972055342951581"
     },
     "user_tz": -360
    },
    "id": "IQbwOCsqXsw8",
    "outputId": "781a99f3-03f0-4c87-a1e5-c6ac988e0255"
   },
   "outputs": [
    {
     "data": {
      "text/plain": [
       "(1360, 17)"
      ]
     },
     "execution_count": 7,
     "metadata": {},
     "output_type": "execute_result"
    }
   ],
   "source": [
    "y.shape"
   ]
  },
  {
   "cell_type": "code",
   "execution_count": 8,
   "metadata": {
    "colab": {
     "base_uri": "https://localhost:8080/"
    },
    "executionInfo": {
     "elapsed": 1442,
     "status": "ok",
     "timestamp": 1676810635131,
     "user": {
      "displayName": "Boktiar Ahmed Bappy",
      "userId": "10381972055342951581"
     },
     "user_tz": -360
    },
    "id": "Eas7XYmzX4qB",
    "outputId": "022d2bdd-ef50-4844-e48d-0f62a8a0232e"
   },
   "outputs": [
    {
     "name": "stderr",
     "output_type": "stream",
     "text": [
      "WARNING:tensorflow:From /usr/local/lib/python3.8/dist-packages/keras/layers/normalization/batch_normalization.py:561: _colocate_with (from tensorflow.python.framework.ops) is deprecated and will be removed in a future version.\n",
      "Instructions for updating:\n",
      "Colocations handled automatically by placer.\n"
     ]
    },
    {
     "name": "stdout",
     "output_type": "stream",
     "text": [
      "Model: \"sequential\"\n",
      "_________________________________________________________________\n",
      " Layer (type)                Output Shape              Param #   \n",
      "=================================================================\n",
      " conv2d (Conv2D)             (None, 54, 54, 96)        34944     \n",
      "                                                                 \n",
      " activation (Activation)     (None, 54, 54, 96)        0         \n",
      "                                                                 \n",
      " max_pooling2d (MaxPooling2D  (None, 26, 26, 96)       0         \n",
      " )                                                               \n",
      "                                                                 \n",
      " batch_normalization (BatchN  (None, 26, 26, 96)       384       \n",
      " ormalization)                                                   \n",
      "                                                                 \n",
      " conv2d_1 (Conv2D)           (None, 26, 26, 256)       614656    \n",
      "                                                                 \n",
      " activation_1 (Activation)   (None, 26, 26, 256)       0         \n",
      "                                                                 \n",
      " max_pooling2d_1 (MaxPooling  (None, 12, 12, 256)      0         \n",
      " 2D)                                                             \n",
      "                                                                 \n",
      " batch_normalization_1 (Batc  (None, 12, 12, 256)      1024      \n",
      " hNormalization)                                                 \n",
      "                                                                 \n",
      " conv2d_2 (Conv2D)           (None, 10, 10, 384)       885120    \n",
      "                                                                 \n",
      " activation_2 (Activation)   (None, 10, 10, 384)       0         \n",
      "                                                                 \n",
      " batch_normalization_2 (Batc  (None, 10, 10, 384)      1536      \n",
      " hNormalization)                                                 \n",
      "                                                                 \n",
      " conv2d_3 (Conv2D)           (None, 8, 8, 384)         1327488   \n",
      "                                                                 \n",
      " activation_3 (Activation)   (None, 8, 8, 384)         0         \n",
      "                                                                 \n",
      " batch_normalization_3 (Batc  (None, 8, 8, 384)        1536      \n",
      " hNormalization)                                                 \n",
      "                                                                 \n",
      " conv2d_4 (Conv2D)           (None, 6, 6, 256)         884992    \n",
      "                                                                 \n",
      " activation_4 (Activation)   (None, 6, 6, 256)         0         \n",
      "                                                                 \n",
      " max_pooling2d_2 (MaxPooling  (None, 2, 2, 256)        0         \n",
      " 2D)                                                             \n",
      "                                                                 \n",
      " batch_normalization_4 (Batc  (None, 2, 2, 256)        1024      \n",
      " hNormalization)                                                 \n",
      "                                                                 \n",
      " flatten (Flatten)           (None, 1024)              0         \n",
      "                                                                 \n",
      " dense (Dense)               (None, 4096)              4198400   \n",
      "                                                                 \n",
      " activation_5 (Activation)   (None, 4096)              0         \n",
      "                                                                 \n",
      " dropout (Dropout)           (None, 4096)              0         \n",
      "                                                                 \n",
      " batch_normalization_5 (Batc  (None, 4096)             16384     \n",
      " hNormalization)                                                 \n",
      "                                                                 \n",
      " dense_1 (Dense)             (None, 4096)              16781312  \n",
      "                                                                 \n",
      " activation_6 (Activation)   (None, 4096)              0         \n",
      "                                                                 \n",
      " dropout_1 (Dropout)         (None, 4096)              0         \n",
      "                                                                 \n",
      " batch_normalization_6 (Batc  (None, 4096)             16384     \n",
      " hNormalization)                                                 \n",
      "                                                                 \n",
      " dense_2 (Dense)             (None, 17)                69649     \n",
      "                                                                 \n",
      " activation_7 (Activation)   (None, 17)                0         \n",
      "                                                                 \n",
      "=================================================================\n",
      "Total params: 24,834,833\n",
      "Trainable params: 24,815,697\n",
      "Non-trainable params: 19,136\n",
      "_________________________________________________________________\n"
     ]
    }
   ],
   "source": [
    "# Create a sequential model\n",
    "model = Sequential()\n",
    "\n",
    "# 1st Convolutional Layer\n",
    "model.add(Conv2D(filters=96, input_shape=(224,224,3), kernel_size=(11,11), strides=(4,4), padding='valid'))\n",
    "model.add(Activation('relu'))\n",
    "\n",
    "# Pooling \n",
    "model.add(MaxPooling2D(pool_size=(3,3), strides=(2,2), padding='valid'))\n",
    "# Batch Normalisation before passing it to the next layer\n",
    "model.add(BatchNormalization())\n",
    "\n",
    "# 2nd Convolutional Layer\n",
    "model.add(Conv2D(filters=256, kernel_size=(5,5), strides=(1,1), padding='same'))\n",
    "model.add(Activation('relu'))\n",
    "\n",
    "# Pooling\n",
    "model.add(MaxPooling2D(pool_size=(3,3), strides=(2,2), padding='valid'))\n",
    "# Batch Normalisation\n",
    "model.add(BatchNormalization())\n",
    "\n",
    "\n",
    "\n",
    "# 3rd Convolutional Layer\n",
    "model.add(Conv2D(filters=384, kernel_size=(3,3), strides=(1,1), padding='valid'))\n",
    "model.add(Activation('relu'))\n",
    "# Batch Normalisation\n",
    "model.add(BatchNormalization())\n",
    "\n",
    "# 4th Convolutional Layer\n",
    "model.add(Conv2D(filters=384, kernel_size=(3,3), strides=(1,1), padding='valid'))\n",
    "model.add(Activation('relu'))\n",
    "# Batch Normalisation\n",
    "model.add(BatchNormalization())\n",
    "\n",
    "\n",
    "# 5th Convolutional Layer\n",
    "model.add(Conv2D(filters=256, kernel_size=(3,3), strides=(1,1), padding='valid'))\n",
    "model.add(Activation('relu'))\n",
    "\n",
    "\n",
    "# Pooling\n",
    "model.add(MaxPooling2D(pool_size=(3,3), strides=(2,2), padding='valid'))\n",
    "# Batch Normalisation\n",
    "model.add(BatchNormalization())\n",
    "\n",
    "\n",
    "# Passing it to a dense layer\n",
    "model.add(Flatten())\n",
    "\n",
    "# 1st Dense Layer\n",
    "model.add(Dense(4096, input_shape=(224*224*3,)))\n",
    "model.add(Activation('relu'))\n",
    "# Add Dropout to prevent overfitting\n",
    "model.add(Dropout(0.4))\n",
    "# Batch Normalisation\n",
    "model.add(BatchNormalization())\n",
    "\n",
    "# 2nd Dense Layer\n",
    "model.add(Dense(4096))\n",
    "model.add(Activation('relu'))\n",
    "# Add Dropout\n",
    "model.add(Dropout(0.4))\n",
    "# Batch Normalisation\n",
    "model.add(BatchNormalization())\n",
    "\n",
    "# Output Layer\n",
    "model.add(Dense(17))\n",
    "model.add(Activation('softmax'))\n",
    "\n",
    "model.summary()"
   ]
  },
  {
   "cell_type": "code",
   "execution_count": 10,
   "metadata": {
    "colab": {
     "base_uri": "https://localhost:8080/"
    },
    "executionInfo": {
     "elapsed": 6268,
     "status": "ok",
     "timestamp": 1676810739451,
     "user": {
      "displayName": "Boktiar Ahmed Bappy",
      "userId": "10381972055342951581"
     },
     "user_tz": -360
    },
    "id": "XQqnIvuOtTmo",
    "outputId": "1a554ba7-731e-4092-eb04-f1d08b3c492a"
   },
   "outputs": [
    {
     "name": "stdout",
     "output_type": "stream",
     "text": [
      "Looking in indexes: https://pypi.org/simple, https://us-python.pkg.dev/colab-wheels/public/simple/\n",
      "Collecting tensorflow-addons==0.16.1\n",
      "  Downloading tensorflow_addons-0.16.1-cp38-cp38-manylinux_2_12_x86_64.manylinux2010_x86_64.whl (1.1 MB)\n",
      "\u001b[2K     \u001b[90m━━━━━━━━━━━━━━━━━━━━━━━━━━━━━━━━━━━━━━━━\u001b[0m \u001b[32m1.1/1.1 MB\u001b[0m \u001b[31m30.9 MB/s\u001b[0m eta \u001b[36m0:00:00\u001b[0m\n",
      "\u001b[?25hRequirement already satisfied: typeguard>=2.7 in /usr/local/lib/python3.8/dist-packages (from tensorflow-addons==0.16.1) (2.7.1)\n",
      "Installing collected packages: tensorflow-addons\n",
      "Successfully installed tensorflow-addons-0.16.1\n"
     ]
    }
   ],
   "source": [
    "!pip install tensorflow-addons==0.16.1"
   ]
  },
  {
   "cell_type": "code",
   "execution_count": 11,
   "metadata": {
    "colab": {
     "base_uri": "https://localhost:8080/",
     "height": 346
    },
    "executionInfo": {
     "elapsed": 8,
     "status": "error",
     "timestamp": 1676810747120,
     "user": {
      "displayName": "Boktiar Ahmed Bappy",
      "userId": "10381972055342951581"
     },
     "user_tz": -360
    },
    "id": "A9sMbiPZaOFU",
    "outputId": "a6764c3c-9c7d-4867-e12b-f3a0f6b751d8"
   },
   "outputs": [
    {
     "ename": "NotImplementedError",
     "evalue": "ignored",
     "output_type": "error",
     "traceback": [
      "\u001b[0;31m---------------------------------------------------------------------------\u001b[0m",
      "\u001b[0;31mNotImplementedError\u001b[0m                       Traceback (most recent call last)",
      "\u001b[0;32m<ipython-input-11-4f616a8ab371>\u001b[0m in \u001b[0;36m<module>\u001b[0;34m\u001b[0m\n\u001b[1;32m      1\u001b[0m \u001b[0;31m# Compile\u001b[0m\u001b[0;34m\u001b[0m\u001b[0;34m\u001b[0m\u001b[0;34m\u001b[0m\u001b[0m\n\u001b[1;32m      2\u001b[0m \u001b[0mopt\u001b[0m \u001b[0;34m=\u001b[0m \u001b[0mtf\u001b[0m\u001b[0;34m.\u001b[0m\u001b[0moptimizers\u001b[0m\u001b[0;34m.\u001b[0m\u001b[0mAdam\u001b[0m\u001b[0;34m(\u001b[0m\u001b[0mlearning_rate\u001b[0m \u001b[0;34m=\u001b[0m \u001b[0;36m0.01\u001b[0m\u001b[0;34m)\u001b[0m\u001b[0;34m\u001b[0m\u001b[0;34m\u001b[0m\u001b[0m\n\u001b[0;32m----> 3\u001b[0;31m \u001b[0mmodel\u001b[0m\u001b[0;34m.\u001b[0m\u001b[0mcompile\u001b[0m\u001b[0;34m(\u001b[0m\u001b[0mloss\u001b[0m\u001b[0;34m=\u001b[0m\u001b[0;34m'categorical_crossentropy'\u001b[0m\u001b[0;34m,\u001b[0m \u001b[0moptimizer\u001b[0m\u001b[0;34m=\u001b[0m\u001b[0mopt\u001b[0m\u001b[0;34m,\u001b[0m \u001b[0mmetrics\u001b[0m\u001b[0;34m=\u001b[0m\u001b[0;34m[\u001b[0m\u001b[0;34m'accuracy'\u001b[0m\u001b[0;34m]\u001b[0m\u001b[0;34m)\u001b[0m\u001b[0;34m\u001b[0m\u001b[0;34m\u001b[0m\u001b[0m\n\u001b[0m",
      "\u001b[0;32m/usr/local/lib/python3.8/dist-packages/tensorflow/python/trackable/base.py\u001b[0m in \u001b[0;36m_method_wrapper\u001b[0;34m(self, *args, **kwargs)\u001b[0m\n\u001b[1;32m    203\u001b[0m     \u001b[0mself\u001b[0m\u001b[0;34m.\u001b[0m\u001b[0m_self_setattr_tracking\u001b[0m \u001b[0;34m=\u001b[0m \u001b[0;32mFalse\u001b[0m  \u001b[0;31m# pylint: disable=protected-access\u001b[0m\u001b[0;34m\u001b[0m\u001b[0;34m\u001b[0m\u001b[0m\n\u001b[1;32m    204\u001b[0m     \u001b[0;32mtry\u001b[0m\u001b[0;34m:\u001b[0m\u001b[0;34m\u001b[0m\u001b[0;34m\u001b[0m\u001b[0m\n\u001b[0;32m--> 205\u001b[0;31m       \u001b[0mresult\u001b[0m \u001b[0;34m=\u001b[0m \u001b[0mmethod\u001b[0m\u001b[0;34m(\u001b[0m\u001b[0mself\u001b[0m\u001b[0;34m,\u001b[0m \u001b[0;34m*\u001b[0m\u001b[0margs\u001b[0m\u001b[0;34m,\u001b[0m \u001b[0;34m**\u001b[0m\u001b[0mkwargs\u001b[0m\u001b[0;34m)\u001b[0m\u001b[0;34m\u001b[0m\u001b[0;34m\u001b[0m\u001b[0m\n\u001b[0m\u001b[1;32m    206\u001b[0m     \u001b[0;32mfinally\u001b[0m\u001b[0;34m:\u001b[0m\u001b[0;34m\u001b[0m\u001b[0;34m\u001b[0m\u001b[0m\n\u001b[1;32m    207\u001b[0m       \u001b[0mself\u001b[0m\u001b[0;34m.\u001b[0m\u001b[0m_self_setattr_tracking\u001b[0m \u001b[0;34m=\u001b[0m \u001b[0mprevious_value\u001b[0m  \u001b[0;31m# pylint: disable=protected-access\u001b[0m\u001b[0;34m\u001b[0m\u001b[0;34m\u001b[0m\u001b[0m\n",
      "\u001b[0;32m/usr/local/lib/python3.8/dist-packages/keras/engine/training_v1.py\u001b[0m in \u001b[0;36mcompile\u001b[0;34m(self, optimizer, loss, metrics, loss_weights, sample_weight_mode, weighted_metrics, target_tensors, distribute, **kwargs)\u001b[0m\n\u001b[1;32m    317\u001b[0m                 )\n\u001b[1;32m    318\u001b[0m \u001b[0;34m\u001b[0m\u001b[0m\n\u001b[0;32m--> 319\u001b[0;31m         \u001b[0mself\u001b[0m\u001b[0;34m.\u001b[0m\u001b[0m_set_optimizer\u001b[0m\u001b[0;34m(\u001b[0m\u001b[0moptimizer\u001b[0m\u001b[0;34m)\u001b[0m\u001b[0;34m\u001b[0m\u001b[0;34m\u001b[0m\u001b[0m\n\u001b[0m\u001b[1;32m    320\u001b[0m         is_any_keras_optimizer_v1 = any(\n\u001b[1;32m    321\u001b[0m             (\n",
      "\u001b[0;32m/usr/local/lib/python3.8/dist-packages/keras/engine/training_v1.py\u001b[0m in \u001b[0;36m_set_optimizer\u001b[0;34m(self, optimizer)\u001b[0m\n\u001b[1;32m   1469\u001b[0m             \u001b[0mself\u001b[0m\u001b[0;34m.\u001b[0m\u001b[0moptimizer\u001b[0m \u001b[0;34m=\u001b[0m \u001b[0;34m[\u001b[0m\u001b[0moptimizers\u001b[0m\u001b[0;34m.\u001b[0m\u001b[0mget\u001b[0m\u001b[0;34m(\u001b[0m\u001b[0mopt\u001b[0m\u001b[0;34m)\u001b[0m \u001b[0;32mfor\u001b[0m \u001b[0mopt\u001b[0m \u001b[0;32min\u001b[0m \u001b[0moptimizer\u001b[0m\u001b[0;34m]\u001b[0m\u001b[0;34m\u001b[0m\u001b[0;34m\u001b[0m\u001b[0m\n\u001b[1;32m   1470\u001b[0m         \u001b[0;32melse\u001b[0m\u001b[0;34m:\u001b[0m\u001b[0;34m\u001b[0m\u001b[0;34m\u001b[0m\u001b[0m\n\u001b[0;32m-> 1471\u001b[0;31m             \u001b[0mself\u001b[0m\u001b[0;34m.\u001b[0m\u001b[0moptimizer\u001b[0m \u001b[0;34m=\u001b[0m \u001b[0moptimizers\u001b[0m\u001b[0;34m.\u001b[0m\u001b[0mget\u001b[0m\u001b[0;34m(\u001b[0m\u001b[0moptimizer\u001b[0m\u001b[0;34m)\u001b[0m\u001b[0;34m\u001b[0m\u001b[0;34m\u001b[0m\u001b[0m\n\u001b[0m\u001b[1;32m   1472\u001b[0m \u001b[0;34m\u001b[0m\u001b[0m\n\u001b[1;32m   1473\u001b[0m         if self._dtype_policy.name == \"mixed_float16\" and not isinstance(\n",
      "\u001b[0;32m/usr/local/lib/python3.8/dist-packages/keras/optimizers/__init__.py\u001b[0m in \u001b[0;36mget\u001b[0;34m(identifier, **kwargs)\u001b[0m\n\u001b[1;32m    268\u001b[0m         \u001b[0;32melse\u001b[0m\u001b[0;34m:\u001b[0m\u001b[0;34m\u001b[0m\u001b[0;34m\u001b[0m\u001b[0m\n\u001b[1;32m    269\u001b[0m             \u001b[0;31m# If TF2 is disabled, we convert to the legacy optimizer.\u001b[0m\u001b[0;34m\u001b[0m\u001b[0;34m\u001b[0m\u001b[0;34m\u001b[0m\u001b[0m\n\u001b[0;32m--> 270\u001b[0;31m             \u001b[0;32mreturn\u001b[0m \u001b[0mconvert_to_legacy_optimizer\u001b[0m\u001b[0;34m(\u001b[0m\u001b[0midentifier\u001b[0m\u001b[0;34m)\u001b[0m\u001b[0;34m\u001b[0m\u001b[0;34m\u001b[0m\u001b[0m\n\u001b[0m\u001b[1;32m    271\u001b[0m \u001b[0;34m\u001b[0m\u001b[0m\n\u001b[1;32m    272\u001b[0m     \u001b[0;31m# Wrap legacy TF optimizer instances\u001b[0m\u001b[0;34m\u001b[0m\u001b[0;34m\u001b[0m\u001b[0;34m\u001b[0m\u001b[0m\n",
      "\u001b[0;32m/usr/local/lib/python3.8/dist-packages/keras/optimizers/__init__.py\u001b[0m in \u001b[0;36mconvert_to_legacy_optimizer\u001b[0;34m(optimizer)\u001b[0m\n\u001b[1;32m    211\u001b[0m         )\n\u001b[1;32m    212\u001b[0m     \u001b[0moptimizer_name\u001b[0m \u001b[0;34m=\u001b[0m \u001b[0moptimizer\u001b[0m\u001b[0;34m.\u001b[0m\u001b[0m__class__\u001b[0m\u001b[0;34m.\u001b[0m\u001b[0m__name__\u001b[0m\u001b[0;34m.\u001b[0m\u001b[0mlower\u001b[0m\u001b[0;34m(\u001b[0m\u001b[0;34m)\u001b[0m\u001b[0;34m\u001b[0m\u001b[0;34m\u001b[0m\u001b[0m\n\u001b[0;32m--> 213\u001b[0;31m     \u001b[0mconfig\u001b[0m \u001b[0;34m=\u001b[0m \u001b[0moptimizer\u001b[0m\u001b[0;34m.\u001b[0m\u001b[0mget_config\u001b[0m\u001b[0;34m(\u001b[0m\u001b[0;34m)\u001b[0m\u001b[0;34m\u001b[0m\u001b[0;34m\u001b[0m\u001b[0m\n\u001b[0m\u001b[1;32m    214\u001b[0m     \u001b[0;31m# Remove fields that only exist in experimental optimizer.\u001b[0m\u001b[0;34m\u001b[0m\u001b[0;34m\u001b[0m\u001b[0;34m\u001b[0m\u001b[0m\n\u001b[1;32m    215\u001b[0m     keys_to_remove = [\n",
      "\u001b[0;32m/usr/local/lib/python3.8/dist-packages/keras/optimizers/optimizer_experimental/adam.py\u001b[0m in \u001b[0;36mget_config\u001b[0;34m(self)\u001b[0m\n\u001b[1;32m    205\u001b[0m         config.update(\n\u001b[1;32m    206\u001b[0m             {\n\u001b[0;32m--> 207\u001b[0;31m                 \"learning_rate\": self._serialize_hyperparameter(\n\u001b[0m\u001b[1;32m    208\u001b[0m                     \u001b[0mself\u001b[0m\u001b[0;34m.\u001b[0m\u001b[0m_learning_rate\u001b[0m\u001b[0;34m\u001b[0m\u001b[0;34m\u001b[0m\u001b[0m\n\u001b[1;32m    209\u001b[0m                 ),\n",
      "\u001b[0;32m/usr/local/lib/python3.8/dist-packages/keras/optimizers/optimizer_experimental/optimizer.py\u001b[0m in \u001b[0;36m_serialize_hyperparameter\u001b[0;34m(self, hyperparameter)\u001b[0m\n\u001b[1;32m    716\u001b[0m             \u001b[0;32mreturn\u001b[0m \u001b[0mlearning_rate_schedule\u001b[0m\u001b[0;34m.\u001b[0m\u001b[0mserialize\u001b[0m\u001b[0;34m(\u001b[0m\u001b[0mhyperparameter\u001b[0m\u001b[0;34m)\u001b[0m\u001b[0;34m\u001b[0m\u001b[0;34m\u001b[0m\u001b[0m\n\u001b[1;32m    717\u001b[0m         \u001b[0;32mif\u001b[0m \u001b[0misinstance\u001b[0m\u001b[0;34m(\u001b[0m\u001b[0mhyperparameter\u001b[0m\u001b[0;34m,\u001b[0m \u001b[0mtf\u001b[0m\u001b[0;34m.\u001b[0m\u001b[0mVariable\u001b[0m\u001b[0;34m)\u001b[0m\u001b[0;34m:\u001b[0m\u001b[0;34m\u001b[0m\u001b[0;34m\u001b[0m\u001b[0m\n\u001b[0;32m--> 718\u001b[0;31m             \u001b[0;32mreturn\u001b[0m \u001b[0mhyperparameter\u001b[0m\u001b[0;34m.\u001b[0m\u001b[0mnumpy\u001b[0m\u001b[0;34m(\u001b[0m\u001b[0;34m)\u001b[0m\u001b[0;34m\u001b[0m\u001b[0;34m\u001b[0m\u001b[0m\n\u001b[0m\u001b[1;32m    719\u001b[0m         \u001b[0;32mif\u001b[0m \u001b[0mcallable\u001b[0m\u001b[0;34m(\u001b[0m\u001b[0mhyperparameter\u001b[0m\u001b[0;34m)\u001b[0m\u001b[0;34m:\u001b[0m\u001b[0;34m\u001b[0m\u001b[0;34m\u001b[0m\u001b[0m\n\u001b[1;32m    720\u001b[0m             \u001b[0;32mreturn\u001b[0m \u001b[0mhyperparameter\u001b[0m\u001b[0;34m(\u001b[0m\u001b[0;34m)\u001b[0m\u001b[0;34m\u001b[0m\u001b[0;34m\u001b[0m\u001b[0m\n",
      "\u001b[0;32m/usr/local/lib/python3.8/dist-packages/tensorflow/python/ops/resource_variable_ops.py\u001b[0m in \u001b[0;36mnumpy\u001b[0;34m(self)\u001b[0m\n\u001b[1;32m    638\u001b[0m     \u001b[0;32mif\u001b[0m \u001b[0mcontext\u001b[0m\u001b[0;34m.\u001b[0m\u001b[0mexecuting_eagerly\u001b[0m\u001b[0;34m(\u001b[0m\u001b[0;34m)\u001b[0m\u001b[0;34m:\u001b[0m\u001b[0;34m\u001b[0m\u001b[0;34m\u001b[0m\u001b[0m\n\u001b[1;32m    639\u001b[0m       \u001b[0;32mreturn\u001b[0m \u001b[0mself\u001b[0m\u001b[0;34m.\u001b[0m\u001b[0mread_value\u001b[0m\u001b[0;34m(\u001b[0m\u001b[0;34m)\u001b[0m\u001b[0;34m.\u001b[0m\u001b[0mnumpy\u001b[0m\u001b[0;34m(\u001b[0m\u001b[0;34m)\u001b[0m\u001b[0;34m\u001b[0m\u001b[0;34m\u001b[0m\u001b[0m\n\u001b[0;32m--> 640\u001b[0;31m     raise NotImplementedError(\n\u001b[0m\u001b[1;32m    641\u001b[0m         \"numpy() is only available when eager execution is enabled.\")\n\u001b[1;32m    642\u001b[0m \u001b[0;34m\u001b[0m\u001b[0m\n",
      "\u001b[0;31mNotImplementedError\u001b[0m: numpy() is only available when eager execution is enabled."
     ]
    }
   ],
   "source": [
    "# Compile \n",
    "opt = tf.optimizers.Adam(learning_rate = 0.01)\n",
    "model.compile(loss='categorical_crossentropy', optimizer=opt, metrics=['accuracy'])"
   ]
  },
  {
   "cell_type": "code",
   "execution_count": null,
   "metadata": {
    "colab": {
     "base_uri": "https://localhost:8080/"
    },
    "executionInfo": {
     "elapsed": 23150,
     "status": "ok",
     "timestamp": 1664608875933,
     "user": {
      "displayName": "Boktiar Ahmed Bappy",
      "userId": "10381972055342951581"
     },
     "user_tz": -360
    },
    "id": "2rgod3O1ap1C",
    "outputId": "30e903cf-0297-475b-e9b5-24a32f9ab38a"
   },
   "outputs": [
    {
     "name": "stdout",
     "output_type": "stream",
     "text": [
      "Train on 1088 samples, validate on 272 samples\n",
      "Epoch 1/5\n",
      "1088/1088 [==============================] - ETA: 0s - loss: 8.6052 - acc: 0.1682"
     ]
    },
    {
     "name": "stderr",
     "output_type": "stream",
     "text": [
      "/usr/local/lib/python3.7/dist-packages/keras/engine/training_v1.py:2057: UserWarning: `Model.state_updates` will be removed in a future version. This property should not be used in TensorFlow 2.0, as `updates` are applied automatically.\n",
      "  updates = self.state_updates\n"
     ]
    },
    {
     "name": "stdout",
     "output_type": "stream",
     "text": [
      "1088/1088 [==============================] - 14s 13ms/sample - loss: 8.6052 - acc: 0.1682 - val_loss: 557777.7904 - val_acc: 0.0846\n",
      "Epoch 2/5\n",
      "1088/1088 [==============================] - 1s 1ms/sample - loss: 5.8684 - acc: 0.2243 - val_loss: 41494.1847 - val_acc: 0.0625\n",
      "Epoch 3/5\n",
      "1088/1088 [==============================] - 1s 1ms/sample - loss: 5.1493 - acc: 0.2482 - val_loss: 4478.9027 - val_acc: 0.0515\n",
      "Epoch 4/5\n",
      "1088/1088 [==============================] - 1s 1ms/sample - loss: 4.0360 - acc: 0.3079 - val_loss: 2056.6413 - val_acc: 0.0625\n",
      "Epoch 5/5\n",
      "1088/1088 [==============================] - 1s 1ms/sample - loss: 3.6055 - acc: 0.3327 - val_loss: 507.0878 - val_acc: 0.1140\n"
     ]
    },
    {
     "data": {
      "text/plain": [
       "<keras.callbacks.History at 0x7f05121d8350>"
      ]
     },
     "execution_count": 10,
     "metadata": {},
     "output_type": "execute_result"
    }
   ],
   "source": [
    "# Train\n",
    "model.fit(x, y, batch_size=64, epochs=5, verbose=1,validation_split=0.2, shuffle=True)"
   ]
  },
  {
   "cell_type": "code",
   "execution_count": null,
   "metadata": {
    "id": "sK7qEdLia0-M"
   },
   "outputs": [],
   "source": []
  }
 ],
 "metadata": {
  "accelerator": "GPU",
  "colab": {
   "authorship_tag": "ABX9TyMXegtwqtEfli5VcHQAkUiL",
   "provenance": []
  },
  "kernelspec": {
   "display_name": "Python 3 (ipykernel)",
   "language": "python",
   "name": "python3"
  },
  "language_info": {
   "codemirror_mode": {
    "name": "ipython",
    "version": 3
   },
   "file_extension": ".py",
   "mimetype": "text/x-python",
   "name": "python",
   "nbconvert_exporter": "python",
   "pygments_lexer": "ipython3",
   "version": "3.9.12"
  },
  "latex_envs": {
   "LaTeX_envs_menu_present": true,
   "autoclose": false,
   "autocomplete": true,
   "bibliofile": "biblio.bib",
   "cite_by": "apalike",
   "current_citInitial": 1,
   "eqLabelWithNumbers": true,
   "eqNumInitial": 1,
   "hotkeys": {
    "equation": "Ctrl-E",
    "itemize": "Ctrl-I"
   },
   "labels_anchors": false,
   "latex_user_defs": false,
   "report_style_numbering": false,
   "user_envs_cfg": false
  },
  "nbTranslate": {
   "displayLangs": [
    "*"
   ],
   "hotkey": "alt-t",
   "langInMainMenu": true,
   "sourceLang": "en",
   "targetLang": "fr",
   "useGoogleTranslate": true
  },
  "toc": {
   "base_numbering": 1,
   "nav_menu": {},
   "number_sections": true,
   "sideBar": true,
   "skip_h1_title": false,
   "title_cell": "Table of Contents",
   "title_sidebar": "Contents",
   "toc_cell": false,
   "toc_position": {},
   "toc_section_display": true,
   "toc_window_display": false
  },
  "varInspector": {
   "cols": {
    "lenName": 16,
    "lenType": 16,
    "lenVar": 40
   },
   "kernels_config": {
    "python": {
     "delete_cmd_postfix": "",
     "delete_cmd_prefix": "del ",
     "library": "var_list.py",
     "varRefreshCmd": "print(var_dic_list())"
    },
    "r": {
     "delete_cmd_postfix": ") ",
     "delete_cmd_prefix": "rm(",
     "library": "var_list.r",
     "varRefreshCmd": "cat(var_dic_list()) "
    }
   },
   "types_to_exclude": [
    "module",
    "function",
    "builtin_function_or_method",
    "instance",
    "_Feature"
   ],
   "window_display": false
  }
 },
 "nbformat": 4,
 "nbformat_minor": 1
}
