{
 "cells": [
  {
   "cell_type": "markdown",
   "id": "d5b2676f",
   "metadata": {},
   "source": [
    "![image](https://user-images.githubusercontent.com/57321948/196933065-4b16c235-f3b9-4391-9cfe-4affcec87c35.png)\n",
    "\n",
    "# **Class - 67 `Deep Learning`**\n",
    "## **11 February 2023**\n",
    "In this class **Paul Sir** taught **CNN (Recap - I)**\n",
    "\n",
    "### **Agenda of Today Class**\n",
    "1. **Computer Vision**\n",
    "2. **Kernels** \n",
    "3. **Channels**\n",
    "\n",
    "**Question: `How to create a custom kernels.`**\n",
    "\n",
    "**Answer: Custom kernels**, also known as **filters**, can be used in convolutional neural networks (CNNs) to extract specific features from input images. Here are the general steps for creating a custom kernel:\n",
    "1. **Define the size of the kernel:** The size of the kernel determines the receptive field, or the area of the input image that the kernel will be applied to. Typical sizes for kernels are 3x3, 5x5, and 7x7.\n",
    "2. **Choose the values for the kernel:** The values in the kernel matrix will determine how the kernel will extract features from the input image. You can choose these values manually or use techniques such as random initialization or gradient descent to optimize the kernel.\n",
    "3. **Apply the kernel to the input image:** The kernel will be convolved with the input image to produce a feature map. The convolution operation involves sliding the kernel over the input image, multiplying the values of the kernel with the corresponding values of the input image, and summing up the results.\n",
    "4. **Repeat the process with multiple kernels:** CNNs typically use multiple kernels in each layer to extract different types of features from the input image.\n",
    "5. **Combine the feature maps:** The feature maps produced by the different kernels are combined to form the output of the layer.\n",
    "\n",
    "Here is an example of creating a custom kernel in Python using the TensorFlow library:\n",
    "\n",
    "```python\n",
    "import tensorflow as tf\n",
    "from tensorflow.keras.layers import Conv2D\n",
    "\n",
    "# Define the kernel\n",
    "kernel = tf.constant([[1, 2, 1], [0, 0, 0], [-1, -2, -1]], dtype=tf.float32, shape=(3, 3, 1, 1))\n",
    "\n",
    "# Create a convolutional layer with the custom kernel\n",
    "conv_layer = Conv2D(filters=1, kernel_size=3, strides=1, padding='same', kernel_initializer=tf.constant_initializer(kernel))\n",
    "\n",
    "# Apply the layer to an input image\n",
    "input_image = tf.constant([[[[1], [2], [3]], [[4], [5], [6]], [[7], [8], [9]]]], dtype=tf.float32)\n",
    "output = conv_layer(input_image)\n",
    "````\n",
    "\n",
    "In this example, we create a 3x3 kernel with values that will detect horizontal edges in an input image. We then create a convolutional layer with the custom kernel and apply it to a 3x3 input image. The output of the layer will be a feature map that highlights the horizontal edges in the input image.\n",
    "\n",
    "*********************************************\n",
    "*********************************************\n",
    "\n",
    "## | **Filter** | **Kernels** | **Feature Extraction** |\n",
    "\n",
    "### Pixel $\\rightarrow$ Smallest Component\n",
    "\n",
    "### Pixel $\\rightarrow$ Edges/Gradients $\\rightarrow$ Patterns $\\rightarrow$ Textures $\\rightarrow$ PO $\\rightarrow$ Image Object $\\rightarrow$ Image/Video Scene\n",
    "\n",
    "### Image RGB= $h \\times w \\times 3$\n",
    "\n",
    "### **Small to Big** \n",
    "\n",
    "* **Pixel $\\rightarrow$ Scence/Object** \n",
    "\n",
    "### **Big to Small**\n",
    "**Iamge** $\\rightarrow$ **Object** $\\rightarrow$ **Parts of Object** $\\rightarrow$ **Textures** $\\rightarrow$ **Patterns** $\\rightarrow$ **Edges** $\\rightarrow$ **Pixels**\n",
    "\n"
   ]
  },
  {
   "cell_type": "markdown",
   "id": "68b432f8",
   "metadata": {},
   "source": [
    "# **Class - 68 `Deep Learning`**\n",
    "## **12 February 2023**\n",
    "In this class **Paul Sir** taught **CNN (Recap - II)**\n",
    "\n",
    "## **Weight Initialization**\n",
    "1. **Randon**\n",
    "2. **Uniform**\n",
    "3. **Glorot**\n",
    "4. **Xavier**\n",
    "\n",
    "## Some Important Links Related to this Class\n",
    "\n",
    "### [CNN & ANN Visualization Link](https://adamharley.com/nn_vis/)\n",
    "\n",
    "### [Jovian Notebook CNN](https://jovian.com/paulbindass/convolutional-neural-network-world#C4)\n",
    "\n",
    "### [CNN Explainer](https://poloclub.github.io/cnn-explainer/)\n",
    "\n",
    "### [Invariance in CNN](https://stats.stackexchange.com/questions/208936/what-is-translation-invariance-in-computer-vision-and-convolutional-neural-netwo)\n",
    "\n",
    "### [Kernels](https://setosa.io/ev/image-kernels/)\n",
    "\n",
    "### [Feature Visulaization](https://distill.pub/2017/feature-visualization/)"
   ]
  }
 ],
 "metadata": {
  "author": "m",
  "kernelspec": {
   "display_name": "Python 3 (ipykernel)",
   "language": "python",
   "name": "python3"
  },
  "language_info": {
   "codemirror_mode": {
    "name": "ipython",
    "version": 3
   },
   "file_extension": ".py",
   "mimetype": "text/x-python",
   "name": "python",
   "nbconvert_exporter": "python",
   "pygments_lexer": "ipython3",
   "version": "3.9.12"
  },
  "latex_envs": {
   "LaTeX_envs_menu_present": true,
   "autoclose": false,
   "autocomplete": true,
   "bibliofile": "biblio.bib",
   "cite_by": "apalike",
   "current_citInitial": 1,
   "eqLabelWithNumbers": true,
   "eqNumInitial": 1,
   "hotkeys": {
    "equation": "Ctrl-E",
    "itemize": "Ctrl-I"
   },
   "labels_anchors": false,
   "latex_user_defs": false,
   "report_style_numbering": false,
   "user_envs_cfg": false
  },
  "nbTranslate": {
   "displayLangs": [
    "*"
   ],
   "hotkey": "alt-t",
   "langInMainMenu": true,
   "sourceLang": "en",
   "targetLang": "fr",
   "useGoogleTranslate": true
  },
  "toc": {
   "base_numbering": 1,
   "nav_menu": {},
   "number_sections": true,
   "sideBar": true,
   "skip_h1_title": false,
   "title_cell": "Table of Contents",
   "title_sidebar": "Contents",
   "toc_cell": false,
   "toc_position": {},
   "toc_section_display": true,
   "toc_window_display": false
  },
  "varInspector": {
   "cols": {
    "lenName": 16,
    "lenType": 16,
    "lenVar": 40
   },
   "kernels_config": {
    "python": {
     "delete_cmd_postfix": "",
     "delete_cmd_prefix": "del ",
     "library": "var_list.py",
     "varRefreshCmd": "print(var_dic_list())"
    },
    "r": {
     "delete_cmd_postfix": ") ",
     "delete_cmd_prefix": "rm(",
     "library": "var_list.r",
     "varRefreshCmd": "cat(var_dic_list()) "
    }
   },
   "types_to_exclude": [
    "module",
    "function",
    "builtin_function_or_method",
    "instance",
    "_Feature"
   ],
   "window_display": false
  }
 },
 "nbformat": 4,
 "nbformat_minor": 5
}
