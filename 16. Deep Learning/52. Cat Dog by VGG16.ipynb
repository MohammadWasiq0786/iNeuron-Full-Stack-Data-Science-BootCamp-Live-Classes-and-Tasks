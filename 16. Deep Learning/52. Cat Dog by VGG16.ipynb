{
 "cells": [
  {
   "cell_type": "markdown",
   "metadata": {},
   "source": [
    "![image](https://user-images.githubusercontent.com/57321948/196933065-4b16c235-f3b9-4391-9cfe-4affcec87c35.png)\n",
    "\n",
    "# **Class - 80 `Deep Learning`**\n",
    "\n",
    "## **11 March 2023** to **15 March 2023**\n",
    "\n",
    "In this class **Boktiar Ahmed Bappy** Sir taught the **Cat Dog Classification Project** "
   ]
  },
  {
   "cell_type": "markdown",
   "metadata": {
    "id": "G_On-uhGoQo_"
   },
   "source": [
    "## Transfer Learning VGG 16 using Keras"
   ]
  },
  {
   "cell_type": "code",
   "execution_count": null,
   "metadata": {
    "id": "COCzcPGroQpC"
   },
   "outputs": [],
   "source": [
    "!nvidia-smi"
   ]
  },
  {
   "cell_type": "code",
   "execution_count": 1,
   "metadata": {
    "colab": {
     "base_uri": "https://localhost:8080/"
    },
    "id": "YcHqtmlxoQpD",
    "outputId": "56b1d46d-6be9-4a6d-8892-20b69acc8b22"
   },
   "outputs": [
    {
     "name": "stdout",
     "output_type": "stream",
     "text": [
      "2.11.0\n"
     ]
    }
   ],
   "source": [
    "import tensorflow as tf\n",
    "print(tf.__version__)"
   ]
  },
  {
   "cell_type": "code",
   "execution_count": 2,
   "metadata": {
    "id": "CbJjhNbzoQpE"
   },
   "outputs": [],
   "source": [
    "# import the libraries as shown below\n",
    "\n",
    "from tensorflow.keras.layers import Input, Lambda, Dense, Flatten\n",
    "from tensorflow.keras.models import Model\n",
    "from tensorflow.keras.applications.vgg16 import VGG16\n",
    "from tensorflow.keras.preprocessing import image\n",
    "from tensorflow.keras.preprocessing.image import ImageDataGenerator,load_img\n",
    "from tensorflow.keras.models import Sequential\n",
    "import numpy as np\n",
    "from glob import glob"
   ]
  },
  {
   "cell_type": "code",
   "execution_count": 3,
   "metadata": {
    "colab": {
     "base_uri": "https://localhost:8080/"
    },
    "id": "2HOVb0wfuUdI",
    "outputId": "9e684ef0-90d9-4759-b308-ba34cdfe3635"
   },
   "outputs": [
    {
     "name": "stdout",
     "output_type": "stream",
     "text": [
      "Mounted at /content/drive\n"
     ]
    }
   ],
   "source": [
    "from google.colab import drive\n",
    "drive.mount('/content/drive')"
   ]
  },
  {
   "cell_type": "code",
   "execution_count": 4,
   "metadata": {
    "id": "LSscBP_Nul3k"
   },
   "outputs": [],
   "source": [
    "ROOT_PATH = '/content/drive/MyDrive/cat-dog-project'"
   ]
  },
  {
   "cell_type": "code",
   "execution_count": 5,
   "metadata": {
    "colab": {
     "base_uri": "https://localhost:8080/"
    },
    "id": "e1jhD1joXxNH",
    "outputId": "9eb86254-a2b9-45b2-d56b-a008ed11b320"
   },
   "outputs": [
    {
     "name": "stdout",
     "output_type": "stream",
     "text": [
      "/content\n"
     ]
    }
   ],
   "source": [
    "!pwd"
   ]
  },
  {
   "cell_type": "code",
   "execution_count": 6,
   "metadata": {
    "colab": {
     "base_uri": "https://localhost:8080/",
     "height": 35
    },
    "id": "UmIsJIoTu1Nv",
    "outputId": "244eb64f-a200-476f-f205-d96233baa1f8"
   },
   "outputs": [
    {
     "data": {
      "application/vnd.google.colaboratory.intrinsic+json": {
       "type": "string"
      },
      "text/plain": [
       "'/content/drive/MyDrive/cat-dog-project'"
      ]
     },
     "execution_count": 6,
     "metadata": {},
     "output_type": "execute_result"
    }
   ],
   "source": [
    "import os\n",
    "os.chdir(ROOT_PATH)\n",
    "os.getcwd()"
   ]
  },
  {
   "cell_type": "code",
   "execution_count": 7,
   "metadata": {
    "colab": {
     "base_uri": "https://localhost:8080/"
    },
    "id": "tdTuQySNycSg",
    "outputId": "3c1d6ffc-555e-4c13-d51a-4d0ab5846aa8"
   },
   "outputs": [
    {
     "name": "stdout",
     "output_type": "stream",
     "text": [
      "cat.jpg  dog.jpg  PetImages\n"
     ]
    }
   ],
   "source": [
    "!ls"
   ]
  },
  {
   "cell_type": "code",
   "execution_count": 8,
   "metadata": {
    "id": "JJRs9wzsoQpE"
   },
   "outputs": [],
   "source": [
    "# re-size all the images to this\n",
    "IMAGE_SIZE = [224, 224]\n",
    "\n",
    "train_path = 'PetImages/train'\n",
    "valid_path = 'PetImages/validation'\n"
   ]
  },
  {
   "cell_type": "code",
   "execution_count": 9,
   "metadata": {
    "colab": {
     "base_uri": "https://localhost:8080/"
    },
    "id": "5FOgov0ooQpE",
    "outputId": "85dd7b36-b1ea-4404-ecea-cf74c0672437"
   },
   "outputs": [
    {
     "name": "stdout",
     "output_type": "stream",
     "text": [
      "Downloading data from https://storage.googleapis.com/tensorflow/keras-applications/vgg16/vgg16_weights_tf_dim_ordering_tf_kernels_notop.h5\n",
      "58889256/58889256 [==============================] - 0s 0us/step\n"
     ]
    }
   ],
   "source": [
    "# Import the VGG16 library as shown below and add preprocessing layer to the front of VGG\n",
    "# Here we will be using imagenet weights\n",
    "\n",
    "vgg16 = VGG16(input_shape=IMAGE_SIZE + [3], weights='imagenet', include_top=False)\n"
   ]
  },
  {
   "cell_type": "code",
   "execution_count": 10,
   "metadata": {
    "colab": {
     "base_uri": "https://localhost:8080/"
    },
    "id": "hgy8jszDZI1E",
    "outputId": "797b690a-be9e-417f-ad4a-c749742e24c8"
   },
   "outputs": [
    {
     "name": "stdout",
     "output_type": "stream",
     "text": [
      "<keras.engine.input_layer.InputLayer object at 0x7facd3bee4f0>\n",
      "<keras.layers.convolutional.conv2d.Conv2D object at 0x7facd3bb7280>\n",
      "<keras.layers.convolutional.conv2d.Conv2D object at 0x7facd3bb7a30>\n",
      "<keras.layers.pooling.max_pooling2d.MaxPooling2D object at 0x7facd3328af0>\n",
      "<keras.layers.convolutional.conv2d.Conv2D object at 0x7facd3bb7f70>\n",
      "<keras.layers.convolutional.conv2d.Conv2D object at 0x7facd32df0a0>\n",
      "<keras.layers.pooling.max_pooling2d.MaxPooling2D object at 0x7facd0101df0>\n",
      "<keras.layers.convolutional.conv2d.Conv2D object at 0x7facd0101a60>\n",
      "<keras.layers.convolutional.conv2d.Conv2D object at 0x7facd32e2bb0>\n",
      "<keras.layers.convolutional.conv2d.Conv2D object at 0x7facd0108ac0>\n",
      "<keras.layers.pooling.max_pooling2d.MaxPooling2D object at 0x7facd32e28e0>\n",
      "<keras.layers.convolutional.conv2d.Conv2D object at 0x7facd0108370>\n",
      "<keras.layers.convolutional.conv2d.Conv2D object at 0x7facd010f580>\n",
      "<keras.layers.convolutional.conv2d.Conv2D object at 0x7facd010f970>\n",
      "<keras.layers.pooling.max_pooling2d.MaxPooling2D object at 0x7facd011b310>\n",
      "<keras.layers.convolutional.conv2d.Conv2D object at 0x7facd0116820>\n",
      "<keras.layers.convolutional.conv2d.Conv2D object at 0x7facd01247f0>\n",
      "<keras.layers.convolutional.conv2d.Conv2D object at 0x7facd01243d0>\n",
      "<keras.layers.pooling.max_pooling2d.MaxPooling2D object at 0x7facd0129fd0>\n"
     ]
    }
   ],
   "source": [
    "# don't train existing weights\n",
    "for layer in vgg16.layers:\n",
    "  print(layer)"
   ]
  },
  {
   "cell_type": "code",
   "execution_count": 11,
   "metadata": {
    "id": "Rx7AkOQIoQpF"
   },
   "outputs": [],
   "source": [
    "# don't train existing weights\n",
    "for layer in vgg16.layers:\n",
    "    layer.trainable = False"
   ]
  },
  {
   "cell_type": "code",
   "execution_count": 12,
   "metadata": {
    "colab": {
     "base_uri": "https://localhost:8080/"
    },
    "id": "wNtlHqA8pyBx",
    "outputId": "3808088d-427e-4252-8e76-a37b27226ac5"
   },
   "outputs": [
    {
     "name": "stdout",
     "output_type": "stream",
     "text": [
      "input_1 False\n",
      "block1_conv1 False\n",
      "block1_conv2 False\n",
      "block1_pool False\n",
      "block2_conv1 False\n",
      "block2_conv2 False\n",
      "block2_pool False\n",
      "block3_conv1 False\n",
      "block3_conv2 False\n",
      "block3_conv3 False\n",
      "block3_pool False\n",
      "block4_conv1 False\n",
      "block4_conv2 False\n",
      "block4_conv3 False\n",
      "block4_pool False\n",
      "block5_conv1 False\n",
      "block5_conv2 False\n",
      "block5_conv3 False\n",
      "block5_pool False\n"
     ]
    }
   ],
   "source": [
    "for layer in vgg16.layers:\n",
    "  print(layer.name,layer.trainable)"
   ]
  },
  {
   "cell_type": "code",
   "execution_count": 13,
   "metadata": {
    "colab": {
     "base_uri": "https://localhost:8080/"
    },
    "id": "5WBu-g3rqIcw",
    "outputId": "923b25f8-762c-4f6e-da59-e047b5b01d7c"
   },
   "outputs": [
    {
     "name": "stdout",
     "output_type": "stream",
     "text": [
      "Model: \"vgg16\"\n",
      "_________________________________________________________________\n",
      " Layer (type)                Output Shape              Param #   \n",
      "=================================================================\n",
      " input_1 (InputLayer)        [(None, 224, 224, 3)]     0         \n",
      "                                                                 \n",
      " block1_conv1 (Conv2D)       (None, 224, 224, 64)      1792      \n",
      "                                                                 \n",
      " block1_conv2 (Conv2D)       (None, 224, 224, 64)      36928     \n",
      "                                                                 \n",
      " block1_pool (MaxPooling2D)  (None, 112, 112, 64)      0         \n",
      "                                                                 \n",
      " block2_conv1 (Conv2D)       (None, 112, 112, 128)     73856     \n",
      "                                                                 \n",
      " block2_conv2 (Conv2D)       (None, 112, 112, 128)     147584    \n",
      "                                                                 \n",
      " block2_pool (MaxPooling2D)  (None, 56, 56, 128)       0         \n",
      "                                                                 \n",
      " block3_conv1 (Conv2D)       (None, 56, 56, 256)       295168    \n",
      "                                                                 \n",
      " block3_conv2 (Conv2D)       (None, 56, 56, 256)       590080    \n",
      "                                                                 \n",
      " block3_conv3 (Conv2D)       (None, 56, 56, 256)       590080    \n",
      "                                                                 \n",
      " block3_pool (MaxPooling2D)  (None, 28, 28, 256)       0         \n",
      "                                                                 \n",
      " block4_conv1 (Conv2D)       (None, 28, 28, 512)       1180160   \n",
      "                                                                 \n",
      " block4_conv2 (Conv2D)       (None, 28, 28, 512)       2359808   \n",
      "                                                                 \n",
      " block4_conv3 (Conv2D)       (None, 28, 28, 512)       2359808   \n",
      "                                                                 \n",
      " block4_pool (MaxPooling2D)  (None, 14, 14, 512)       0         \n",
      "                                                                 \n",
      " block5_conv1 (Conv2D)       (None, 14, 14, 512)       2359808   \n",
      "                                                                 \n",
      " block5_conv2 (Conv2D)       (None, 14, 14, 512)       2359808   \n",
      "                                                                 \n",
      " block5_conv3 (Conv2D)       (None, 14, 14, 512)       2359808   \n",
      "                                                                 \n",
      " block5_pool (MaxPooling2D)  (None, 7, 7, 512)         0         \n",
      "                                                                 \n",
      "=================================================================\n",
      "Total params: 14,714,688\n",
      "Trainable params: 0\n",
      "Non-trainable params: 14,714,688\n",
      "_________________________________________________________________\n"
     ]
    }
   ],
   "source": [
    "vgg16.summary()"
   ]
  },
  {
   "cell_type": "code",
   "execution_count": 14,
   "metadata": {
    "id": "N5TBzMtLoQpF"
   },
   "outputs": [],
   "source": [
    "  # useful for getting number of output classes\n",
    "folders = glob('PetImages/train/*')"
   ]
  },
  {
   "cell_type": "code",
   "execution_count": 15,
   "metadata": {
    "colab": {
     "base_uri": "https://localhost:8080/"
    },
    "id": "mEAc82BQoQpF",
    "outputId": "fdf2ccf8-a3f4-48af-ff34-6060ed9f2444"
   },
   "outputs": [
    {
     "data": {
      "text/plain": [
       "['PetImages/train/Dog', 'PetImages/train/Cat']"
      ]
     },
     "execution_count": 15,
     "metadata": {},
     "output_type": "execute_result"
    }
   ],
   "source": [
    "folders"
   ]
  },
  {
   "cell_type": "code",
   "execution_count": 16,
   "metadata": {
    "colab": {
     "base_uri": "https://localhost:8080/"
    },
    "id": "TxWePQ04vWG0",
    "outputId": "20e236a0-fbeb-4258-ea30-4d007c5dd871"
   },
   "outputs": [
    {
     "data": {
      "text/plain": [
       "2"
      ]
     },
     "execution_count": 16,
     "metadata": {},
     "output_type": "execute_result"
    }
   ],
   "source": [
    "len(folders)"
   ]
  },
  {
   "cell_type": "code",
   "execution_count": 17,
   "metadata": {
    "id": "az2MrlO7vcfE"
   },
   "outputs": [],
   "source": [
    "model = Sequential()\n",
    "\n",
    "model.add(vgg16)\n",
    "model.add(Flatten())\n",
    "model.add(Dense(256,activation='relu'))\n",
    "model.add(Dense(2,activation='softmax'))"
   ]
  },
  {
   "cell_type": "code",
   "execution_count": 18,
   "metadata": {
    "colab": {
     "base_uri": "https://localhost:8080/"
    },
    "id": "pCbQyhRloQpG",
    "outputId": "2015e233-2870-48b7-e3ca-c29428f036d8"
   },
   "outputs": [
    {
     "name": "stdout",
     "output_type": "stream",
     "text": [
      "Model: \"sequential\"\n",
      "_________________________________________________________________\n",
      " Layer (type)                Output Shape              Param #   \n",
      "=================================================================\n",
      " vgg16 (Functional)          (None, 7, 7, 512)         14714688  \n",
      "                                                                 \n",
      " flatten (Flatten)           (None, 25088)             0         \n",
      "                                                                 \n",
      " dense (Dense)               (None, 256)               6422784   \n",
      "                                                                 \n",
      " dense_1 (Dense)             (None, 2)                 514       \n",
      "                                                                 \n",
      "=================================================================\n",
      "Total params: 21,137,986\n",
      "Trainable params: 6,423,298\n",
      "Non-trainable params: 14,714,688\n",
      "_________________________________________________________________\n"
     ]
    }
   ],
   "source": [
    "# view the structure of the model\n",
    "model.summary()"
   ]
  },
  {
   "cell_type": "code",
   "execution_count": 19,
   "metadata": {
    "id": "_v9RaVP0oQpG"
   },
   "outputs": [],
   "source": [
    "# tell the model what cost and optimization method to use\n",
    "model.compile(\n",
    "  loss='categorical_crossentropy',\n",
    "  optimizer='adam',\n",
    "  metrics=['accuracy']\n",
    ")\n"
   ]
  },
  {
   "cell_type": "code",
   "execution_count": 20,
   "metadata": {
    "id": "ccGtjaZBoQpH"
   },
   "outputs": [],
   "source": [
    "# Use the Image Data Generator to import the images from the dataset\n",
    "from tensorflow.keras.preprocessing.image import ImageDataGenerator\n",
    "\n",
    "train_datagen = ImageDataGenerator(rescale = 1./255,\n",
    "                                   shear_range = 0.2,\n",
    "                                   zoom_range = 0.2,\n",
    "                                   horizontal_flip = True)\n",
    "\n",
    "test_datagen = ImageDataGenerator(rescale = 1./255)"
   ]
  },
  {
   "cell_type": "code",
   "execution_count": 21,
   "metadata": {
    "colab": {
     "base_uri": "https://localhost:8080/"
    },
    "id": "QRP78ABJbyRt",
    "outputId": "ef299c0d-26c7-4e4b-a22f-dde93c6dfb3d"
   },
   "outputs": [
    {
     "name": "stdout",
     "output_type": "stream",
     "text": [
      "/content/drive/MyDrive/cat-dog-project\n"
     ]
    }
   ],
   "source": [
    "!pwd"
   ]
  },
  {
   "cell_type": "code",
   "execution_count": 22,
   "metadata": {
    "colab": {
     "base_uri": "https://localhost:8080/"
    },
    "id": "as_UVGKeoQpH",
    "outputId": "51399d56-5780-4010-9065-beee3c0a28e7"
   },
   "outputs": [
    {
     "name": "stdout",
     "output_type": "stream",
     "text": [
      "Found 337 images belonging to 2 classes.\n"
     ]
    }
   ],
   "source": [
    "# Make sure you provide the same target size as initialied for the image size\n",
    "training_set = train_datagen.flow_from_directory('PetImages/train',\n",
    "                                                 target_size = (224, 224),\n",
    "                                                 batch_size = 32,\n",
    "                                                 class_mode = 'categorical')"
   ]
  },
  {
   "cell_type": "code",
   "execution_count": 23,
   "metadata": {
    "colab": {
     "base_uri": "https://localhost:8080/"
    },
    "id": "TGVUtA-8oQpH",
    "outputId": "8d670e01-3434-4abc-ba44-304b7ed0bbac"
   },
   "outputs": [
    {
     "name": "stdout",
     "output_type": "stream",
     "text": [
      "Found 59 images belonging to 2 classes.\n"
     ]
    }
   ],
   "source": [
    "test_set = test_datagen.flow_from_directory('PetImages/validation',\n",
    "                                            target_size = (224, 224),\n",
    "                                            batch_size = 32,\n",
    "                                            class_mode = 'categorical')"
   ]
  },
  {
   "cell_type": "code",
   "execution_count": 24,
   "metadata": {
    "colab": {
     "base_uri": "https://localhost:8080/"
    },
    "id": "JbP-SQBhoQpH",
    "outputId": "e8197210-1a3f-4f13-8978-0cf06836977e",
    "scrolled": true
   },
   "outputs": [
    {
     "name": "stdout",
     "output_type": "stream",
     "text": [
      "Epoch 1/10\n",
      "11/11 [==============================] - 62s 5s/step - loss: 4.0110 - accuracy: 0.4392 - val_loss: 0.6506 - val_accuracy: 0.5085\n",
      "Epoch 2/10\n",
      "11/11 [==============================] - 5s 481ms/step - loss: 0.4501 - accuracy: 0.8249 - val_loss: 0.4142 - val_accuracy: 0.8305\n",
      "Epoch 3/10\n",
      "11/11 [==============================] - 6s 574ms/step - loss: 0.2718 - accuracy: 0.9139 - val_loss: 0.3637 - val_accuracy: 0.7966\n",
      "Epoch 4/10\n",
      "11/11 [==============================] - 5s 472ms/step - loss: 0.2109 - accuracy: 0.9377 - val_loss: 0.3668 - val_accuracy: 0.8475\n",
      "Epoch 5/10\n",
      "11/11 [==============================] - 6s 589ms/step - loss: 0.1686 - accuracy: 0.9525 - val_loss: 0.3581 - val_accuracy: 0.7966\n",
      "Epoch 6/10\n",
      "11/11 [==============================] - 5s 479ms/step - loss: 0.1303 - accuracy: 0.9644 - val_loss: 0.3811 - val_accuracy: 0.7966\n",
      "Epoch 7/10\n",
      "11/11 [==============================] - 6s 584ms/step - loss: 0.1217 - accuracy: 0.9733 - val_loss: 0.4140 - val_accuracy: 0.8475\n",
      "Epoch 8/10\n",
      "11/11 [==============================] - 5s 481ms/step - loss: 0.1001 - accuracy: 0.9792 - val_loss: 0.3799 - val_accuracy: 0.8136\n",
      "Epoch 9/10\n",
      "11/11 [==============================] - 6s 519ms/step - loss: 0.0755 - accuracy: 0.9911 - val_loss: 0.3832 - val_accuracy: 0.7966\n",
      "Epoch 10/10\n",
      "11/11 [==============================] - 6s 537ms/step - loss: 0.0569 - accuracy: 0.9911 - val_loss: 0.3731 - val_accuracy: 0.8136\n"
     ]
    }
   ],
   "source": [
    "# fit the model\n",
    "# Run the cell. It will take some time to execute\n",
    "r = model.fit(\n",
    "  training_set,\n",
    "  validation_data=test_set,\n",
    "  epochs=10,\n",
    "  steps_per_epoch=len(training_set),\n",
    "  validation_steps=len(test_set)\n",
    ")"
   ]
  },
  {
   "cell_type": "code",
   "execution_count": 25,
   "metadata": {
    "id": "o1Ko1dSsoQpI"
   },
   "outputs": [],
   "source": [
    "import matplotlib.pyplot as plt"
   ]
  },
  {
   "cell_type": "code",
   "execution_count": 26,
   "metadata": {
    "colab": {
     "base_uri": "https://localhost:8080/",
     "height": 282
    },
    "id": "7vQo-eqrxD8N",
    "outputId": "082297f0-6cf7-4b26-cd02-1cdc4a537b23"
   },
   "outputs": [
    {
     "data": {
      "image/png": "[encoded data removed]",
      "text/plain": [
       "<Figure size 432x288 with 1 Axes>"
      ]
     },
     "metadata": {
      "needs_background": "light"
     },
     "output_type": "display_data"
    },
    {
     "data": {
      "text/plain": [
       "<Figure size 432x288 with 0 Axes>"
      ]
     },
     "metadata": {},
     "output_type": "display_data"
    }
   ],
   "source": [
    "# plot the loss\n",
    "plt.plot(r.history['loss'], label='train loss')\n",
    "plt.plot(r.history['val_loss'], label='val loss')\n",
    "plt.legend()\n",
    "plt.show()\n",
    "plt.savefig('LossVal_loss')"
   ]
  },
  {
   "cell_type": "code",
   "execution_count": 27,
   "metadata": {
    "colab": {
     "base_uri": "https://localhost:8080/",
     "height": 282
    },
    "id": "4qCxYaAPoQpI",
    "outputId": "e31d1329-2d69-485e-8bbd-355a965ffaff"
   },
   "outputs": [
    {
     "data": {
      "image/png": "[encoded data removed]",
      "text/plain": [
       "<Figure size 432x288 with 1 Axes>"
      ]
     },
     "metadata": {
      "needs_background": "light"
     },
     "output_type": "display_data"
    },
    {
     "data": {
      "text/plain": [
       "<Figure size 432x288 with 0 Axes>"
      ]
     },
     "metadata": {},
     "output_type": "display_data"
    }
   ],
   "source": [
    "# plot the accuracy\n",
    "plt.plot(r.history['accuracy'], label='train acc')\n",
    "plt.plot(r.history['val_accuracy'], label='val acc')\n",
    "plt.legend()\n",
    "plt.show()\n",
    "plt.savefig('AccVal_acc')"
   ]
  },
  {
   "cell_type": "code",
   "execution_count": 28,
   "metadata": {
    "id": "COqsN_kDoQpI"
   },
   "outputs": [],
   "source": [
    "# save it as a h5 file\n",
    "from tensorflow.keras.models import load_model\n",
    "\n",
    "model.save('model_vgg16.h5')"
   ]
  },
  {
   "cell_type": "code",
   "execution_count": 29,
   "metadata": {
    "colab": {
     "base_uri": "https://localhost:8080/"
    },
    "id": "x4D5sLfpoQpI",
    "outputId": "f77b60d0-c53d-45c3-cd59-450e5dda62fc"
   },
   "outputs": [
    {
     "name": "stdout",
     "output_type": "stream",
     "text": [
      "2/2 [==============================] - 0s 154ms/step\n"
     ]
    }
   ],
   "source": [
    "y_pred = model.predict(test_set)"
   ]
  },
  {
   "cell_type": "code",
   "execution_count": 30,
   "metadata": {
    "colab": {
     "base_uri": "https://localhost:8080/"
    },
    "id": "wtlfFRrRoQpI",
    "outputId": "8a52140f-81df-494f-8cab-3e638836ca8e"
   },
   "outputs": [
    {
     "data": {
      "text/plain": [
       "array([[9.5535606e-01, 4.4643920e-02],\n",
       "       [8.0501562e-01, 1.9498436e-01],\n",
       "       [6.7163125e-02, 9.3283683e-01],\n",
       "       [5.6353980e-01, 4.3646020e-01],\n",
       "       [3.2848090e-02, 9.6715194e-01],\n",
       "       [9.9899012e-01, 1.0098957e-03],\n",
       "       [2.1387827e-01, 7.8612179e-01],\n",
       "       [3.8347578e-01, 6.1652422e-01],\n",
       "       [4.2754915e-03, 9.9572456e-01],\n",
       "       [7.3394582e-02, 9.2660540e-01],\n",
       "       [7.1150076e-01, 2.8849924e-01],\n",
       "       [1.1307522e-04, 9.9988687e-01],\n",
       "       [7.4715137e-02, 9.2528492e-01],\n",
       "       [7.9063642e-01, 2.0936356e-01],\n",
       "       [2.7008541e-04, 9.9972993e-01],\n",
       "       [9.0802237e-02, 9.0919781e-01],\n",
       "       [9.9626154e-01, 3.7383935e-03],\n",
       "       [9.8984551e-01, 1.0154544e-02],\n",
       "       [8.8528442e-01, 1.1471562e-01],\n",
       "       [6.6949368e-01, 3.3050629e-01],\n",
       "       [3.1744826e-01, 6.8255174e-01],\n",
       "       [9.9478698e-01, 5.2129645e-03],\n",
       "       [8.8210481e-01, 1.1789519e-01],\n",
       "       [4.2388012e-05, 9.9995756e-01],\n",
       "       [9.6607625e-01, 3.3923712e-02],\n",
       "       [8.7276620e-01, 1.2723386e-01],\n",
       "       [9.7997928e-01, 2.0020729e-02],\n",
       "       [1.0599542e-02, 9.8940045e-01],\n",
       "       [3.6868978e-02, 9.6313101e-01],\n",
       "       [9.3728013e-06, 9.9999058e-01],\n",
       "       [8.4864998e-01, 1.5135001e-01],\n",
       "       [9.8739374e-01, 1.2606245e-02],\n",
       "       [5.4118722e-03, 9.9458814e-01],\n",
       "       [9.8365825e-01, 1.6341709e-02],\n",
       "       [3.0986903e-02, 9.6901309e-01],\n",
       "       [3.9253752e-03, 9.9607468e-01],\n",
       "       [4.9126726e-02, 9.5087332e-01],\n",
       "       [2.8371924e-01, 7.1628076e-01],\n",
       "       [1.1455808e-08, 1.0000000e+00],\n",
       "       [8.9166528e-01, 1.0833467e-01],\n",
       "       [9.5381063e-01, 4.6189360e-02],\n",
       "       [5.5857765e-04, 9.9944144e-01],\n",
       "       [1.2043463e-01, 8.7956530e-01],\n",
       "       [9.6371132e-01, 3.6288612e-02],\n",
       "       [1.3579645e-02, 9.8642027e-01],\n",
       "       [9.9228787e-01, 7.7121193e-03],\n",
       "       [9.9867225e-01, 1.3278226e-03],\n",
       "       [9.9716091e-01, 2.8391341e-03],\n",
       "       [1.7351982e-01, 8.2648015e-01],\n",
       "       [1.7664867e-02, 9.8233515e-01],\n",
       "       [3.3923119e-01, 6.6076881e-01],\n",
       "       [9.9214077e-01, 7.8591593e-03],\n",
       "       [9.9869823e-01, 1.3017309e-03],\n",
       "       [9.1490054e-01, 8.5099436e-02],\n",
       "       [4.6191564e-01, 5.3808433e-01],\n",
       "       [9.7940779e-01, 2.0592175e-02],\n",
       "       [7.5255102e-04, 9.9924743e-01],\n",
       "       [2.4118909e-04, 9.9975878e-01],\n",
       "       [3.4328589e-01, 6.5671414e-01]], dtype=float32)"
      ]
     },
     "execution_count": 30,
     "metadata": {},
     "output_type": "execute_result"
    }
   ],
   "source": [
    "y_pred"
   ]
  },
  {
   "cell_type": "code",
   "execution_count": 31,
   "metadata": {
    "id": "C-ICKy-5oQpJ"
   },
   "outputs": [],
   "source": [
    "import numpy as np\n",
    "y_pred = np.argmax(y_pred, axis=1)"
   ]
  },
  {
   "cell_type": "code",
   "execution_count": 32,
   "metadata": {
    "colab": {
     "base_uri": "https://localhost:8080/"
    },
    "id": "-GDhHDksoQpJ",
    "outputId": "995b6017-7362-40b4-ba2b-c28b5efe6ce8"
   },
   "outputs": [
    {
     "data": {
      "text/plain": [
       "array([0, 0, 1, 0, 1, 0, 1, 1, 1, 1, 0, 1, 1, 0, 1, 1, 0, 0, 0, 0, 1, 0,\n",
       "       0, 1, 0, 0, 0, 1, 1, 1, 0, 0, 1, 0, 1, 1, 1, 1, 1, 0, 0, 1, 1, 0,\n",
       "       1, 0, 0, 0, 1, 1, 1, 0, 0, 0, 1, 0, 1, 1, 1])"
      ]
     },
     "execution_count": 32,
     "metadata": {},
     "output_type": "execute_result"
    }
   ],
   "source": [
    "y_pred"
   ]
  },
  {
   "cell_type": "code",
   "execution_count": 33,
   "metadata": {
    "id": "kqj7Au6FoQpJ"
   },
   "outputs": [],
   "source": [
    "from tensorflow.keras.models import load_model\n",
    "from tensorflow.keras.preprocessing import image"
   ]
  },
  {
   "cell_type": "code",
   "execution_count": 34,
   "metadata": {
    "id": "XL0M50cToQpJ"
   },
   "outputs": [],
   "source": [
    "model=load_model('model_vgg16.h5')"
   ]
  },
  {
   "cell_type": "code",
   "execution_count": 35,
   "metadata": {
    "id": "1LximTFLoQpJ"
   },
   "outputs": [],
   "source": [
    "img=image.load_img('cat.jpg',target_size=(224,224))"
   ]
  },
  {
   "cell_type": "code",
   "execution_count": 36,
   "metadata": {
    "colab": {
     "base_uri": "https://localhost:8080/"
    },
    "id": "MCqIwjCioQpJ",
    "outputId": "01a871b2-5970-43c7-f8f8-08c8389ee753"
   },
   "outputs": [
    {
     "data": {
      "text/plain": [
       "array([[[ 36.,  41.,  37.],\n",
       "        [ 38.,  42.,  41.],\n",
       "        [ 38.,  42.,  43.],\n",
       "        ...,\n",
       "        [200., 200., 166.],\n",
       "        [200., 198., 160.],\n",
       "        [203., 201., 162.]],\n",
       "\n",
       "       [[ 38.,  43.,  39.],\n",
       "        [ 39.,  43.,  42.],\n",
       "        [ 40.,  44.,  45.],\n",
       "        ...,\n",
       "        [208., 205., 172.],\n",
       "        [205., 203., 165.],\n",
       "        [204., 202., 163.]],\n",
       "\n",
       "       [[ 42.,  47.,  43.],\n",
       "        [ 40.,  44.,  43.],\n",
       "        [ 40.,  44.,  45.],\n",
       "        ...,\n",
       "        [201., 198., 167.],\n",
       "        [201., 196., 164.],\n",
       "        [197., 193., 158.]],\n",
       "\n",
       "       ...,\n",
       "\n",
       "       [[ 30.,  28.,  29.],\n",
       "        [ 24.,  22.,  23.],\n",
       "        [ 21.,  19.,  20.],\n",
       "        ...,\n",
       "        [ 47.,  34.,  28.],\n",
       "        [ 40.,  27.,  21.],\n",
       "        [ 52.,  41.,  35.]],\n",
       "\n",
       "       [[ 34.,  32.,  33.],\n",
       "        [ 27.,  25.,  26.],\n",
       "        [ 24.,  22.,  23.],\n",
       "        ...,\n",
       "        [ 45.,  32.,  24.],\n",
       "        [ 44.,  31.,  23.],\n",
       "        [ 65.,  55.,  46.]],\n",
       "\n",
       "       [[ 30.,  28.,  29.],\n",
       "        [ 26.,  24.,  25.],\n",
       "        [ 24.,  22.,  23.],\n",
       "        ...,\n",
       "        [ 54.,  41.,  33.],\n",
       "        [ 61.,  48.,  40.],\n",
       "        [ 38.,  28.,  19.]]], dtype=float32)"
      ]
     },
     "execution_count": 36,
     "metadata": {},
     "output_type": "execute_result"
    }
   ],
   "source": [
    "x=image.img_to_array(img)\n",
    "x"
   ]
  },
  {
   "cell_type": "code",
   "execution_count": 37,
   "metadata": {
    "colab": {
     "base_uri": "https://localhost:8080/",
     "height": 286
    },
    "id": "ndGBT7Ns1xED",
    "outputId": "e13e564a-8a9a-4e27-a803-a716df34e50c"
   },
   "outputs": [
    {
     "data": {
      "text/plain": [
       "<matplotlib.image.AxesImage at 0x7fac3a264370>"
      ]
     },
     "execution_count": 37,
     "metadata": {},
     "output_type": "execute_result"
    },
    {
     "data": {
      "image/png": "[encoded data removed]",
      "text/plain": [
       "<Figure size 432x288 with 1 Axes>"
      ]
     },
     "metadata": {
      "needs_background": "light"
     },
     "output_type": "display_data"
    }
   ],
   "source": [
    "Z = plt.imread('cat.jpg')\n",
    "plt.imshow(Z)"
   ]
  },
  {
   "cell_type": "code",
   "execution_count": 38,
   "metadata": {
    "colab": {
     "base_uri": "https://localhost:8080/"
    },
    "id": "XcmlehPvoQpJ",
    "outputId": "1fef8c6a-5b0b-4388-a68f-c5d016012dfe"
   },
   "outputs": [
    {
     "data": {
      "text/plain": [
       "(224, 224, 3)"
      ]
     },
     "execution_count": 38,
     "metadata": {},
     "output_type": "execute_result"
    }
   ],
   "source": [
    "x.shape"
   ]
  },
  {
   "cell_type": "code",
   "execution_count": 39,
   "metadata": {
    "id": "-JxBg8BuoQpK"
   },
   "outputs": [],
   "source": [
    "x=x/255"
   ]
  },
  {
   "cell_type": "code",
   "execution_count": 40,
   "metadata": {
    "id": "j76htW2Myj1v"
   },
   "outputs": [],
   "source": [
    "from keras.applications.vgg16 import preprocess_input"
   ]
  },
  {
   "cell_type": "code",
   "execution_count": 41,
   "metadata": {
    "colab": {
     "base_uri": "https://localhost:8080/"
    },
    "id": "4TPPbmbpoQpK",
    "outputId": "ba2c7ac1-b8b1-4df7-a448-a3b2f98ece07"
   },
   "outputs": [
    {
     "data": {
      "text/plain": [
       "(1, 224, 224, 3)"
      ]
     },
     "execution_count": 41,
     "metadata": {},
     "output_type": "execute_result"
    }
   ],
   "source": [
    "import numpy as np\n",
    "x=np.expand_dims(x,axis=0)\n",
    "img_data=preprocess_input(x)\n",
    "img_data.shape"
   ]
  },
  {
   "cell_type": "code",
   "execution_count": 42,
   "metadata": {
    "colab": {
     "base_uri": "https://localhost:8080/"
    },
    "id": "YycqMzQMoQpK",
    "outputId": "9a7cc027-bac1-4d20-daae-0b8c477e122c"
   },
   "outputs": [
    {
     "name": "stdout",
     "output_type": "stream",
     "text": [
      "1/1 [==============================] - 1s 818ms/step\n"
     ]
    },
    {
     "data": {
      "text/plain": [
       "array([[0.9252239 , 0.07477611]], dtype=float32)"
      ]
     },
     "execution_count": 42,
     "metadata": {},
     "output_type": "execute_result"
    }
   ],
   "source": [
    "model.predict(img_data)"
   ]
  },
  {
   "cell_type": "code",
   "execution_count": 43,
   "metadata": {
    "colab": {
     "base_uri": "https://localhost:8080/"
    },
    "id": "JCnpd8rCoQpK",
    "outputId": "694d3619-bf24-4852-a07b-836e217ecaa2"
   },
   "outputs": [
    {
     "name": "stdout",
     "output_type": "stream",
     "text": [
      "1/1 [==============================] - 0s 22ms/step\n"
     ]
    }
   ],
   "source": [
    "result = np.argmax(model.predict(img_data), axis=1)"
   ]
  },
  {
   "cell_type": "code",
   "execution_count": 44,
   "metadata": {
    "colab": {
     "base_uri": "https://localhost:8080/"
    },
    "id": "N0olnSIooQpK",
    "outputId": "7fac073b-0333-4b8c-e3fb-97e5a83e3419"
   },
   "outputs": [
    {
     "data": {
      "text/plain": [
       "0"
      ]
     },
     "execution_count": 44,
     "metadata": {},
     "output_type": "execute_result"
    }
   ],
   "source": [
    "result[0]"
   ]
  },
  {
   "cell_type": "code",
   "execution_count": 45,
   "metadata": {
    "colab": {
     "base_uri": "https://localhost:8080/"
    },
    "id": "w2J4Puf3oQpK",
    "outputId": "cec65ca2-bbb5-4f2c-d91f-fdcb87036e61"
   },
   "outputs": [
    {
     "name": "stdout",
     "output_type": "stream",
     "text": [
      "cat\n"
     ]
    }
   ],
   "source": [
    "if result[0] == 1:\n",
    "    prediction = 'dog'\n",
    "    print(prediction)\n",
    "else:\n",
    "    prediction = 'cat'\n",
    "    print(prediction)"
   ]
  }
 ],
 "metadata": {
  "accelerator": "GPU",
  "colab": {
   "machine_shape": "hm",
   "provenance": []
  },
  "gpuClass": "standard",
  "kernelspec": {
   "display_name": "Python 3 (ipykernel)",
   "language": "python",
   "name": "python3"
  },
  "language_info": {
   "codemirror_mode": {
    "name": "ipython",
    "version": 3
   },
   "file_extension": ".py",
   "mimetype": "text/x-python",
   "name": "python",
   "nbconvert_exporter": "python",
   "pygments_lexer": "ipython3",
   "version": "3.9.12"
  },
  "latex_envs": {
   "LaTeX_envs_menu_present": true,
   "autoclose": false,
   "autocomplete": true,
   "bibliofile": "biblio.bib",
   "cite_by": "apalike",
   "current_citInitial": 1,
   "eqLabelWithNumbers": true,
   "eqNumInitial": 1,
   "hotkeys": {
    "equation": "Ctrl-E",
    "itemize": "Ctrl-I"
   },
   "labels_anchors": false,
   "latex_user_defs": false,
   "report_style_numbering": false,
   "user_envs_cfg": false
  },
  "nbTranslate": {
   "displayLangs": [
    "*"
   ],
   "hotkey": "alt-t",
   "langInMainMenu": true,
   "sourceLang": "en",
   "targetLang": "fr",
   "useGoogleTranslate": true
  },
  "toc": {
   "base_numbering": 1,
   "nav_menu": {},
   "number_sections": true,
   "sideBar": true,
   "skip_h1_title": false,
   "title_cell": "Table of Contents",
   "title_sidebar": "Contents",
   "toc_cell": false,
   "toc_position": {},
   "toc_section_display": true,
   "toc_window_display": false
  },
  "varInspector": {
   "cols": {
    "lenName": 16,
    "lenType": 16,
    "lenVar": 40
   },
   "kernels_config": {
    "python": {
     "delete_cmd_postfix": "",
     "delete_cmd_prefix": "del ",
     "library": "var_list.py",
     "varRefreshCmd": "print(var_dic_list())"
    },
    "r": {
     "delete_cmd_postfix": ") ",
     "delete_cmd_prefix": "rm(",
     "library": "var_list.r",
     "varRefreshCmd": "cat(var_dic_list()) "
    }
   },
   "types_to_exclude": [
    "module",
    "function",
    "builtin_function_or_method",
    "instance",
    "_Feature"
   ],
   "window_display": false
  }
 },
 "nbformat": 4,
 "nbformat_minor": 1
}
