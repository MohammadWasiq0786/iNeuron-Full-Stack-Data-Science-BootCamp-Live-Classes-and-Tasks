{
  "cells": [
    {
      "cell_type": "markdown",
      "source": [
        "## Dataset:\n",
        "https://www.kaggle.com/datasets/lakshmi25npathi/imdb-dataset-of-50k-movie-reviews"
      ],
      "metadata": {
        "id": "XQ7oje4Bik85"
      }
    },
    {
      "cell_type": "code",
      "source": [
        "import os\n",
        "import pandas as pd \n",
        "os.getcwd()"
      ],
      "metadata": {
        "colab": {
          "base_uri": "https://localhost:8080/",
          "height": 35
        },
        "id": "aW61ohEtjx-H",
        "outputId": "0f985a47-d955-416f-ace6-802dab13d46d"
      },
      "execution_count": 1,
      "outputs": [
        {
          "output_type": "execute_result",
          "data": {
            "text/plain": [
              "'/content'"
            ],
            "application/vnd.google.colaboratory.intrinsic+json": {
              "type": "string"
            }
          },
          "metadata": {},
          "execution_count": 1
        }
      ]
    },
    {
      "cell_type": "markdown",
      "source": [
        "```python\n",
        "from google.colab import drive\n",
        "drive.mount('/content/drive')\n",
        "data_path = \"/content/drive/MyDrive/Classes/NLP/data/IMDB Dataset.csv\"\n",
        "```"
      ],
      "metadata": {
        "id": "yozlad7ocv6e"
      }
    },
    {
      "cell_type": "code",
      "source": [
        "from google.colab import drive\n",
        "drive.mount('/content/drive')"
      ],
      "metadata": {
        "colab": {
          "base_uri": "https://localhost:8080/"
        },
        "id": "Env6eL2ld9ki",
        "outputId": "8f92d639-f3b2-4804-8d73-72b9c620b95e"
      },
      "execution_count": 6,
      "outputs": [
        {
          "output_type": "stream",
          "name": "stdout",
          "text": [
            "Mounted at /content/drive\n"
          ]
        }
      ]
    },
    {
      "cell_type": "code",
      "source": [
        "# data_path = \"/content/IMDB Dataset.csv\"\n",
        "\n",
        "data_path = \"/content/drive/MyDrive/IMDB Dataset.csv\""
      ],
      "metadata": {
        "id": "rFFr9P5Gj3la"
      },
      "execution_count": 7,
      "outputs": []
    },
    {
      "cell_type": "code",
      "execution_count": 9,
      "metadata": {
        "execution": {
          "iopub.execute_input": "2021-12-31T06:31:41.835385Z",
          "iopub.status.busy": "2021-12-31T06:31:41.834548Z",
          "iopub.status.idle": "2021-12-31T06:31:43.691014Z",
          "shell.execute_reply": "2021-12-31T06:31:43.689926Z",
          "shell.execute_reply.started": "2021-12-31T06:31:41.835329Z"
        },
        "id": "p3I8FoIcfXI1"
      },
      "outputs": [],
      "source": [
        "df = pd.read_csv(data_path)"
      ]
    },
    {
      "cell_type": "code",
      "execution_count": 10,
      "metadata": {
        "execution": {
          "iopub.execute_input": "2021-12-31T06:31:45.066838Z",
          "iopub.status.busy": "2021-12-31T06:31:45.066171Z",
          "iopub.status.idle": "2021-12-31T06:31:45.074943Z",
          "shell.execute_reply": "2021-12-31T06:31:45.074024Z",
          "shell.execute_reply.started": "2021-12-31T06:31:45.066796Z"
        },
        "colab": {
          "base_uri": "https://localhost:8080/"
        },
        "id": "Z2xd0TNcfXI2",
        "outputId": "fbbbf737-e3bd-4155-9a07-70aa326e8a96"
      },
      "outputs": [
        {
          "output_type": "execute_result",
          "data": {
            "text/plain": [
              "(50000, 2)"
            ]
          },
          "metadata": {},
          "execution_count": 10
        }
      ],
      "source": [
        "df.shape"
      ]
    },
    {
      "cell_type": "code",
      "source": [
        "df = df.head(1000)"
      ],
      "metadata": {
        "id": "eZCM9UfFmf1M"
      },
      "execution_count": 11,
      "outputs": []
    },
    {
      "cell_type": "code",
      "source": [
        "df.shape"
      ],
      "metadata": {
        "colab": {
          "base_uri": "https://localhost:8080/"
        },
        "id": "9O0EVPWxmvEk",
        "outputId": "19924d7b-f51a-49ca-ba1e-7ea516279e71"
      },
      "execution_count": 12,
      "outputs": [
        {
          "output_type": "execute_result",
          "data": {
            "text/plain": [
              "(1000, 2)"
            ]
          },
          "metadata": {},
          "execution_count": 12
        }
      ]
    },
    {
      "cell_type": "code",
      "execution_count": 13,
      "metadata": {
        "execution": {
          "iopub.execute_input": "2021-12-31T06:31:45.928154Z",
          "iopub.status.busy": "2021-12-31T06:31:45.927888Z",
          "iopub.status.idle": "2021-12-31T06:31:45.945137Z",
          "shell.execute_reply": "2021-12-31T06:31:45.944403Z",
          "shell.execute_reply.started": "2021-12-31T06:31:45.928126Z"
        },
        "colab": {
          "base_uri": "https://localhost:8080/",
          "height": 206
        },
        "id": "IK472BClfXI2",
        "outputId": "11f5b7ce-2f4d-423a-fa59-f72875c5d19f"
      },
      "outputs": [
        {
          "output_type": "execute_result",
          "data": {
            "text/plain": [
              "                                              review sentiment\n",
              "0  One of the other reviewers has mentioned that ...  positive\n",
              "1  A wonderful little production. <br /><br />The...  positive\n",
              "2  I thought this was a wonderful way to spend ti...  positive\n",
              "3  Basically there's a family where a little boy ...  negative\n",
              "4  Petter Mattei's \"Love in the Time of Money\" is...  positive"
            ],
            "text/html": [
              "\n",
              "  <div id=\"df-45ccf576-1fd2-4542-9f82-bc592a4fbe05\">\n",
              "    <div class=\"colab-df-container\">\n",
              "      <div>\n",
              "<style scoped>\n",
              "    .dataframe tbody tr th:only-of-type {\n",
              "        vertical-align: middle;\n",
              "    }\n",
              "\n",
              "    .dataframe tbody tr th {\n",
              "        vertical-align: top;\n",
              "    }\n",
              "\n",
              "    .dataframe thead th {\n",
              "        text-align: right;\n",
              "    }\n",
              "</style>\n",
              "<table border=\"1\" class=\"dataframe\">\n",
              "  <thead>\n",
              "    <tr style=\"text-align: right;\">\n",
              "      <th></th>\n",
              "      <th>review</th>\n",
              "      <th>sentiment</th>\n",
              "    </tr>\n",
              "  </thead>\n",
              "  <tbody>\n",
              "    <tr>\n",
              "      <th>0</th>\n",
              "      <td>One of the other reviewers has mentioned that ...</td>\n",
              "      <td>positive</td>\n",
              "    </tr>\n",
              "    <tr>\n",
              "      <th>1</th>\n",
              "      <td>A wonderful little production. &lt;br /&gt;&lt;br /&gt;The...</td>\n",
              "      <td>positive</td>\n",
              "    </tr>\n",
              "    <tr>\n",
              "      <th>2</th>\n",
              "      <td>I thought this was a wonderful way to spend ti...</td>\n",
              "      <td>positive</td>\n",
              "    </tr>\n",
              "    <tr>\n",
              "      <th>3</th>\n",
              "      <td>Basically there's a family where a little boy ...</td>\n",
              "      <td>negative</td>\n",
              "    </tr>\n",
              "    <tr>\n",
              "      <th>4</th>\n",
              "      <td>Petter Mattei's \"Love in the Time of Money\" is...</td>\n",
              "      <td>positive</td>\n",
              "    </tr>\n",
              "  </tbody>\n",
              "</table>\n",
              "</div>\n",
              "      <button class=\"colab-df-convert\" onclick=\"convertToInteractive('df-45ccf576-1fd2-4542-9f82-bc592a4fbe05')\"\n",
              "              title=\"Convert this dataframe to an interactive table.\"\n",
              "              style=\"display:none;\">\n",
              "        \n",
              "  <svg xmlns=\"http://www.w3.org/2000/svg\" height=\"24px\"viewBox=\"0 0 24 24\"\n",
              "       width=\"24px\">\n",
              "    <path d=\"M0 0h24v24H0V0z\" fill=\"none\"/>\n",
              "    <path d=\"M18.56 5.44l.94 2.06.94-2.06 2.06-.94-2.06-.94-.94-2.06-.94 2.06-2.06.94zm-11 1L8.5 8.5l.94-2.06 2.06-.94-2.06-.94L8.5 2.5l-.94 2.06-2.06.94zm10 10l.94 2.06.94-2.06 2.06-.94-2.06-.94-.94-2.06-.94 2.06-2.06.94z\"/><path d=\"M17.41 7.96l-1.37-1.37c-.4-.4-.92-.59-1.43-.59-.52 0-1.04.2-1.43.59L10.3 9.45l-7.72 7.72c-.78.78-.78 2.05 0 2.83L4 21.41c.39.39.9.59 1.41.59.51 0 1.02-.2 1.41-.59l7.78-7.78 2.81-2.81c.8-.78.8-2.07 0-2.86zM5.41 20L4 18.59l7.72-7.72 1.47 1.35L5.41 20z\"/>\n",
              "  </svg>\n",
              "      </button>\n",
              "      \n",
              "  <style>\n",
              "    .colab-df-container {\n",
              "      display:flex;\n",
              "      flex-wrap:wrap;\n",
              "      gap: 12px;\n",
              "    }\n",
              "\n",
              "    .colab-df-convert {\n",
              "      background-color: #E8F0FE;\n",
              "      border: none;\n",
              "      border-radius: 50%;\n",
              "      cursor: pointer;\n",
              "      display: none;\n",
              "      fill: #1967D2;\n",
              "      height: 32px;\n",
              "      padding: 0 0 0 0;\n",
              "      width: 32px;\n",
              "    }\n",
              "\n",
              "    .colab-df-convert:hover {\n",
              "      background-color: #E2EBFA;\n",
              "      box-shadow: 0px 1px 2px rgba(60, 64, 67, 0.3), 0px 1px 3px 1px rgba(60, 64, 67, 0.15);\n",
              "      fill: #174EA6;\n",
              "    }\n",
              "\n",
              "    [theme=dark] .colab-df-convert {\n",
              "      background-color: #3B4455;\n",
              "      fill: #D2E3FC;\n",
              "    }\n",
              "\n",
              "    [theme=dark] .colab-df-convert:hover {\n",
              "      background-color: #434B5C;\n",
              "      box-shadow: 0px 1px 3px 1px rgba(0, 0, 0, 0.15);\n",
              "      filter: drop-shadow(0px 1px 2px rgba(0, 0, 0, 0.3));\n",
              "      fill: #FFFFFF;\n",
              "    }\n",
              "  </style>\n",
              "\n",
              "      <script>\n",
              "        const buttonEl =\n",
              "          document.querySelector('#df-45ccf576-1fd2-4542-9f82-bc592a4fbe05 button.colab-df-convert');\n",
              "        buttonEl.style.display =\n",
              "          google.colab.kernel.accessAllowed ? 'block' : 'none';\n",
              "\n",
              "        async function convertToInteractive(key) {\n",
              "          const element = document.querySelector('#df-45ccf576-1fd2-4542-9f82-bc592a4fbe05');\n",
              "          const dataTable =\n",
              "            await google.colab.kernel.invokeFunction('convertToInteractive',\n",
              "                                                     [key], {});\n",
              "          if (!dataTable) return;\n",
              "\n",
              "          const docLinkHtml = 'Like what you see? Visit the ' +\n",
              "            '<a target=\"_blank\" href=https://colab.research.google.com/notebooks/data_table.ipynb>data table notebook</a>'\n",
              "            + ' to learn more about interactive tables.';\n",
              "          element.innerHTML = '';\n",
              "          dataTable['output_type'] = 'display_data';\n",
              "          await google.colab.output.renderOutput(dataTable, element);\n",
              "          const docLink = document.createElement('div');\n",
              "          docLink.innerHTML = docLinkHtml;\n",
              "          element.appendChild(docLink);\n",
              "        }\n",
              "      </script>\n",
              "    </div>\n",
              "  </div>\n",
              "  "
            ]
          },
          "metadata": {},
          "execution_count": 13
        }
      ],
      "source": [
        "df.head()"
      ]
    },
    {
      "cell_type": "markdown",
      "metadata": {
        "id": "2904AVZxfXI3"
      },
      "source": [
        "# Lower Case"
      ]
    },
    {
      "cell_type": "code",
      "execution_count": 14,
      "metadata": {
        "execution": {
          "iopub.execute_input": "2021-12-31T06:31:46.622825Z",
          "iopub.status.busy": "2021-12-31T06:31:46.622155Z",
          "iopub.status.idle": "2021-12-31T06:31:46.631721Z",
          "shell.execute_reply": "2021-12-31T06:31:46.631006Z",
          "shell.execute_reply.started": "2021-12-31T06:31:46.622784Z"
        },
        "colab": {
          "base_uri": "https://localhost:8080/",
          "height": 122
        },
        "id": "GmzqPSelfXI_",
        "outputId": "b067d608-dc86-4534-e4f5-17fe76d817ae"
      },
      "outputs": [
        {
          "output_type": "execute_result",
          "data": {
            "text/plain": [
              "\"Basically there's a family where a little boy (Jake) thinks there's a zombie in his closet & his parents are fighting all the time.<br /><br />This movie is slower than a soap opera... and suddenly, Jake decides to become Rambo and kill the zombie.<br /><br />OK, first of all when you're going to make a film you must Decide if its a thriller or a drama! As a drama the movie is watchable. Parents are divorcing & arguing like in real life. And then we have Jake with his closet which totally ruins all the film! I expected to see a BOOGEYMAN similar movie, and instead i watched a drama with some meaningless thriller spots.<br /><br />3 out of 10 just for the well playing parents & descent dialogs. As for the shots with Jake: just ignore them.\""
            ],
            "application/vnd.google.colaboratory.intrinsic+json": {
              "type": "string"
            }
          },
          "metadata": {},
          "execution_count": 14
        }
      ],
      "source": [
        "df['review'][3]"
      ]
    },
    {
      "cell_type": "code",
      "execution_count": 15,
      "metadata": {
        "execution": {
          "iopub.execute_input": "2021-12-31T06:31:47.787087Z",
          "iopub.status.busy": "2021-12-31T06:31:47.786303Z",
          "iopub.status.idle": "2021-12-31T06:31:47.951308Z",
          "shell.execute_reply": "2021-12-31T06:31:47.950466Z",
          "shell.execute_reply.started": "2021-12-31T06:31:47.787050Z"
        },
        "id": "i89hq6VMfXJB"
      },
      "outputs": [],
      "source": [
        "df['review'] = df['review'].str.lower()"
      ]
    },
    {
      "cell_type": "code",
      "execution_count": 16,
      "metadata": {
        "execution": {
          "iopub.execute_input": "2021-12-31T06:31:49.128530Z",
          "iopub.status.busy": "2021-12-31T06:31:49.128210Z",
          "iopub.status.idle": "2021-12-31T06:31:49.139811Z",
          "shell.execute_reply": "2021-12-31T06:31:49.139029Z",
          "shell.execute_reply.started": "2021-12-31T06:31:49.128496Z"
        },
        "colab": {
          "base_uri": "https://localhost:8080/",
          "height": 423
        },
        "id": "glDKwJu4fXJC",
        "outputId": "00bd6b39-add9-47c9-e039-0d5c34ce8e07"
      },
      "outputs": [
        {
          "output_type": "execute_result",
          "data": {
            "text/plain": [
              "                                                review sentiment\n",
              "0    one of the other reviewers has mentioned that ...  positive\n",
              "1    a wonderful little production. <br /><br />the...  positive\n",
              "2    i thought this was a wonderful way to spend ti...  positive\n",
              "3    basically there's a family where a little boy ...  negative\n",
              "4    petter mattei's \"love in the time of money\" is...  positive\n",
              "..                                                 ...       ...\n",
              "995  nothing is sacred. just ask ernie fosselius. t...  positive\n",
              "996  i hated it. i hate self-aware pretentious inan...  negative\n",
              "997  i usually try to be professional and construct...  negative\n",
              "998  if you like me is going to see this in a film ...  negative\n",
              "999  this is like a zoology textbook, given that it...  negative\n",
              "\n",
              "[1000 rows x 2 columns]"
            ],
            "text/html": [
              "\n",
              "  <div id=\"df-af2131e9-c5d4-4232-8e90-ed2a6629e0b9\">\n",
              "    <div class=\"colab-df-container\">\n",
              "      <div>\n",
              "<style scoped>\n",
              "    .dataframe tbody tr th:only-of-type {\n",
              "        vertical-align: middle;\n",
              "    }\n",
              "\n",
              "    .dataframe tbody tr th {\n",
              "        vertical-align: top;\n",
              "    }\n",
              "\n",
              "    .dataframe thead th {\n",
              "        text-align: right;\n",
              "    }\n",
              "</style>\n",
              "<table border=\"1\" class=\"dataframe\">\n",
              "  <thead>\n",
              "    <tr style=\"text-align: right;\">\n",
              "      <th></th>\n",
              "      <th>review</th>\n",
              "      <th>sentiment</th>\n",
              "    </tr>\n",
              "  </thead>\n",
              "  <tbody>\n",
              "    <tr>\n",
              "      <th>0</th>\n",
              "      <td>one of the other reviewers has mentioned that ...</td>\n",
              "      <td>positive</td>\n",
              "    </tr>\n",
              "    <tr>\n",
              "      <th>1</th>\n",
              "      <td>a wonderful little production. &lt;br /&gt;&lt;br /&gt;the...</td>\n",
              "      <td>positive</td>\n",
              "    </tr>\n",
              "    <tr>\n",
              "      <th>2</th>\n",
              "      <td>i thought this was a wonderful way to spend ti...</td>\n",
              "      <td>positive</td>\n",
              "    </tr>\n",
              "    <tr>\n",
              "      <th>3</th>\n",
              "      <td>basically there's a family where a little boy ...</td>\n",
              "      <td>negative</td>\n",
              "    </tr>\n",
              "    <tr>\n",
              "      <th>4</th>\n",
              "      <td>petter mattei's \"love in the time of money\" is...</td>\n",
              "      <td>positive</td>\n",
              "    </tr>\n",
              "    <tr>\n",
              "      <th>...</th>\n",
              "      <td>...</td>\n",
              "      <td>...</td>\n",
              "    </tr>\n",
              "    <tr>\n",
              "      <th>995</th>\n",
              "      <td>nothing is sacred. just ask ernie fosselius. t...</td>\n",
              "      <td>positive</td>\n",
              "    </tr>\n",
              "    <tr>\n",
              "      <th>996</th>\n",
              "      <td>i hated it. i hate self-aware pretentious inan...</td>\n",
              "      <td>negative</td>\n",
              "    </tr>\n",
              "    <tr>\n",
              "      <th>997</th>\n",
              "      <td>i usually try to be professional and construct...</td>\n",
              "      <td>negative</td>\n",
              "    </tr>\n",
              "    <tr>\n",
              "      <th>998</th>\n",
              "      <td>if you like me is going to see this in a film ...</td>\n",
              "      <td>negative</td>\n",
              "    </tr>\n",
              "    <tr>\n",
              "      <th>999</th>\n",
              "      <td>this is like a zoology textbook, given that it...</td>\n",
              "      <td>negative</td>\n",
              "    </tr>\n",
              "  </tbody>\n",
              "</table>\n",
              "<p>1000 rows × 2 columns</p>\n",
              "</div>\n",
              "      <button class=\"colab-df-convert\" onclick=\"convertToInteractive('df-af2131e9-c5d4-4232-8e90-ed2a6629e0b9')\"\n",
              "              title=\"Convert this dataframe to an interactive table.\"\n",
              "              style=\"display:none;\">\n",
              "        \n",
              "  <svg xmlns=\"http://www.w3.org/2000/svg\" height=\"24px\"viewBox=\"0 0 24 24\"\n",
              "       width=\"24px\">\n",
              "    <path d=\"M0 0h24v24H0V0z\" fill=\"none\"/>\n",
              "    <path d=\"M18.56 5.44l.94 2.06.94-2.06 2.06-.94-2.06-.94-.94-2.06-.94 2.06-2.06.94zm-11 1L8.5 8.5l.94-2.06 2.06-.94-2.06-.94L8.5 2.5l-.94 2.06-2.06.94zm10 10l.94 2.06.94-2.06 2.06-.94-2.06-.94-.94-2.06-.94 2.06-2.06.94z\"/><path d=\"M17.41 7.96l-1.37-1.37c-.4-.4-.92-.59-1.43-.59-.52 0-1.04.2-1.43.59L10.3 9.45l-7.72 7.72c-.78.78-.78 2.05 0 2.83L4 21.41c.39.39.9.59 1.41.59.51 0 1.02-.2 1.41-.59l7.78-7.78 2.81-2.81c.8-.78.8-2.07 0-2.86zM5.41 20L4 18.59l7.72-7.72 1.47 1.35L5.41 20z\"/>\n",
              "  </svg>\n",
              "      </button>\n",
              "      \n",
              "  <style>\n",
              "    .colab-df-container {\n",
              "      display:flex;\n",
              "      flex-wrap:wrap;\n",
              "      gap: 12px;\n",
              "    }\n",
              "\n",
              "    .colab-df-convert {\n",
              "      background-color: #E8F0FE;\n",
              "      border: none;\n",
              "      border-radius: 50%;\n",
              "      cursor: pointer;\n",
              "      display: none;\n",
              "      fill: #1967D2;\n",
              "      height: 32px;\n",
              "      padding: 0 0 0 0;\n",
              "      width: 32px;\n",
              "    }\n",
              "\n",
              "    .colab-df-convert:hover {\n",
              "      background-color: #E2EBFA;\n",
              "      box-shadow: 0px 1px 2px rgba(60, 64, 67, 0.3), 0px 1px 3px 1px rgba(60, 64, 67, 0.15);\n",
              "      fill: #174EA6;\n",
              "    }\n",
              "\n",
              "    [theme=dark] .colab-df-convert {\n",
              "      background-color: #3B4455;\n",
              "      fill: #D2E3FC;\n",
              "    }\n",
              "\n",
              "    [theme=dark] .colab-df-convert:hover {\n",
              "      background-color: #434B5C;\n",
              "      box-shadow: 0px 1px 3px 1px rgba(0, 0, 0, 0.15);\n",
              "      filter: drop-shadow(0px 1px 2px rgba(0, 0, 0, 0.3));\n",
              "      fill: #FFFFFF;\n",
              "    }\n",
              "  </style>\n",
              "\n",
              "      <script>\n",
              "        const buttonEl =\n",
              "          document.querySelector('#df-af2131e9-c5d4-4232-8e90-ed2a6629e0b9 button.colab-df-convert');\n",
              "        buttonEl.style.display =\n",
              "          google.colab.kernel.accessAllowed ? 'block' : 'none';\n",
              "\n",
              "        async function convertToInteractive(key) {\n",
              "          const element = document.querySelector('#df-af2131e9-c5d4-4232-8e90-ed2a6629e0b9');\n",
              "          const dataTable =\n",
              "            await google.colab.kernel.invokeFunction('convertToInteractive',\n",
              "                                                     [key], {});\n",
              "          if (!dataTable) return;\n",
              "\n",
              "          const docLinkHtml = 'Like what you see? Visit the ' +\n",
              "            '<a target=\"_blank\" href=https://colab.research.google.com/notebooks/data_table.ipynb>data table notebook</a>'\n",
              "            + ' to learn more about interactive tables.';\n",
              "          element.innerHTML = '';\n",
              "          dataTable['output_type'] = 'display_data';\n",
              "          await google.colab.output.renderOutput(dataTable, element);\n",
              "          const docLink = document.createElement('div');\n",
              "          docLink.innerHTML = docLinkHtml;\n",
              "          element.appendChild(docLink);\n",
              "        }\n",
              "      </script>\n",
              "    </div>\n",
              "  </div>\n",
              "  "
            ]
          },
          "metadata": {},
          "execution_count": 16
        }
      ],
      "source": [
        "df"
      ]
    },
    {
      "cell_type": "markdown",
      "metadata": {
        "id": "q6PdP4pvfXJD"
      },
      "source": [
        "# Remove `html_tags`"
      ]
    },
    {
      "cell_type": "code",
      "execution_count": 17,
      "metadata": {
        "execution": {
          "iopub.execute_input": "2021-12-31T06:31:50.312485Z",
          "iopub.status.busy": "2021-12-31T06:31:50.311881Z",
          "iopub.status.idle": "2021-12-31T06:31:50.317355Z",
          "shell.execute_reply": "2021-12-31T06:31:50.316605Z",
          "shell.execute_reply.started": "2021-12-31T06:31:50.312441Z"
        },
        "id": "TJBPXPKffXJE"
      },
      "outputs": [],
      "source": [
        "import re\n",
        "def remove_html_tags(text):\n",
        "    pattern = re.compile('<.*?>')\n",
        "    return pattern.sub(r'', text)"
      ]
    },
    {
      "cell_type": "code",
      "execution_count": 18,
      "metadata": {
        "execution": {
          "iopub.execute_input": "2021-12-31T06:31:51.213645Z",
          "iopub.status.busy": "2021-12-31T06:31:51.212983Z",
          "iopub.status.idle": "2021-12-31T06:31:51.217270Z",
          "shell.execute_reply": "2021-12-31T06:31:51.216678Z",
          "shell.execute_reply.started": "2021-12-31T06:31:51.213613Z"
        },
        "id": "ULnX84uNfXJE"
      },
      "outputs": [],
      "source": [
        "text = \"<html><body><p> Movie 1</p><p> Actor - Aamir Khan</p><p> Click here to <a href='http://google.com'>download</a></p></body></html>\""
      ]
    },
    {
      "cell_type": "code",
      "execution_count": 19,
      "metadata": {
        "execution": {
          "iopub.execute_input": "2021-12-31T06:31:52.830688Z",
          "iopub.status.busy": "2021-12-31T06:31:52.830402Z",
          "iopub.status.idle": "2021-12-31T06:31:52.836008Z",
          "shell.execute_reply": "2021-12-31T06:31:52.835403Z",
          "shell.execute_reply.started": "2021-12-31T06:31:52.830656Z"
        },
        "colab": {
          "base_uri": "https://localhost:8080/",
          "height": 35
        },
        "id": "qNvDbZB0fXJF",
        "outputId": "be05447b-7ff1-4910-ae4d-898da491873e"
      },
      "outputs": [
        {
          "output_type": "execute_result",
          "data": {
            "text/plain": [
              "' Movie 1 Actor - Aamir Khan Click here to download'"
            ],
            "application/vnd.google.colaboratory.intrinsic+json": {
              "type": "string"
            }
          },
          "metadata": {},
          "execution_count": 19
        }
      ],
      "source": [
        "remove_html_tags(text)"
      ]
    },
    {
      "cell_type": "code",
      "execution_count": 20,
      "metadata": {
        "execution": {
          "iopub.execute_input": "2021-12-31T06:31:56.044835Z",
          "iopub.status.busy": "2021-12-31T06:31:56.044290Z",
          "iopub.status.idle": "2021-12-31T06:31:56.261722Z",
          "shell.execute_reply": "2021-12-31T06:31:56.260834Z",
          "shell.execute_reply.started": "2021-12-31T06:31:56.044797Z"
        },
        "id": "yC7UIrYBfXJF"
      },
      "outputs": [],
      "source": [
        "df['review'] = df['review'].apply(remove_html_tags)"
      ]
    },
    {
      "cell_type": "code",
      "execution_count": 21,
      "metadata": {
        "execution": {
          "iopub.execute_input": "2021-12-31T06:31:57.128227Z",
          "iopub.status.busy": "2021-12-31T06:31:57.127915Z",
          "iopub.status.idle": "2021-12-31T06:31:57.135752Z",
          "shell.execute_reply": "2021-12-31T06:31:57.134890Z",
          "shell.execute_reply.started": "2021-12-31T06:31:57.128194Z"
        },
        "colab": {
          "base_uri": "https://localhost:8080/",
          "height": 104
        },
        "id": "8dC4Wn-CfXJG",
        "outputId": "3d60f624-00ea-4d5b-9f2f-b9e5575bce1d"
      },
      "outputs": [
        {
          "output_type": "execute_result",
          "data": {
            "text/plain": [
              "'probably my all-time favorite movie, a story of selflessness, sacrifice and dedication to a noble cause, but it\\'s not preachy or boring. it just never gets old, despite my having seen it some 15 or more times in the last 25 years. paul lukas\\' performance brings tears to my eyes, and bette davis, in one of her very few truly sympathetic roles, is a delight. the kids are, as grandma says, more like \"dressed-up midgets\" than children, but that only makes them more fun to watch. and the mother\\'s slow awakening to what\\'s happening in the world and under her own roof is believable and startling. if i had a dozen thumbs, they\\'d all be \"up\" for this movie.'"
            ],
            "application/vnd.google.colaboratory.intrinsic+json": {
              "type": "string"
            }
          },
          "metadata": {},
          "execution_count": 21
        }
      ],
      "source": [
        "df['review'][5]"
      ]
    },
    {
      "cell_type": "markdown",
      "metadata": {
        "id": "UdMkoipYfXJG"
      },
      "source": [
        "# Remove `url`"
      ]
    },
    {
      "cell_type": "code",
      "execution_count": 22,
      "metadata": {
        "execution": {
          "iopub.execute_input": "2021-12-31T06:31:59.535009Z",
          "iopub.status.busy": "2021-12-31T06:31:59.534577Z",
          "iopub.status.idle": "2021-12-31T06:31:59.538828Z",
          "shell.execute_reply": "2021-12-31T06:31:59.537932Z",
          "shell.execute_reply.started": "2021-12-31T06:31:59.534968Z"
        },
        "id": "3BmkkiKWfXJG"
      },
      "outputs": [],
      "source": [
        "def remove_url(text):\n",
        "    pattern = re.compile(r'https?://\\S+|www\\.\\S+')\n",
        "    return pattern.sub(r'', text)"
      ]
    },
    {
      "cell_type": "code",
      "execution_count": 23,
      "metadata": {
        "execution": {
          "iopub.execute_input": "2021-12-31T06:32:01.777326Z",
          "iopub.status.busy": "2021-12-31T06:32:01.776896Z",
          "iopub.status.idle": "2021-12-31T06:32:01.782039Z",
          "shell.execute_reply": "2021-12-31T06:32:01.781169Z",
          "shell.execute_reply.started": "2021-12-31T06:32:01.777289Z"
        },
        "id": "M2qrlgUVfXJH"
      },
      "outputs": [],
      "source": [
        "text1 = 'Check out my youtube https://www.youtube.com/dswithwasiq'\n",
        "text2 = 'Check out my linkedin https://www.linkedin.com/in/mohammadwasiq0/'\n",
        "text3 = 'Google search here www.google.com'\n",
        "text4 = 'For data click https://www.kaggle.com/'"
      ]
    },
    {
      "cell_type": "code",
      "execution_count": 24,
      "metadata": {
        "execution": {
          "iopub.execute_input": "2021-12-31T06:32:13.347025Z",
          "iopub.status.busy": "2021-12-31T06:32:13.346432Z",
          "iopub.status.idle": "2021-12-31T06:32:13.352108Z",
          "shell.execute_reply": "2021-12-31T06:32:13.351556Z",
          "shell.execute_reply.started": "2021-12-31T06:32:13.346979Z"
        },
        "colab": {
          "base_uri": "https://localhost:8080/",
          "height": 35
        },
        "id": "o3wQdDYGfXJI",
        "outputId": "1d9d8306-9bef-422f-9a89-dcf9bdf38208"
      },
      "outputs": [
        {
          "output_type": "execute_result",
          "data": {
            "text/plain": [
              "'Check out my youtube '"
            ],
            "application/vnd.google.colaboratory.intrinsic+json": {
              "type": "string"
            }
          },
          "metadata": {},
          "execution_count": 24
        }
      ],
      "source": [
        "remove_url(text1)"
      ]
    },
    {
      "cell_type": "markdown",
      "metadata": {
        "id": "NxXTlMd-fXJI"
      },
      "source": [
        "# Punctuation Handling"
      ]
    },
    {
      "cell_type": "code",
      "execution_count": 25,
      "metadata": {
        "execution": {
          "iopub.execute_input": "2021-12-31T06:32:15.220391Z",
          "iopub.status.busy": "2021-12-31T06:32:15.219430Z",
          "iopub.status.idle": "2021-12-31T06:32:15.226608Z",
          "shell.execute_reply": "2021-12-31T06:32:15.225774Z",
          "shell.execute_reply.started": "2021-12-31T06:32:15.220317Z"
        },
        "colab": {
          "base_uri": "https://localhost:8080/",
          "height": 35
        },
        "id": "9PqZWxf9fXJJ",
        "outputId": "6152f275-ebbe-4df0-ffa0-74cb964c89d7"
      },
      "outputs": [
        {
          "output_type": "execute_result",
          "data": {
            "text/plain": [
              "'!\"#$%&\\'()*+,-./:;<=>?@[\\\\]^_`{|}~'"
            ],
            "application/vnd.google.colaboratory.intrinsic+json": {
              "type": "string"
            }
          },
          "metadata": {},
          "execution_count": 25
        }
      ],
      "source": [
        "import string, time\n",
        "string.punctuation"
      ]
    },
    {
      "cell_type": "code",
      "execution_count": 26,
      "metadata": {
        "execution": {
          "iopub.execute_input": "2021-12-31T06:32:17.479876Z",
          "iopub.status.busy": "2021-12-31T06:32:17.479110Z",
          "iopub.status.idle": "2021-12-31T06:32:17.482866Z",
          "shell.execute_reply": "2021-12-31T06:32:17.482313Z",
          "shell.execute_reply.started": "2021-12-31T06:32:17.479840Z"
        },
        "id": "HeyKLJu_fXJJ",
        "colab": {
          "base_uri": "https://localhost:8080/",
          "height": 35
        },
        "outputId": "cce339c6-efed-45d7-dbee-49308a3b87c0"
      },
      "outputs": [
        {
          "output_type": "execute_result",
          "data": {
            "text/plain": [
              "'!\"#$%&\\'()*+,-./:;<=>?@[\\\\]^_`{|}~'"
            ],
            "application/vnd.google.colaboratory.intrinsic+json": {
              "type": "string"
            }
          },
          "metadata": {},
          "execution_count": 26
        }
      ],
      "source": [
        "exclude = string.punctuation\n",
        "exclude"
      ]
    },
    {
      "cell_type": "code",
      "execution_count": 27,
      "metadata": {
        "execution": {
          "iopub.execute_input": "2021-12-31T06:32:55.078670Z",
          "iopub.status.busy": "2021-12-31T06:32:55.078307Z",
          "iopub.status.idle": "2021-12-31T06:32:55.083271Z",
          "shell.execute_reply": "2021-12-31T06:32:55.082403Z",
          "shell.execute_reply.started": "2021-12-31T06:32:55.078636Z"
        },
        "id": "KkB59_vLfXJK"
      },
      "outputs": [],
      "source": [
        "def remove_punc(text):\n",
        "    for char in exclude:\n",
        "        text = text.replace(char,'')\n",
        "    return text\n",
        "        "
      ]
    },
    {
      "cell_type": "code",
      "execution_count": 28,
      "metadata": {
        "execution": {
          "iopub.execute_input": "2021-12-31T06:33:45.243742Z",
          "iopub.status.busy": "2021-12-31T06:33:45.243469Z",
          "iopub.status.idle": "2021-12-31T06:33:45.247986Z",
          "shell.execute_reply": "2021-12-31T06:33:45.247407Z",
          "shell.execute_reply.started": "2021-12-31T06:33:45.243713Z"
        },
        "id": "Xc5SxdEhfXJK"
      },
      "outputs": [],
      "source": [
        "text = 'string. With. Punctuation?'"
      ]
    },
    {
      "cell_type": "code",
      "execution_count": 29,
      "metadata": {
        "execution": {
          "iopub.execute_input": "2021-12-08T11:47:24.652052Z",
          "iopub.status.busy": "2021-12-08T11:47:24.651733Z",
          "iopub.status.idle": "2021-12-08T11:47:24.658283Z",
          "shell.execute_reply": "2021-12-08T11:47:24.65749Z",
          "shell.execute_reply.started": "2021-12-08T11:47:24.652024Z"
        },
        "colab": {
          "base_uri": "https://localhost:8080/"
        },
        "id": "UhFUBAhxfXJK",
        "outputId": "a99950cd-35ce-4187-d70b-4f4673154d95"
      },
      "outputs": [
        {
          "output_type": "stream",
          "name": "stdout",
          "text": [
            "string With Punctuation\n",
            "265.5625343322754\n"
          ]
        }
      ],
      "source": [
        "start = time.time()\n",
        "print(remove_punc(text))\n",
        "time1 = time.time() - start\n",
        "print(time1*50000)"
      ]
    },
    {
      "cell_type": "code",
      "execution_count": 30,
      "metadata": {
        "execution": {
          "iopub.execute_input": "2021-12-31T06:35:41.647925Z",
          "iopub.status.busy": "2021-12-31T06:35:41.647652Z",
          "iopub.status.idle": "2021-12-31T06:35:41.652722Z",
          "shell.execute_reply": "2021-12-31T06:35:41.651839Z",
          "shell.execute_reply.started": "2021-12-31T06:35:41.647898Z"
        },
        "id": "mig_Sd1zfXJL"
      },
      "outputs": [],
      "source": [
        "def remove_punc1(text):\n",
        "    return text.translate(str.maketrans('', '', exclude))"
      ]
    },
    {
      "cell_type": "code",
      "execution_count": 31,
      "metadata": {
        "execution": {
          "iopub.execute_input": "2021-12-31T06:35:44.574532Z",
          "iopub.status.busy": "2021-12-31T06:35:44.574025Z",
          "iopub.status.idle": "2021-12-31T06:35:44.579559Z",
          "shell.execute_reply": "2021-12-31T06:35:44.578868Z",
          "shell.execute_reply.started": "2021-12-31T06:35:44.574499Z"
        },
        "colab": {
          "base_uri": "https://localhost:8080/"
        },
        "id": "DPUZ5MmSfXJL",
        "outputId": "cfb4e967-883d-43b7-fe05-7fff5b1c4ac9"
      },
      "outputs": [
        {
          "output_type": "stream",
          "name": "stdout",
          "text": [
            "7.0095062255859375\n"
          ]
        }
      ],
      "source": [
        "start = time.time()\n",
        "remove_punc1(text)\n",
        "time2 = time.time() - start\n",
        "print(time2*50000)"
      ]
    },
    {
      "cell_type": "code",
      "execution_count": 32,
      "metadata": {
        "execution": {
          "iopub.execute_input": "2021-12-31T06:35:50.343180Z",
          "iopub.status.busy": "2021-12-31T06:35:50.342776Z",
          "iopub.status.idle": "2021-12-31T06:35:50.411964Z",
          "shell.execute_reply": "2021-12-31T06:35:50.410707Z",
          "shell.execute_reply.started": "2021-12-31T06:35:50.343149Z"
        },
        "colab": {
          "base_uri": "https://localhost:8080/"
        },
        "id": "rxmeooiwfXJL",
        "outputId": "ebf9e541-bcd4-42a2-d325-ce97319bc449"
      },
      "outputs": [
        {
          "output_type": "execute_result",
          "data": {
            "text/plain": [
              "37.886054421768705"
            ]
          },
          "metadata": {},
          "execution_count": 32
        }
      ],
      "source": [
        "time1/time2"
      ]
    },
    {
      "cell_type": "code",
      "execution_count": 33,
      "metadata": {
        "execution": {
          "iopub.execute_input": "2021-12-31T06:36:00.861965Z",
          "iopub.status.busy": "2021-12-31T06:36:00.861687Z",
          "iopub.status.idle": "2021-12-31T06:36:00.867746Z",
          "shell.execute_reply": "2021-12-31T06:36:00.867162Z",
          "shell.execute_reply.started": "2021-12-31T06:36:00.861937Z"
        },
        "colab": {
          "base_uri": "https://localhost:8080/",
          "height": 104
        },
        "id": "T-eMG-S5fXJM",
        "outputId": "a937f371-12b5-4bee-b669-e1cd71b4c883"
      },
      "outputs": [
        {
          "output_type": "execute_result",
          "data": {
            "text/plain": [
              "'probably my all-time favorite movie, a story of selflessness, sacrifice and dedication to a noble cause, but it\\'s not preachy or boring. it just never gets old, despite my having seen it some 15 or more times in the last 25 years. paul lukas\\' performance brings tears to my eyes, and bette davis, in one of her very few truly sympathetic roles, is a delight. the kids are, as grandma says, more like \"dressed-up midgets\" than children, but that only makes them more fun to watch. and the mother\\'s slow awakening to what\\'s happening in the world and under her own roof is believable and startling. if i had a dozen thumbs, they\\'d all be \"up\" for this movie.'"
            ],
            "application/vnd.google.colaboratory.intrinsic+json": {
              "type": "string"
            }
          },
          "metadata": {},
          "execution_count": 33
        }
      ],
      "source": [
        "df['review'][5]"
      ]
    },
    {
      "cell_type": "code",
      "execution_count": 34,
      "metadata": {
        "execution": {
          "iopub.execute_input": "2021-12-31T06:36:15.841878Z",
          "iopub.status.busy": "2021-12-31T06:36:15.841151Z",
          "iopub.status.idle": "2021-12-31T06:36:15.847766Z",
          "shell.execute_reply": "2021-12-31T06:36:15.847100Z",
          "shell.execute_reply.started": "2021-12-31T06:36:15.841838Z"
        },
        "id": "y1378-1cfXJM",
        "colab": {
          "base_uri": "https://localhost:8080/",
          "height": 104
        },
        "outputId": "13b04eb6-a674-4d63-e5f0-9d886ebc719e"
      },
      "outputs": [
        {
          "output_type": "execute_result",
          "data": {
            "text/plain": [
              "'probably my alltime favorite movie a story of selflessness sacrifice and dedication to a noble cause but its not preachy or boring it just never gets old despite my having seen it some 15 or more times in the last 25 years paul lukas performance brings tears to my eyes and bette davis in one of her very few truly sympathetic roles is a delight the kids are as grandma says more like dressedup midgets than children but that only makes them more fun to watch and the mothers slow awakening to whats happening in the world and under her own roof is believable and startling if i had a dozen thumbs theyd all be up for this movie'"
            ],
            "application/vnd.google.colaboratory.intrinsic+json": {
              "type": "string"
            }
          },
          "metadata": {},
          "execution_count": 34
        }
      ],
      "source": [
        "remove_punc1(df['review'][5])"
      ]
    },
    {
      "cell_type": "markdown",
      "metadata": {
        "id": "5SBlyRsrfXJM"
      },
      "source": [
        "# `Chat_Conversion` Handle"
      ]
    },
    {
      "cell_type": "code",
      "execution_count": 35,
      "metadata": {
        "execution": {
          "iopub.execute_input": "2021-12-31T06:36:22.728415Z",
          "iopub.status.busy": "2021-12-31T06:36:22.727766Z",
          "iopub.status.idle": "2021-12-31T06:36:22.743070Z",
          "shell.execute_reply": "2021-12-31T06:36:22.742046Z",
          "shell.execute_reply.started": "2021-12-31T06:36:22.728375Z"
        },
        "id": "nXzadIiQfXJM"
      },
      "outputs": [],
      "source": [
        "chat_words = {\n",
        "    'AFAIK':'As Far As I Know',\n",
        "    'AFK':'Away From Keyboard',\n",
        "    'ASAP':'As Soon As Possible'\n",
        "}"
      ]
    },
    {
      "cell_type": "code",
      "execution_count": 36,
      "metadata": {
        "execution": {
          "iopub.execute_input": "2021-12-31T06:37:18.994223Z",
          "iopub.status.busy": "2021-12-31T06:37:18.993886Z",
          "iopub.status.idle": "2021-12-31T06:37:19.000183Z",
          "shell.execute_reply": "2021-12-31T06:37:18.999265Z",
          "shell.execute_reply.started": "2021-12-31T06:37:18.994189Z"
        },
        "id": "OLgR54U8fXJN"
      },
      "outputs": [],
      "source": [
        "def chat_conversion(text):\n",
        "    new_text = []\n",
        "    for w in text.split():\n",
        "        if w.upper() in chat_words:\n",
        "            new_text.append(chat_words[w.upper()])\n",
        "        else:\n",
        "            new_text.append(w)\n",
        "    return \" \".join(new_text)"
      ]
    },
    {
      "cell_type": "code",
      "execution_count": 37,
      "metadata": {
        "execution": {
          "iopub.execute_input": "2021-12-31T06:37:24.999985Z",
          "iopub.status.busy": "2021-12-31T06:37:24.999695Z",
          "iopub.status.idle": "2021-12-31T06:37:25.024673Z",
          "shell.execute_reply": "2021-12-31T06:37:25.023427Z",
          "shell.execute_reply.started": "2021-12-31T06:37:24.999952Z"
        },
        "colab": {
          "base_uri": "https://localhost:8080/",
          "height": 35
        },
        "id": "sXQpRJjufXJN",
        "outputId": "2053fd43-56fa-44a1-e82d-2cb5dfea16af"
      },
      "outputs": [
        {
          "output_type": "execute_result",
          "data": {
            "text/plain": [
              "'Do this work As Soon As Possible'"
            ],
            "application/vnd.google.colaboratory.intrinsic+json": {
              "type": "string"
            }
          },
          "metadata": {},
          "execution_count": 37
        }
      ],
      "source": [
        "chat_conversion('Do this work ASAP')"
      ]
    },
    {
      "cell_type": "markdown",
      "metadata": {
        "id": "8eP5rC1dfXJN"
      },
      "source": [
        "# `Incorrect_text` Handling"
      ]
    },
    {
      "cell_type": "code",
      "execution_count": 38,
      "metadata": {
        "execution": {
          "iopub.execute_input": "2021-12-31T06:37:38.717551Z",
          "iopub.status.busy": "2021-12-31T06:37:38.717223Z",
          "iopub.status.idle": "2021-12-31T06:37:40.330551Z",
          "shell.execute_reply": "2021-12-31T06:37:40.329692Z",
          "shell.execute_reply.started": "2021-12-31T06:37:38.717517Z"
        },
        "id": "tvF49XU6fXJO"
      },
      "outputs": [],
      "source": [
        "from textblob import TextBlob"
      ]
    },
    {
      "cell_type": "code",
      "execution_count": 39,
      "metadata": {
        "execution": {
          "iopub.execute_input": "2021-12-31T06:37:50.015862Z",
          "iopub.status.busy": "2021-12-31T06:37:50.015545Z",
          "iopub.status.idle": "2021-12-31T06:37:50.104071Z",
          "shell.execute_reply": "2021-12-31T06:37:50.103445Z",
          "shell.execute_reply.started": "2021-12-31T06:37:50.015829Z"
        },
        "colab": {
          "base_uri": "https://localhost:8080/",
          "height": 35
        },
        "id": "ytlFIBi5fXJO",
        "outputId": "81066305-a439-473a-9f0b-05c3128fa972"
      },
      "outputs": [
        {
          "output_type": "execute_result",
          "data": {
            "text/plain": [
              "'certain conditions during several generations are modified in the same manner.'"
            ],
            "application/vnd.google.colaboratory.intrinsic+json": {
              "type": "string"
            }
          },
          "metadata": {},
          "execution_count": 39
        }
      ],
      "source": [
        "incorrect_text = 'ceertain conditionas duriing seveal ggenerations aree moodified in the saame maner.'\n",
        "\n",
        "textBlb = TextBlob(incorrect_text)\n",
        "\n",
        "textBlb.correct().string"
      ]
    },
    {
      "cell_type": "markdown",
      "metadata": {
        "id": "WITVhvMnfXJO"
      },
      "source": [
        "# Stopwords"
      ]
    },
    {
      "cell_type": "code",
      "execution_count": 40,
      "metadata": {
        "execution": {
          "iopub.execute_input": "2021-12-31T06:38:05.959259Z",
          "iopub.status.busy": "2021-12-31T06:38:05.958488Z",
          "iopub.status.idle": "2021-12-31T06:38:05.963636Z",
          "shell.execute_reply": "2021-12-31T06:38:05.962600Z",
          "shell.execute_reply.started": "2021-12-31T06:38:05.959220Z"
        },
        "colab": {
          "base_uri": "https://localhost:8080/"
        },
        "id": "n-2O4IPafXJO",
        "outputId": "6391a7c8-a36c-4274-e869-f43d97d7367a"
      },
      "outputs": [
        {
          "output_type": "stream",
          "name": "stderr",
          "text": [
            "[nltk_data] Downloading package stopwords to /root/nltk_data...\n",
            "[nltk_data]   Unzipping corpora/stopwords.zip.\n"
          ]
        },
        {
          "output_type": "execute_result",
          "data": {
            "text/plain": [
              "True"
            ]
          },
          "metadata": {},
          "execution_count": 40
        }
      ],
      "source": [
        "from nltk.corpus import stopwords\n",
        "import nltk\n",
        "nltk.download('stopwords')"
      ]
    },
    {
      "cell_type": "code",
      "execution_count": 41,
      "metadata": {
        "execution": {
          "iopub.execute_input": "2021-12-31T06:38:12.662952Z",
          "iopub.status.busy": "2021-12-31T06:38:12.662315Z",
          "iopub.status.idle": "2021-12-31T06:38:12.676818Z",
          "shell.execute_reply": "2021-12-31T06:38:12.675895Z",
          "shell.execute_reply.started": "2021-12-31T06:38:12.662905Z"
        },
        "colab": {
          "base_uri": "https://localhost:8080/"
        },
        "id": "5cF8S-1QfXJP",
        "outputId": "835f54da-d295-47b6-d000-14dc0c5fff67"
      },
      "outputs": [
        {
          "output_type": "execute_result",
          "data": {
            "text/plain": [
              "['i',\n",
              " 'me',\n",
              " 'my',\n",
              " 'myself',\n",
              " 'we',\n",
              " 'our',\n",
              " 'ours',\n",
              " 'ourselves',\n",
              " 'you',\n",
              " \"you're\",\n",
              " \"you've\",\n",
              " \"you'll\",\n",
              " \"you'd\",\n",
              " 'your',\n",
              " 'yours',\n",
              " 'yourself',\n",
              " 'yourselves',\n",
              " 'he',\n",
              " 'him',\n",
              " 'his',\n",
              " 'himself',\n",
              " 'she',\n",
              " \"she's\",\n",
              " 'her',\n",
              " 'hers',\n",
              " 'herself',\n",
              " 'it',\n",
              " \"it's\",\n",
              " 'its',\n",
              " 'itself',\n",
              " 'they',\n",
              " 'them',\n",
              " 'their',\n",
              " 'theirs',\n",
              " 'themselves',\n",
              " 'what',\n",
              " 'which',\n",
              " 'who',\n",
              " 'whom',\n",
              " 'this',\n",
              " 'that',\n",
              " \"that'll\",\n",
              " 'these',\n",
              " 'those',\n",
              " 'am',\n",
              " 'is',\n",
              " 'are',\n",
              " 'was',\n",
              " 'were',\n",
              " 'be',\n",
              " 'been',\n",
              " 'being',\n",
              " 'have',\n",
              " 'has',\n",
              " 'had',\n",
              " 'having',\n",
              " 'do',\n",
              " 'does',\n",
              " 'did',\n",
              " 'doing',\n",
              " 'a',\n",
              " 'an',\n",
              " 'the',\n",
              " 'and',\n",
              " 'but',\n",
              " 'if',\n",
              " 'or',\n",
              " 'because',\n",
              " 'as',\n",
              " 'until',\n",
              " 'while',\n",
              " 'of',\n",
              " 'at',\n",
              " 'by',\n",
              " 'for',\n",
              " 'with',\n",
              " 'about',\n",
              " 'against',\n",
              " 'between',\n",
              " 'into',\n",
              " 'through',\n",
              " 'during',\n",
              " 'before',\n",
              " 'after',\n",
              " 'above',\n",
              " 'below',\n",
              " 'to',\n",
              " 'from',\n",
              " 'up',\n",
              " 'down',\n",
              " 'in',\n",
              " 'out',\n",
              " 'on',\n",
              " 'off',\n",
              " 'over',\n",
              " 'under',\n",
              " 'again',\n",
              " 'further',\n",
              " 'then',\n",
              " 'once',\n",
              " 'here',\n",
              " 'there',\n",
              " 'when',\n",
              " 'where',\n",
              " 'why',\n",
              " 'how',\n",
              " 'all',\n",
              " 'any',\n",
              " 'both',\n",
              " 'each',\n",
              " 'few',\n",
              " 'more',\n",
              " 'most',\n",
              " 'other',\n",
              " 'some',\n",
              " 'such',\n",
              " 'no',\n",
              " 'nor',\n",
              " 'not',\n",
              " 'only',\n",
              " 'own',\n",
              " 'same',\n",
              " 'so',\n",
              " 'than',\n",
              " 'too',\n",
              " 'very',\n",
              " 's',\n",
              " 't',\n",
              " 'can',\n",
              " 'will',\n",
              " 'just',\n",
              " 'don',\n",
              " \"don't\",\n",
              " 'should',\n",
              " \"should've\",\n",
              " 'now',\n",
              " 'd',\n",
              " 'll',\n",
              " 'm',\n",
              " 'o',\n",
              " 're',\n",
              " 've',\n",
              " 'y',\n",
              " 'ain',\n",
              " 'aren',\n",
              " \"aren't\",\n",
              " 'couldn',\n",
              " \"couldn't\",\n",
              " 'didn',\n",
              " \"didn't\",\n",
              " 'doesn',\n",
              " \"doesn't\",\n",
              " 'hadn',\n",
              " \"hadn't\",\n",
              " 'hasn',\n",
              " \"hasn't\",\n",
              " 'haven',\n",
              " \"haven't\",\n",
              " 'isn',\n",
              " \"isn't\",\n",
              " 'ma',\n",
              " 'mightn',\n",
              " \"mightn't\",\n",
              " 'mustn',\n",
              " \"mustn't\",\n",
              " 'needn',\n",
              " \"needn't\",\n",
              " 'shan',\n",
              " \"shan't\",\n",
              " 'shouldn',\n",
              " \"shouldn't\",\n",
              " 'wasn',\n",
              " \"wasn't\",\n",
              " 'weren',\n",
              " \"weren't\",\n",
              " 'won',\n",
              " \"won't\",\n",
              " 'wouldn',\n",
              " \"wouldn't\"]"
            ]
          },
          "metadata": {},
          "execution_count": 41
        }
      ],
      "source": [
        "stopwords.words('english')"
      ]
    },
    {
      "cell_type": "code",
      "execution_count": 42,
      "metadata": {
        "execution": {
          "iopub.execute_input": "2021-12-31T06:38:56.165757Z",
          "iopub.status.busy": "2021-12-31T06:38:56.165121Z",
          "iopub.status.idle": "2021-12-31T06:38:56.171381Z",
          "shell.execute_reply": "2021-12-31T06:38:56.170444Z",
          "shell.execute_reply.started": "2021-12-31T06:38:56.165715Z"
        },
        "id": "C6FQ_crxfXJP"
      },
      "outputs": [],
      "source": [
        "def remove_stopwords(text):\n",
        "    new_text = []\n",
        "    \n",
        "    for word in text.split():\n",
        "        if word in stopwords.words('english'):\n",
        "            new_text.append('')\n",
        "        else:\n",
        "            new_text.append(word)\n",
        "    x = new_text[:]\n",
        "    new_text.clear()\n",
        "    return \" \".join(x)"
      ]
    },
    {
      "cell_type": "code",
      "execution_count": 43,
      "metadata": {
        "execution": {
          "iopub.execute_input": "2021-12-31T06:39:01.303753Z",
          "iopub.status.busy": "2021-12-31T06:39:01.302916Z",
          "iopub.status.idle": "2021-12-31T06:39:01.315515Z",
          "shell.execute_reply": "2021-12-31T06:39:01.314610Z",
          "shell.execute_reply.started": "2021-12-31T06:39:01.303713Z"
        },
        "colab": {
          "base_uri": "https://localhost:8080/",
          "height": 52
        },
        "id": "6ToJ1uqBfXJP",
        "outputId": "82694820-2d6a-4639-928a-944741533e07"
      },
      "outputs": [
        {
          "output_type": "execute_result",
          "data": {
            "text/plain": [
              "'probably  all-time favorite movie,  story  selflessness, sacrifice  dedication   noble cause,    preachy  boring.   never gets old, despite   seen   15   times'"
            ],
            "application/vnd.google.colaboratory.intrinsic+json": {
              "type": "string"
            }
          },
          "metadata": {},
          "execution_count": 43
        }
      ],
      "source": [
        "remove_stopwords('probably my all-time favorite movie, a story of selflessness, sacrifice and dedication to a noble cause, but it\\'s not preachy or boring. it just never gets old, despite my having seen it some 15 or more times')"
      ]
    },
    {
      "cell_type": "code",
      "execution_count": 44,
      "metadata": {
        "execution": {
          "iopub.execute_input": "2021-12-31T06:39:05.677615Z",
          "iopub.status.busy": "2021-12-31T06:39:05.677024Z",
          "iopub.status.idle": "2021-12-31T06:39:05.688124Z",
          "shell.execute_reply": "2021-12-31T06:39:05.687181Z",
          "shell.execute_reply.started": "2021-12-31T06:39:05.677575Z"
        },
        "colab": {
          "base_uri": "https://localhost:8080/",
          "height": 206
        },
        "id": "Sv9S5wuGfXJQ",
        "outputId": "5a8b9259-080d-4884-ea7c-9a9d34ad41c0"
      },
      "outputs": [
        {
          "output_type": "execute_result",
          "data": {
            "text/plain": [
              "                                              review sentiment\n",
              "0  one of the other reviewers has mentioned that ...  positive\n",
              "1  a wonderful little production. the filming tec...  positive\n",
              "2  i thought this was a wonderful way to spend ti...  positive\n",
              "3  basically there's a family where a little boy ...  negative\n",
              "4  petter mattei's \"love in the time of money\" is...  positive"
            ],
            "text/html": [
              "\n",
              "  <div id=\"df-c90026b7-290d-4e36-8198-c0c813378009\">\n",
              "    <div class=\"colab-df-container\">\n",
              "      <div>\n",
              "<style scoped>\n",
              "    .dataframe tbody tr th:only-of-type {\n",
              "        vertical-align: middle;\n",
              "    }\n",
              "\n",
              "    .dataframe tbody tr th {\n",
              "        vertical-align: top;\n",
              "    }\n",
              "\n",
              "    .dataframe thead th {\n",
              "        text-align: right;\n",
              "    }\n",
              "</style>\n",
              "<table border=\"1\" class=\"dataframe\">\n",
              "  <thead>\n",
              "    <tr style=\"text-align: right;\">\n",
              "      <th></th>\n",
              "      <th>review</th>\n",
              "      <th>sentiment</th>\n",
              "    </tr>\n",
              "  </thead>\n",
              "  <tbody>\n",
              "    <tr>\n",
              "      <th>0</th>\n",
              "      <td>one of the other reviewers has mentioned that ...</td>\n",
              "      <td>positive</td>\n",
              "    </tr>\n",
              "    <tr>\n",
              "      <th>1</th>\n",
              "      <td>a wonderful little production. the filming tec...</td>\n",
              "      <td>positive</td>\n",
              "    </tr>\n",
              "    <tr>\n",
              "      <th>2</th>\n",
              "      <td>i thought this was a wonderful way to spend ti...</td>\n",
              "      <td>positive</td>\n",
              "    </tr>\n",
              "    <tr>\n",
              "      <th>3</th>\n",
              "      <td>basically there's a family where a little boy ...</td>\n",
              "      <td>negative</td>\n",
              "    </tr>\n",
              "    <tr>\n",
              "      <th>4</th>\n",
              "      <td>petter mattei's \"love in the time of money\" is...</td>\n",
              "      <td>positive</td>\n",
              "    </tr>\n",
              "  </tbody>\n",
              "</table>\n",
              "</div>\n",
              "      <button class=\"colab-df-convert\" onclick=\"convertToInteractive('df-c90026b7-290d-4e36-8198-c0c813378009')\"\n",
              "              title=\"Convert this dataframe to an interactive table.\"\n",
              "              style=\"display:none;\">\n",
              "        \n",
              "  <svg xmlns=\"http://www.w3.org/2000/svg\" height=\"24px\"viewBox=\"0 0 24 24\"\n",
              "       width=\"24px\">\n",
              "    <path d=\"M0 0h24v24H0V0z\" fill=\"none\"/>\n",
              "    <path d=\"M18.56 5.44l.94 2.06.94-2.06 2.06-.94-2.06-.94-.94-2.06-.94 2.06-2.06.94zm-11 1L8.5 8.5l.94-2.06 2.06-.94-2.06-.94L8.5 2.5l-.94 2.06-2.06.94zm10 10l.94 2.06.94-2.06 2.06-.94-2.06-.94-.94-2.06-.94 2.06-2.06.94z\"/><path d=\"M17.41 7.96l-1.37-1.37c-.4-.4-.92-.59-1.43-.59-.52 0-1.04.2-1.43.59L10.3 9.45l-7.72 7.72c-.78.78-.78 2.05 0 2.83L4 21.41c.39.39.9.59 1.41.59.51 0 1.02-.2 1.41-.59l7.78-7.78 2.81-2.81c.8-.78.8-2.07 0-2.86zM5.41 20L4 18.59l7.72-7.72 1.47 1.35L5.41 20z\"/>\n",
              "  </svg>\n",
              "      </button>\n",
              "      \n",
              "  <style>\n",
              "    .colab-df-container {\n",
              "      display:flex;\n",
              "      flex-wrap:wrap;\n",
              "      gap: 12px;\n",
              "    }\n",
              "\n",
              "    .colab-df-convert {\n",
              "      background-color: #E8F0FE;\n",
              "      border: none;\n",
              "      border-radius: 50%;\n",
              "      cursor: pointer;\n",
              "      display: none;\n",
              "      fill: #1967D2;\n",
              "      height: 32px;\n",
              "      padding: 0 0 0 0;\n",
              "      width: 32px;\n",
              "    }\n",
              "\n",
              "    .colab-df-convert:hover {\n",
              "      background-color: #E2EBFA;\n",
              "      box-shadow: 0px 1px 2px rgba(60, 64, 67, 0.3), 0px 1px 3px 1px rgba(60, 64, 67, 0.15);\n",
              "      fill: #174EA6;\n",
              "    }\n",
              "\n",
              "    [theme=dark] .colab-df-convert {\n",
              "      background-color: #3B4455;\n",
              "      fill: #D2E3FC;\n",
              "    }\n",
              "\n",
              "    [theme=dark] .colab-df-convert:hover {\n",
              "      background-color: #434B5C;\n",
              "      box-shadow: 0px 1px 3px 1px rgba(0, 0, 0, 0.15);\n",
              "      filter: drop-shadow(0px 1px 2px rgba(0, 0, 0, 0.3));\n",
              "      fill: #FFFFFF;\n",
              "    }\n",
              "  </style>\n",
              "\n",
              "      <script>\n",
              "        const buttonEl =\n",
              "          document.querySelector('#df-c90026b7-290d-4e36-8198-c0c813378009 button.colab-df-convert');\n",
              "        buttonEl.style.display =\n",
              "          google.colab.kernel.accessAllowed ? 'block' : 'none';\n",
              "\n",
              "        async function convertToInteractive(key) {\n",
              "          const element = document.querySelector('#df-c90026b7-290d-4e36-8198-c0c813378009');\n",
              "          const dataTable =\n",
              "            await google.colab.kernel.invokeFunction('convertToInteractive',\n",
              "                                                     [key], {});\n",
              "          if (!dataTable) return;\n",
              "\n",
              "          const docLinkHtml = 'Like what you see? Visit the ' +\n",
              "            '<a target=\"_blank\" href=https://colab.research.google.com/notebooks/data_table.ipynb>data table notebook</a>'\n",
              "            + ' to learn more about interactive tables.';\n",
              "          element.innerHTML = '';\n",
              "          dataTable['output_type'] = 'display_data';\n",
              "          await google.colab.output.renderOutput(dataTable, element);\n",
              "          const docLink = document.createElement('div');\n",
              "          docLink.innerHTML = docLinkHtml;\n",
              "          element.appendChild(docLink);\n",
              "        }\n",
              "      </script>\n",
              "    </div>\n",
              "  </div>\n",
              "  "
            ]
          },
          "metadata": {},
          "execution_count": 44
        }
      ],
      "source": [
        "df.head()"
      ]
    },
    {
      "cell_type": "code",
      "execution_count": 45,
      "metadata": {
        "execution": {
          "iopub.execute_input": "2021-12-31T06:39:09.921822Z",
          "iopub.status.busy": "2021-12-31T06:39:09.921540Z",
          "iopub.status.idle": "2021-12-31T06:42:18.536775Z",
          "shell.execute_reply": "2021-12-31T06:42:18.535137Z",
          "shell.execute_reply.started": "2021-12-31T06:39:09.921791Z"
        },
        "colab": {
          "base_uri": "https://localhost:8080/"
        },
        "id": "7TT5T2iifXJR",
        "outputId": "b2d71bdf-dee2-449a-e67c-c662298c7805"
      },
      "outputs": [
        {
          "output_type": "execute_result",
          "data": {
            "text/plain": [
              "0      one    reviewers  mentioned   watching  1 oz e...\n",
              "1       wonderful little production.  filming techniq...\n",
              "2       thought    wonderful way  spend time    hot s...\n",
              "3      basically there's  family   little boy (jake) ...\n",
              "4      petter mattei's \"love   time  money\"   visuall...\n",
              "                             ...                        \n",
              "995    nothing  sacred.  ask ernie fosselius.  days, ...\n",
              "996     hated it.  hate self-aware pretentious inanit...\n",
              "997     usually try   professional  constructive   cr...\n",
              "998      like   going  see    film history class  som...\n",
              "999      like  zoology textbook, given   depiction  a...\n",
              "Name: review, Length: 1000, dtype: object"
            ]
          },
          "metadata": {},
          "execution_count": 45
        }
      ],
      "source": [
        "df['review'].apply(remove_stopwords)"
      ]
    },
    {
      "cell_type": "markdown",
      "metadata": {
        "id": "U1BpIUyGfXJS"
      },
      "source": [
        "# `Remove_emoji` Handle"
      ]
    },
    {
      "cell_type": "code",
      "execution_count": 46,
      "metadata": {
        "execution": {
          "iopub.execute_input": "2021-12-31T06:42:51.745358Z",
          "iopub.status.busy": "2021-12-31T06:42:51.744505Z",
          "iopub.status.idle": "2021-12-31T06:42:51.750288Z",
          "shell.execute_reply": "2021-12-31T06:42:51.749730Z",
          "shell.execute_reply.started": "2021-12-31T06:42:51.745310Z"
        },
        "id": "G1Flwi-jfXJS"
      },
      "outputs": [],
      "source": [
        "import re\n",
        "def remove_emoji(text):\n",
        "    emoji_pattern = re.compile(\"[\"\n",
        "                           u\"\\U0001F600-\\U0001F64F\"  # emoticons\n",
        "                           u\"\\U0001F300-\\U0001F5FF\"  # symbols & pictographs\n",
        "                           u\"\\U0001F680-\\U0001F6FF\"  # transport & map symbols\n",
        "                           u\"\\U0001F1E0-\\U0001F1FF\"  # flags (iOS)\n",
        "                           u\"\\U00002702-\\U000027B0\"\n",
        "                           u\"\\U000024C2-\\U0001F251\"\n",
        "                           \"]+\", flags=re.UNICODE)\n",
        "    return emoji_pattern.sub(r'', text)"
      ]
    },
    {
      "cell_type": "code",
      "execution_count": 47,
      "metadata": {
        "execution": {
          "iopub.execute_input": "2021-12-31T06:42:54.927028Z",
          "iopub.status.busy": "2021-12-31T06:42:54.926479Z",
          "iopub.status.idle": "2021-12-31T06:42:54.937617Z",
          "shell.execute_reply": "2021-12-31T06:42:54.937038Z",
          "shell.execute_reply.started": "2021-12-31T06:42:54.926979Z"
        },
        "colab": {
          "base_uri": "https://localhost:8080/",
          "height": 35
        },
        "id": "ytld3e-afXJT",
        "outputId": "799da2e1-64df-4d01-96f1-7cc1a05b8280"
      },
      "outputs": [
        {
          "output_type": "execute_result",
          "data": {
            "text/plain": [
              "'Loved the movie. It was '"
            ],
            "application/vnd.google.colaboratory.intrinsic+json": {
              "type": "string"
            }
          },
          "metadata": {},
          "execution_count": 47
        }
      ],
      "source": [
        "remove_emoji(\"Loved the movie. It was 😘😘\")"
      ]
    },
    {
      "cell_type": "code",
      "execution_count": 48,
      "metadata": {
        "execution": {
          "iopub.execute_input": "2021-12-31T06:42:57.500459Z",
          "iopub.status.busy": "2021-12-31T06:42:57.499747Z",
          "iopub.status.idle": "2021-12-31T06:42:57.505979Z",
          "shell.execute_reply": "2021-12-31T06:42:57.505427Z",
          "shell.execute_reply.started": "2021-12-31T06:42:57.500400Z"
        },
        "colab": {
          "base_uri": "https://localhost:8080/",
          "height": 35
        },
        "id": "tWwFcSKYfXJT",
        "outputId": "6a271785-7348-4206-98c2-76397edff3d7"
      },
      "outputs": [
        {
          "output_type": "execute_result",
          "data": {
            "text/plain": [
              "'Lmao '"
            ],
            "application/vnd.google.colaboratory.intrinsic+json": {
              "type": "string"
            }
          },
          "metadata": {},
          "execution_count": 48
        }
      ],
      "source": [
        "remove_emoji(\"Lmao 😂😂\")"
      ]
    },
    {
      "cell_type": "code",
      "source": [
        "!pip install emoji"
      ],
      "metadata": {
        "colab": {
          "base_uri": "https://localhost:8080/"
        },
        "id": "2kaMJEYFnG4s",
        "outputId": "72b425d7-3655-4011-f778-c88f4875345c"
      },
      "execution_count": 49,
      "outputs": [
        {
          "output_type": "stream",
          "name": "stdout",
          "text": [
            "Looking in indexes: https://pypi.org/simple, https://us-python.pkg.dev/colab-wheels/public/simple/\n",
            "Collecting emoji\n",
            "  Downloading emoji-2.5.0.tar.gz (355 kB)\n",
            "\u001b[2K     \u001b[90m━━━━━━━━━━━━━━━━━━━━━━━━━━━━━━━━━━━━━━━\u001b[0m \u001b[32m355.8/355.8 kB\u001b[0m \u001b[31m6.9 MB/s\u001b[0m eta \u001b[36m0:00:00\u001b[0m\n",
            "\u001b[?25h  Preparing metadata (setup.py) ... \u001b[?25l\u001b[?25hdone\n",
            "Building wheels for collected packages: emoji\n",
            "  Building wheel for emoji (setup.py) ... \u001b[?25l\u001b[?25hdone\n",
            "  Created wheel for emoji: filename=emoji-2.5.0-py2.py3-none-any.whl size=351211 sha256=1d875d011bbd266603a85dbed9d2c226ed706ffb15d784c83cd30981248cf8b9\n",
            "  Stored in directory: /root/.cache/pip/wheels/2a/0c/2c/07b5af72b120503fe24590691d24c462a25e5e530db8700a96\n",
            "Successfully built emoji\n",
            "Installing collected packages: emoji\n",
            "Successfully installed emoji-2.5.0\n"
          ]
        }
      ]
    },
    {
      "cell_type": "code",
      "execution_count": 50,
      "metadata": {
        "execution": {
          "iopub.execute_input": "2021-12-31T06:43:04.191966Z",
          "iopub.status.busy": "2021-12-31T06:43:04.191476Z",
          "iopub.status.idle": "2021-12-31T06:43:04.480988Z",
          "shell.execute_reply": "2021-12-31T06:43:04.480125Z",
          "shell.execute_reply.started": "2021-12-31T06:43:04.191935Z"
        },
        "colab": {
          "base_uri": "https://localhost:8080/"
        },
        "id": "N7KbcmehfXJU",
        "outputId": "027fb2f4-3681-42ba-cdd4-2a1e578ce8cf"
      },
      "outputs": [
        {
          "output_type": "stream",
          "name": "stdout",
          "text": [
            "Python is :fire:\n"
          ]
        }
      ],
      "source": [
        "import emoji\n",
        "print(emoji.demojize('Python is 🔥'))"
      ]
    },
    {
      "cell_type": "code",
      "execution_count": 51,
      "metadata": {
        "execution": {
          "iopub.execute_input": "2021-12-31T06:43:07.217770Z",
          "iopub.status.busy": "2021-12-31T06:43:07.217301Z",
          "iopub.status.idle": "2021-12-31T06:43:07.222526Z",
          "shell.execute_reply": "2021-12-31T06:43:07.221705Z",
          "shell.execute_reply.started": "2021-12-31T06:43:07.217723Z"
        },
        "colab": {
          "base_uri": "https://localhost:8080/"
        },
        "id": "9UuuiuetfXJU",
        "outputId": "762a873f-4159-4874-9685-acc7b4580acb"
      },
      "outputs": [
        {
          "output_type": "stream",
          "name": "stdout",
          "text": [
            "Loved the movie. It was :face_blowing_a_kiss:\n"
          ]
        }
      ],
      "source": [
        "print(emoji.demojize('Loved the movie. It was 😘'))"
      ]
    },
    {
      "cell_type": "markdown",
      "metadata": {
        "id": "L68UBnjvfXJV"
      },
      "source": [
        "# Tokenization\n",
        "### 1. Using the split function"
      ]
    },
    {
      "cell_type": "code",
      "execution_count": 52,
      "metadata": {
        "execution": {
          "iopub.execute_input": "2021-12-31T06:43:15.810492Z",
          "iopub.status.busy": "2021-12-31T06:43:15.810189Z",
          "iopub.status.idle": "2021-12-31T06:43:15.816173Z",
          "shell.execute_reply": "2021-12-31T06:43:15.815384Z",
          "shell.execute_reply.started": "2021-12-31T06:43:15.810462Z"
        },
        "colab": {
          "base_uri": "https://localhost:8080/"
        },
        "id": "ixnRRzv1fXJV",
        "outputId": "027f29e5-d19d-4975-bea0-2310aa06ce7c"
      },
      "outputs": [
        {
          "output_type": "execute_result",
          "data": {
            "text/plain": [
              "['I', 'am', 'going', 'to', 'delhi']"
            ]
          },
          "metadata": {},
          "execution_count": 52
        }
      ],
      "source": [
        "# word tokenization\n",
        "sent1 = 'I am going to delhi'\n",
        "sent1.split()"
      ]
    },
    {
      "cell_type": "code",
      "execution_count": 53,
      "metadata": {
        "execution": {
          "iopub.execute_input": "2021-12-31T06:43:16.672825Z",
          "iopub.status.busy": "2021-12-31T06:43:16.672535Z",
          "iopub.status.idle": "2021-12-31T06:43:16.679365Z",
          "shell.execute_reply": "2021-12-31T06:43:16.678423Z",
          "shell.execute_reply.started": "2021-12-31T06:43:16.672793Z"
        },
        "colab": {
          "base_uri": "https://localhost:8080/"
        },
        "id": "Uq8GvD4lfXJW",
        "outputId": "ffb7a88b-0aa1-4e94-fdb3-103de875634a"
      },
      "outputs": [
        {
          "output_type": "execute_result",
          "data": {
            "text/plain": [
              "['I am going to delhi',\n",
              " ' I will stay there for 3 days',\n",
              " \" Let's hope the trip to be great\"]"
            ]
          },
          "metadata": {},
          "execution_count": 53
        }
      ],
      "source": [
        "# sentence tokenization\n",
        "sent2 = 'I am going to delhi. I will stay there for 3 days. Let\\'s hope the trip to be great'\n",
        "sent2.split('.')"
      ]
    },
    {
      "cell_type": "code",
      "execution_count": 54,
      "metadata": {
        "execution": {
          "iopub.execute_input": "2021-12-31T06:43:19.371045Z",
          "iopub.status.busy": "2021-12-31T06:43:19.370499Z",
          "iopub.status.idle": "2021-12-31T06:43:19.376805Z",
          "shell.execute_reply": "2021-12-31T06:43:19.376060Z",
          "shell.execute_reply.started": "2021-12-31T06:43:19.371000Z"
        },
        "colab": {
          "base_uri": "https://localhost:8080/"
        },
        "id": "NuUmlRlqfXJW",
        "outputId": "9a305d16-f041-4696-f035-f5097bad86c0"
      },
      "outputs": [
        {
          "output_type": "execute_result",
          "data": {
            "text/plain": [
              "['I', 'am', 'going', 'to', 'delhi!']"
            ]
          },
          "metadata": {},
          "execution_count": 54
        }
      ],
      "source": [
        "# Problems with split function\n",
        "sent3 = 'I am going to delhi!'\n",
        "sent3.split()"
      ]
    },
    {
      "cell_type": "code",
      "execution_count": 55,
      "metadata": {
        "execution": {
          "iopub.execute_input": "2021-12-31T06:43:22.987186Z",
          "iopub.status.busy": "2021-12-31T06:43:22.986910Z",
          "iopub.status.idle": "2021-12-31T06:43:22.993658Z",
          "shell.execute_reply": "2021-12-31T06:43:22.992820Z",
          "shell.execute_reply.started": "2021-12-31T06:43:22.987156Z"
        },
        "colab": {
          "base_uri": "https://localhost:8080/"
        },
        "id": "QMTgzvsCfXJX",
        "outputId": "dfe80ca0-d4a9-4461-affc-2ffc5dc760b8"
      },
      "outputs": [
        {
          "output_type": "execute_result",
          "data": {
            "text/plain": [
              "['Where do think I should go? I have 3 day holiday']"
            ]
          },
          "metadata": {},
          "execution_count": 55
        }
      ],
      "source": [
        "sent4 = 'Where do think I should go? I have 3 day holiday'\n",
        "sent4.split('.')"
      ]
    },
    {
      "cell_type": "markdown",
      "metadata": {
        "id": "YyvxOXehfXJX"
      },
      "source": [
        "### 2. Regular Expression"
      ]
    },
    {
      "cell_type": "code",
      "execution_count": null,
      "metadata": {
        "execution": {
          "iopub.execute_input": "2021-12-31T06:43:25.066222Z",
          "iopub.status.busy": "2021-12-31T06:43:25.065942Z",
          "iopub.status.idle": "2021-12-31T06:43:25.072526Z",
          "shell.execute_reply": "2021-12-31T06:43:25.071800Z",
          "shell.execute_reply.started": "2021-12-31T06:43:25.066190Z"
        },
        "colab": {
          "base_uri": "https://localhost:8080/"
        },
        "id": "FpUVu6qffXJY",
        "outputId": "7921df4e-2247-489a-f40c-8ef87e04050c"
      },
      "outputs": [
        {
          "output_type": "execute_result",
          "data": {
            "text/plain": [
              "['I', 'am', 'going', 'to', 'delhi']"
            ]
          },
          "metadata": {},
          "execution_count": 50
        }
      ],
      "source": [
        "import re\n",
        "sent3 = 'I am going to delhi!'\n",
        "tokens = re.findall(\"[\\w']+\", sent3)\n",
        "tokens"
      ]
    },
    {
      "cell_type": "code",
      "execution_count": null,
      "metadata": {
        "execution": {
          "iopub.execute_input": "2021-12-31T06:43:36.071658Z",
          "iopub.status.busy": "2021-12-31T06:43:36.071360Z",
          "iopub.status.idle": "2021-12-31T06:43:36.079075Z",
          "shell.execute_reply": "2021-12-31T06:43:36.078094Z",
          "shell.execute_reply.started": "2021-12-31T06:43:36.071624Z"
        },
        "colab": {
          "base_uri": "https://localhost:8080/"
        },
        "id": "xRQv_HBafXJZ",
        "outputId": "c512ec8c-7a15-4632-c883-8481786f1b6c"
      },
      "outputs": [
        {
          "output_type": "execute_result",
          "data": {
            "text/plain": [
              "['Lorem Ipsum is simply dummy text of the printing and typesetting industry',\n",
              " \"\\nLorem Ipsum has been the industry's standard dummy text ever since the 1500s, \\nwhen an unknown printer took a galley of type and scrambled it to make a type specimen book.\"]"
            ]
          },
          "metadata": {},
          "execution_count": 51
        }
      ],
      "source": [
        "\n",
        "text = \"\"\"Lorem Ipsum is simply dummy text of the printing and typesetting industry? \n",
        "Lorem Ipsum has been the industry's standard dummy text ever since the 1500s, \n",
        "when an unknown printer took a galley of type and scrambled it to make a type specimen book.\"\"\"\n",
        "sentences = re.compile('[.!?] ').split(text)\n",
        "sentences"
      ]
    },
    {
      "cell_type": "markdown",
      "metadata": {
        "id": "E0WfA5rxfXJZ"
      },
      "source": [
        "### 3. NLTK"
      ]
    },
    {
      "cell_type": "code",
      "execution_count": 56,
      "metadata": {
        "execution": {
          "iopub.execute_input": "2021-12-31T06:43:43.710755Z",
          "iopub.status.busy": "2021-12-31T06:43:43.710469Z",
          "iopub.status.idle": "2021-12-31T06:43:43.715818Z",
          "shell.execute_reply": "2021-12-31T06:43:43.715109Z",
          "shell.execute_reply.started": "2021-12-31T06:43:43.710728Z"
        },
        "colab": {
          "base_uri": "https://localhost:8080/"
        },
        "id": "7Xm_QZ8BfXJZ",
        "outputId": "914420e5-b0d2-4560-c708-2b3dadab9b29"
      },
      "outputs": [
        {
          "output_type": "stream",
          "name": "stderr",
          "text": [
            "[nltk_data] Downloading package punkt to /root/nltk_data...\n",
            "[nltk_data]   Unzipping tokenizers/punkt.zip.\n"
          ]
        },
        {
          "output_type": "execute_result",
          "data": {
            "text/plain": [
              "True"
            ]
          },
          "metadata": {},
          "execution_count": 56
        }
      ],
      "source": [
        "from nltk.tokenize import word_tokenize,sent_tokenize\n",
        "import nltk\n",
        "nltk.download('punkt')"
      ]
    },
    {
      "cell_type": "code",
      "execution_count": 57,
      "metadata": {
        "execution": {
          "iopub.execute_input": "2021-12-31T06:43:44.073430Z",
          "iopub.status.busy": "2021-12-31T06:43:44.072769Z",
          "iopub.status.idle": "2021-12-31T06:43:44.093236Z",
          "shell.execute_reply": "2021-12-31T06:43:44.092271Z",
          "shell.execute_reply.started": "2021-12-31T06:43:44.073393Z"
        },
        "colab": {
          "base_uri": "https://localhost:8080/"
        },
        "id": "-abmrHeNfXJa",
        "outputId": "e691e239-6cf8-461c-81b4-cab4adda49a9"
      },
      "outputs": [
        {
          "output_type": "execute_result",
          "data": {
            "text/plain": [
              "['I', 'am', 'going', 'to', 'visit', 'delhi', '!']"
            ]
          },
          "metadata": {},
          "execution_count": 57
        }
      ],
      "source": [
        "sent1 = 'I am going to visit delhi!'\n",
        "word_tokenize(sent1)"
      ]
    },
    {
      "cell_type": "code",
      "execution_count": 58,
      "metadata": {
        "execution": {
          "iopub.execute_input": "2021-12-10T06:03:00.917544Z",
          "iopub.status.busy": "2021-12-10T06:03:00.915226Z",
          "iopub.status.idle": "2021-12-10T06:03:00.924761Z",
          "shell.execute_reply": "2021-12-10T06:03:00.923887Z",
          "shell.execute_reply.started": "2021-12-10T06:03:00.917502Z"
        },
        "colab": {
          "base_uri": "https://localhost:8080/"
        },
        "id": "g9xpqy5rfXJa",
        "outputId": "60dde51a-7d17-464a-f69b-5bdea1a26717"
      },
      "outputs": [
        {
          "output_type": "execute_result",
          "data": {
            "text/plain": [
              "['Lorem Ipsum is simply dummy text of the printing and typesetting industry?',\n",
              " \"Lorem Ipsum has been the industry's standard dummy text ever since the 1500s, \\nwhen an unknown printer took a galley of type and scrambled it to make a type specimen book.\"]"
            ]
          },
          "metadata": {},
          "execution_count": 58
        }
      ],
      "source": [
        "text = \"\"\"Lorem Ipsum is simply dummy text of the printing and typesetting industry? \n",
        "Lorem Ipsum has been the industry's standard dummy text ever since the 1500s, \n",
        "when an unknown printer took a galley of type and scrambled it to make a type specimen book.\"\"\"\n",
        "\n",
        "sent_tokenize(text)"
      ]
    },
    {
      "cell_type": "code",
      "execution_count": 59,
      "metadata": {
        "execution": {
          "iopub.execute_input": "2021-12-31T06:44:20.220975Z",
          "iopub.status.busy": "2021-12-31T06:44:20.220662Z",
          "iopub.status.idle": "2021-12-31T06:44:20.227882Z",
          "shell.execute_reply": "2021-12-31T06:44:20.227311Z",
          "shell.execute_reply.started": "2021-12-31T06:44:20.220945Z"
        },
        "colab": {
          "base_uri": "https://localhost:8080/"
        },
        "id": "WPcDxHj1fXJa",
        "outputId": "257b702a-1360-4ac8-f4ce-99c4ee5282de"
      },
      "outputs": [
        {
          "output_type": "execute_result",
          "data": {
            "text/plain": [
              "['I', 'have', 'a', 'Ph.D', 'in', 'A.I']"
            ]
          },
          "metadata": {},
          "execution_count": 59
        }
      ],
      "source": [
        "sent5 = 'I have a Ph.D in A.I'\n",
        "sent6 = \"We're here to help! mail us at nks@gmail.com\"\n",
        "sent7 = 'A 5km ride cost $10.50'\n",
        "\n",
        "word_tokenize(sent5)"
      ]
    },
    {
      "cell_type": "code",
      "execution_count": 60,
      "metadata": {
        "execution": {
          "iopub.execute_input": "2021-12-31T06:44:25.644168Z",
          "iopub.status.busy": "2021-12-31T06:44:25.643643Z",
          "iopub.status.idle": "2021-12-31T06:44:25.651199Z",
          "shell.execute_reply": "2021-12-31T06:44:25.650604Z",
          "shell.execute_reply.started": "2021-12-31T06:44:25.644113Z"
        },
        "colab": {
          "base_uri": "https://localhost:8080/"
        },
        "id": "7DPWnjOJfXJa",
        "outputId": "696606ab-df41-4121-a25f-07939bae8aa6"
      },
      "outputs": [
        {
          "output_type": "execute_result",
          "data": {
            "text/plain": [
              "['We',\n",
              " \"'re\",\n",
              " 'here',\n",
              " 'to',\n",
              " 'help',\n",
              " '!',\n",
              " 'mail',\n",
              " 'us',\n",
              " 'at',\n",
              " 'nks',\n",
              " '@',\n",
              " 'gmail.com']"
            ]
          },
          "metadata": {},
          "execution_count": 60
        }
      ],
      "source": [
        "word_tokenize(sent6)"
      ]
    },
    {
      "cell_type": "code",
      "execution_count": 61,
      "metadata": {
        "execution": {
          "iopub.execute_input": "2021-12-31T06:44:28.249968Z",
          "iopub.status.busy": "2021-12-31T06:44:28.249507Z",
          "iopub.status.idle": "2021-12-31T06:44:28.255852Z",
          "shell.execute_reply": "2021-12-31T06:44:28.254914Z",
          "shell.execute_reply.started": "2021-12-31T06:44:28.249918Z"
        },
        "colab": {
          "base_uri": "https://localhost:8080/"
        },
        "id": "4fP4Af93fXJb",
        "outputId": "bad4255d-e078-46e8-e650-c848b898b1fb"
      },
      "outputs": [
        {
          "output_type": "execute_result",
          "data": {
            "text/plain": [
              "['A', '5km', 'ride', 'cost', '$', '10.50']"
            ]
          },
          "metadata": {},
          "execution_count": 61
        }
      ],
      "source": [
        "word_tokenize(sent7)"
      ]
    },
    {
      "cell_type": "markdown",
      "metadata": {
        "id": "zGCXaozqfXJb"
      },
      "source": [
        "### 4. Spacy (good)"
      ]
    },
    {
      "cell_type": "code",
      "execution_count": 62,
      "metadata": {
        "execution": {
          "iopub.execute_input": "2021-12-31T06:44:30.428238Z",
          "iopub.status.busy": "2021-12-31T06:44:30.427753Z",
          "iopub.status.idle": "2021-12-31T06:44:40.692846Z",
          "shell.execute_reply": "2021-12-31T06:44:40.692211Z",
          "shell.execute_reply.started": "2021-12-31T06:44:30.428189Z"
        },
        "id": "SwVDcE4mfXJb"
      },
      "outputs": [],
      "source": [
        "import spacy\n",
        "nlp = spacy.load('en_core_web_sm')"
      ]
    },
    {
      "cell_type": "code",
      "execution_count": 63,
      "metadata": {
        "execution": {
          "iopub.execute_input": "2021-12-31T06:44:40.694652Z",
          "iopub.status.busy": "2021-12-31T06:44:40.694267Z",
          "iopub.status.idle": "2021-12-31T06:44:40.739047Z",
          "shell.execute_reply": "2021-12-31T06:44:40.738463Z",
          "shell.execute_reply.started": "2021-12-31T06:44:40.694605Z"
        },
        "id": "hT14PkK_fXJb"
      },
      "outputs": [],
      "source": [
        "doc1 = nlp(sent5)\n",
        "doc2 = nlp(sent6)\n",
        "doc3 = nlp(sent7)\n",
        "doc4 = nlp(sent1)"
      ]
    },
    {
      "cell_type": "code",
      "source": [
        "doc4 = nlp(sent1)\n",
        "doc4"
      ],
      "metadata": {
        "colab": {
          "base_uri": "https://localhost:8080/"
        },
        "id": "IqiMgoh02hVU",
        "outputId": "3d262734-0e4c-420e-f594-2983d4043b9c"
      },
      "execution_count": 64,
      "outputs": [
        {
          "output_type": "execute_result",
          "data": {
            "text/plain": [
              "I am going to visit delhi!"
            ]
          },
          "metadata": {},
          "execution_count": 64
        }
      ]
    },
    {
      "cell_type": "code",
      "execution_count": 65,
      "metadata": {
        "execution": {
          "iopub.execute_input": "2021-12-31T06:44:55.784086Z",
          "iopub.status.busy": "2021-12-31T06:44:55.783589Z",
          "iopub.status.idle": "2021-12-31T06:44:55.790345Z",
          "shell.execute_reply": "2021-12-31T06:44:55.789180Z",
          "shell.execute_reply.started": "2021-12-31T06:44:55.784037Z"
        },
        "colab": {
          "base_uri": "https://localhost:8080/"
        },
        "id": "99vrOvtQfXJc",
        "outputId": "69fa480c-a230-4c36-de2a-c23d81d372f8"
      },
      "outputs": [
        {
          "output_type": "stream",
          "name": "stdout",
          "text": [
            "I\n",
            "am\n",
            "going\n",
            "to\n",
            "visit\n",
            "delhi\n",
            "!\n"
          ]
        }
      ],
      "source": [
        "for token in doc4:\n",
        "    print(token)"
      ]
    },
    {
      "cell_type": "code",
      "source": [
        "df.head()"
      ],
      "metadata": {
        "colab": {
          "base_uri": "https://localhost:8080/",
          "height": 206
        },
        "id": "3uhpdsyI2pac",
        "outputId": "46a2f145-4bb2-4e05-88c2-6e069fea06c9"
      },
      "execution_count": 66,
      "outputs": [
        {
          "output_type": "execute_result",
          "data": {
            "text/plain": [
              "                                              review sentiment\n",
              "0  one of the other reviewers has mentioned that ...  positive\n",
              "1  a wonderful little production. the filming tec...  positive\n",
              "2  i thought this was a wonderful way to spend ti...  positive\n",
              "3  basically there's a family where a little boy ...  negative\n",
              "4  petter mattei's \"love in the time of money\" is...  positive"
            ],
            "text/html": [
              "\n",
              "  <div id=\"df-41321b04-ada8-4629-b16a-2c180d12606b\">\n",
              "    <div class=\"colab-df-container\">\n",
              "      <div>\n",
              "<style scoped>\n",
              "    .dataframe tbody tr th:only-of-type {\n",
              "        vertical-align: middle;\n",
              "    }\n",
              "\n",
              "    .dataframe tbody tr th {\n",
              "        vertical-align: top;\n",
              "    }\n",
              "\n",
              "    .dataframe thead th {\n",
              "        text-align: right;\n",
              "    }\n",
              "</style>\n",
              "<table border=\"1\" class=\"dataframe\">\n",
              "  <thead>\n",
              "    <tr style=\"text-align: right;\">\n",
              "      <th></th>\n",
              "      <th>review</th>\n",
              "      <th>sentiment</th>\n",
              "    </tr>\n",
              "  </thead>\n",
              "  <tbody>\n",
              "    <tr>\n",
              "      <th>0</th>\n",
              "      <td>one of the other reviewers has mentioned that ...</td>\n",
              "      <td>positive</td>\n",
              "    </tr>\n",
              "    <tr>\n",
              "      <th>1</th>\n",
              "      <td>a wonderful little production. the filming tec...</td>\n",
              "      <td>positive</td>\n",
              "    </tr>\n",
              "    <tr>\n",
              "      <th>2</th>\n",
              "      <td>i thought this was a wonderful way to spend ti...</td>\n",
              "      <td>positive</td>\n",
              "    </tr>\n",
              "    <tr>\n",
              "      <th>3</th>\n",
              "      <td>basically there's a family where a little boy ...</td>\n",
              "      <td>negative</td>\n",
              "    </tr>\n",
              "    <tr>\n",
              "      <th>4</th>\n",
              "      <td>petter mattei's \"love in the time of money\" is...</td>\n",
              "      <td>positive</td>\n",
              "    </tr>\n",
              "  </tbody>\n",
              "</table>\n",
              "</div>\n",
              "      <button class=\"colab-df-convert\" onclick=\"convertToInteractive('df-41321b04-ada8-4629-b16a-2c180d12606b')\"\n",
              "              title=\"Convert this dataframe to an interactive table.\"\n",
              "              style=\"display:none;\">\n",
              "        \n",
              "  <svg xmlns=\"http://www.w3.org/2000/svg\" height=\"24px\"viewBox=\"0 0 24 24\"\n",
              "       width=\"24px\">\n",
              "    <path d=\"M0 0h24v24H0V0z\" fill=\"none\"/>\n",
              "    <path d=\"M18.56 5.44l.94 2.06.94-2.06 2.06-.94-2.06-.94-.94-2.06-.94 2.06-2.06.94zm-11 1L8.5 8.5l.94-2.06 2.06-.94-2.06-.94L8.5 2.5l-.94 2.06-2.06.94zm10 10l.94 2.06.94-2.06 2.06-.94-2.06-.94-.94-2.06-.94 2.06-2.06.94z\"/><path d=\"M17.41 7.96l-1.37-1.37c-.4-.4-.92-.59-1.43-.59-.52 0-1.04.2-1.43.59L10.3 9.45l-7.72 7.72c-.78.78-.78 2.05 0 2.83L4 21.41c.39.39.9.59 1.41.59.51 0 1.02-.2 1.41-.59l7.78-7.78 2.81-2.81c.8-.78.8-2.07 0-2.86zM5.41 20L4 18.59l7.72-7.72 1.47 1.35L5.41 20z\"/>\n",
              "  </svg>\n",
              "      </button>\n",
              "      \n",
              "  <style>\n",
              "    .colab-df-container {\n",
              "      display:flex;\n",
              "      flex-wrap:wrap;\n",
              "      gap: 12px;\n",
              "    }\n",
              "\n",
              "    .colab-df-convert {\n",
              "      background-color: #E8F0FE;\n",
              "      border: none;\n",
              "      border-radius: 50%;\n",
              "      cursor: pointer;\n",
              "      display: none;\n",
              "      fill: #1967D2;\n",
              "      height: 32px;\n",
              "      padding: 0 0 0 0;\n",
              "      width: 32px;\n",
              "    }\n",
              "\n",
              "    .colab-df-convert:hover {\n",
              "      background-color: #E2EBFA;\n",
              "      box-shadow: 0px 1px 2px rgba(60, 64, 67, 0.3), 0px 1px 3px 1px rgba(60, 64, 67, 0.15);\n",
              "      fill: #174EA6;\n",
              "    }\n",
              "\n",
              "    [theme=dark] .colab-df-convert {\n",
              "      background-color: #3B4455;\n",
              "      fill: #D2E3FC;\n",
              "    }\n",
              "\n",
              "    [theme=dark] .colab-df-convert:hover {\n",
              "      background-color: #434B5C;\n",
              "      box-shadow: 0px 1px 3px 1px rgba(0, 0, 0, 0.15);\n",
              "      filter: drop-shadow(0px 1px 2px rgba(0, 0, 0, 0.3));\n",
              "      fill: #FFFFFF;\n",
              "    }\n",
              "  </style>\n",
              "\n",
              "      <script>\n",
              "        const buttonEl =\n",
              "          document.querySelector('#df-41321b04-ada8-4629-b16a-2c180d12606b button.colab-df-convert');\n",
              "        buttonEl.style.display =\n",
              "          google.colab.kernel.accessAllowed ? 'block' : 'none';\n",
              "\n",
              "        async function convertToInteractive(key) {\n",
              "          const element = document.querySelector('#df-41321b04-ada8-4629-b16a-2c180d12606b');\n",
              "          const dataTable =\n",
              "            await google.colab.kernel.invokeFunction('convertToInteractive',\n",
              "                                                     [key], {});\n",
              "          if (!dataTable) return;\n",
              "\n",
              "          const docLinkHtml = 'Like what you see? Visit the ' +\n",
              "            '<a target=\"_blank\" href=https://colab.research.google.com/notebooks/data_table.ipynb>data table notebook</a>'\n",
              "            + ' to learn more about interactive tables.';\n",
              "          element.innerHTML = '';\n",
              "          dataTable['output_type'] = 'display_data';\n",
              "          await google.colab.output.renderOutput(dataTable, element);\n",
              "          const docLink = document.createElement('div');\n",
              "          docLink.innerHTML = docLinkHtml;\n",
              "          element.appendChild(docLink);\n",
              "        }\n",
              "      </script>\n",
              "    </div>\n",
              "  </div>\n",
              "  "
            ]
          },
          "metadata": {},
          "execution_count": 66
        }
      ]
    },
    {
      "cell_type": "markdown",
      "metadata": {
        "id": "3ZO2iHAUfXJc"
      },
      "source": [
        "# Stemmer"
      ]
    },
    {
      "cell_type": "code",
      "execution_count": 67,
      "metadata": {
        "execution": {
          "iopub.execute_input": "2021-12-31T06:45:24.636271Z",
          "iopub.status.busy": "2021-12-31T06:45:24.635982Z",
          "iopub.status.idle": "2021-12-31T06:45:24.640222Z",
          "shell.execute_reply": "2021-12-31T06:45:24.639613Z",
          "shell.execute_reply.started": "2021-12-31T06:45:24.636238Z"
        },
        "id": "b9QyBoF7fXJd"
      },
      "outputs": [],
      "source": [
        "from nltk.stem.porter import PorterStemmer"
      ]
    },
    {
      "cell_type": "code",
      "execution_count": 68,
      "metadata": {
        "execution": {
          "iopub.execute_input": "2021-12-31T06:46:07.014808Z",
          "iopub.status.busy": "2021-12-31T06:46:07.014418Z",
          "iopub.status.idle": "2021-12-31T06:46:07.021274Z",
          "shell.execute_reply": "2021-12-31T06:46:07.020180Z",
          "shell.execute_reply.started": "2021-12-31T06:46:07.014768Z"
        },
        "id": "tvzg9ij1fXJd"
      },
      "outputs": [],
      "source": [
        "ps = PorterStemmer()\n",
        "def stem_words(text):\n",
        "    return \" \".join([ps.stem(word) for word in text.split()])"
      ]
    },
    {
      "cell_type": "code",
      "execution_count": 69,
      "metadata": {
        "execution": {
          "iopub.execute_input": "2021-12-31T06:46:09.751707Z",
          "iopub.status.busy": "2021-12-31T06:46:09.751139Z",
          "iopub.status.idle": "2021-12-31T06:46:09.758027Z",
          "shell.execute_reply": "2021-12-31T06:46:09.757151Z",
          "shell.execute_reply.started": "2021-12-31T06:46:09.751645Z"
        },
        "colab": {
          "base_uri": "https://localhost:8080/",
          "height": 35
        },
        "id": "4G6Hlif3fXJd",
        "outputId": "1f3acacb-5b79-440f-ab4e-5d577d2c7016"
      },
      "outputs": [
        {
          "output_type": "execute_result",
          "data": {
            "text/plain": [
              "'walk walk walk walk'"
            ],
            "application/vnd.google.colaboratory.intrinsic+json": {
              "type": "string"
            }
          },
          "metadata": {},
          "execution_count": 69
        }
      ],
      "source": [
        "sample = \"walk walks walking walked\"\n",
        "stem_words(sample)"
      ]
    },
    {
      "cell_type": "code",
      "execution_count": 70,
      "metadata": {
        "execution": {
          "iopub.execute_input": "2021-12-31T06:46:13.794724Z",
          "iopub.status.busy": "2021-12-31T06:46:13.794420Z",
          "iopub.status.idle": "2021-12-31T06:46:13.800289Z",
          "shell.execute_reply": "2021-12-31T06:46:13.799470Z",
          "shell.execute_reply.started": "2021-12-31T06:46:13.794690Z"
        },
        "colab": {
          "base_uri": "https://localhost:8080/"
        },
        "id": "z9yy0koLfXJd",
        "outputId": "518cb460-8aee-4bad-9f4b-12c454a69fbe"
      },
      "outputs": [
        {
          "output_type": "stream",
          "name": "stdout",
          "text": [
            "probably my alltime favorite movie a story of selflessness sacrifice and dedication to a noble cause but its not preachy or boring it just never gets old despite my having seen it some 15 or more times in the last 25 years paul lukas performance brings tears to my eyes and bette davis in one of her very few truly sympathetic roles is a delight the kids are as grandma says more like dressedup midgets than children but that only makes them more fun to watch and the mothers slow awakening to whats happening in the world and under her own roof is believable and startling if i had a dozen thumbs theyd all be up for this movie\n"
          ]
        }
      ],
      "source": [
        "text = 'probably my alltime favorite movie a story of selflessness sacrifice and dedication to a noble cause but its not preachy or boring it just never gets old despite my having seen it some 15 or more times in the last 25 years paul lukas performance brings tears to my eyes and bette davis in one of her very few truly sympathetic roles is a delight the kids are as grandma says more like dressedup midgets than children but that only makes them more fun to watch and the mothers slow awakening to whats happening in the world and under her own roof is believable and startling if i had a dozen thumbs theyd all be up for this movie'\n",
        "print(text)"
      ]
    },
    {
      "cell_type": "code",
      "execution_count": 71,
      "metadata": {
        "execution": {
          "iopub.execute_input": "2021-12-31T06:46:38.928962Z",
          "iopub.status.busy": "2021-12-31T06:46:38.928309Z",
          "iopub.status.idle": "2021-12-31T06:46:38.938004Z",
          "shell.execute_reply": "2021-12-31T06:46:38.937471Z",
          "shell.execute_reply.started": "2021-12-31T06:46:38.928912Z"
        },
        "colab": {
          "base_uri": "https://localhost:8080/",
          "height": 87
        },
        "id": "UO-aJt_cfXJe",
        "outputId": "79b3a6c8-83cd-43ca-d211-b6093ef92763"
      },
      "outputs": [
        {
          "output_type": "execute_result",
          "data": {
            "text/plain": [
              "'probabl my alltim favorit movi a stori of selfless sacrific and dedic to a nobl caus but it not preachi or bore it just never get old despit my have seen it some 15 or more time in the last 25 year paul luka perform bring tear to my eye and bett davi in one of her veri few truli sympathet role is a delight the kid are as grandma say more like dressedup midget than children but that onli make them more fun to watch and the mother slow awaken to what happen in the world and under her own roof is believ and startl if i had a dozen thumb theyd all be up for thi movi'"
            ],
            "application/vnd.google.colaboratory.intrinsic+json": {
              "type": "string"
            }
          },
          "metadata": {},
          "execution_count": 71
        }
      ],
      "source": [
        "stem_words(text)"
      ]
    },
    {
      "cell_type": "markdown",
      "metadata": {
        "id": "40L9UIwhfXJe"
      },
      "source": [
        "# Lemmatization"
      ]
    },
    {
      "cell_type": "code",
      "execution_count": 72,
      "metadata": {
        "execution": {
          "iopub.execute_input": "2021-12-31T06:50:09.585926Z",
          "iopub.status.busy": "2021-12-31T06:50:09.585607Z",
          "iopub.status.idle": "2021-12-31T06:50:11.918170Z",
          "shell.execute_reply": "2021-12-31T06:50:11.917310Z",
          "shell.execute_reply.started": "2021-12-31T06:50:09.585885Z"
        },
        "colab": {
          "base_uri": "https://localhost:8080/"
        },
        "id": "eAf31FTGfXJe",
        "outputId": "813fa5f2-45eb-4bd5-8443-72db396160e0"
      },
      "outputs": [
        {
          "output_type": "stream",
          "name": "stderr",
          "text": [
            "[nltk_data] Downloading package wordnet to /root/nltk_data...\n",
            "[nltk_data] Downloading package omw-1.4 to /root/nltk_data...\n"
          ]
        },
        {
          "output_type": "stream",
          "name": "stdout",
          "text": [
            "Word                Lemma               \n",
            "He                  He                  \n",
            "was                 be                  \n",
            "running             run                 \n",
            "and                 and                 \n",
            "eating              eat                 \n",
            "at                  at                  \n",
            "same                same                \n",
            "time                time                \n",
            "He                  He                  \n",
            "has                 have                \n",
            "bad                 bad                 \n",
            "habit               habit               \n",
            "of                  of                  \n",
            "swimming            swim                \n",
            "after               after               \n",
            "playing             play                \n",
            "long                long                \n",
            "hours               hours               \n",
            "in                  in                  \n",
            "the                 the                 \n",
            "Sun                 Sun                 \n"
          ]
        }
      ],
      "source": [
        "import nltk\n",
        "from nltk.stem import WordNetLemmatizer\n",
        "import nltk\n",
        "nltk.download('wordnet')\n",
        "nltk.download('omw-1.4')\n",
        "wordnet_lemmatizer = WordNetLemmatizer()\n",
        "\n",
        "sentence = \"He was running and eating at same time. He has bad habit of swimming after playing long hours in the Sun.\"\n",
        "punctuations=\"?:!.,;\"\n",
        "sentence_words = nltk.word_tokenize(sentence)\n",
        "for word in sentence_words:\n",
        "    if word in punctuations:\n",
        "        sentence_words.remove(word)\n",
        "\n",
        "sentence_words\n",
        "print(\"{0:20}{1:20}\".format(\"Word\",\"Lemma\"))\n",
        "for word in sentence_words:\n",
        "    print (\"{0:20}{1:20}\".format(word,wordnet_lemmatizer.lemmatize(word,pos='v')))"
      ]
    },
    {
      "cell_type": "markdown",
      "metadata": {
        "id": "TrSXAkATfXJf"
      },
      "source": [
        "#### NOTE: Stemming & lamatization are same to retrieve root words but lamatization is worked good. Lamatization is slow & stemming is fast"
      ]
    },
    {
      "cell_type": "code",
      "execution_count": null,
      "metadata": {
        "id": "DcfHxG6TfXJf"
      },
      "outputs": [],
      "source": []
    }
  ],
  "metadata": {
    "kernelspec": {
      "display_name": "Python 3",
      "language": "python",
      "name": "python3"
    },
    "language_info": {
      "codemirror_mode": {
        "name": "ipython",
        "version": 3
      },
      "file_extension": ".py",
      "mimetype": "text/x-python",
      "name": "python",
      "nbconvert_exporter": "python",
      "pygments_lexer": "ipython3",
      "version": "3.8.5"
    },
    "colab": {
      "provenance": []
    }
  },
  "nbformat": 4,
  "nbformat_minor": 0
}